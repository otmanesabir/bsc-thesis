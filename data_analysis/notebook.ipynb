{
  "cells": [
    {
      "cell_type": "markdown",
      "source": "",
      "metadata": {
        "tags": [],
        "cell_id": "00005-deb0380f-3ed8-4404-ac77-b48c5b358b92",
        "deepnote_cell_type": "markdown"
      }
    },
    {
      "cell_type": "markdown",
      "source": "# CSG Result Analysis\n\n### Open Ideas:\n\nI think we should also test how nesting more and more geometries affects the overall time. In theory, the naive way, for k nested elements then the complexity should be $2n^k$ since more for loops get concatenated into each other, and 2 for the geomtries.\n\n\n## Introduction\n\nThis notebook is a breakdown of results gathered from running tests on the implementation of the Combinatorial Geometry method in the OpenRT library. The following sections breakdown the way the tests were conducted and also the flow of the rest of this notebook.\n\n\n### The 3 Operations\n\nBy definition, constructive solid geometry is a method which allows to construct complex geometries using primitive operation and boolean set operations (Union, Difference, Intersection). Therefore, every test requires us to test each of these operations on the same exact load. In theory, the operation itself shouldn't have a drastic impact on the performance of the algorithm.\n\n### The 3 Algorithms\n\nThere are 3 variants of the CSG method implemented in OpenRT. The first is the naive and brute force implementation which we refer to as _NaiCSG_. The second is a variant that uses a Binary Space Partition tree in order to solve the visible surface problem but still naivly finds intersections inside the combinatorial geometry, which we will refer to as _BinCSG_. Lastly, we'll introduce our optimized algorithm which uses a binary space partition tree on the outside (solving the visible surface problem) and also inside each composite geometry in order to direct the rays towards the correct geometries, which we will refer to as _OptiCSG_. Every algorithm is checked for each operation - meaning a total of 9 tests are conducted.\n\n### Notebook Breakdown\n\nThere are a total of 4 sections (the first being this introduction). Section 2 focuses entirely on extracting data for each alogrithm and only comparing the time of the different operations. Section 3 is focused on processing the data and comparing the mean time of each algorithm to the other. The last section works on modeling the time complexities to close representations and finally drawing conclusion on the performance.  \n\n### Hardware Specifications\n\nAll tests were ran on a Macbook Pro 13\" 2017\n\n- **Processor:** 2,3 GHz Dual-Core Intel Core i5\n- **Memory:** 8 GB 2133 MHz LPDDR3\n- **Graphics Card:** Intel Iris Plus Graphics 640 1536 MB",
      "metadata": {
        "tags": [],
        "cell_id": "00005-ead0146e-e080-4f95-8c79-69beebc4c498",
        "deepnote_cell_type": "markdown"
      }
    },
    {
      "cell_type": "markdown",
      "source": "## Geometry Complexity & Rendering Times\n\n### NaiCSG\n\n\nThe naive algorithm essentially by brute-forcing its way through the visible-surface problem. For each ray, it iterates over all geometries in the scene and picks the closest intersection. Therefore if a scene contains 100 geometries and we have a 200x200px image. A total of **4.000.000** intersections will be checked before the image is computed. \n",
      "metadata": {
        "tags": [],
        "cell_id": "00006-2ba0d0c5-d4c5-4cef-a414-d67f2e18acab",
        "deepnote_cell_type": "markdown"
      }
    },
    {
      "cell_type": "code",
      "metadata": {
        "tags": [],
        "cell_id": "00003-880fcc9b-04a7-4611-85d9-73218b08f28f",
        "deepnote_to_be_reexecuted": false,
        "source_hash": "46e140d4",
        "execution_millis": 300,
        "execution_start": 1616403021192,
        "deepnote_cell_type": "code"
      },
      "source": "# setting up notebook all modules\n%matplotlib inline\nimport matplotlib.pyplot as plt\nplt.style.use('ggplot')\nimport numpy as np\nimport pandas as pd\nfrom functools import reduce",
      "execution_count": 1,
      "outputs": []
    },
    {
      "cell_type": "code",
      "metadata": {
        "tags": [],
        "cell_id": "00007-a494594d-e57d-4d06-b158-f93626d87f8f",
        "deepnote_to_be_reexecuted": false,
        "source_hash": "aec4560b",
        "execution_millis": 10,
        "execution_start": 1616403021497,
        "deepnote_cell_type": "code"
      },
      "source": "df1 = pd.read_csv('n_primitives_tests/tests_pdp_intersection.txt')\ndf2 = pd.read_csv('n_primitives_tests/tests_pdp_union.txt')\ndf3 = pd.read_csv('n_primitives_tests/tests_pdp_difference.txt')",
      "execution_count": 2,
      "outputs": []
    },
    {
      "cell_type": "code",
      "metadata": {
        "tags": [],
        "cell_id": "00010-5f9ef82b-29b7-4591-8c0f-334373b12032",
        "deepnote_to_be_reexecuted": false,
        "source_hash": "a47238f",
        "execution_millis": 6,
        "execution_start": 1616403021515,
        "deepnote_cell_type": "code"
      },
      "source": "df_normal = pd.concat([df1, df2, df3], axis=1)\ndf_normal.columns = [\"Triangle Number\", \"Intersection Time\", \"tris2\", \"Union Time\", \"tris3\", \"Difference Time\"]\ndf_normal = df_normal.drop(columns=['tris2', 'tris3'])\ncol = df_normal.loc[: , \"Intersection Time\":\"Difference Time\"]\ndf_normal['NaiCSG Mean Time'] = col.mean(axis=1)",
      "execution_count": 3,
      "outputs": []
    },
    {
      "cell_type": "code",
      "metadata": {
        "tags": [],
        "cell_id": "00010-2fa0138d-3ded-44d8-a692-7dbd512b5f04",
        "deepnote_to_be_reexecuted": false,
        "source_hash": "9fa5df28",
        "execution_millis": 39,
        "execution_start": 1616403021527,
        "deepnote_cell_type": "code"
      },
      "source": "df_normal",
      "execution_count": 4,
      "outputs": [
        {
          "output_type": "execute_result",
          "execution_count": 4,
          "data": {
            "application/vnd.deepnote.dataframe.v2+json": {
              "row_count": 89,
              "column_count": 5,
              "columns": [
                {
                  "name": "Triangle Number",
                  "dtype": "int64",
                  "stats": {
                    "unique_count": 89,
                    "nan_count": 0,
                    "min": 56,
                    "max": 17480,
                    "histogram": [
                      {
                        "bin_start": 56,
                        "bin_end": 1798.4,
                        "count": 25
                      },
                      {
                        "bin_start": 1798.4,
                        "bin_end": 3540.8,
                        "count": 12
                      },
                      {
                        "bin_start": 3540.8,
                        "bin_end": 5283.200000000001,
                        "count": 9
                      },
                      {
                        "bin_start": 5283.200000000001,
                        "bin_end": 7025.6,
                        "count": 8
                      },
                      {
                        "bin_start": 7025.6,
                        "bin_end": 8768,
                        "count": 7
                      },
                      {
                        "bin_start": 8768,
                        "bin_end": 10510.400000000001,
                        "count": 6
                      },
                      {
                        "bin_start": 10510.400000000001,
                        "bin_end": 12252.800000000001,
                        "count": 6
                      },
                      {
                        "bin_start": 12252.800000000001,
                        "bin_end": 13995.2,
                        "count": 6
                      },
                      {
                        "bin_start": 13995.2,
                        "bin_end": 15737.6,
                        "count": 4
                      },
                      {
                        "bin_start": 15737.6,
                        "bin_end": 17480,
                        "count": 6
                      }
                    ]
                  }
                },
                {
                  "name": "Intersection Time",
                  "dtype": "int64",
                  "stats": {
                    "unique_count": 89,
                    "nan_count": 0,
                    "min": 9584,
                    "max": 2827311,
                    "histogram": [
                      {
                        "bin_start": 9584,
                        "bin_end": 291356.7,
                        "count": 27
                      },
                      {
                        "bin_start": 291356.7,
                        "bin_end": 573129.4,
                        "count": 13
                      },
                      {
                        "bin_start": 573129.4,
                        "bin_end": 854902.1000000001,
                        "count": 11
                      },
                      {
                        "bin_start": 854902.1000000001,
                        "bin_end": 1136674.8,
                        "count": 8
                      },
                      {
                        "bin_start": 1136674.8,
                        "bin_end": 1418447.5,
                        "count": 7
                      },
                      {
                        "bin_start": 1418447.5,
                        "bin_end": 1700220.2000000002,
                        "count": 6
                      },
                      {
                        "bin_start": 1700220.2000000002,
                        "bin_end": 1981992.9000000001,
                        "count": 5
                      },
                      {
                        "bin_start": 1981992.9000000001,
                        "bin_end": 2263765.6,
                        "count": 7
                      },
                      {
                        "bin_start": 2263765.6,
                        "bin_end": 2545538.3000000003,
                        "count": 3
                      },
                      {
                        "bin_start": 2545538.3000000003,
                        "bin_end": 2827311,
                        "count": 2
                      }
                    ]
                  }
                },
                {
                  "name": "Union Time",
                  "dtype": "int64",
                  "stats": {
                    "unique_count": 89,
                    "nan_count": 0,
                    "min": 10005,
                    "max": 2517694,
                    "histogram": [
                      {
                        "bin_start": 10005,
                        "bin_end": 260773.9,
                        "count": 25
                      },
                      {
                        "bin_start": 260773.9,
                        "bin_end": 511542.8,
                        "count": 13
                      },
                      {
                        "bin_start": 511542.8,
                        "bin_end": 762311.7,
                        "count": 9
                      },
                      {
                        "bin_start": 762311.7,
                        "bin_end": 1013080.6,
                        "count": 9
                      },
                      {
                        "bin_start": 1013080.6,
                        "bin_end": 1263849.5,
                        "count": 7
                      },
                      {
                        "bin_start": 1263849.5,
                        "bin_end": 1514618.4,
                        "count": 5
                      },
                      {
                        "bin_start": 1514618.4,
                        "bin_end": 1765387.3,
                        "count": 5
                      },
                      {
                        "bin_start": 1765387.3,
                        "bin_end": 2016156.2,
                        "count": 7
                      },
                      {
                        "bin_start": 2016156.2,
                        "bin_end": 2266925.1,
                        "count": 6
                      },
                      {
                        "bin_start": 2266925.1,
                        "bin_end": 2517694,
                        "count": 3
                      }
                    ]
                  }
                },
                {
                  "name": "Difference Time",
                  "dtype": "int64",
                  "stats": {
                    "unique_count": 89,
                    "nan_count": 0,
                    "min": 10244,
                    "max": 2905425,
                    "histogram": [
                      {
                        "bin_start": 10244,
                        "bin_end": 299762.1,
                        "count": 27
                      },
                      {
                        "bin_start": 299762.1,
                        "bin_end": 589280.2,
                        "count": 14
                      },
                      {
                        "bin_start": 589280.2,
                        "bin_end": 878798.2999999999,
                        "count": 10
                      },
                      {
                        "bin_start": 878798.2999999999,
                        "bin_end": 1168316.4,
                        "count": 9
                      },
                      {
                        "bin_start": 1168316.4,
                        "bin_end": 1457834.5,
                        "count": 6
                      },
                      {
                        "bin_start": 1457834.5,
                        "bin_end": 1747352.5999999999,
                        "count": 7
                      },
                      {
                        "bin_start": 1747352.5999999999,
                        "bin_end": 2036870.6999999997,
                        "count": 5
                      },
                      {
                        "bin_start": 2036870.6999999997,
                        "bin_end": 2326388.8,
                        "count": 1
                      },
                      {
                        "bin_start": 2326388.8,
                        "bin_end": 2615906.9,
                        "count": 5
                      },
                      {
                        "bin_start": 2615906.9,
                        "bin_end": 2905425,
                        "count": 5
                      }
                    ]
                  }
                },
                {
                  "name": "NaiCSG Mean Time",
                  "dtype": "float64",
                  "stats": {
                    "unique_count": 89,
                    "nan_count": 0,
                    "min": 9944.333333333334,
                    "max": 2717931,
                    "histogram": [
                      {
                        "bin_start": 9944.333333333334,
                        "bin_end": 280742.99999999994,
                        "count": 27
                      },
                      {
                        "bin_start": 280742.99999999994,
                        "bin_end": 551541.6666666666,
                        "count": 12
                      },
                      {
                        "bin_start": 551541.6666666666,
                        "bin_end": 822340.3333333333,
                        "count": 10
                      },
                      {
                        "bin_start": 822340.3333333333,
                        "bin_end": 1093138.9999999998,
                        "count": 9
                      },
                      {
                        "bin_start": 1093138.9999999998,
                        "bin_end": 1363937.6666666663,
                        "count": 7
                      },
                      {
                        "bin_start": 1363937.6666666663,
                        "bin_end": 1634736.333333333,
                        "count": 6
                      },
                      {
                        "bin_start": 1634736.333333333,
                        "bin_end": 1905534.9999999998,
                        "count": 5
                      },
                      {
                        "bin_start": 1905534.9999999998,
                        "bin_end": 2176333.6666666665,
                        "count": 4
                      },
                      {
                        "bin_start": 2176333.6666666665,
                        "bin_end": 2447132.333333333,
                        "count": 6
                      },
                      {
                        "bin_start": 2447132.333333333,
                        "bin_end": 2717931,
                        "count": 3
                      }
                    ]
                  }
                },
                {
                  "name": "_deepnote_index_column",
                  "dtype": "int64"
                }
              ],
              "rows_top": [
                {
                  "Triangle Number": 56,
                  "Intersection Time": 9584,
                  "Union Time": 10005,
                  "Difference Time": 10244,
                  "NaiCSG Mean Time": 9944.333333333334,
                  "_deepnote_index_column": 0
                },
                {
                  "Triangle Number": 96,
                  "Intersection Time": 14842,
                  "Union Time": 13504,
                  "Difference Time": 17231,
                  "NaiCSG Mean Time": 15192.333333333334,
                  "_deepnote_index_column": 1
                },
                {
                  "Triangle Number": 108,
                  "Intersection Time": 19609,
                  "Union Time": 15103,
                  "Difference Time": 27751,
                  "NaiCSG Mean Time": 20821,
                  "_deepnote_index_column": 2
                },
                {
                  "Triangle Number": 160,
                  "Intersection Time": 23874,
                  "Union Time": 21834,
                  "Difference Time": 34702,
                  "NaiCSG Mean Time": 26803.333333333332,
                  "_deepnote_index_column": 3
                },
                {
                  "Triangle Number": 176,
                  "Intersection Time": 24185,
                  "Union Time": 23850,
                  "Difference Time": 34382,
                  "NaiCSG Mean Time": 27472.333333333332,
                  "_deepnote_index_column": 4
                },
                {
                  "Triangle Number": 240,
                  "Intersection Time": 32998,
                  "Union Time": 32219,
                  "Difference Time": 40438,
                  "NaiCSG Mean Time": 35218.333333333336,
                  "_deepnote_index_column": 5
                },
                {
                  "Triangle Number": 260,
                  "Intersection Time": 35652,
                  "Union Time": 34818,
                  "Difference Time": 37788,
                  "NaiCSG Mean Time": 36086,
                  "_deepnote_index_column": 6
                },
                {
                  "Triangle Number": 336,
                  "Intersection Time": 46222,
                  "Union Time": 45260,
                  "Difference Time": 49368,
                  "NaiCSG Mean Time": 46950,
                  "_deepnote_index_column": 7
                },
                {
                  "Triangle Number": 360,
                  "Intersection Time": 49417,
                  "Union Time": 48493,
                  "Difference Time": 52884,
                  "NaiCSG Mean Time": 50264.666666666664,
                  "_deepnote_index_column": 8
                },
                {
                  "Triangle Number": 448,
                  "Intersection Time": 62203,
                  "Union Time": 60094,
                  "Difference Time": 66650,
                  "NaiCSG Mean Time": 62982.333333333336,
                  "_deepnote_index_column": 9
                },
                {
                  "Triangle Number": 476,
                  "Intersection Time": 65952,
                  "Union Time": 64117,
                  "Difference Time": 70374,
                  "NaiCSG Mean Time": 66814.33333333333,
                  "_deepnote_index_column": 10
                },
                {
                  "Triangle Number": 576,
                  "Intersection Time": 80372,
                  "Union Time": 77733,
                  "Difference Time": 84970,
                  "NaiCSG Mean Time": 81025,
                  "_deepnote_index_column": 11
                },
                {
                  "Triangle Number": 608,
                  "Intersection Time": 85444,
                  "Union Time": 82366,
                  "Difference Time": 90764,
                  "NaiCSG Mean Time": 86191.33333333333,
                  "_deepnote_index_column": 12
                },
                {
                  "Triangle Number": 720,
                  "Intersection Time": 101890,
                  "Union Time": 97392,
                  "Difference Time": 106697,
                  "NaiCSG Mean Time": 101993,
                  "_deepnote_index_column": 13
                },
                {
                  "Triangle Number": 756,
                  "Intersection Time": 107086,
                  "Union Time": 102464,
                  "Difference Time": 112090,
                  "NaiCSG Mean Time": 107213.33333333333,
                  "_deepnote_index_column": 14
                },
                {
                  "Triangle Number": 880,
                  "Intersection Time": 125876,
                  "Union Time": 120397,
                  "Difference Time": 131249,
                  "NaiCSG Mean Time": 125840.66666666667,
                  "_deepnote_index_column": 15
                },
                {
                  "Triangle Number": 920,
                  "Intersection Time": 132002,
                  "Union Time": 126373,
                  "Difference Time": 136662,
                  "NaiCSG Mean Time": 131679,
                  "_deepnote_index_column": 16
                },
                {
                  "Triangle Number": 1056,
                  "Intersection Time": 151325,
                  "Union Time": 146608,
                  "Difference Time": 155931,
                  "NaiCSG Mean Time": 151288,
                  "_deepnote_index_column": 17
                },
                {
                  "Triangle Number": 1100,
                  "Intersection Time": 158486,
                  "Union Time": 155609,
                  "Difference Time": 161758,
                  "NaiCSG Mean Time": 158617.66666666666,
                  "_deepnote_index_column": 18
                },
                {
                  "Triangle Number": 1248,
                  "Intersection Time": 179280,
                  "Union Time": 173207,
                  "Difference Time": 184930,
                  "NaiCSG Mean Time": 179139,
                  "_deepnote_index_column": 19
                },
                {
                  "Triangle Number": 1296,
                  "Intersection Time": 185978,
                  "Union Time": 180151,
                  "Difference Time": 190009,
                  "NaiCSG Mean Time": 185379.33333333334,
                  "_deepnote_index_column": 20
                },
                {
                  "Triangle Number": 1456,
                  "Intersection Time": 211041,
                  "Union Time": 202205,
                  "Difference Time": 210518,
                  "NaiCSG Mean Time": 207921.33333333334,
                  "_deepnote_index_column": 21
                },
                {
                  "Triangle Number": 1508,
                  "Intersection Time": 215526,
                  "Union Time": 210085,
                  "Difference Time": 216030,
                  "NaiCSG Mean Time": 213880.33333333334,
                  "_deepnote_index_column": 22
                },
                {
                  "Triangle Number": 1680,
                  "Intersection Time": 239881,
                  "Union Time": 233945,
                  "Difference Time": 238362,
                  "NaiCSG Mean Time": 237396,
                  "_deepnote_index_column": 23
                },
                {
                  "Triangle Number": 1736,
                  "Intersection Time": 249382,
                  "Union Time": 241841,
                  "Difference Time": 244276,
                  "NaiCSG Mean Time": 245166.33333333334,
                  "_deepnote_index_column": 24
                },
                {
                  "Triangle Number": 1920,
                  "Intersection Time": 273845,
                  "Union Time": 265866,
                  "Difference Time": 269945,
                  "NaiCSG Mean Time": 269885.3333333333,
                  "_deepnote_index_column": 25
                },
                {
                  "Triangle Number": 1980,
                  "Intersection Time": 282575,
                  "Union Time": 273237,
                  "Difference Time": 278551,
                  "NaiCSG Mean Time": 278121,
                  "_deepnote_index_column": 26
                },
                {
                  "Triangle Number": 2176,
                  "Intersection Time": 311274,
                  "Union Time": 362476,
                  "Difference Time": 303839,
                  "NaiCSG Mean Time": 325863,
                  "_deepnote_index_column": 27
                },
                {
                  "Triangle Number": 2240,
                  "Intersection Time": 320150,
                  "Union Time": 317460,
                  "Difference Time": 310647,
                  "NaiCSG Mean Time": 316085.6666666667,
                  "_deepnote_index_column": 28
                },
                {
                  "Triangle Number": 2448,
                  "Intersection Time": 349675,
                  "Union Time": 349581,
                  "Difference Time": 341434,
                  "NaiCSG Mean Time": 346896.6666666667,
                  "_deepnote_index_column": 29
                },
                {
                  "Triangle Number": 2516,
                  "Intersection Time": 359038,
                  "Union Time": 352627,
                  "Difference Time": 348794,
                  "NaiCSG Mean Time": 353486.3333333333,
                  "_deepnote_index_column": 30
                },
                {
                  "Triangle Number": 2736,
                  "Intersection Time": 389403,
                  "Union Time": 383456,
                  "Difference Time": 378131,
                  "NaiCSG Mean Time": 383663.3333333333,
                  "_deepnote_index_column": 31
                },
                {
                  "Triangle Number": 2808,
                  "Intersection Time": 400696,
                  "Union Time": 391477,
                  "Difference Time": 388459,
                  "NaiCSG Mean Time": 393544,
                  "_deepnote_index_column": 32
                },
                {
                  "Triangle Number": 3040,
                  "Intersection Time": 435233,
                  "Union Time": 421346,
                  "Difference Time": 421520,
                  "NaiCSG Mean Time": 426033,
                  "_deepnote_index_column": 33
                },
                {
                  "Triangle Number": 3116,
                  "Intersection Time": 443130,
                  "Union Time": 425838,
                  "Difference Time": 428793,
                  "NaiCSG Mean Time": 432587,
                  "_deepnote_index_column": 34
                },
                {
                  "Triangle Number": 3360,
                  "Intersection Time": 476118,
                  "Union Time": 460286,
                  "Difference Time": 462583,
                  "NaiCSG Mean Time": 466329,
                  "_deepnote_index_column": 35
                },
                {
                  "Triangle Number": 3440,
                  "Intersection Time": 486536,
                  "Union Time": 471180,
                  "Difference Time": 474517,
                  "NaiCSG Mean Time": 477411,
                  "_deepnote_index_column": 36
                },
                {
                  "Triangle Number": 3696,
                  "Intersection Time": 523298,
                  "Union Time": 504251,
                  "Difference Time": 507793,
                  "NaiCSG Mean Time": 511780.6666666667,
                  "_deepnote_index_column": 37
                },
                {
                  "Triangle Number": 3780,
                  "Intersection Time": 534070,
                  "Union Time": 516559,
                  "Difference Time": 519295,
                  "NaiCSG Mean Time": 523308,
                  "_deepnote_index_column": 38
                },
                {
                  "Triangle Number": 4048,
                  "Intersection Time": 570935,
                  "Union Time": 551434,
                  "Difference Time": 554862,
                  "NaiCSG Mean Time": 559077,
                  "_deepnote_index_column": 39
                },
                {
                  "Triangle Number": 4136,
                  "Intersection Time": 583255,
                  "Union Time": 563322,
                  "Difference Time": 572791,
                  "NaiCSG Mean Time": 573122.6666666666,
                  "_deepnote_index_column": 40
                },
                {
                  "Triangle Number": 4416,
                  "Intersection Time": 626171,
                  "Union Time": 603081,
                  "Difference Time": 606211,
                  "NaiCSG Mean Time": 611821,
                  "_deepnote_index_column": 41
                },
                {
                  "Triangle Number": 4508,
                  "Intersection Time": 646534,
                  "Union Time": 615300,
                  "Difference Time": 620593,
                  "NaiCSG Mean Time": 627475.6666666666,
                  "_deepnote_index_column": 42
                },
                {
                  "Triangle Number": 4800,
                  "Intersection Time": 688092,
                  "Union Time": 656010,
                  "Difference Time": 660511,
                  "NaiCSG Mean Time": 668204.3333333334,
                  "_deepnote_index_column": 43
                },
                {
                  "Triangle Number": 4896,
                  "Intersection Time": 696540,
                  "Union Time": 667881,
                  "Difference Time": 674886,
                  "NaiCSG Mean Time": 679769,
                  "_deepnote_index_column": 44
                },
                {
                  "Triangle Number": 5200,
                  "Intersection Time": 740545,
                  "Union Time": 706178,
                  "Difference Time": 715134,
                  "NaiCSG Mean Time": 720619,
                  "_deepnote_index_column": 45
                },
                {
                  "Triangle Number": 5300,
                  "Intersection Time": 752197,
                  "Union Time": 721692,
                  "Difference Time": 729200,
                  "NaiCSG Mean Time": 734363,
                  "_deepnote_index_column": 46
                },
                {
                  "Triangle Number": 5616,
                  "Intersection Time": 792693,
                  "Union Time": 764273,
                  "Difference Time": 772781,
                  "NaiCSG Mean Time": 776582.3333333334,
                  "_deepnote_index_column": 47
                },
                {
                  "Triangle Number": 5720,
                  "Intersection Time": 806085,
                  "Union Time": 780495,
                  "Difference Time": 788042,
                  "NaiCSG Mean Time": 791540.6666666666,
                  "_deepnote_index_column": 48
                },
                {
                  "Triangle Number": 6048,
                  "Intersection Time": 845372,
                  "Union Time": 822356,
                  "Difference Time": 829629,
                  "NaiCSG Mean Time": 832452.3333333334,
                  "_deepnote_index_column": 49
                },
                {
                  "Triangle Number": 6156,
                  "Intersection Time": 846592,
                  "Union Time": 836841,
                  "Difference Time": 847480,
                  "NaiCSG Mean Time": 843637.6666666666,
                  "_deepnote_index_column": 50
                },
                {
                  "Triangle Number": 6496,
                  "Intersection Time": 890124,
                  "Union Time": 883372,
                  "Difference Time": 891846,
                  "NaiCSG Mean Time": 888447.3333333334,
                  "_deepnote_index_column": 51
                },
                {
                  "Triangle Number": 6608,
                  "Intersection Time": 907426,
                  "Union Time": 900361,
                  "Difference Time": 909525,
                  "NaiCSG Mean Time": 905770.6666666666,
                  "_deepnote_index_column": 52
                },
                {
                  "Triangle Number": 6960,
                  "Intersection Time": 956599,
                  "Union Time": 946814,
                  "Difference Time": 955444,
                  "NaiCSG Mean Time": 952952.3333333334,
                  "_deepnote_index_column": 53
                },
                {
                  "Triangle Number": 7076,
                  "Intersection Time": 973313,
                  "Union Time": 961597,
                  "Difference Time": 973696,
                  "NaiCSG Mean Time": 969535.3333333334,
                  "_deepnote_index_column": 54
                },
                {
                  "Triangle Number": 7440,
                  "Intersection Time": 1019164,
                  "Union Time": 1011085,
                  "Difference Time": 1024134,
                  "NaiCSG Mean Time": 1018127.6666666666,
                  "_deepnote_index_column": 55
                },
                {
                  "Triangle Number": 7560,
                  "Intersection Time": 1035400,
                  "Union Time": 1026368,
                  "Difference Time": 1042050,
                  "NaiCSG Mean Time": 1034606,
                  "_deepnote_index_column": 56
                },
                {
                  "Triangle Number": 7936,
                  "Intersection Time": 1085636,
                  "Union Time": 1077793,
                  "Difference Time": 1091689,
                  "NaiCSG Mean Time": 1085039.3333333333,
                  "_deepnote_index_column": 57
                },
                {
                  "Triangle Number": 8060,
                  "Intersection Time": 1101434,
                  "Union Time": 1094405,
                  "Difference Time": 1110457,
                  "NaiCSG Mean Time": 1102098.6666666667,
                  "_deepnote_index_column": 58
                },
                {
                  "Triangle Number": 8448,
                  "Intersection Time": 1155906,
                  "Union Time": 1145365,
                  "Difference Time": 1164851,
                  "NaiCSG Mean Time": 1155374,
                  "_deepnote_index_column": 59
                },
                {
                  "Triangle Number": 8576,
                  "Intersection Time": 1176290,
                  "Union Time": 1161851,
                  "Difference Time": 1179355,
                  "NaiCSG Mean Time": 1172498.6666666667,
                  "_deepnote_index_column": 60
                },
                {
                  "Triangle Number": 8976,
                  "Intersection Time": 1230970,
                  "Union Time": 1215861,
                  "Difference Time": 1236217,
                  "NaiCSG Mean Time": 1227682.6666666667,
                  "_deepnote_index_column": 61
                },
                {
                  "Triangle Number": 9108,
                  "Intersection Time": 1244317,
                  "Union Time": 1236288,
                  "Difference Time": 1254463,
                  "NaiCSG Mean Time": 1245022.6666666667,
                  "_deepnote_index_column": 62
                },
                {
                  "Triangle Number": 9520,
                  "Intersection Time": 1305554,
                  "Union Time": 1291552,
                  "Difference Time": 1311087,
                  "NaiCSG Mean Time": 1302731,
                  "_deepnote_index_column": 63
                },
                {
                  "Triangle Number": 9656,
                  "Intersection Time": 1354374,
                  "Union Time": 1306579,
                  "Difference Time": 1330674,
                  "NaiCSG Mean Time": 1330542.3333333333,
                  "_deepnote_index_column": 64
                },
                {
                  "Triangle Number": 10080,
                  "Intersection Time": 1417211,
                  "Union Time": 1369572,
                  "Difference Time": 1404378,
                  "NaiCSG Mean Time": 1397053.6666666667,
                  "_deepnote_index_column": 65
                },
                {
                  "Triangle Number": 10220,
                  "Intersection Time": 1431568,
                  "Union Time": 1385029,
                  "Difference Time": 1470510,
                  "NaiCSG Mean Time": 1429035.6666666667,
                  "_deepnote_index_column": 66
                },
                {
                  "Triangle Number": 10656,
                  "Intersection Time": 1493278,
                  "Union Time": 1453171,
                  "Difference Time": 1462174,
                  "NaiCSG Mean Time": 1469541,
                  "_deepnote_index_column": 67
                },
                {
                  "Triangle Number": 10800,
                  "Intersection Time": 1510771,
                  "Union Time": 1531993,
                  "Difference Time": 1467025,
                  "NaiCSG Mean Time": 1503263,
                  "_deepnote_index_column": 68
                },
                {
                  "Triangle Number": 11248,
                  "Intersection Time": 1573793,
                  "Union Time": 1590187,
                  "Difference Time": 1601447,
                  "NaiCSG Mean Time": 1588475.6666666667,
                  "_deepnote_index_column": 69
                },
                {
                  "Triangle Number": 11396,
                  "Intersection Time": 1606627,
                  "Union Time": 1607657,
                  "Difference Time": 1653096,
                  "NaiCSG Mean Time": 1622460,
                  "_deepnote_index_column": 70
                },
                {
                  "Triangle Number": 11856,
                  "Intersection Time": 1711876,
                  "Union Time": 1672848,
                  "Difference Time": 1725146,
                  "NaiCSG Mean Time": 1703290,
                  "_deepnote_index_column": 71
                },
                {
                  "Triangle Number": 12008,
                  "Intersection Time": 1681931,
                  "Union Time": 1708713,
                  "Difference Time": 1736596,
                  "NaiCSG Mean Time": 1709080,
                  "_deepnote_index_column": 72
                },
                {
                  "Triangle Number": 12480,
                  "Intersection Time": 1750013,
                  "Union Time": 1784590,
                  "Difference Time": 1788876,
                  "NaiCSG Mean Time": 1774493,
                  "_deepnote_index_column": 73
                },
                {
                  "Triangle Number": 12636,
                  "Intersection Time": 1773598,
                  "Union Time": 1787878,
                  "Difference Time": 1901647,
                  "NaiCSG Mean Time": 1821041,
                  "_deepnote_index_column": 74
                },
                {
                  "Triangle Number": 13120,
                  "Intersection Time": 1844089,
                  "Union Time": 1852116,
                  "Difference Time": 1897219,
                  "NaiCSG Mean Time": 1864474.6666666667,
                  "_deepnote_index_column": 75
                },
                {
                  "Triangle Number": 13280,
                  "Intersection Time": 1997018,
                  "Union Time": 1879533,
                  "Difference Time": 1928816,
                  "NaiCSG Mean Time": 1935122.3333333333,
                  "_deepnote_index_column": 76
                },
                {
                  "Triangle Number": 13776,
                  "Intersection Time": 2072811,
                  "Union Time": 1951463,
                  "Difference Time": 2017280,
                  "NaiCSG Mean Time": 2013851.3333333333,
                  "_deepnote_index_column": 77
                },
                {
                  "Triangle Number": 13940,
                  "Intersection Time": 1962739,
                  "Union Time": 1973032,
                  "Difference Time": 2306517,
                  "NaiCSG Mean Time": 2080762.6666666667,
                  "_deepnote_index_column": 78
                },
                {
                  "Triangle Number": 14448,
                  "Intersection Time": 2038081,
                  "Union Time": 2032794,
                  "Difference Time": 2465893,
                  "NaiCSG Mean Time": 2178922.6666666665,
                  "_deepnote_index_column": 79
                },
                {
                  "Triangle Number": 14616,
                  "Intersection Time": 2055913,
                  "Union Time": 1995208,
                  "Difference Time": 2475501,
                  "NaiCSG Mean Time": 2175540.6666666665,
                  "_deepnote_index_column": 80
                },
                {
                  "Triangle Number": 15136,
                  "Intersection Time": 2132282,
                  "Union Time": 2165655,
                  "Difference Time": 2510784,
                  "NaiCSG Mean Time": 2269573.6666666665,
                  "_deepnote_index_column": 81
                },
                {
                  "Triangle Number": 15308,
                  "Intersection Time": 2157535,
                  "Union Time": 2107704,
                  "Difference Time": 2521245,
                  "NaiCSG Mean Time": 2262161.3333333335,
                  "_deepnote_index_column": 82
                },
                {
                  "Triangle Number": 15840,
                  "Intersection Time": 2226724,
                  "Union Time": 2162510,
                  "Difference Time": 2592207,
                  "NaiCSG Mean Time": 2327147,
                  "_deepnote_index_column": 83
                },
                {
                  "Triangle Number": 16016,
                  "Intersection Time": 2358169,
                  "Union Time": 2185245,
                  "Difference Time": 2616391,
                  "NaiCSG Mean Time": 2386601.6666666665,
                  "_deepnote_index_column": 84
                },
                {
                  "Triangle Number": 16560,
                  "Intersection Time": 2325892,
                  "Union Time": 2249876,
                  "Difference Time": 2661334,
                  "NaiCSG Mean Time": 2412367.3333333335,
                  "_deepnote_index_column": 85
                },
                {
                  "Triangle Number": 16740,
                  "Intersection Time": 2468460,
                  "Union Time": 2281268,
                  "Difference Time": 2728314,
                  "NaiCSG Mean Time": 2492680.6666666665,
                  "_deepnote_index_column": 86
                },
                {
                  "Triangle Number": 17296,
                  "Intersection Time": 2827311,
                  "Union Time": 2477078,
                  "Difference Time": 2849404,
                  "NaiCSG Mean Time": 2717931,
                  "_deepnote_index_column": 87
                },
                {
                  "Triangle Number": 17480,
                  "Intersection Time": 2554919,
                  "Union Time": 2517694,
                  "Difference Time": 2905425,
                  "NaiCSG Mean Time": 2659346,
                  "_deepnote_index_column": 88
                }
              ],
              "rows_bottom": null
            },
            "text/plain": "    Triangle Number  Intersection Time  Union Time  Difference Time  \\\n0                56               9584       10005            10244   \n1                96              14842       13504            17231   \n2               108              19609       15103            27751   \n3               160              23874       21834            34702   \n4               176              24185       23850            34382   \n..              ...                ...         ...              ...   \n84            16016            2358169     2185245          2616391   \n85            16560            2325892     2249876          2661334   \n86            16740            2468460     2281268          2728314   \n87            17296            2827311     2477078          2849404   \n88            17480            2554919     2517694          2905425   \n\n    NaiCSG Mean Time  \n0       9.944333e+03  \n1       1.519233e+04  \n2       2.082100e+04  \n3       2.680333e+04  \n4       2.747233e+04  \n..               ...  \n84      2.386602e+06  \n85      2.412367e+06  \n86      2.492681e+06  \n87      2.717931e+06  \n88      2.659346e+06  \n\n[89 rows x 5 columns]",
            "text/html": "<div>\n<style scoped>\n    .dataframe tbody tr th:only-of-type {\n        vertical-align: middle;\n    }\n\n    .dataframe tbody tr th {\n        vertical-align: top;\n    }\n\n    .dataframe thead th {\n        text-align: right;\n    }\n</style>\n<table border=\"1\" class=\"dataframe\">\n  <thead>\n    <tr style=\"text-align: right;\">\n      <th></th>\n      <th>Triangle Number</th>\n      <th>Intersection Time</th>\n      <th>Union Time</th>\n      <th>Difference Time</th>\n      <th>NaiCSG Mean Time</th>\n    </tr>\n  </thead>\n  <tbody>\n    <tr>\n      <th>0</th>\n      <td>56</td>\n      <td>9584</td>\n      <td>10005</td>\n      <td>10244</td>\n      <td>9.944333e+03</td>\n    </tr>\n    <tr>\n      <th>1</th>\n      <td>96</td>\n      <td>14842</td>\n      <td>13504</td>\n      <td>17231</td>\n      <td>1.519233e+04</td>\n    </tr>\n    <tr>\n      <th>2</th>\n      <td>108</td>\n      <td>19609</td>\n      <td>15103</td>\n      <td>27751</td>\n      <td>2.082100e+04</td>\n    </tr>\n    <tr>\n      <th>3</th>\n      <td>160</td>\n      <td>23874</td>\n      <td>21834</td>\n      <td>34702</td>\n      <td>2.680333e+04</td>\n    </tr>\n    <tr>\n      <th>4</th>\n      <td>176</td>\n      <td>24185</td>\n      <td>23850</td>\n      <td>34382</td>\n      <td>2.747233e+04</td>\n    </tr>\n    <tr>\n      <th>...</th>\n      <td>...</td>\n      <td>...</td>\n      <td>...</td>\n      <td>...</td>\n      <td>...</td>\n    </tr>\n    <tr>\n      <th>84</th>\n      <td>16016</td>\n      <td>2358169</td>\n      <td>2185245</td>\n      <td>2616391</td>\n      <td>2.386602e+06</td>\n    </tr>\n    <tr>\n      <th>85</th>\n      <td>16560</td>\n      <td>2325892</td>\n      <td>2249876</td>\n      <td>2661334</td>\n      <td>2.412367e+06</td>\n    </tr>\n    <tr>\n      <th>86</th>\n      <td>16740</td>\n      <td>2468460</td>\n      <td>2281268</td>\n      <td>2728314</td>\n      <td>2.492681e+06</td>\n    </tr>\n    <tr>\n      <th>87</th>\n      <td>17296</td>\n      <td>2827311</td>\n      <td>2477078</td>\n      <td>2849404</td>\n      <td>2.717931e+06</td>\n    </tr>\n    <tr>\n      <th>88</th>\n      <td>17480</td>\n      <td>2554919</td>\n      <td>2517694</td>\n      <td>2905425</td>\n      <td>2.659346e+06</td>\n    </tr>\n  </tbody>\n</table>\n<p>89 rows × 5 columns</p>\n</div>"
          },
          "metadata": {}
        }
      ]
    },
    {
      "cell_type": "code",
      "metadata": {
        "tags": [],
        "cell_id": "00012-ed590e82-9f6f-4ce6-b7b0-7a458912c82f",
        "deepnote_to_be_reexecuted": false,
        "source_hash": "8442c0e0",
        "execution_millis": 282,
        "execution_start": 1616403021559,
        "deepnote_cell_type": "code"
      },
      "source": "df_normal.plot(x ='Triangle Number', y=['Intersection Time', 'Union Time', 'Difference Time'], kind = 'line', lw=3)\nplt.show()\n\n# step size in triangles grow exponentiall; therefore the bar chart shows different results than the scaled one below here.",
      "execution_count": 5,
      "outputs": [
        {
          "data": {
            "text/plain": "<Figure size 432x288 with 1 Axes>",
            "image/png": "[encoded data removed]"
          },
          "metadata": {},
          "output_type": "display_data"
        }
      ]
    },
    {
      "cell_type": "markdown",
      "source": "### BinCSG",
      "metadata": {
        "tags": [],
        "cell_id": "00008-1b98398b-70b9-4197-ab8c-ae6748b9b4cc",
        "deepnote_cell_type": "markdown"
      }
    },
    {
      "cell_type": "code",
      "metadata": {
        "tags": [],
        "cell_id": "00008-ea34de0b-27c9-496f-95cb-a567ea95f6c7",
        "deepnote_to_be_reexecuted": false,
        "source_hash": "74385199",
        "execution_millis": 12,
        "execution_start": 1616403021837,
        "deepnote_cell_type": "code"
      },
      "source": "bsp1 = pd.read_csv('n_primitives_tests/tests_bsp_pdp_intersection.txt')\nbsp2 = pd.read_csv('n_primitives_tests/tests_bsp_pdp_union.txt')\nbsp3 = pd.read_csv('n_primitives_tests/tests_bsp_pdp_difference.txt')",
      "execution_count": 6,
      "outputs": []
    },
    {
      "cell_type": "code",
      "metadata": {
        "tags": [],
        "cell_id": "00010-74c17ed8-1e10-44ec-b657-f8244b4f79fd",
        "deepnote_to_be_reexecuted": false,
        "source_hash": "93f660a2",
        "execution_millis": 4,
        "execution_start": 1616403021857,
        "deepnote_cell_type": "code"
      },
      "source": "df_bsp = pd.concat([bsp1, bsp2, bsp3], axis=1)\ndf_bsp.columns = [\"Triangle Number\", \"Intersection Time\", \"tris2\", \"Union Time\", \"tris3\", \"Difference Time\"]\ndf_bsp = df_bsp.drop(columns=['tris2', 'tris3'])\ncol2 = df_bsp.loc[: , \"Intersection Time\":\"Difference Time\"]\ndf_bsp['BinCSG Mean Time'] = col2.mean(axis=1)",
      "execution_count": 7,
      "outputs": []
    },
    {
      "cell_type": "code",
      "metadata": {
        "tags": [],
        "cell_id": "00014-29839f1f-8295-4370-a89c-a48730ff25ac",
        "deepnote_to_be_reexecuted": false,
        "source_hash": "8ba2b847",
        "execution_millis": 50,
        "execution_start": 1616403021866,
        "deepnote_cell_type": "code"
      },
      "source": "df_bsp",
      "execution_count": 8,
      "outputs": [
        {
          "output_type": "execute_result",
          "execution_count": 8,
          "data": {
            "application/vnd.deepnote.dataframe.v2+json": {
              "row_count": 198,
              "column_count": 5,
              "columns": [
                {
                  "name": "Triangle Number",
                  "dtype": "int64",
                  "stats": {
                    "unique_count": 198,
                    "nan_count": 0,
                    "min": 56,
                    "max": 82416,
                    "histogram": [
                      {
                        "bin_start": 56,
                        "bin_end": 8292,
                        "count": 59
                      },
                      {
                        "bin_start": 8292,
                        "bin_end": 16528,
                        "count": 26
                      },
                      {
                        "bin_start": 16528,
                        "bin_end": 24764,
                        "count": 21
                      },
                      {
                        "bin_start": 24764,
                        "bin_end": 33000,
                        "count": 17
                      },
                      {
                        "bin_start": 33000,
                        "bin_end": 41236,
                        "count": 16
                      },
                      {
                        "bin_start": 41236,
                        "bin_end": 49472,
                        "count": 13
                      },
                      {
                        "bin_start": 49472,
                        "bin_end": 57708,
                        "count": 13
                      },
                      {
                        "bin_start": 57708,
                        "bin_end": 65944,
                        "count": 12
                      },
                      {
                        "bin_start": 65944,
                        "bin_end": 74180,
                        "count": 10
                      },
                      {
                        "bin_start": 74180,
                        "bin_end": 82416,
                        "count": 11
                      }
                    ]
                  }
                },
                {
                  "name": "Intersection Time",
                  "dtype": "int64",
                  "stats": {
                    "unique_count": 198,
                    "nan_count": 0,
                    "min": 787,
                    "max": 2068738,
                    "histogram": [
                      {
                        "bin_start": 787,
                        "bin_end": 207582.1,
                        "count": 86
                      },
                      {
                        "bin_start": 207582.1,
                        "bin_end": 414377.2,
                        "count": 43
                      },
                      {
                        "bin_start": 414377.2,
                        "bin_end": 621172.3,
                        "count": 32
                      },
                      {
                        "bin_start": 621172.3,
                        "bin_end": 827967.4,
                        "count": 19
                      },
                      {
                        "bin_start": 827967.4,
                        "bin_end": 1034762.5,
                        "count": 17
                      },
                      {
                        "bin_start": 1034762.5,
                        "bin_end": 1241557.6,
                        "count": 0
                      },
                      {
                        "bin_start": 1241557.6,
                        "bin_end": 1448352.7,
                        "count": 0
                      },
                      {
                        "bin_start": 1448352.7,
                        "bin_end": 1655147.8,
                        "count": 0
                      },
                      {
                        "bin_start": 1655147.8,
                        "bin_end": 1861942.9000000001,
                        "count": 0
                      },
                      {
                        "bin_start": 1861942.9000000001,
                        "bin_end": 2068738,
                        "count": 1
                      }
                    ]
                  }
                },
                {
                  "name": "Union Time",
                  "dtype": "int64",
                  "stats": {
                    "unique_count": 198,
                    "nan_count": 0,
                    "min": 1269,
                    "max": 1662735,
                    "histogram": [
                      {
                        "bin_start": 1269,
                        "bin_end": 167415.6,
                        "count": 59
                      },
                      {
                        "bin_start": 167415.6,
                        "bin_end": 333562.2,
                        "count": 26
                      },
                      {
                        "bin_start": 333562.2,
                        "bin_end": 499708.80000000005,
                        "count": 24
                      },
                      {
                        "bin_start": 499708.80000000005,
                        "bin_end": 665855.4,
                        "count": 18
                      },
                      {
                        "bin_start": 665855.4,
                        "bin_end": 832002,
                        "count": 16
                      },
                      {
                        "bin_start": 832002,
                        "bin_end": 998148.6000000001,
                        "count": 16
                      },
                      {
                        "bin_start": 998148.6000000001,
                        "bin_end": 1164295.2,
                        "count": 9
                      },
                      {
                        "bin_start": 1164295.2,
                        "bin_end": 1330441.8,
                        "count": 6
                      },
                      {
                        "bin_start": 1330441.8,
                        "bin_end": 1496588.4000000001,
                        "count": 18
                      },
                      {
                        "bin_start": 1496588.4000000001,
                        "bin_end": 1662735,
                        "count": 6
                      }
                    ]
                  }
                },
                {
                  "name": "Difference Time",
                  "dtype": "int64",
                  "stats": {
                    "unique_count": 198,
                    "nan_count": 0,
                    "min": 1208,
                    "max": 1710673,
                    "histogram": [
                      {
                        "bin_start": 1208,
                        "bin_end": 172154.5,
                        "count": 72
                      },
                      {
                        "bin_start": 172154.5,
                        "bin_end": 343101,
                        "count": 29
                      },
                      {
                        "bin_start": 343101,
                        "bin_end": 514047.5,
                        "count": 26
                      },
                      {
                        "bin_start": 514047.5,
                        "bin_end": 684994,
                        "count": 20
                      },
                      {
                        "bin_start": 684994,
                        "bin_end": 855940.5,
                        "count": 18
                      },
                      {
                        "bin_start": 855940.5,
                        "bin_end": 1026887,
                        "count": 16
                      },
                      {
                        "bin_start": 1026887,
                        "bin_end": 1197833.5,
                        "count": 13
                      },
                      {
                        "bin_start": 1197833.5,
                        "bin_end": 1368780,
                        "count": 3
                      },
                      {
                        "bin_start": 1368780,
                        "bin_end": 1539726.5,
                        "count": 0
                      },
                      {
                        "bin_start": 1539726.5,
                        "bin_end": 1710673,
                        "count": 1
                      }
                    ]
                  }
                },
                {
                  "name": "BinCSG Mean Time",
                  "dtype": "float64",
                  "stats": {
                    "unique_count": 198,
                    "nan_count": 0,
                    "min": 1088,
                    "max": 1485332.6666666667,
                    "histogram": [
                      {
                        "bin_start": 1088,
                        "bin_end": 149512.46666666667,
                        "count": 62
                      },
                      {
                        "bin_start": 149512.46666666667,
                        "bin_end": 297936.93333333335,
                        "count": 27
                      },
                      {
                        "bin_start": 297936.93333333335,
                        "bin_end": 446361.4,
                        "count": 27
                      },
                      {
                        "bin_start": 446361.4,
                        "bin_end": 594785.8666666667,
                        "count": 15
                      },
                      {
                        "bin_start": 594785.8666666667,
                        "bin_end": 743210.3333333334,
                        "count": 22
                      },
                      {
                        "bin_start": 743210.3333333334,
                        "bin_end": 891634.8,
                        "count": 14
                      },
                      {
                        "bin_start": 891634.8,
                        "bin_end": 1040059.2666666667,
                        "count": 8
                      },
                      {
                        "bin_start": 1040059.2666666667,
                        "bin_end": 1188483.7333333334,
                        "count": 14
                      },
                      {
                        "bin_start": 1188483.7333333334,
                        "bin_end": 1336908.2000000002,
                        "count": 7
                      },
                      {
                        "bin_start": 1336908.2000000002,
                        "bin_end": 1485332.6666666667,
                        "count": 2
                      }
                    ]
                  }
                },
                {
                  "name": "_deepnote_index_column",
                  "dtype": "int64"
                }
              ],
              "rows_top": [
                {
                  "Triangle Number": 56,
                  "Intersection Time": 787,
                  "Union Time": 1269,
                  "Difference Time": 1208,
                  "BinCSG Mean Time": 1088,
                  "_deepnote_index_column": 0
                },
                {
                  "Triangle Number": 96,
                  "Intersection Time": 1410,
                  "Union Time": 2160,
                  "Difference Time": 4186,
                  "BinCSG Mean Time": 2585.3333333333335,
                  "_deepnote_index_column": 1
                },
                {
                  "Triangle Number": 108,
                  "Intersection Time": 1531,
                  "Union Time": 2332,
                  "Difference Time": 3368,
                  "BinCSG Mean Time": 2410.3333333333335,
                  "_deepnote_index_column": 2
                },
                {
                  "Triangle Number": 160,
                  "Intersection Time": 1909,
                  "Union Time": 3170,
                  "Difference Time": 5206,
                  "BinCSG Mean Time": 3428.3333333333335,
                  "_deepnote_index_column": 3
                },
                {
                  "Triangle Number": 176,
                  "Intersection Time": 2036,
                  "Union Time": 3380,
                  "Difference Time": 3362,
                  "BinCSG Mean Time": 2926,
                  "_deepnote_index_column": 4
                },
                {
                  "Triangle Number": 240,
                  "Intersection Time": 3005,
                  "Union Time": 4949,
                  "Difference Time": 4815,
                  "BinCSG Mean Time": 4256.333333333333,
                  "_deepnote_index_column": 5
                },
                {
                  "Triangle Number": 260,
                  "Intersection Time": 3209,
                  "Union Time": 5128,
                  "Difference Time": 4258,
                  "BinCSG Mean Time": 4198.333333333333,
                  "_deepnote_index_column": 6
                },
                {
                  "Triangle Number": 336,
                  "Intersection Time": 3826,
                  "Union Time": 6487,
                  "Difference Time": 6041,
                  "BinCSG Mean Time": 5451.333333333333,
                  "_deepnote_index_column": 7
                },
                {
                  "Triangle Number": 360,
                  "Intersection Time": 4120,
                  "Union Time": 6979,
                  "Difference Time": 6827,
                  "BinCSG Mean Time": 5975.333333333333,
                  "_deepnote_index_column": 8
                },
                {
                  "Triangle Number": 448,
                  "Intersection Time": 5318,
                  "Union Time": 8869,
                  "Difference Time": 7923,
                  "BinCSG Mean Time": 7370,
                  "_deepnote_index_column": 9
                },
                {
                  "Triangle Number": 476,
                  "Intersection Time": 5570,
                  "Union Time": 9316,
                  "Difference Time": 10034,
                  "BinCSG Mean Time": 8306.666666666666,
                  "_deepnote_index_column": 10
                },
                {
                  "Triangle Number": 576,
                  "Intersection Time": 6365,
                  "Union Time": 13214,
                  "Difference Time": 9791,
                  "BinCSG Mean Time": 9790,
                  "_deepnote_index_column": 11
                },
                {
                  "Triangle Number": 608,
                  "Intersection Time": 6837,
                  "Union Time": 14405,
                  "Difference Time": 8917,
                  "BinCSG Mean Time": 10053,
                  "_deepnote_index_column": 12
                },
                {
                  "Triangle Number": 720,
                  "Intersection Time": 8274,
                  "Union Time": 14764,
                  "Difference Time": 10985,
                  "BinCSG Mean Time": 11341,
                  "_deepnote_index_column": 13
                },
                {
                  "Triangle Number": 756,
                  "Intersection Time": 8795,
                  "Union Time": 15135,
                  "Difference Time": 11636,
                  "BinCSG Mean Time": 11855.333333333334,
                  "_deepnote_index_column": 14
                },
                {
                  "Triangle Number": 880,
                  "Intersection Time": 9786,
                  "Union Time": 16728,
                  "Difference Time": 13205,
                  "BinCSG Mean Time": 13239.666666666666,
                  "_deepnote_index_column": 15
                },
                {
                  "Triangle Number": 920,
                  "Intersection Time": 10203,
                  "Union Time": 17830,
                  "Difference Time": 13729,
                  "BinCSG Mean Time": 13920.666666666666,
                  "_deepnote_index_column": 16
                },
                {
                  "Triangle Number": 1056,
                  "Intersection Time": 12292,
                  "Union Time": 19949,
                  "Difference Time": 16129,
                  "BinCSG Mean Time": 16123.333333333334,
                  "_deepnote_index_column": 17
                },
                {
                  "Triangle Number": 1100,
                  "Intersection Time": 15091,
                  "Union Time": 21068,
                  "Difference Time": 16792,
                  "BinCSG Mean Time": 17650.333333333332,
                  "_deepnote_index_column": 18
                },
                {
                  "Triangle Number": 1248,
                  "Intersection Time": 16208,
                  "Union Time": 23221,
                  "Difference Time": 18550,
                  "BinCSG Mean Time": 19326.333333333332,
                  "_deepnote_index_column": 19
                },
                {
                  "Triangle Number": 1296,
                  "Intersection Time": 16907,
                  "Union Time": 24069,
                  "Difference Time": 19615,
                  "BinCSG Mean Time": 20197,
                  "_deepnote_index_column": 20
                },
                {
                  "Triangle Number": 1456,
                  "Intersection Time": 18921,
                  "Union Time": 29287,
                  "Difference Time": 22358,
                  "BinCSG Mean Time": 23522,
                  "_deepnote_index_column": 21
                },
                {
                  "Triangle Number": 1508,
                  "Intersection Time": 18867,
                  "Union Time": 28235,
                  "Difference Time": 22825,
                  "BinCSG Mean Time": 23309,
                  "_deepnote_index_column": 22
                },
                {
                  "Triangle Number": 1680,
                  "Intersection Time": 20236,
                  "Union Time": 31569,
                  "Difference Time": 24721,
                  "BinCSG Mean Time": 25508.666666666668,
                  "_deepnote_index_column": 23
                },
                {
                  "Triangle Number": 1736,
                  "Intersection Time": 21327,
                  "Union Time": 32278,
                  "Difference Time": 28290,
                  "BinCSG Mean Time": 27298.333333333332,
                  "_deepnote_index_column": 24
                },
                {
                  "Triangle Number": 1920,
                  "Intersection Time": 21333,
                  "Union Time": 36691,
                  "Difference Time": 30120,
                  "BinCSG Mean Time": 29381.333333333332,
                  "_deepnote_index_column": 25
                },
                {
                  "Triangle Number": 1980,
                  "Intersection Time": 22616,
                  "Union Time": 39816,
                  "Difference Time": 29740,
                  "BinCSG Mean Time": 30724,
                  "_deepnote_index_column": 26
                },
                {
                  "Triangle Number": 2176,
                  "Intersection Time": 24788,
                  "Union Time": 43724,
                  "Difference Time": 32369,
                  "BinCSG Mean Time": 33627,
                  "_deepnote_index_column": 27
                },
                {
                  "Triangle Number": 2240,
                  "Intersection Time": 25838,
                  "Union Time": 43751,
                  "Difference Time": 33321,
                  "BinCSG Mean Time": 34303.333333333336,
                  "_deepnote_index_column": 28
                },
                {
                  "Triangle Number": 2448,
                  "Intersection Time": 27683,
                  "Union Time": 47211,
                  "Difference Time": 36544,
                  "BinCSG Mean Time": 37146,
                  "_deepnote_index_column": 29
                },
                {
                  "Triangle Number": 2516,
                  "Intersection Time": 28283,
                  "Union Time": 52147,
                  "Difference Time": 38699,
                  "BinCSG Mean Time": 39709.666666666664,
                  "_deepnote_index_column": 30
                },
                {
                  "Triangle Number": 2736,
                  "Intersection Time": 34947,
                  "Union Time": 57415,
                  "Difference Time": 41030,
                  "BinCSG Mean Time": 44464,
                  "_deepnote_index_column": 31
                },
                {
                  "Triangle Number": 2808,
                  "Intersection Time": 31091,
                  "Union Time": 60696,
                  "Difference Time": 41674,
                  "BinCSG Mean Time": 44487,
                  "_deepnote_index_column": 32
                },
                {
                  "Triangle Number": 3040,
                  "Intersection Time": 33813,
                  "Union Time": 60295,
                  "Difference Time": 45265,
                  "BinCSG Mean Time": 46457.666666666664,
                  "_deepnote_index_column": 33
                },
                {
                  "Triangle Number": 3116,
                  "Intersection Time": 34403,
                  "Union Time": 60671,
                  "Difference Time": 46332,
                  "BinCSG Mean Time": 47135.333333333336,
                  "_deepnote_index_column": 34
                },
                {
                  "Triangle Number": 3360,
                  "Intersection Time": 36993,
                  "Union Time": 65018,
                  "Difference Time": 49581,
                  "BinCSG Mean Time": 50530.666666666664,
                  "_deepnote_index_column": 35
                },
                {
                  "Triangle Number": 3440,
                  "Intersection Time": 38280,
                  "Union Time": 66201,
                  "Difference Time": 52684,
                  "BinCSG Mean Time": 52388.333333333336,
                  "_deepnote_index_column": 36
                },
                {
                  "Triangle Number": 3696,
                  "Intersection Time": 40876,
                  "Union Time": 72088,
                  "Difference Time": 55656,
                  "BinCSG Mean Time": 56206.666666666664,
                  "_deepnote_index_column": 37
                },
                {
                  "Triangle Number": 3780,
                  "Intersection Time": 41828,
                  "Union Time": 74901,
                  "Difference Time": 55771,
                  "BinCSG Mean Time": 57500,
                  "_deepnote_index_column": 38
                },
                {
                  "Triangle Number": 4048,
                  "Intersection Time": 45403,
                  "Union Time": 77903,
                  "Difference Time": 59232,
                  "BinCSG Mean Time": 60846,
                  "_deepnote_index_column": 39
                },
                {
                  "Triangle Number": 4136,
                  "Intersection Time": 46220,
                  "Union Time": 77837,
                  "Difference Time": 60455,
                  "BinCSG Mean Time": 61504,
                  "_deepnote_index_column": 40
                },
                {
                  "Triangle Number": 4416,
                  "Intersection Time": 49701,
                  "Union Time": 88976,
                  "Difference Time": 64877,
                  "BinCSG Mean Time": 67851.33333333333,
                  "_deepnote_index_column": 41
                },
                {
                  "Triangle Number": 4508,
                  "Intersection Time": 51331,
                  "Union Time": 129936,
                  "Difference Time": 65865,
                  "BinCSG Mean Time": 82377.33333333333,
                  "_deepnote_index_column": 42
                },
                {
                  "Triangle Number": 4800,
                  "Intersection Time": 54230,
                  "Union Time": 116600,
                  "Difference Time": 69601,
                  "BinCSG Mean Time": 80143.66666666667,
                  "_deepnote_index_column": 43
                },
                {
                  "Triangle Number": 4896,
                  "Intersection Time": 55959,
                  "Union Time": 109147,
                  "Difference Time": 70753,
                  "BinCSG Mean Time": 78619.66666666667,
                  "_deepnote_index_column": 44
                },
                {
                  "Triangle Number": 5200,
                  "Intersection Time": 60833,
                  "Union Time": 114514,
                  "Difference Time": 75373,
                  "BinCSG Mean Time": 83573.33333333333,
                  "_deepnote_index_column": 45
                },
                {
                  "Triangle Number": 5300,
                  "Intersection Time": 61244,
                  "Union Time": 129958,
                  "Difference Time": 77074,
                  "BinCSG Mean Time": 89425.33333333333,
                  "_deepnote_index_column": 46
                },
                {
                  "Triangle Number": 5616,
                  "Intersection Time": 64198,
                  "Union Time": 131284,
                  "Difference Time": 82029,
                  "BinCSG Mean Time": 92503.66666666667,
                  "_deepnote_index_column": 47
                },
                {
                  "Triangle Number": 5720,
                  "Intersection Time": 66177,
                  "Union Time": 152196,
                  "Difference Time": 82709,
                  "BinCSG Mean Time": 100360.66666666667,
                  "_deepnote_index_column": 48
                },
                {
                  "Triangle Number": 6048,
                  "Intersection Time": 71060,
                  "Union Time": 165600,
                  "Difference Time": 88229,
                  "BinCSG Mean Time": 108296.33333333333,
                  "_deepnote_index_column": 49
                },
                {
                  "Triangle Number": 6156,
                  "Intersection Time": 71542,
                  "Union Time": 219635,
                  "Difference Time": 91223,
                  "BinCSG Mean Time": 127466.66666666667,
                  "_deepnote_index_column": 50
                },
                {
                  "Triangle Number": 6496,
                  "Intersection Time": 75605,
                  "Union Time": 190408,
                  "Difference Time": 94147,
                  "BinCSG Mean Time": 120053.33333333333,
                  "_deepnote_index_column": 51
                },
                {
                  "Triangle Number": 6608,
                  "Intersection Time": 76407,
                  "Union Time": 127769,
                  "Difference Time": 94562,
                  "BinCSG Mean Time": 99579.33333333333,
                  "_deepnote_index_column": 52
                },
                {
                  "Triangle Number": 6960,
                  "Intersection Time": 80686,
                  "Union Time": 137681,
                  "Difference Time": 99267,
                  "BinCSG Mean Time": 105878,
                  "_deepnote_index_column": 53
                },
                {
                  "Triangle Number": 7076,
                  "Intersection Time": 83954,
                  "Union Time": 138153,
                  "Difference Time": 101195,
                  "BinCSG Mean Time": 107767.33333333333,
                  "_deepnote_index_column": 54
                },
                {
                  "Triangle Number": 7440,
                  "Intersection Time": 86970,
                  "Union Time": 143322,
                  "Difference Time": 105798,
                  "BinCSG Mean Time": 112030,
                  "_deepnote_index_column": 55
                },
                {
                  "Triangle Number": 7560,
                  "Intersection Time": 88331,
                  "Union Time": 145763,
                  "Difference Time": 108401,
                  "BinCSG Mean Time": 114165,
                  "_deepnote_index_column": 56
                },
                {
                  "Triangle Number": 7936,
                  "Intersection Time": 97410,
                  "Union Time": 151097,
                  "Difference Time": 112767,
                  "BinCSG Mean Time": 120424.66666666667,
                  "_deepnote_index_column": 57
                },
                {
                  "Triangle Number": 8060,
                  "Intersection Time": 94936,
                  "Union Time": 154403,
                  "Difference Time": 114641,
                  "BinCSG Mean Time": 121326.66666666667,
                  "_deepnote_index_column": 58
                },
                {
                  "Triangle Number": 8448,
                  "Intersection Time": 98400,
                  "Union Time": 160829,
                  "Difference Time": 120669,
                  "BinCSG Mean Time": 126632.66666666667,
                  "_deepnote_index_column": 59
                },
                {
                  "Triangle Number": 8576,
                  "Intersection Time": 100840,
                  "Union Time": 161115,
                  "Difference Time": 121613,
                  "BinCSG Mean Time": 127856,
                  "_deepnote_index_column": 60
                },
                {
                  "Triangle Number": 8976,
                  "Intersection Time": 105154,
                  "Union Time": 187621,
                  "Difference Time": 127524,
                  "BinCSG Mean Time": 140099.66666666666,
                  "_deepnote_index_column": 61
                },
                {
                  "Triangle Number": 9108,
                  "Intersection Time": 106557,
                  "Union Time": 272587,
                  "Difference Time": 129405,
                  "BinCSG Mean Time": 169516.33333333334,
                  "_deepnote_index_column": 62
                },
                {
                  "Triangle Number": 9520,
                  "Intersection Time": 111729,
                  "Union Time": 338473,
                  "Difference Time": 135825,
                  "BinCSG Mean Time": 195342.33333333334,
                  "_deepnote_index_column": 63
                },
                {
                  "Triangle Number": 9656,
                  "Intersection Time": 113285,
                  "Union Time": 216132,
                  "Difference Time": 136994,
                  "BinCSG Mean Time": 155470.33333333334,
                  "_deepnote_index_column": 64
                },
                {
                  "Triangle Number": 10080,
                  "Intersection Time": 120131,
                  "Union Time": 193286,
                  "Difference Time": 143423,
                  "BinCSG Mean Time": 152280,
                  "_deepnote_index_column": 65
                },
                {
                  "Triangle Number": 10220,
                  "Intersection Time": 119520,
                  "Union Time": 192742,
                  "Difference Time": 145336,
                  "BinCSG Mean Time": 152532.66666666666,
                  "_deepnote_index_column": 66
                },
                {
                  "Triangle Number": 10656,
                  "Intersection Time": 123849,
                  "Union Time": 198958,
                  "Difference Time": 151373,
                  "BinCSG Mean Time": 158060,
                  "_deepnote_index_column": 67
                },
                {
                  "Triangle Number": 10800,
                  "Intersection Time": 127068,
                  "Union Time": 199179,
                  "Difference Time": 152942,
                  "BinCSG Mean Time": 159729.66666666666,
                  "_deepnote_index_column": 68
                },
                {
                  "Triangle Number": 11248,
                  "Intersection Time": 133731,
                  "Union Time": 212763,
                  "Difference Time": 159992,
                  "BinCSG Mean Time": 168828.66666666666,
                  "_deepnote_index_column": 69
                },
                {
                  "Triangle Number": 11396,
                  "Intersection Time": 134769,
                  "Union Time": 201378,
                  "Difference Time": 161542,
                  "BinCSG Mean Time": 165896.33333333334,
                  "_deepnote_index_column": 70
                },
                {
                  "Triangle Number": 11856,
                  "Intersection Time": 138940,
                  "Union Time": 216415,
                  "Difference Time": 168506,
                  "BinCSG Mean Time": 174620.33333333334,
                  "_deepnote_index_column": 71
                },
                {
                  "Triangle Number": 12008,
                  "Intersection Time": 141310,
                  "Union Time": 214842,
                  "Difference Time": 172209,
                  "BinCSG Mean Time": 176120.33333333334,
                  "_deepnote_index_column": 72
                },
                {
                  "Triangle Number": 12480,
                  "Intersection Time": 145878,
                  "Union Time": 226569,
                  "Difference Time": 177474,
                  "BinCSG Mean Time": 183307,
                  "_deepnote_index_column": 73
                },
                {
                  "Triangle Number": 12636,
                  "Intersection Time": 149360,
                  "Union Time": 224474,
                  "Difference Time": 179045,
                  "BinCSG Mean Time": 184293,
                  "_deepnote_index_column": 74
                },
                {
                  "Triangle Number": 13120,
                  "Intersection Time": 153950,
                  "Union Time": 234353,
                  "Difference Time": 185927,
                  "BinCSG Mean Time": 191410,
                  "_deepnote_index_column": 75
                },
                {
                  "Triangle Number": 13280,
                  "Intersection Time": 155465,
                  "Union Time": 238064,
                  "Difference Time": 188480,
                  "BinCSG Mean Time": 194003,
                  "_deepnote_index_column": 76
                },
                {
                  "Triangle Number": 13776,
                  "Intersection Time": 161899,
                  "Union Time": 248620,
                  "Difference Time": 195151,
                  "BinCSG Mean Time": 201890,
                  "_deepnote_index_column": 77
                },
                {
                  "Triangle Number": 13940,
                  "Intersection Time": 165331,
                  "Union Time": 250390,
                  "Difference Time": 198280,
                  "BinCSG Mean Time": 204667,
                  "_deepnote_index_column": 78
                },
                {
                  "Triangle Number": 14448,
                  "Intersection Time": 169220,
                  "Union Time": 256228,
                  "Difference Time": 205476,
                  "BinCSG Mean Time": 210308,
                  "_deepnote_index_column": 79
                },
                {
                  "Triangle Number": 14616,
                  "Intersection Time": 178785,
                  "Union Time": 303883,
                  "Difference Time": 207725,
                  "BinCSG Mean Time": 230131,
                  "_deepnote_index_column": 80
                },
                {
                  "Triangle Number": 15136,
                  "Intersection Time": 186084,
                  "Union Time": 343900,
                  "Difference Time": 215636,
                  "BinCSG Mean Time": 248540,
                  "_deepnote_index_column": 81
                },
                {
                  "Triangle Number": 15308,
                  "Intersection Time": 187945,
                  "Union Time": 293170,
                  "Difference Time": 229741,
                  "BinCSG Mean Time": 236952,
                  "_deepnote_index_column": 82
                },
                {
                  "Triangle Number": 15840,
                  "Intersection Time": 202731,
                  "Union Time": 304637,
                  "Difference Time": 237830,
                  "BinCSG Mean Time": 248399.33333333334,
                  "_deepnote_index_column": 83
                },
                {
                  "Triangle Number": 16016,
                  "Intersection Time": 198172,
                  "Union Time": 313060,
                  "Difference Time": 240231,
                  "BinCSG Mean Time": 250487.66666666666,
                  "_deepnote_index_column": 84
                },
                {
                  "Triangle Number": 16560,
                  "Intersection Time": 198828,
                  "Union Time": 322684,
                  "Difference Time": 249352,
                  "BinCSG Mean Time": 256954.66666666666,
                  "_deepnote_index_column": 85
                },
                {
                  "Triangle Number": 16740,
                  "Intersection Time": 209462,
                  "Union Time": 332750,
                  "Difference Time": 252085,
                  "BinCSG Mean Time": 264765.6666666667,
                  "_deepnote_index_column": 86
                },
                {
                  "Triangle Number": 17296,
                  "Intersection Time": 208383,
                  "Union Time": 342183,
                  "Difference Time": 260565,
                  "BinCSG Mean Time": 270377,
                  "_deepnote_index_column": 87
                },
                {
                  "Triangle Number": 17480,
                  "Intersection Time": 208566,
                  "Union Time": 382193,
                  "Difference Time": 262992,
                  "BinCSG Mean Time": 284583.6666666667,
                  "_deepnote_index_column": 88
                },
                {
                  "Triangle Number": 18048,
                  "Intersection Time": 226068,
                  "Union Time": 402124,
                  "Difference Time": 274241,
                  "BinCSG Mean Time": 300811,
                  "_deepnote_index_column": 89
                },
                {
                  "Triangle Number": 18236,
                  "Intersection Time": 228262,
                  "Union Time": 435173,
                  "Difference Time": 274547,
                  "BinCSG Mean Time": 312660.6666666667,
                  "_deepnote_index_column": 90
                },
                {
                  "Triangle Number": 18816,
                  "Intersection Time": 222538,
                  "Union Time": 712072,
                  "Difference Time": 283215,
                  "BinCSG Mean Time": 405941.6666666667,
                  "_deepnote_index_column": 91
                },
                {
                  "Triangle Number": 19008,
                  "Intersection Time": 235110,
                  "Union Time": 590215,
                  "Difference Time": 285697,
                  "BinCSG Mean Time": 370340.6666666667,
                  "_deepnote_index_column": 92
                },
                {
                  "Triangle Number": 19600,
                  "Intersection Time": 246367,
                  "Union Time": 429400,
                  "Difference Time": 295506,
                  "BinCSG Mean Time": 323757.6666666667,
                  "_deepnote_index_column": 93
                },
                {
                  "Triangle Number": 19796,
                  "Intersection Time": 251851,
                  "Union Time": 418355,
                  "Difference Time": 298038,
                  "BinCSG Mean Time": 322748,
                  "_deepnote_index_column": 94
                },
                {
                  "Triangle Number": 20400,
                  "Intersection Time": 259326,
                  "Union Time": 418887,
                  "Difference Time": 306825,
                  "BinCSG Mean Time": 328346,
                  "_deepnote_index_column": 95
                },
                {
                  "Triangle Number": 20600,
                  "Intersection Time": 257064,
                  "Union Time": 422786,
                  "Difference Time": 310331,
                  "BinCSG Mean Time": 330060.3333333333,
                  "_deepnote_index_column": 96
                },
                {
                  "Triangle Number": 21216,
                  "Intersection Time": 267327,
                  "Union Time": 425111,
                  "Difference Time": 320101,
                  "BinCSG Mean Time": 337513,
                  "_deepnote_index_column": 97
                },
                {
                  "Triangle Number": 21420,
                  "Intersection Time": 270604,
                  "Union Time": 429218,
                  "Difference Time": 323016,
                  "BinCSG Mean Time": 340946,
                  "_deepnote_index_column": 98
                },
                {
                  "Triangle Number": 22048,
                  "Intersection Time": 267608,
                  "Union Time": 440500,
                  "Difference Time": 332301,
                  "BinCSG Mean Time": 346803,
                  "_deepnote_index_column": 99
                },
                {
                  "Triangle Number": 22256,
                  "Intersection Time": 281673,
                  "Union Time": 442879,
                  "Difference Time": 335251,
                  "BinCSG Mean Time": 353267.6666666667,
                  "_deepnote_index_column": 100
                },
                {
                  "Triangle Number": 22896,
                  "Intersection Time": 288092,
                  "Union Time": 452812,
                  "Difference Time": 348166,
                  "BinCSG Mean Time": 363023.3333333333,
                  "_deepnote_index_column": 101
                },
                {
                  "Triangle Number": 23108,
                  "Intersection Time": 284965,
                  "Union Time": 459782,
                  "Difference Time": 348275,
                  "BinCSG Mean Time": 364340.6666666667,
                  "_deepnote_index_column": 102
                },
                {
                  "Triangle Number": 23760,
                  "Intersection Time": 296205,
                  "Union Time": 462354,
                  "Difference Time": 359252,
                  "BinCSG Mean Time": 372603.6666666667,
                  "_deepnote_index_column": 103
                },
                {
                  "Triangle Number": 23976,
                  "Intersection Time": 294037,
                  "Union Time": 461612,
                  "Difference Time": 361790,
                  "BinCSG Mean Time": 372479.6666666667,
                  "_deepnote_index_column": 104
                },
                {
                  "Triangle Number": 24640,
                  "Intersection Time": 300038,
                  "Union Time": 473295,
                  "Difference Time": 371366,
                  "BinCSG Mean Time": 381566.3333333333,
                  "_deepnote_index_column": 105
                },
                {
                  "Triangle Number": 24860,
                  "Intersection Time": 299359,
                  "Union Time": 471886,
                  "Difference Time": 375486,
                  "BinCSG Mean Time": 382243.6666666667,
                  "_deepnote_index_column": 106
                },
                {
                  "Triangle Number": 25536,
                  "Intersection Time": 307673,
                  "Union Time": 481346,
                  "Difference Time": 384601,
                  "BinCSG Mean Time": 391206.6666666667,
                  "_deepnote_index_column": 107
                },
                {
                  "Triangle Number": 25760,
                  "Intersection Time": 312557,
                  "Union Time": 476609,
                  "Difference Time": 388357,
                  "BinCSG Mean Time": 392507.6666666667,
                  "_deepnote_index_column": 108
                },
                {
                  "Triangle Number": 26448,
                  "Intersection Time": 325323,
                  "Union Time": 490384,
                  "Difference Time": 398658,
                  "BinCSG Mean Time": 404788.3333333333,
                  "_deepnote_index_column": 109
                },
                {
                  "Triangle Number": 26676,
                  "Intersection Time": 330413,
                  "Union Time": 495642,
                  "Difference Time": 402198,
                  "BinCSG Mean Time": 409417.6666666667,
                  "_deepnote_index_column": 110
                },
                {
                  "Triangle Number": 27376,
                  "Intersection Time": 337198,
                  "Union Time": 504321,
                  "Difference Time": 412296,
                  "BinCSG Mean Time": 417938.3333333333,
                  "_deepnote_index_column": 111
                },
                {
                  "Triangle Number": 27608,
                  "Intersection Time": 341592,
                  "Union Time": 507568,
                  "Difference Time": 411109,
                  "BinCSG Mean Time": 420089.6666666667,
                  "_deepnote_index_column": 112
                },
                {
                  "Triangle Number": 28320,
                  "Intersection Time": 329084,
                  "Union Time": 522060,
                  "Difference Time": 419961,
                  "BinCSG Mean Time": 423701.6666666667,
                  "_deepnote_index_column": 113
                },
                {
                  "Triangle Number": 28556,
                  "Intersection Time": 342269,
                  "Union Time": 523950,
                  "Difference Time": 422165,
                  "BinCSG Mean Time": 429461.3333333333,
                  "_deepnote_index_column": 114
                },
                {
                  "Triangle Number": 29280,
                  "Intersection Time": 351297,
                  "Union Time": 539140,
                  "Difference Time": 432797,
                  "BinCSG Mean Time": 441078,
                  "_deepnote_index_column": 115
                },
                {
                  "Triangle Number": 29520,
                  "Intersection Time": 364566,
                  "Union Time": 544484,
                  "Difference Time": 435639,
                  "BinCSG Mean Time": 448229.6666666667,
                  "_deepnote_index_column": 116
                },
                {
                  "Triangle Number": 30256,
                  "Intersection Time": 378297,
                  "Union Time": 558486,
                  "Difference Time": 447123,
                  "BinCSG Mean Time": 461302,
                  "_deepnote_index_column": 117
                },
                {
                  "Triangle Number": 30500,
                  "Intersection Time": 354910,
                  "Union Time": 560708,
                  "Difference Time": 450587,
                  "BinCSG Mean Time": 455401.6666666667,
                  "_deepnote_index_column": 118
                },
                {
                  "Triangle Number": 31248,
                  "Intersection Time": 363678,
                  "Union Time": 574081,
                  "Difference Time": 461332,
                  "BinCSG Mean Time": 466363.6666666667,
                  "_deepnote_index_column": 119
                },
                {
                  "Triangle Number": 31496,
                  "Intersection Time": 367419,
                  "Union Time": 579274,
                  "Difference Time": 466052,
                  "BinCSG Mean Time": 470915,
                  "_deepnote_index_column": 120
                },
                {
                  "Triangle Number": 32256,
                  "Intersection Time": 377107,
                  "Union Time": 593850,
                  "Difference Time": 475834,
                  "BinCSG Mean Time": 482263.6666666667,
                  "_deepnote_index_column": 121
                },
                {
                  "Triangle Number": 32508,
                  "Intersection Time": 375032,
                  "Union Time": 599676,
                  "Difference Time": 479795,
                  "BinCSG Mean Time": 484834.3333333333,
                  "_deepnote_index_column": 122
                },
                {
                  "Triangle Number": 33280,
                  "Intersection Time": 382914,
                  "Union Time": 613605,
                  "Difference Time": 490693,
                  "BinCSG Mean Time": 495737.3333333333,
                  "_deepnote_index_column": 123
                },
                {
                  "Triangle Number": 33536,
                  "Intersection Time": 383987,
                  "Union Time": 618625,
                  "Difference Time": 494292,
                  "BinCSG Mean Time": 498968,
                  "_deepnote_index_column": 124
                },
                {
                  "Triangle Number": 34320,
                  "Intersection Time": 392752,
                  "Union Time": 630972,
                  "Difference Time": 506718,
                  "BinCSG Mean Time": 510147.3333333333,
                  "_deepnote_index_column": 125
                },
                {
                  "Triangle Number": 34580,
                  "Intersection Time": 393684,
                  "Union Time": 637629,
                  "Difference Time": 510761,
                  "BinCSG Mean Time": 514024.6666666667,
                  "_deepnote_index_column": 126
                },
                {
                  "Triangle Number": 35376,
                  "Intersection Time": 402255,
                  "Union Time": 652472,
                  "Difference Time": 523581,
                  "BinCSG Mean Time": 526102.6666666666,
                  "_deepnote_index_column": 127
                },
                {
                  "Triangle Number": 35640,
                  "Intersection Time": 404153,
                  "Union Time": 666465,
                  "Difference Time": 525914,
                  "BinCSG Mean Time": 532177.3333333334,
                  "_deepnote_index_column": 128
                },
                {
                  "Triangle Number": 36448,
                  "Intersection Time": 415105,
                  "Union Time": 760535,
                  "Difference Time": 537892,
                  "BinCSG Mean Time": 571177.3333333334,
                  "_deepnote_index_column": 129
                },
                {
                  "Triangle Number": 36716,
                  "Intersection Time": 418544,
                  "Union Time": 881514,
                  "Difference Time": 542307,
                  "BinCSG Mean Time": 614121.6666666666,
                  "_deepnote_index_column": 130
                },
                {
                  "Triangle Number": 37536,
                  "Intersection Time": 425105,
                  "Union Time": 855639,
                  "Difference Time": 553330,
                  "BinCSG Mean Time": 611358,
                  "_deepnote_index_column": 131
                },
                {
                  "Triangle Number": 37808,
                  "Intersection Time": 427818,
                  "Union Time": 826847,
                  "Difference Time": 558008,
                  "BinCSG Mean Time": 604224.3333333334,
                  "_deepnote_index_column": 132
                },
                {
                  "Triangle Number": 38640,
                  "Intersection Time": 437061,
                  "Union Time": 780919,
                  "Difference Time": 570112,
                  "BinCSG Mean Time": 596030.6666666666,
                  "_deepnote_index_column": 133
                },
                {
                  "Triangle Number": 38916,
                  "Intersection Time": 439859,
                  "Union Time": 734436,
                  "Difference Time": 575801,
                  "BinCSG Mean Time": 583365.3333333334,
                  "_deepnote_index_column": 134
                },
                {
                  "Triangle Number": 39760,
                  "Intersection Time": 448921,
                  "Union Time": 766916,
                  "Difference Time": 586316,
                  "BinCSG Mean Time": 600717.6666666666,
                  "_deepnote_index_column": 135
                },
                {
                  "Triangle Number": 40040,
                  "Intersection Time": 452116,
                  "Union Time": 828057,
                  "Difference Time": 591874,
                  "BinCSG Mean Time": 624015.6666666666,
                  "_deepnote_index_column": 136
                },
                {
                  "Triangle Number": 40896,
                  "Intersection Time": 460777,
                  "Union Time": 799765,
                  "Difference Time": 604345,
                  "BinCSG Mean Time": 621629,
                  "_deepnote_index_column": 137
                },
                {
                  "Triangle Number": 41180,
                  "Intersection Time": 463450,
                  "Union Time": 748738,
                  "Difference Time": 607977,
                  "BinCSG Mean Time": 606721.6666666666,
                  "_deepnote_index_column": 138
                },
                {
                  "Triangle Number": 42048,
                  "Intersection Time": 474718,
                  "Union Time": 748289,
                  "Difference Time": 620258,
                  "BinCSG Mean Time": 614421.6666666666,
                  "_deepnote_index_column": 139
                },
                {
                  "Triangle Number": 42336,
                  "Intersection Time": 476025,
                  "Union Time": 753255,
                  "Difference Time": 626847,
                  "BinCSG Mean Time": 618709,
                  "_deepnote_index_column": 140
                },
                {
                  "Triangle Number": 43216,
                  "Intersection Time": 486136,
                  "Union Time": 784419,
                  "Difference Time": 638814,
                  "BinCSG Mean Time": 636456.3333333334,
                  "_deepnote_index_column": 141
                },
                {
                  "Triangle Number": 43508,
                  "Intersection Time": 489084,
                  "Union Time": 795882,
                  "Difference Time": 642532,
                  "BinCSG Mean Time": 642499.3333333334,
                  "_deepnote_index_column": 142
                },
                {
                  "Triangle Number": 44400,
                  "Intersection Time": 498935,
                  "Union Time": 815245,
                  "Difference Time": 655561,
                  "BinCSG Mean Time": 656580.3333333334,
                  "_deepnote_index_column": 143
                },
                {
                  "Triangle Number": 44696,
                  "Intersection Time": 503081,
                  "Union Time": 820677,
                  "Difference Time": 659948,
                  "BinCSG Mean Time": 661235.3333333334,
                  "_deepnote_index_column": 144
                },
                {
                  "Triangle Number": 45600,
                  "Intersection Time": 512681,
                  "Union Time": 838895,
                  "Difference Time": 672838,
                  "BinCSG Mean Time": 674804.6666666666,
                  "_deepnote_index_column": 145
                },
                {
                  "Triangle Number": 45900,
                  "Intersection Time": 518484,
                  "Union Time": 845376,
                  "Difference Time": 680298,
                  "BinCSG Mean Time": 681386,
                  "_deepnote_index_column": 146
                },
                {
                  "Triangle Number": 46816,
                  "Intersection Time": 526203,
                  "Union Time": 867952,
                  "Difference Time": 691861,
                  "BinCSG Mean Time": 695338.6666666666,
                  "_deepnote_index_column": 147
                },
                {
                  "Triangle Number": 47120,
                  "Intersection Time": 530129,
                  "Union Time": 871103,
                  "Difference Time": 696576,
                  "BinCSG Mean Time": 699269.3333333334,
                  "_deepnote_index_column": 148
                },
                {
                  "Triangle Number": 48048,
                  "Intersection Time": 539646,
                  "Union Time": 888882,
                  "Difference Time": 710601,
                  "BinCSG Mean Time": 713043,
                  "_deepnote_index_column": 149
                },
                {
                  "Triangle Number": 48356,
                  "Intersection Time": 542964,
                  "Union Time": 894659,
                  "Difference Time": 714188,
                  "BinCSG Mean Time": 717270.3333333334,
                  "_deepnote_index_column": 150
                },
                {
                  "Triangle Number": 49296,
                  "Intersection Time": 552557,
                  "Union Time": 914449,
                  "Difference Time": 729319,
                  "BinCSG Mean Time": 732108.3333333334,
                  "_deepnote_index_column": 151
                },
                {
                  "Triangle Number": 49608,
                  "Intersection Time": 555681,
                  "Union Time": 921411,
                  "Difference Time": 734194,
                  "BinCSG Mean Time": 737095.3333333334,
                  "_deepnote_index_column": 152
                },
                {
                  "Triangle Number": 50560,
                  "Intersection Time": 568283,
                  "Union Time": 937950,
                  "Difference Time": 748629,
                  "BinCSG Mean Time": 751620.6666666666,
                  "_deepnote_index_column": 153
                },
                {
                  "Triangle Number": 50876,
                  "Intersection Time": 570083,
                  "Union Time": 945084,
                  "Difference Time": 752730,
                  "BinCSG Mean Time": 755965.6666666666,
                  "_deepnote_index_column": 154
                },
                {
                  "Triangle Number": 51840,
                  "Intersection Time": 580439,
                  "Union Time": 961659,
                  "Difference Time": 765080,
                  "BinCSG Mean Time": 769059.3333333334,
                  "_deepnote_index_column": 155
                },
                {
                  "Triangle Number": 52160,
                  "Intersection Time": 583079,
                  "Union Time": 967460,
                  "Difference Time": 774048,
                  "BinCSG Mean Time": 774862.3333333334,
                  "_deepnote_index_column": 156
                },
                {
                  "Triangle Number": 53136,
                  "Intersection Time": 594275,
                  "Union Time": 985558,
                  "Difference Time": 787323,
                  "BinCSG Mean Time": 789052,
                  "_deepnote_index_column": 157
                },
                {
                  "Triangle Number": 53460,
                  "Intersection Time": 597624,
                  "Union Time": 991849,
                  "Difference Time": 791337,
                  "BinCSG Mean Time": 793603.3333333334,
                  "_deepnote_index_column": 158
                },
                {
                  "Triangle Number": 54448,
                  "Intersection Time": 609847,
                  "Union Time": 1013767,
                  "Difference Time": 807950,
                  "BinCSG Mean Time": 810521.3333333334,
                  "_deepnote_index_column": 159
                },
                {
                  "Triangle Number": 54776,
                  "Intersection Time": 613245,
                  "Union Time": 1020886,
                  "Difference Time": 809756,
                  "BinCSG Mean Time": 814629,
                  "_deepnote_index_column": 160
                },
                {
                  "Triangle Number": 55776,
                  "Intersection Time": 624211,
                  "Union Time": 1040504,
                  "Difference Time": 828664,
                  "BinCSG Mean Time": 831126.3333333334,
                  "_deepnote_index_column": 161
                },
                {
                  "Triangle Number": 56108,
                  "Intersection Time": 626257,
                  "Union Time": 1044567,
                  "Difference Time": 832096,
                  "BinCSG Mean Time": 834306.6666666666,
                  "_deepnote_index_column": 162
                },
                {
                  "Triangle Number": 57120,
                  "Intersection Time": 637302,
                  "Union Time": 1073502,
                  "Difference Time": 844990,
                  "BinCSG Mean Time": 851931.3333333334,
                  "_deepnote_index_column": 163
                },
                {
                  "Triangle Number": 57456,
                  "Intersection Time": 640507,
                  "Union Time": 1077185,
                  "Difference Time": 854740,
                  "BinCSG Mean Time": 857477.3333333334,
                  "_deepnote_index_column": 164
                },
                {
                  "Triangle Number": 58480,
                  "Intersection Time": 653928,
                  "Union Time": 1091293,
                  "Difference Time": 867478,
                  "BinCSG Mean Time": 870899.6666666666,
                  "_deepnote_index_column": 165
                },
                {
                  "Triangle Number": 58820,
                  "Intersection Time": 655378,
                  "Union Time": 1102254,
                  "Difference Time": 870630,
                  "BinCSG Mean Time": 876087.3333333334,
                  "_deepnote_index_column": 166
                },
                {
                  "Triangle Number": 59856,
                  "Intersection Time": 666540,
                  "Union Time": 1146621,
                  "Difference Time": 885567,
                  "BinCSG Mean Time": 899576,
                  "_deepnote_index_column": 167
                },
                {
                  "Triangle Number": 60200,
                  "Intersection Time": 670918,
                  "Union Time": 1230269,
                  "Difference Time": 889066,
                  "BinCSG Mean Time": 930084.3333333334,
                  "_deepnote_index_column": 168
                },
                {
                  "Triangle Number": 61248,
                  "Intersection Time": 680854,
                  "Union Time": 1255006,
                  "Difference Time": 906968,
                  "BinCSG Mean Time": 947609.3333333334,
                  "_deepnote_index_column": 169
                },
                {
                  "Triangle Number": 61596,
                  "Intersection Time": 681864,
                  "Union Time": 1252952,
                  "Difference Time": 911773,
                  "BinCSG Mean Time": 948863,
                  "_deepnote_index_column": 170
                },
                {
                  "Triangle Number": 62656,
                  "Intersection Time": 682301,
                  "Union Time": 1280996,
                  "Difference Time": 926370,
                  "BinCSG Mean Time": 963222.3333333334,
                  "_deepnote_index_column": 171
                },
                {
                  "Triangle Number": 63008,
                  "Intersection Time": 699618,
                  "Union Time": 1296039,
                  "Difference Time": 931468,
                  "BinCSG Mean Time": 975708.3333333334,
                  "_deepnote_index_column": 172
                },
                {
                  "Triangle Number": 64080,
                  "Intersection Time": 725108,
                  "Union Time": 1324633,
                  "Difference Time": 951972,
                  "BinCSG Mean Time": 1000571,
                  "_deepnote_index_column": 173
                },
                {
                  "Triangle Number": 64436,
                  "Intersection Time": 751480,
                  "Union Time": 1342807,
                  "Difference Time": 951407,
                  "BinCSG Mean Time": 1015231.3333333334,
                  "_deepnote_index_column": 174
                },
                {
                  "Triangle Number": 65520,
                  "Intersection Time": 780784,
                  "Union Time": 1383402,
                  "Difference Time": 966489,
                  "BinCSG Mean Time": 1043558.3333333334,
                  "_deepnote_index_column": 175
                },
                {
                  "Triangle Number": 65880,
                  "Intersection Time": 787329,
                  "Union Time": 1375862,
                  "Difference Time": 972788,
                  "BinCSG Mean Time": 1045326.3333333334,
                  "_deepnote_index_column": 176
                },
                {
                  "Triangle Number": 66976,
                  "Intersection Time": 2068738,
                  "Union Time": 1397750,
                  "Difference Time": 989510,
                  "BinCSG Mean Time": 1485332.6666666667,
                  "_deepnote_index_column": 177
                },
                {
                  "Triangle Number": 67340,
                  "Intersection Time": 723880,
                  "Union Time": 1421838,
                  "Difference Time": 993280,
                  "BinCSG Mean Time": 1046332.6666666666,
                  "_deepnote_index_column": 178
                },
                {
                  "Triangle Number": 68448,
                  "Intersection Time": 781474,
                  "Union Time": 1433212,
                  "Difference Time": 1009183,
                  "BinCSG Mean Time": 1074623,
                  "_deepnote_index_column": 179
                },
                {
                  "Triangle Number": 68816,
                  "Intersection Time": 817824,
                  "Union Time": 1428781,
                  "Difference Time": 1014511,
                  "BinCSG Mean Time": 1087038.6666666667,
                  "_deepnote_index_column": 180
                },
                {
                  "Triangle Number": 69936,
                  "Intersection Time": 855450,
                  "Union Time": 1408353,
                  "Difference Time": 1034895,
                  "BinCSG Mean Time": 1099566,
                  "_deepnote_index_column": 181
                },
                {
                  "Triangle Number": 70308,
                  "Intersection Time": 862763,
                  "Union Time": 1361131,
                  "Difference Time": 1036940,
                  "BinCSG Mean Time": 1086944.6666666667,
                  "_deepnote_index_column": 182
                },
                {
                  "Triangle Number": 71440,
                  "Intersection Time": 867725,
                  "Union Time": 1378267,
                  "Difference Time": 1053395,
                  "BinCSG Mean Time": 1099795.6666666667,
                  "_deepnote_index_column": 183
                },
                {
                  "Triangle Number": 71816,
                  "Intersection Time": 861474,
                  "Union Time": 1349678,
                  "Difference Time": 1062541,
                  "BinCSG Mean Time": 1091231,
                  "_deepnote_index_column": 184
                },
                {
                  "Triangle Number": 72960,
                  "Intersection Time": 888867,
                  "Union Time": 1361247,
                  "Difference Time": 1078602,
                  "BinCSG Mean Time": 1109572,
                  "_deepnote_index_column": 185
                },
                {
                  "Triangle Number": 73340,
                  "Intersection Time": 889654,
                  "Union Time": 1396863,
                  "Difference Time": 1085181,
                  "BinCSG Mean Time": 1123899.3333333333,
                  "_deepnote_index_column": 186
                },
                {
                  "Triangle Number": 74496,
                  "Intersection Time": 901365,
                  "Union Time": 1413530,
                  "Difference Time": 1097122,
                  "BinCSG Mean Time": 1137339,
                  "_deepnote_index_column": 187
                },
                {
                  "Triangle Number": 74880,
                  "Intersection Time": 904139,
                  "Union Time": 1396417,
                  "Difference Time": 1106271,
                  "BinCSG Mean Time": 1135609,
                  "_deepnote_index_column": 188
                },
                {
                  "Triangle Number": 76048,
                  "Intersection Time": 921666,
                  "Union Time": 1408748,
                  "Difference Time": 1146127,
                  "BinCSG Mean Time": 1158847,
                  "_deepnote_index_column": 189
                },
                {
                  "Triangle Number": 76436,
                  "Intersection Time": 913783,
                  "Union Time": 1441569,
                  "Difference Time": 1292532,
                  "BinCSG Mean Time": 1215961.3333333333,
                  "_deepnote_index_column": 190
                },
                {
                  "Triangle Number": 77616,
                  "Intersection Time": 931422,
                  "Union Time": 1496271,
                  "Difference Time": 1151519,
                  "BinCSG Mean Time": 1193070.6666666667,
                  "_deepnote_index_column": 191
                },
                {
                  "Triangle Number": 78008,
                  "Intersection Time": 927781,
                  "Union Time": 1519990,
                  "Difference Time": 1284469,
                  "BinCSG Mean Time": 1244080,
                  "_deepnote_index_column": 192
                },
                {
                  "Triangle Number": 79200,
                  "Intersection Time": 941104,
                  "Union Time": 1541728,
                  "Difference Time": 1231117,
                  "BinCSG Mean Time": 1237983,
                  "_deepnote_index_column": 193
                },
                {
                  "Triangle Number": 79596,
                  "Intersection Time": 912189,
                  "Union Time": 1549889,
                  "Difference Time": 1145179,
                  "BinCSG Mean Time": 1202419,
                  "_deepnote_index_column": 194
                },
                {
                  "Triangle Number": 80800,
                  "Intersection Time": 927021,
                  "Union Time": 1662735,
                  "Difference Time": 1149373,
                  "BinCSG Mean Time": 1246376.3333333333,
                  "_deepnote_index_column": 195
                },
                {
                  "Triangle Number": 81200,
                  "Intersection Time": 939500,
                  "Union Time": 1622445,
                  "Difference Time": 1167704,
                  "BinCSG Mean Time": 1243216.3333333333,
                  "_deepnote_index_column": 196
                },
                {
                  "Triangle Number": 82416,
                  "Intersection Time": 967861,
                  "Union Time": 1593039,
                  "Difference Time": 1710673,
                  "BinCSG Mean Time": 1423857.6666666667,
                  "_deepnote_index_column": 197
                }
              ],
              "rows_bottom": null
            },
            "text/plain": "     Triangle Number  Intersection Time  Union Time  Difference Time  \\\n0                 56                787        1269             1208   \n1                 96               1410        2160             4186   \n2                108               1531        2332             3368   \n3                160               1909        3170             5206   \n4                176               2036        3380             3362   \n..               ...                ...         ...              ...   \n193            79200             941104     1541728          1231117   \n194            79596             912189     1549889          1145179   \n195            80800             927021     1662735          1149373   \n196            81200             939500     1622445          1167704   \n197            82416             967861     1593039          1710673   \n\n     BinCSG Mean Time  \n0        1.088000e+03  \n1        2.585333e+03  \n2        2.410333e+03  \n3        3.428333e+03  \n4        2.926000e+03  \n..                ...  \n193      1.237983e+06  \n194      1.202419e+06  \n195      1.246376e+06  \n196      1.243216e+06  \n197      1.423858e+06  \n\n[198 rows x 5 columns]",
            "text/html": "<div>\n<style scoped>\n    .dataframe tbody tr th:only-of-type {\n        vertical-align: middle;\n    }\n\n    .dataframe tbody tr th {\n        vertical-align: top;\n    }\n\n    .dataframe thead th {\n        text-align: right;\n    }\n</style>\n<table border=\"1\" class=\"dataframe\">\n  <thead>\n    <tr style=\"text-align: right;\">\n      <th></th>\n      <th>Triangle Number</th>\n      <th>Intersection Time</th>\n      <th>Union Time</th>\n      <th>Difference Time</th>\n      <th>BinCSG Mean Time</th>\n    </tr>\n  </thead>\n  <tbody>\n    <tr>\n      <th>0</th>\n      <td>56</td>\n      <td>787</td>\n      <td>1269</td>\n      <td>1208</td>\n      <td>1.088000e+03</td>\n    </tr>\n    <tr>\n      <th>1</th>\n      <td>96</td>\n      <td>1410</td>\n      <td>2160</td>\n      <td>4186</td>\n      <td>2.585333e+03</td>\n    </tr>\n    <tr>\n      <th>2</th>\n      <td>108</td>\n      <td>1531</td>\n      <td>2332</td>\n      <td>3368</td>\n      <td>2.410333e+03</td>\n    </tr>\n    <tr>\n      <th>3</th>\n      <td>160</td>\n      <td>1909</td>\n      <td>3170</td>\n      <td>5206</td>\n      <td>3.428333e+03</td>\n    </tr>\n    <tr>\n      <th>4</th>\n      <td>176</td>\n      <td>2036</td>\n      <td>3380</td>\n      <td>3362</td>\n      <td>2.926000e+03</td>\n    </tr>\n    <tr>\n      <th>...</th>\n      <td>...</td>\n      <td>...</td>\n      <td>...</td>\n      <td>...</td>\n      <td>...</td>\n    </tr>\n    <tr>\n      <th>193</th>\n      <td>79200</td>\n      <td>941104</td>\n      <td>1541728</td>\n      <td>1231117</td>\n      <td>1.237983e+06</td>\n    </tr>\n    <tr>\n      <th>194</th>\n      <td>79596</td>\n      <td>912189</td>\n      <td>1549889</td>\n      <td>1145179</td>\n      <td>1.202419e+06</td>\n    </tr>\n    <tr>\n      <th>195</th>\n      <td>80800</td>\n      <td>927021</td>\n      <td>1662735</td>\n      <td>1149373</td>\n      <td>1.246376e+06</td>\n    </tr>\n    <tr>\n      <th>196</th>\n      <td>81200</td>\n      <td>939500</td>\n      <td>1622445</td>\n      <td>1167704</td>\n      <td>1.243216e+06</td>\n    </tr>\n    <tr>\n      <th>197</th>\n      <td>82416</td>\n      <td>967861</td>\n      <td>1593039</td>\n      <td>1710673</td>\n      <td>1.423858e+06</td>\n    </tr>\n  </tbody>\n</table>\n<p>198 rows × 5 columns</p>\n</div>"
          },
          "metadata": {}
        }
      ]
    },
    {
      "cell_type": "code",
      "metadata": {
        "tags": [],
        "cell_id": "00011-d0102d07-e64a-4b80-b6a6-c46af69fc026",
        "deepnote_to_be_reexecuted": false,
        "source_hash": "737f75b5",
        "execution_millis": 194,
        "execution_start": 1616403021907,
        "deepnote_cell_type": "code"
      },
      "source": "df_bsp.plot(x ='Triangle Number', y=['Intersection Time', 'Union Time', 'Difference Time'], kind = 'line', lw=3)\nplt.show()",
      "execution_count": 9,
      "outputs": [
        {
          "data": {
            "text/plain": "<Figure size 432x288 with 1 Axes>",
            "image/png": "[encoded data removed]"
          },
          "metadata": {},
          "output_type": "display_data"
        }
      ]
    },
    {
      "cell_type": "markdown",
      "source": "### OptimCSG",
      "metadata": {
        "tags": [],
        "cell_id": "00013-d545ce71-25a3-4a3c-b544-c8a40d8b56b1",
        "deepnote_cell_type": "markdown"
      }
    },
    {
      "cell_type": "code",
      "metadata": {
        "tags": [],
        "cell_id": "00016-68aa4975-ce61-4a8b-ab98-7ec4b3877d0b",
        "deepnote_to_be_reexecuted": false,
        "source_hash": "2813f735",
        "execution_millis": 0,
        "execution_start": 1616403022141,
        "deepnote_cell_type": "code"
      },
      "source": "optim1 = pd.read_csv('n_primitives_tests/tests_bsp_optim_intersection.txt')\noptim2 = pd.read_csv('n_primitives_tests/tests_bsp_optim_union.txt')",
      "execution_count": 10,
      "outputs": []
    },
    {
      "cell_type": "code",
      "metadata": {
        "tags": [],
        "cell_id": "00017-a6e508c3-c5c8-401e-8f67-7bab5a4c4583",
        "deepnote_to_be_reexecuted": false,
        "source_hash": "82da7a29",
        "execution_millis": 0,
        "execution_start": 1616403022142,
        "deepnote_cell_type": "code"
      },
      "source": "df_optim = pd.concat([optim1, optim2], axis=1)\ndf_optim.columns = [\"Triangle Number\", \"Intersection Time\", \"tris2\", \"Union Time\"]\ndf_optim = df_optim.drop(columns=['tris2'])\ncol3 = df_optim.loc[: , \"Intersection Time\":\"Union Time\"]\ndf_optim['OptiCSG Mean Time'] = col3.mean(axis=1)",
      "execution_count": 11,
      "outputs": []
    },
    {
      "cell_type": "code",
      "metadata": {
        "tags": [],
        "cell_id": "00019-d58b3c83-e4bb-4283-b8bc-eb797393a5d5",
        "deepnote_to_be_reexecuted": false,
        "source_hash": "e1b6e5e0",
        "execution_millis": 18,
        "execution_start": 1616403022142,
        "deepnote_cell_type": "code"
      },
      "source": "df_optim",
      "execution_count": 12,
      "outputs": [
        {
          "output_type": "execute_result",
          "execution_count": 12,
          "data": {
            "application/vnd.deepnote.dataframe.v2+json": {
              "row_count": 198,
              "column_count": 4,
              "columns": [
                {
                  "name": "Triangle Number",
                  "dtype": "int64",
                  "stats": {
                    "unique_count": 198,
                    "nan_count": 0,
                    "min": 56,
                    "max": 82416,
                    "histogram": [
                      {
                        "bin_start": 56,
                        "bin_end": 8292,
                        "count": 59
                      },
                      {
                        "bin_start": 8292,
                        "bin_end": 16528,
                        "count": 26
                      },
                      {
                        "bin_start": 16528,
                        "bin_end": 24764,
                        "count": 21
                      },
                      {
                        "bin_start": 24764,
                        "bin_end": 33000,
                        "count": 17
                      },
                      {
                        "bin_start": 33000,
                        "bin_end": 41236,
                        "count": 16
                      },
                      {
                        "bin_start": 41236,
                        "bin_end": 49472,
                        "count": 13
                      },
                      {
                        "bin_start": 49472,
                        "bin_end": 57708,
                        "count": 13
                      },
                      {
                        "bin_start": 57708,
                        "bin_end": 65944,
                        "count": 12
                      },
                      {
                        "bin_start": 65944,
                        "bin_end": 74180,
                        "count": 10
                      },
                      {
                        "bin_start": 74180,
                        "bin_end": 82416,
                        "count": 11
                      }
                    ]
                  }
                },
                {
                  "name": "Intersection Time",
                  "dtype": "int64",
                  "stats": {
                    "unique_count": 163,
                    "nan_count": 0,
                    "min": 859,
                    "max": 3075,
                    "histogram": [
                      {
                        "bin_start": 859,
                        "bin_end": 1080.6,
                        "count": 7
                      },
                      {
                        "bin_start": 1080.6,
                        "bin_end": 1302.2,
                        "count": 65
                      },
                      {
                        "bin_start": 1302.2,
                        "bin_end": 1523.8,
                        "count": 98
                      },
                      {
                        "bin_start": 1523.8,
                        "bin_end": 1745.4,
                        "count": 18
                      },
                      {
                        "bin_start": 1745.4,
                        "bin_end": 1967,
                        "count": 1
                      },
                      {
                        "bin_start": 1967,
                        "bin_end": 2188.6,
                        "count": 4
                      },
                      {
                        "bin_start": 2188.6,
                        "bin_end": 2410.2,
                        "count": 4
                      },
                      {
                        "bin_start": 2410.2,
                        "bin_end": 2631.8,
                        "count": 0
                      },
                      {
                        "bin_start": 2631.8,
                        "bin_end": 2853.3999999999996,
                        "count": 0
                      },
                      {
                        "bin_start": 2853.3999999999996,
                        "bin_end": 3075,
                        "count": 1
                      }
                    ]
                  }
                },
                {
                  "name": "Union Time",
                  "dtype": "int64",
                  "stats": {
                    "unique_count": 161,
                    "nan_count": 0,
                    "min": 943,
                    "max": 2624,
                    "histogram": [
                      {
                        "bin_start": 943,
                        "bin_end": 1111.1,
                        "count": 2
                      },
                      {
                        "bin_start": 1111.1,
                        "bin_end": 1279.2,
                        "count": 3
                      },
                      {
                        "bin_start": 1279.2,
                        "bin_end": 1447.3,
                        "count": 24
                      },
                      {
                        "bin_start": 1447.3,
                        "bin_end": 1615.4,
                        "count": 96
                      },
                      {
                        "bin_start": 1615.4,
                        "bin_end": 1783.5,
                        "count": 58
                      },
                      {
                        "bin_start": 1783.5,
                        "bin_end": 1951.6,
                        "count": 12
                      },
                      {
                        "bin_start": 1951.6,
                        "bin_end": 2119.7,
                        "count": 0
                      },
                      {
                        "bin_start": 2119.7,
                        "bin_end": 2287.8,
                        "count": 2
                      },
                      {
                        "bin_start": 2287.8,
                        "bin_end": 2455.8999999999996,
                        "count": 0
                      },
                      {
                        "bin_start": 2455.8999999999996,
                        "bin_end": 2624,
                        "count": 1
                      }
                    ]
                  }
                },
                {
                  "name": "OptiCSG Mean Time",
                  "dtype": "float64",
                  "stats": {
                    "unique_count": 174,
                    "nan_count": 0,
                    "min": 966,
                    "max": 2328,
                    "histogram": [
                      {
                        "bin_start": 966,
                        "bin_end": 1102.2,
                        "count": 3
                      },
                      {
                        "bin_start": 1102.2,
                        "bin_end": 1238.4,
                        "count": 2
                      },
                      {
                        "bin_start": 1238.4,
                        "bin_end": 1374.6,
                        "count": 35
                      },
                      {
                        "bin_start": 1374.6,
                        "bin_end": 1510.8,
                        "count": 85
                      },
                      {
                        "bin_start": 1510.8,
                        "bin_end": 1647,
                        "count": 55
                      },
                      {
                        "bin_start": 1647,
                        "bin_end": 1783.1999999999998,
                        "count": 12
                      },
                      {
                        "bin_start": 1783.1999999999998,
                        "bin_end": 1919.3999999999999,
                        "count": 2
                      },
                      {
                        "bin_start": 1919.3999999999999,
                        "bin_end": 2055.6,
                        "count": 3
                      },
                      {
                        "bin_start": 2055.6,
                        "bin_end": 2191.8,
                        "count": 0
                      },
                      {
                        "bin_start": 2191.8,
                        "bin_end": 2328,
                        "count": 1
                      }
                    ]
                  }
                },
                {
                  "name": "_deepnote_index_column",
                  "dtype": "int64"
                }
              ],
              "rows_top": [
                {
                  "Triangle Number": 56,
                  "Intersection Time": 1005,
                  "Union Time": 943,
                  "OptiCSG Mean Time": 974,
                  "_deepnote_index_column": 0
                },
                {
                  "Triangle Number": 96,
                  "Intersection Time": 1065,
                  "Union Time": 1263,
                  "OptiCSG Mean Time": 1164,
                  "_deepnote_index_column": 1
                },
                {
                  "Triangle Number": 108,
                  "Intersection Time": 859,
                  "Union Time": 1073,
                  "OptiCSG Mean Time": 966,
                  "_deepnote_index_column": 2
                },
                {
                  "Triangle Number": 160,
                  "Intersection Time": 1019,
                  "Union Time": 1262,
                  "OptiCSG Mean Time": 1140.5,
                  "_deepnote_index_column": 3
                },
                {
                  "Triangle Number": 176,
                  "Intersection Time": 927,
                  "Union Time": 1175,
                  "OptiCSG Mean Time": 1051,
                  "_deepnote_index_column": 4
                },
                {
                  "Triangle Number": 240,
                  "Intersection Time": 1145,
                  "Union Time": 1564,
                  "OptiCSG Mean Time": 1354.5,
                  "_deepnote_index_column": 5
                },
                {
                  "Triangle Number": 260,
                  "Intersection Time": 1075,
                  "Union Time": 1589,
                  "OptiCSG Mean Time": 1332,
                  "_deepnote_index_column": 6
                },
                {
                  "Triangle Number": 336,
                  "Intersection Time": 1059,
                  "Union Time": 1583,
                  "OptiCSG Mean Time": 1321,
                  "_deepnote_index_column": 7
                },
                {
                  "Triangle Number": 360,
                  "Intersection Time": 1133,
                  "Union Time": 1626,
                  "OptiCSG Mean Time": 1379.5,
                  "_deepnote_index_column": 8
                },
                {
                  "Triangle Number": 448,
                  "Intersection Time": 1326,
                  "Union Time": 1614,
                  "OptiCSG Mean Time": 1470,
                  "_deepnote_index_column": 9
                },
                {
                  "Triangle Number": 476,
                  "Intersection Time": 1130,
                  "Union Time": 2269,
                  "OptiCSG Mean Time": 1699.5,
                  "_deepnote_index_column": 10
                },
                {
                  "Triangle Number": 576,
                  "Intersection Time": 1197,
                  "Union Time": 1738,
                  "OptiCSG Mean Time": 1467.5,
                  "_deepnote_index_column": 11
                },
                {
                  "Triangle Number": 608,
                  "Intersection Time": 1376,
                  "Union Time": 1326,
                  "OptiCSG Mean Time": 1351,
                  "_deepnote_index_column": 12
                },
                {
                  "Triangle Number": 720,
                  "Intersection Time": 1404,
                  "Union Time": 2624,
                  "OptiCSG Mean Time": 2014,
                  "_deepnote_index_column": 13
                },
                {
                  "Triangle Number": 756,
                  "Intersection Time": 1328,
                  "Union Time": 1773,
                  "OptiCSG Mean Time": 1550.5,
                  "_deepnote_index_column": 14
                },
                {
                  "Triangle Number": 880,
                  "Intersection Time": 1545,
                  "Union Time": 1737,
                  "OptiCSG Mean Time": 1641,
                  "_deepnote_index_column": 15
                },
                {
                  "Triangle Number": 920,
                  "Intersection Time": 1385,
                  "Union Time": 1467,
                  "OptiCSG Mean Time": 1426,
                  "_deepnote_index_column": 16
                },
                {
                  "Triangle Number": 1056,
                  "Intersection Time": 1438,
                  "Union Time": 1469,
                  "OptiCSG Mean Time": 1453.5,
                  "_deepnote_index_column": 17
                },
                {
                  "Triangle Number": 1100,
                  "Intersection Time": 1252,
                  "Union Time": 1384,
                  "OptiCSG Mean Time": 1318,
                  "_deepnote_index_column": 18
                },
                {
                  "Triangle Number": 1248,
                  "Intersection Time": 1308,
                  "Union Time": 1475,
                  "OptiCSG Mean Time": 1391.5,
                  "_deepnote_index_column": 19
                },
                {
                  "Triangle Number": 1296,
                  "Intersection Time": 1223,
                  "Union Time": 1646,
                  "OptiCSG Mean Time": 1434.5,
                  "_deepnote_index_column": 20
                },
                {
                  "Triangle Number": 1456,
                  "Intersection Time": 1161,
                  "Union Time": 1538,
                  "OptiCSG Mean Time": 1349.5,
                  "_deepnote_index_column": 21
                },
                {
                  "Triangle Number": 1508,
                  "Intersection Time": 1254,
                  "Union Time": 1861,
                  "OptiCSG Mean Time": 1557.5,
                  "_deepnote_index_column": 22
                },
                {
                  "Triangle Number": 1680,
                  "Intersection Time": 1237,
                  "Union Time": 2133,
                  "OptiCSG Mean Time": 1685,
                  "_deepnote_index_column": 23
                },
                {
                  "Triangle Number": 1736,
                  "Intersection Time": 1216,
                  "Union Time": 1512,
                  "OptiCSG Mean Time": 1364,
                  "_deepnote_index_column": 24
                },
                {
                  "Triangle Number": 1920,
                  "Intersection Time": 1104,
                  "Union Time": 1502,
                  "OptiCSG Mean Time": 1303,
                  "_deepnote_index_column": 25
                },
                {
                  "Triangle Number": 1980,
                  "Intersection Time": 1195,
                  "Union Time": 1369,
                  "OptiCSG Mean Time": 1282,
                  "_deepnote_index_column": 26
                },
                {
                  "Triangle Number": 2176,
                  "Intersection Time": 1315,
                  "Union Time": 1374,
                  "OptiCSG Mean Time": 1344.5,
                  "_deepnote_index_column": 27
                },
                {
                  "Triangle Number": 2240,
                  "Intersection Time": 1204,
                  "Union Time": 1367,
                  "OptiCSG Mean Time": 1285.5,
                  "_deepnote_index_column": 28
                },
                {
                  "Triangle Number": 2448,
                  "Intersection Time": 1182,
                  "Union Time": 1569,
                  "OptiCSG Mean Time": 1375.5,
                  "_deepnote_index_column": 29
                },
                {
                  "Triangle Number": 2516,
                  "Intersection Time": 1246,
                  "Union Time": 1443,
                  "OptiCSG Mean Time": 1344.5,
                  "_deepnote_index_column": 30
                },
                {
                  "Triangle Number": 2736,
                  "Intersection Time": 1359,
                  "Union Time": 1443,
                  "OptiCSG Mean Time": 1401,
                  "_deepnote_index_column": 31
                },
                {
                  "Triangle Number": 2808,
                  "Intersection Time": 1192,
                  "Union Time": 1391,
                  "OptiCSG Mean Time": 1291.5,
                  "_deepnote_index_column": 32
                },
                {
                  "Triangle Number": 3040,
                  "Intersection Time": 1192,
                  "Union Time": 1394,
                  "OptiCSG Mean Time": 1293,
                  "_deepnote_index_column": 33
                },
                {
                  "Triangle Number": 3116,
                  "Intersection Time": 1348,
                  "Union Time": 1444,
                  "OptiCSG Mean Time": 1396,
                  "_deepnote_index_column": 34
                },
                {
                  "Triangle Number": 3360,
                  "Intersection Time": 1270,
                  "Union Time": 1500,
                  "OptiCSG Mean Time": 1385,
                  "_deepnote_index_column": 35
                },
                {
                  "Triangle Number": 3440,
                  "Intersection Time": 1189,
                  "Union Time": 1579,
                  "OptiCSG Mean Time": 1384,
                  "_deepnote_index_column": 36
                },
                {
                  "Triangle Number": 3696,
                  "Intersection Time": 1218,
                  "Union Time": 1433,
                  "OptiCSG Mean Time": 1325.5,
                  "_deepnote_index_column": 37
                },
                {
                  "Triangle Number": 3780,
                  "Intersection Time": 1253,
                  "Union Time": 1498,
                  "OptiCSG Mean Time": 1375.5,
                  "_deepnote_index_column": 38
                },
                {
                  "Triangle Number": 4048,
                  "Intersection Time": 1250,
                  "Union Time": 1669,
                  "OptiCSG Mean Time": 1459.5,
                  "_deepnote_index_column": 39
                },
                {
                  "Triangle Number": 4136,
                  "Intersection Time": 1212,
                  "Union Time": 1448,
                  "OptiCSG Mean Time": 1330,
                  "_deepnote_index_column": 40
                },
                {
                  "Triangle Number": 4416,
                  "Intersection Time": 1163,
                  "Union Time": 1392,
                  "OptiCSG Mean Time": 1277.5,
                  "_deepnote_index_column": 41
                },
                {
                  "Triangle Number": 4508,
                  "Intersection Time": 1180,
                  "Union Time": 1520,
                  "OptiCSG Mean Time": 1350,
                  "_deepnote_index_column": 42
                },
                {
                  "Triangle Number": 4800,
                  "Intersection Time": 1375,
                  "Union Time": 1482,
                  "OptiCSG Mean Time": 1428.5,
                  "_deepnote_index_column": 43
                },
                {
                  "Triangle Number": 4896,
                  "Intersection Time": 1228,
                  "Union Time": 1449,
                  "OptiCSG Mean Time": 1338.5,
                  "_deepnote_index_column": 44
                },
                {
                  "Triangle Number": 5200,
                  "Intersection Time": 1193,
                  "Union Time": 1431,
                  "OptiCSG Mean Time": 1312,
                  "_deepnote_index_column": 45
                },
                {
                  "Triangle Number": 5300,
                  "Intersection Time": 1280,
                  "Union Time": 1505,
                  "OptiCSG Mean Time": 1392.5,
                  "_deepnote_index_column": 46
                },
                {
                  "Triangle Number": 5616,
                  "Intersection Time": 1218,
                  "Union Time": 1470,
                  "OptiCSG Mean Time": 1344,
                  "_deepnote_index_column": 47
                },
                {
                  "Triangle Number": 5720,
                  "Intersection Time": 1203,
                  "Union Time": 1452,
                  "OptiCSG Mean Time": 1327.5,
                  "_deepnote_index_column": 48
                },
                {
                  "Triangle Number": 6048,
                  "Intersection Time": 1202,
                  "Union Time": 1423,
                  "OptiCSG Mean Time": 1312.5,
                  "_deepnote_index_column": 49
                },
                {
                  "Triangle Number": 6156,
                  "Intersection Time": 1223,
                  "Union Time": 1469,
                  "OptiCSG Mean Time": 1346,
                  "_deepnote_index_column": 50
                },
                {
                  "Triangle Number": 6496,
                  "Intersection Time": 1243,
                  "Union Time": 1470,
                  "OptiCSG Mean Time": 1356.5,
                  "_deepnote_index_column": 51
                },
                {
                  "Triangle Number": 6608,
                  "Intersection Time": 1201,
                  "Union Time": 1446,
                  "OptiCSG Mean Time": 1323.5,
                  "_deepnote_index_column": 52
                },
                {
                  "Triangle Number": 6960,
                  "Intersection Time": 1590,
                  "Union Time": 1374,
                  "OptiCSG Mean Time": 1482,
                  "_deepnote_index_column": 53
                },
                {
                  "Triangle Number": 7076,
                  "Intersection Time": 1250,
                  "Union Time": 1446,
                  "OptiCSG Mean Time": 1348,
                  "_deepnote_index_column": 54
                },
                {
                  "Triangle Number": 7440,
                  "Intersection Time": 1285,
                  "Union Time": 1518,
                  "OptiCSG Mean Time": 1401.5,
                  "_deepnote_index_column": 55
                },
                {
                  "Triangle Number": 7560,
                  "Intersection Time": 1264,
                  "Union Time": 1503,
                  "OptiCSG Mean Time": 1383.5,
                  "_deepnote_index_column": 56
                },
                {
                  "Triangle Number": 7936,
                  "Intersection Time": 1170,
                  "Union Time": 1348,
                  "OptiCSG Mean Time": 1259,
                  "_deepnote_index_column": 57
                },
                {
                  "Triangle Number": 8060,
                  "Intersection Time": 1318,
                  "Union Time": 1450,
                  "OptiCSG Mean Time": 1384,
                  "_deepnote_index_column": 58
                },
                {
                  "Triangle Number": 8448,
                  "Intersection Time": 1258,
                  "Union Time": 1493,
                  "OptiCSG Mean Time": 1375.5,
                  "_deepnote_index_column": 59
                },
                {
                  "Triangle Number": 8576,
                  "Intersection Time": 1235,
                  "Union Time": 1480,
                  "OptiCSG Mean Time": 1357.5,
                  "_deepnote_index_column": 60
                },
                {
                  "Triangle Number": 8976,
                  "Intersection Time": 1145,
                  "Union Time": 1346,
                  "OptiCSG Mean Time": 1245.5,
                  "_deepnote_index_column": 61
                },
                {
                  "Triangle Number": 9108,
                  "Intersection Time": 1204,
                  "Union Time": 1438,
                  "OptiCSG Mean Time": 1321,
                  "_deepnote_index_column": 62
                },
                {
                  "Triangle Number": 9520,
                  "Intersection Time": 1618,
                  "Union Time": 1657,
                  "OptiCSG Mean Time": 1637.5,
                  "_deepnote_index_column": 63
                },
                {
                  "Triangle Number": 9656,
                  "Intersection Time": 1977,
                  "Union Time": 1521,
                  "OptiCSG Mean Time": 1749,
                  "_deepnote_index_column": 64
                },
                {
                  "Triangle Number": 10080,
                  "Intersection Time": 1670,
                  "Union Time": 1448,
                  "OptiCSG Mean Time": 1559,
                  "_deepnote_index_column": 65
                },
                {
                  "Triangle Number": 10220,
                  "Intersection Time": 2266,
                  "Union Time": 1710,
                  "OptiCSG Mean Time": 1988,
                  "_deepnote_index_column": 66
                },
                {
                  "Triangle Number": 10656,
                  "Intersection Time": 2389,
                  "Union Time": 1518,
                  "OptiCSG Mean Time": 1953.5,
                  "_deepnote_index_column": 67
                },
                {
                  "Triangle Number": 10800,
                  "Intersection Time": 1621,
                  "Union Time": 1505,
                  "OptiCSG Mean Time": 1563,
                  "_deepnote_index_column": 68
                },
                {
                  "Triangle Number": 11248,
                  "Intersection Time": 1384,
                  "Union Time": 1391,
                  "OptiCSG Mean Time": 1387.5,
                  "_deepnote_index_column": 69
                },
                {
                  "Triangle Number": 11396,
                  "Intersection Time": 2288,
                  "Union Time": 1484,
                  "OptiCSG Mean Time": 1886,
                  "_deepnote_index_column": 70
                },
                {
                  "Triangle Number": 11856,
                  "Intersection Time": 3075,
                  "Union Time": 1581,
                  "OptiCSG Mean Time": 2328,
                  "_deepnote_index_column": 71
                },
                {
                  "Triangle Number": 12008,
                  "Intersection Time": 2285,
                  "Union Time": 1538,
                  "OptiCSG Mean Time": 1911.5,
                  "_deepnote_index_column": 72
                },
                {
                  "Triangle Number": 12480,
                  "Intersection Time": 2012,
                  "Union Time": 1452,
                  "OptiCSG Mean Time": 1732,
                  "_deepnote_index_column": 73
                },
                {
                  "Triangle Number": 12636,
                  "Intersection Time": 1252,
                  "Union Time": 1684,
                  "OptiCSG Mean Time": 1468,
                  "_deepnote_index_column": 74
                },
                {
                  "Triangle Number": 13120,
                  "Intersection Time": 2026,
                  "Union Time": 1499,
                  "OptiCSG Mean Time": 1762.5,
                  "_deepnote_index_column": 75
                },
                {
                  "Triangle Number": 13280,
                  "Intersection Time": 1624,
                  "Union Time": 1485,
                  "OptiCSG Mean Time": 1554.5,
                  "_deepnote_index_column": 76
                },
                {
                  "Triangle Number": 13776,
                  "Intersection Time": 1291,
                  "Union Time": 1445,
                  "OptiCSG Mean Time": 1368,
                  "_deepnote_index_column": 77
                },
                {
                  "Triangle Number": 13940,
                  "Intersection Time": 1432,
                  "Union Time": 1535,
                  "OptiCSG Mean Time": 1483.5,
                  "_deepnote_index_column": 78
                },
                {
                  "Triangle Number": 14448,
                  "Intersection Time": 1374,
                  "Union Time": 1748,
                  "OptiCSG Mean Time": 1561,
                  "_deepnote_index_column": 79
                },
                {
                  "Triangle Number": 14616,
                  "Intersection Time": 1303,
                  "Union Time": 1529,
                  "OptiCSG Mean Time": 1416,
                  "_deepnote_index_column": 80
                },
                {
                  "Triangle Number": 15136,
                  "Intersection Time": 1219,
                  "Union Time": 1436,
                  "OptiCSG Mean Time": 1327.5,
                  "_deepnote_index_column": 81
                },
                {
                  "Triangle Number": 15308,
                  "Intersection Time": 1512,
                  "Union Time": 1511,
                  "OptiCSG Mean Time": 1511.5,
                  "_deepnote_index_column": 82
                },
                {
                  "Triangle Number": 15840,
                  "Intersection Time": 1300,
                  "Union Time": 1574,
                  "OptiCSG Mean Time": 1437,
                  "_deepnote_index_column": 83
                },
                {
                  "Triangle Number": 16016,
                  "Intersection Time": 1288,
                  "Union Time": 1705,
                  "OptiCSG Mean Time": 1496.5,
                  "_deepnote_index_column": 84
                },
                {
                  "Triangle Number": 16560,
                  "Intersection Time": 1248,
                  "Union Time": 1517,
                  "OptiCSG Mean Time": 1382.5,
                  "_deepnote_index_column": 85
                },
                {
                  "Triangle Number": 16740,
                  "Intersection Time": 1318,
                  "Union Time": 1539,
                  "OptiCSG Mean Time": 1428.5,
                  "_deepnote_index_column": 86
                },
                {
                  "Triangle Number": 17296,
                  "Intersection Time": 1349,
                  "Union Time": 1517,
                  "OptiCSG Mean Time": 1433,
                  "_deepnote_index_column": 87
                },
                {
                  "Triangle Number": 17480,
                  "Intersection Time": 1253,
                  "Union Time": 1515,
                  "OptiCSG Mean Time": 1384,
                  "_deepnote_index_column": 88
                },
                {
                  "Triangle Number": 18048,
                  "Intersection Time": 1229,
                  "Union Time": 1652,
                  "OptiCSG Mean Time": 1440.5,
                  "_deepnote_index_column": 89
                },
                {
                  "Triangle Number": 18236,
                  "Intersection Time": 1314,
                  "Union Time": 1509,
                  "OptiCSG Mean Time": 1411.5,
                  "_deepnote_index_column": 90
                },
                {
                  "Triangle Number": 18816,
                  "Intersection Time": 1366,
                  "Union Time": 1590,
                  "OptiCSG Mean Time": 1478,
                  "_deepnote_index_column": 91
                },
                {
                  "Triangle Number": 19008,
                  "Intersection Time": 1314,
                  "Union Time": 1560,
                  "OptiCSG Mean Time": 1437,
                  "_deepnote_index_column": 92
                },
                {
                  "Triangle Number": 19600,
                  "Intersection Time": 1277,
                  "Union Time": 1507,
                  "OptiCSG Mean Time": 1392,
                  "_deepnote_index_column": 93
                },
                {
                  "Triangle Number": 19796,
                  "Intersection Time": 1306,
                  "Union Time": 1547,
                  "OptiCSG Mean Time": 1426.5,
                  "_deepnote_index_column": 94
                },
                {
                  "Triangle Number": 20400,
                  "Intersection Time": 1311,
                  "Union Time": 1544,
                  "OptiCSG Mean Time": 1427.5,
                  "_deepnote_index_column": 95
                },
                {
                  "Triangle Number": 20600,
                  "Intersection Time": 1317,
                  "Union Time": 1721,
                  "OptiCSG Mean Time": 1519,
                  "_deepnote_index_column": 96
                },
                {
                  "Triangle Number": 21216,
                  "Intersection Time": 1415,
                  "Union Time": 1475,
                  "OptiCSG Mean Time": 1445,
                  "_deepnote_index_column": 97
                },
                {
                  "Triangle Number": 21420,
                  "Intersection Time": 1288,
                  "Union Time": 1533,
                  "OptiCSG Mean Time": 1410.5,
                  "_deepnote_index_column": 98
                },
                {
                  "Triangle Number": 22048,
                  "Intersection Time": 1292,
                  "Union Time": 1532,
                  "OptiCSG Mean Time": 1412,
                  "_deepnote_index_column": 99
                },
                {
                  "Triangle Number": 22256,
                  "Intersection Time": 1273,
                  "Union Time": 1539,
                  "OptiCSG Mean Time": 1406,
                  "_deepnote_index_column": 100
                },
                {
                  "Triangle Number": 22896,
                  "Intersection Time": 1251,
                  "Union Time": 1459,
                  "OptiCSG Mean Time": 1355,
                  "_deepnote_index_column": 101
                },
                {
                  "Triangle Number": 23108,
                  "Intersection Time": 1405,
                  "Union Time": 1511,
                  "OptiCSG Mean Time": 1458,
                  "_deepnote_index_column": 102
                },
                {
                  "Triangle Number": 23760,
                  "Intersection Time": 1327,
                  "Union Time": 1702,
                  "OptiCSG Mean Time": 1514.5,
                  "_deepnote_index_column": 103
                },
                {
                  "Triangle Number": 23976,
                  "Intersection Time": 1316,
                  "Union Time": 1644,
                  "OptiCSG Mean Time": 1480,
                  "_deepnote_index_column": 104
                },
                {
                  "Triangle Number": 24640,
                  "Intersection Time": 1282,
                  "Union Time": 1490,
                  "OptiCSG Mean Time": 1386,
                  "_deepnote_index_column": 105
                },
                {
                  "Triangle Number": 24860,
                  "Intersection Time": 1314,
                  "Union Time": 1568,
                  "OptiCSG Mean Time": 1441,
                  "_deepnote_index_column": 106
                },
                {
                  "Triangle Number": 25536,
                  "Intersection Time": 1434,
                  "Union Time": 1575,
                  "OptiCSG Mean Time": 1504.5,
                  "_deepnote_index_column": 107
                },
                {
                  "Triangle Number": 25760,
                  "Intersection Time": 1314,
                  "Union Time": 1559,
                  "OptiCSG Mean Time": 1436.5,
                  "_deepnote_index_column": 108
                },
                {
                  "Triangle Number": 26448,
                  "Intersection Time": 1313,
                  "Union Time": 1508,
                  "OptiCSG Mean Time": 1410.5,
                  "_deepnote_index_column": 109
                },
                {
                  "Triangle Number": 26676,
                  "Intersection Time": 1316,
                  "Union Time": 1601,
                  "OptiCSG Mean Time": 1458.5,
                  "_deepnote_index_column": 110
                },
                {
                  "Triangle Number": 27376,
                  "Intersection Time": 1337,
                  "Union Time": 1720,
                  "OptiCSG Mean Time": 1528.5,
                  "_deepnote_index_column": 111
                },
                {
                  "Triangle Number": 27608,
                  "Intersection Time": 1291,
                  "Union Time": 1761,
                  "OptiCSG Mean Time": 1526,
                  "_deepnote_index_column": 112
                },
                {
                  "Triangle Number": 28320,
                  "Intersection Time": 1291,
                  "Union Time": 1527,
                  "OptiCSG Mean Time": 1409,
                  "_deepnote_index_column": 113
                },
                {
                  "Triangle Number": 28556,
                  "Intersection Time": 1451,
                  "Union Time": 1654,
                  "OptiCSG Mean Time": 1552.5,
                  "_deepnote_index_column": 114
                },
                {
                  "Triangle Number": 29280,
                  "Intersection Time": 1434,
                  "Union Time": 1598,
                  "OptiCSG Mean Time": 1516,
                  "_deepnote_index_column": 115
                },
                {
                  "Triangle Number": 29520,
                  "Intersection Time": 1564,
                  "Union Time": 1575,
                  "OptiCSG Mean Time": 1569.5,
                  "_deepnote_index_column": 116
                },
                {
                  "Triangle Number": 30256,
                  "Intersection Time": 1305,
                  "Union Time": 1480,
                  "OptiCSG Mean Time": 1392.5,
                  "_deepnote_index_column": 117
                },
                {
                  "Triangle Number": 30500,
                  "Intersection Time": 1329,
                  "Union Time": 1554,
                  "OptiCSG Mean Time": 1441.5,
                  "_deepnote_index_column": 118
                },
                {
                  "Triangle Number": 31248,
                  "Intersection Time": 1358,
                  "Union Time": 1596,
                  "OptiCSG Mean Time": 1477,
                  "_deepnote_index_column": 119
                },
                {
                  "Triangle Number": 31496,
                  "Intersection Time": 1329,
                  "Union Time": 1604,
                  "OptiCSG Mean Time": 1466.5,
                  "_deepnote_index_column": 120
                },
                {
                  "Triangle Number": 32256,
                  "Intersection Time": 1227,
                  "Union Time": 1432,
                  "OptiCSG Mean Time": 1329.5,
                  "_deepnote_index_column": 121
                },
                {
                  "Triangle Number": 32508,
                  "Intersection Time": 1294,
                  "Union Time": 1535,
                  "OptiCSG Mean Time": 1414.5,
                  "_deepnote_index_column": 122
                },
                {
                  "Triangle Number": 33280,
                  "Intersection Time": 1387,
                  "Union Time": 1614,
                  "OptiCSG Mean Time": 1500.5,
                  "_deepnote_index_column": 123
                },
                {
                  "Triangle Number": 33536,
                  "Intersection Time": 1368,
                  "Union Time": 1582,
                  "OptiCSG Mean Time": 1475,
                  "_deepnote_index_column": 124
                },
                {
                  "Triangle Number": 34320,
                  "Intersection Time": 1419,
                  "Union Time": 1570,
                  "OptiCSG Mean Time": 1494.5,
                  "_deepnote_index_column": 125
                },
                {
                  "Triangle Number": 34580,
                  "Intersection Time": 1331,
                  "Union Time": 1565,
                  "OptiCSG Mean Time": 1448,
                  "_deepnote_index_column": 126
                },
                {
                  "Triangle Number": 35376,
                  "Intersection Time": 1541,
                  "Union Time": 1785,
                  "OptiCSG Mean Time": 1663,
                  "_deepnote_index_column": 127
                },
                {
                  "Triangle Number": 35640,
                  "Intersection Time": 1318,
                  "Union Time": 1555,
                  "OptiCSG Mean Time": 1436.5,
                  "_deepnote_index_column": 128
                },
                {
                  "Triangle Number": 36448,
                  "Intersection Time": 1249,
                  "Union Time": 1663,
                  "OptiCSG Mean Time": 1456,
                  "_deepnote_index_column": 129
                },
                {
                  "Triangle Number": 36716,
                  "Intersection Time": 1303,
                  "Union Time": 1552,
                  "OptiCSG Mean Time": 1427.5,
                  "_deepnote_index_column": 130
                },
                {
                  "Triangle Number": 37536,
                  "Intersection Time": 1402,
                  "Union Time": 1809,
                  "OptiCSG Mean Time": 1605.5,
                  "_deepnote_index_column": 131
                },
                {
                  "Triangle Number": 37808,
                  "Intersection Time": 1351,
                  "Union Time": 1616,
                  "OptiCSG Mean Time": 1483.5,
                  "_deepnote_index_column": 132
                },
                {
                  "Triangle Number": 38640,
                  "Intersection Time": 1301,
                  "Union Time": 1747,
                  "OptiCSG Mean Time": 1524,
                  "_deepnote_index_column": 133
                },
                {
                  "Triangle Number": 38916,
                  "Intersection Time": 1357,
                  "Union Time": 1607,
                  "OptiCSG Mean Time": 1482,
                  "_deepnote_index_column": 134
                },
                {
                  "Triangle Number": 39760,
                  "Intersection Time": 1369,
                  "Union Time": 1814,
                  "OptiCSG Mean Time": 1591.5,
                  "_deepnote_index_column": 135
                },
                {
                  "Triangle Number": 40040,
                  "Intersection Time": 1399,
                  "Union Time": 1586,
                  "OptiCSG Mean Time": 1492.5,
                  "_deepnote_index_column": 136
                },
                {
                  "Triangle Number": 40896,
                  "Intersection Time": 1329,
                  "Union Time": 1691,
                  "OptiCSG Mean Time": 1510,
                  "_deepnote_index_column": 137
                },
                {
                  "Triangle Number": 41180,
                  "Intersection Time": 1996,
                  "Union Time": 1568,
                  "OptiCSG Mean Time": 1782,
                  "_deepnote_index_column": 138
                },
                {
                  "Triangle Number": 42048,
                  "Intersection Time": 1402,
                  "Union Time": 1847,
                  "OptiCSG Mean Time": 1624.5,
                  "_deepnote_index_column": 139
                },
                {
                  "Triangle Number": 42336,
                  "Intersection Time": 1355,
                  "Union Time": 1616,
                  "OptiCSG Mean Time": 1485.5,
                  "_deepnote_index_column": 140
                },
                {
                  "Triangle Number": 43216,
                  "Intersection Time": 1283,
                  "Union Time": 1562,
                  "OptiCSG Mean Time": 1422.5,
                  "_deepnote_index_column": 141
                },
                {
                  "Triangle Number": 43508,
                  "Intersection Time": 1322,
                  "Union Time": 1599,
                  "OptiCSG Mean Time": 1460.5,
                  "_deepnote_index_column": 142
                },
                {
                  "Triangle Number": 44400,
                  "Intersection Time": 1378,
                  "Union Time": 1621,
                  "OptiCSG Mean Time": 1499.5,
                  "_deepnote_index_column": 143
                },
                {
                  "Triangle Number": 44696,
                  "Intersection Time": 1340,
                  "Union Time": 1640,
                  "OptiCSG Mean Time": 1490,
                  "_deepnote_index_column": 144
                },
                {
                  "Triangle Number": 45600,
                  "Intersection Time": 1272,
                  "Union Time": 1504,
                  "OptiCSG Mean Time": 1388,
                  "_deepnote_index_column": 145
                },
                {
                  "Triangle Number": 45900,
                  "Intersection Time": 1339,
                  "Union Time": 1612,
                  "OptiCSG Mean Time": 1475.5,
                  "_deepnote_index_column": 146
                },
                {
                  "Triangle Number": 46816,
                  "Intersection Time": 1395,
                  "Union Time": 1645,
                  "OptiCSG Mean Time": 1520,
                  "_deepnote_index_column": 147
                },
                {
                  "Triangle Number": 47120,
                  "Intersection Time": 1392,
                  "Union Time": 1639,
                  "OptiCSG Mean Time": 1515.5,
                  "_deepnote_index_column": 148
                },
                {
                  "Triangle Number": 48048,
                  "Intersection Time": 1401,
                  "Union Time": 1598,
                  "OptiCSG Mean Time": 1499.5,
                  "_deepnote_index_column": 149
                },
                {
                  "Triangle Number": 48356,
                  "Intersection Time": 1424,
                  "Union Time": 1644,
                  "OptiCSG Mean Time": 1534,
                  "_deepnote_index_column": 150
                },
                {
                  "Triangle Number": 49296,
                  "Intersection Time": 1873,
                  "Union Time": 1647,
                  "OptiCSG Mean Time": 1760,
                  "_deepnote_index_column": 151
                },
                {
                  "Triangle Number": 49608,
                  "Intersection Time": 1602,
                  "Union Time": 1618,
                  "OptiCSG Mean Time": 1610,
                  "_deepnote_index_column": 152
                },
                {
                  "Triangle Number": 50560,
                  "Intersection Time": 1684,
                  "Union Time": 1514,
                  "OptiCSG Mean Time": 1599,
                  "_deepnote_index_column": 153
                },
                {
                  "Triangle Number": 50876,
                  "Intersection Time": 1375,
                  "Union Time": 1586,
                  "OptiCSG Mean Time": 1480.5,
                  "_deepnote_index_column": 154
                },
                {
                  "Triangle Number": 51840,
                  "Intersection Time": 1393,
                  "Union Time": 1653,
                  "OptiCSG Mean Time": 1523,
                  "_deepnote_index_column": 155
                },
                {
                  "Triangle Number": 52160,
                  "Intersection Time": 1380,
                  "Union Time": 1787,
                  "OptiCSG Mean Time": 1583.5,
                  "_deepnote_index_column": 156
                },
                {
                  "Triangle Number": 53136,
                  "Intersection Time": 1329,
                  "Union Time": 1568,
                  "OptiCSG Mean Time": 1448.5,
                  "_deepnote_index_column": 157
                },
                {
                  "Triangle Number": 53460,
                  "Intersection Time": 1506,
                  "Union Time": 1820,
                  "OptiCSG Mean Time": 1663,
                  "_deepnote_index_column": 158
                },
                {
                  "Triangle Number": 54448,
                  "Intersection Time": 1530,
                  "Union Time": 1608,
                  "OptiCSG Mean Time": 1569,
                  "_deepnote_index_column": 159
                },
                {
                  "Triangle Number": 54776,
                  "Intersection Time": 1575,
                  "Union Time": 1583,
                  "OptiCSG Mean Time": 1579,
                  "_deepnote_index_column": 160
                },
                {
                  "Triangle Number": 55776,
                  "Intersection Time": 1373,
                  "Union Time": 1641,
                  "OptiCSG Mean Time": 1507,
                  "_deepnote_index_column": 161
                },
                {
                  "Triangle Number": 56108,
                  "Intersection Time": 1567,
                  "Union Time": 1631,
                  "OptiCSG Mean Time": 1599,
                  "_deepnote_index_column": 162
                },
                {
                  "Triangle Number": 57120,
                  "Intersection Time": 1416,
                  "Union Time": 1659,
                  "OptiCSG Mean Time": 1537.5,
                  "_deepnote_index_column": 163
                },
                {
                  "Triangle Number": 57456,
                  "Intersection Time": 1547,
                  "Union Time": 1633,
                  "OptiCSG Mean Time": 1590,
                  "_deepnote_index_column": 164
                },
                {
                  "Triangle Number": 58480,
                  "Intersection Time": 1348,
                  "Union Time": 1625,
                  "OptiCSG Mean Time": 1486.5,
                  "_deepnote_index_column": 165
                },
                {
                  "Triangle Number": 58820,
                  "Intersection Time": 1430,
                  "Union Time": 1654,
                  "OptiCSG Mean Time": 1542,
                  "_deepnote_index_column": 166
                },
                {
                  "Triangle Number": 59856,
                  "Intersection Time": 1464,
                  "Union Time": 1879,
                  "OptiCSG Mean Time": 1671.5,
                  "_deepnote_index_column": 167
                },
                {
                  "Triangle Number": 60200,
                  "Intersection Time": 1381,
                  "Union Time": 1678,
                  "OptiCSG Mean Time": 1529.5,
                  "_deepnote_index_column": 168
                },
                {
                  "Triangle Number": 61248,
                  "Intersection Time": 1328,
                  "Union Time": 1587,
                  "OptiCSG Mean Time": 1457.5,
                  "_deepnote_index_column": 169
                },
                {
                  "Triangle Number": 61596,
                  "Intersection Time": 1395,
                  "Union Time": 1642,
                  "OptiCSG Mean Time": 1518.5,
                  "_deepnote_index_column": 170
                },
                {
                  "Triangle Number": 62656,
                  "Intersection Time": 1389,
                  "Union Time": 1645,
                  "OptiCSG Mean Time": 1517,
                  "_deepnote_index_column": 171
                },
                {
                  "Triangle Number": 63008,
                  "Intersection Time": 1343,
                  "Union Time": 1683,
                  "OptiCSG Mean Time": 1513,
                  "_deepnote_index_column": 172
                },
                {
                  "Triangle Number": 64080,
                  "Intersection Time": 1471,
                  "Union Time": 1579,
                  "OptiCSG Mean Time": 1525,
                  "_deepnote_index_column": 173
                },
                {
                  "Triangle Number": 64436,
                  "Intersection Time": 1358,
                  "Union Time": 1796,
                  "OptiCSG Mean Time": 1577,
                  "_deepnote_index_column": 174
                },
                {
                  "Triangle Number": 65520,
                  "Intersection Time": 1424,
                  "Union Time": 1714,
                  "OptiCSG Mean Time": 1569,
                  "_deepnote_index_column": 175
                },
                {
                  "Triangle Number": 65880,
                  "Intersection Time": 1420,
                  "Union Time": 1663,
                  "OptiCSG Mean Time": 1541.5,
                  "_deepnote_index_column": 176
                },
                {
                  "Triangle Number": 66976,
                  "Intersection Time": 1299,
                  "Union Time": 1540,
                  "OptiCSG Mean Time": 1419.5,
                  "_deepnote_index_column": 177
                },
                {
                  "Triangle Number": 67340,
                  "Intersection Time": 1361,
                  "Union Time": 1633,
                  "OptiCSG Mean Time": 1497,
                  "_deepnote_index_column": 178
                },
                {
                  "Triangle Number": 68448,
                  "Intersection Time": 1437,
                  "Union Time": 1892,
                  "OptiCSG Mean Time": 1664.5,
                  "_deepnote_index_column": 179
                },
                {
                  "Triangle Number": 68816,
                  "Intersection Time": 1427,
                  "Union Time": 1683,
                  "OptiCSG Mean Time": 1555,
                  "_deepnote_index_column": 180
                },
                {
                  "Triangle Number": 69936,
                  "Intersection Time": 1341,
                  "Union Time": 1616,
                  "OptiCSG Mean Time": 1478.5,
                  "_deepnote_index_column": 181
                },
                {
                  "Triangle Number": 70308,
                  "Intersection Time": 1595,
                  "Union Time": 1667,
                  "OptiCSG Mean Time": 1631,
                  "_deepnote_index_column": 182
                },
                {
                  "Triangle Number": 71440,
                  "Intersection Time": 1448,
                  "Union Time": 1694,
                  "OptiCSG Mean Time": 1571,
                  "_deepnote_index_column": 183
                },
                {
                  "Triangle Number": 71816,
                  "Intersection Time": 1389,
                  "Union Time": 1862,
                  "OptiCSG Mean Time": 1625.5,
                  "_deepnote_index_column": 184
                },
                {
                  "Triangle Number": 72960,
                  "Intersection Time": 1326,
                  "Union Time": 1609,
                  "OptiCSG Mean Time": 1467.5,
                  "_deepnote_index_column": 185
                },
                {
                  "Triangle Number": 73340,
                  "Intersection Time": 1389,
                  "Union Time": 1645,
                  "OptiCSG Mean Time": 1517,
                  "_deepnote_index_column": 186
                },
                {
                  "Triangle Number": 74496,
                  "Intersection Time": 1535,
                  "Union Time": 1697,
                  "OptiCSG Mean Time": 1616,
                  "_deepnote_index_column": 187
                },
                {
                  "Triangle Number": 74880,
                  "Intersection Time": 1385,
                  "Union Time": 1659,
                  "OptiCSG Mean Time": 1522,
                  "_deepnote_index_column": 188
                },
                {
                  "Triangle Number": 76048,
                  "Intersection Time": 1360,
                  "Union Time": 1762,
                  "OptiCSG Mean Time": 1561,
                  "_deepnote_index_column": 189
                },
                {
                  "Triangle Number": 76436,
                  "Intersection Time": 1409,
                  "Union Time": 1709,
                  "OptiCSG Mean Time": 1559,
                  "_deepnote_index_column": 190
                },
                {
                  "Triangle Number": 77616,
                  "Intersection Time": 1460,
                  "Union Time": 1716,
                  "OptiCSG Mean Time": 1588,
                  "_deepnote_index_column": 191
                },
                {
                  "Triangle Number": 78008,
                  "Intersection Time": 1559,
                  "Union Time": 1857,
                  "OptiCSG Mean Time": 1708,
                  "_deepnote_index_column": 192
                },
                {
                  "Triangle Number": 79200,
                  "Intersection Time": 1364,
                  "Union Time": 1632,
                  "OptiCSG Mean Time": 1498,
                  "_deepnote_index_column": 193
                },
                {
                  "Triangle Number": 79596,
                  "Intersection Time": 1415,
                  "Union Time": 1691,
                  "OptiCSG Mean Time": 1553,
                  "_deepnote_index_column": 194
                },
                {
                  "Triangle Number": 80800,
                  "Intersection Time": 1467,
                  "Union Time": 1728,
                  "OptiCSG Mean Time": 1597.5,
                  "_deepnote_index_column": 195
                },
                {
                  "Triangle Number": 81200,
                  "Intersection Time": 1434,
                  "Union Time": 1705,
                  "OptiCSG Mean Time": 1569.5,
                  "_deepnote_index_column": 196
                },
                {
                  "Triangle Number": 82416,
                  "Intersection Time": 1550,
                  "Union Time": 1600,
                  "OptiCSG Mean Time": 1575,
                  "_deepnote_index_column": 197
                }
              ],
              "rows_bottom": null
            },
            "text/plain": "     Triangle Number  Intersection Time  Union Time  OptiCSG Mean Time\n0                 56               1005         943              974.0\n1                 96               1065        1263             1164.0\n2                108                859        1073              966.0\n3                160               1019        1262             1140.5\n4                176                927        1175             1051.0\n..               ...                ...         ...                ...\n193            79200               1364        1632             1498.0\n194            79596               1415        1691             1553.0\n195            80800               1467        1728             1597.5\n196            81200               1434        1705             1569.5\n197            82416               1550        1600             1575.0\n\n[198 rows x 4 columns]",
            "text/html": "<div>\n<style scoped>\n    .dataframe tbody tr th:only-of-type {\n        vertical-align: middle;\n    }\n\n    .dataframe tbody tr th {\n        vertical-align: top;\n    }\n\n    .dataframe thead th {\n        text-align: right;\n    }\n</style>\n<table border=\"1\" class=\"dataframe\">\n  <thead>\n    <tr style=\"text-align: right;\">\n      <th></th>\n      <th>Triangle Number</th>\n      <th>Intersection Time</th>\n      <th>Union Time</th>\n      <th>OptiCSG Mean Time</th>\n    </tr>\n  </thead>\n  <tbody>\n    <tr>\n      <th>0</th>\n      <td>56</td>\n      <td>1005</td>\n      <td>943</td>\n      <td>974.0</td>\n    </tr>\n    <tr>\n      <th>1</th>\n      <td>96</td>\n      <td>1065</td>\n      <td>1263</td>\n      <td>1164.0</td>\n    </tr>\n    <tr>\n      <th>2</th>\n      <td>108</td>\n      <td>859</td>\n      <td>1073</td>\n      <td>966.0</td>\n    </tr>\n    <tr>\n      <th>3</th>\n      <td>160</td>\n      <td>1019</td>\n      <td>1262</td>\n      <td>1140.5</td>\n    </tr>\n    <tr>\n      <th>4</th>\n      <td>176</td>\n      <td>927</td>\n      <td>1175</td>\n      <td>1051.0</td>\n    </tr>\n    <tr>\n      <th>...</th>\n      <td>...</td>\n      <td>...</td>\n      <td>...</td>\n      <td>...</td>\n    </tr>\n    <tr>\n      <th>193</th>\n      <td>79200</td>\n      <td>1364</td>\n      <td>1632</td>\n      <td>1498.0</td>\n    </tr>\n    <tr>\n      <th>194</th>\n      <td>79596</td>\n      <td>1415</td>\n      <td>1691</td>\n      <td>1553.0</td>\n    </tr>\n    <tr>\n      <th>195</th>\n      <td>80800</td>\n      <td>1467</td>\n      <td>1728</td>\n      <td>1597.5</td>\n    </tr>\n    <tr>\n      <th>196</th>\n      <td>81200</td>\n      <td>1434</td>\n      <td>1705</td>\n      <td>1569.5</td>\n    </tr>\n    <tr>\n      <th>197</th>\n      <td>82416</td>\n      <td>1550</td>\n      <td>1600</td>\n      <td>1575.0</td>\n    </tr>\n  </tbody>\n</table>\n<p>198 rows × 4 columns</p>\n</div>"
          },
          "metadata": {}
        }
      ]
    },
    {
      "cell_type": "code",
      "metadata": {
        "tags": [],
        "cell_id": "00018-35d43163-0e51-4b50-b9e7-dad661b610c2",
        "deepnote_to_be_reexecuted": false,
        "source_hash": "13aa294c",
        "execution_millis": 220,
        "execution_start": 1616403022153,
        "deepnote_cell_type": "code"
      },
      "source": "df_optim.plot(x ='Triangle Number', y=['Intersection Time', 'Union Time'], kind = 'line', lw=2)\nplt.show()",
      "execution_count": 13,
      "outputs": [
        {
          "data": {
            "text/plain": "<Figure size 432x288 with 1 Axes>",
            "image/png": "[encoded data removed]"
          },
          "metadata": {},
          "output_type": "display_data"
        }
      ]
    },
    {
      "cell_type": "markdown",
      "source": "## Algorithm Comparasion",
      "metadata": {
        "tags": [],
        "cell_id": "00018-366a45c7-3a30-4de0-a105-1eac2f1a10a0",
        "deepnote_cell_type": "markdown"
      }
    },
    {
      "cell_type": "code",
      "metadata": {
        "tags": [],
        "cell_id": "00021-4e1ba6bc-3577-4e37-a222-014ab711e1fd",
        "deepnote_to_be_reexecuted": false,
        "source_hash": "74620aa9",
        "execution_millis": 0,
        "execution_start": 1616403022373,
        "deepnote_cell_type": "code"
      },
      "source": "df_comp = pd.concat([df_normal[\"Triangle Number\"], df_normal[\"NaiCSG Mean Time\"], df_bsp[0:len(df_normal.index)][\"BinCSG Mean Time\"], df_optim[0:len(df_normal.index)][\"OptiCSG Mean Time\"]], axis=1)\ndf_comp['NaiCSG Rolling Mean'] = df_comp['NaiCSG Mean Time'].rolling(7).mean()\ndf_comp['BinCSG Rolling Mean'] = df_comp['BinCSG Mean Time'].rolling(7).mean()\ndf_comp['OptiCSG Rolling Mean'] = df_comp['OptiCSG Mean Time'].rolling(7).mean()\n\n",
      "execution_count": 14,
      "outputs": []
    },
    {
      "cell_type": "code",
      "metadata": {
        "tags": [],
        "cell_id": "00018-c2368ecc-92ff-40a0-9a8e-82c58474dfc1",
        "deepnote_to_be_reexecuted": false,
        "source_hash": "9e455b2a",
        "execution_millis": 19,
        "execution_start": 1616403022374,
        "deepnote_cell_type": "code"
      },
      "source": "df_comp",
      "execution_count": 15,
      "outputs": [
        {
          "output_type": "execute_result",
          "execution_count": 15,
          "data": {
            "application/vnd.deepnote.dataframe.v2+json": {
              "row_count": 89,
              "column_count": 7,
              "columns": [
                {
                  "name": "Triangle Number",
                  "dtype": "int64",
                  "stats": {
                    "unique_count": 89,
                    "nan_count": 0,
                    "min": 56,
                    "max": 17480,
                    "histogram": [
                      {
                        "bin_start": 56,
                        "bin_end": 1798.4,
                        "count": 25
                      },
                      {
                        "bin_start": 1798.4,
                        "bin_end": 3540.8,
                        "count": 12
                      },
                      {
                        "bin_start": 3540.8,
                        "bin_end": 5283.200000000001,
                        "count": 9
                      },
                      {
                        "bin_start": 5283.200000000001,
                        "bin_end": 7025.6,
                        "count": 8
                      },
                      {
                        "bin_start": 7025.6,
                        "bin_end": 8768,
                        "count": 7
                      },
                      {
                        "bin_start": 8768,
                        "bin_end": 10510.400000000001,
                        "count": 6
                      },
                      {
                        "bin_start": 10510.400000000001,
                        "bin_end": 12252.800000000001,
                        "count": 6
                      },
                      {
                        "bin_start": 12252.800000000001,
                        "bin_end": 13995.2,
                        "count": 6
                      },
                      {
                        "bin_start": 13995.2,
                        "bin_end": 15737.6,
                        "count": 4
                      },
                      {
                        "bin_start": 15737.6,
                        "bin_end": 17480,
                        "count": 6
                      }
                    ]
                  }
                },
                {
                  "name": "NaiCSG Mean Time",
                  "dtype": "float64",
                  "stats": {
                    "unique_count": 89,
                    "nan_count": 0,
                    "min": 9944.333333333334,
                    "max": 2717931,
                    "histogram": [
                      {
                        "bin_start": 9944.333333333334,
                        "bin_end": 280742.99999999994,
                        "count": 27
                      },
                      {
                        "bin_start": 280742.99999999994,
                        "bin_end": 551541.6666666666,
                        "count": 12
                      },
                      {
                        "bin_start": 551541.6666666666,
                        "bin_end": 822340.3333333333,
                        "count": 10
                      },
                      {
                        "bin_start": 822340.3333333333,
                        "bin_end": 1093138.9999999998,
                        "count": 9
                      },
                      {
                        "bin_start": 1093138.9999999998,
                        "bin_end": 1363937.6666666663,
                        "count": 7
                      },
                      {
                        "bin_start": 1363937.6666666663,
                        "bin_end": 1634736.333333333,
                        "count": 6
                      },
                      {
                        "bin_start": 1634736.333333333,
                        "bin_end": 1905534.9999999998,
                        "count": 5
                      },
                      {
                        "bin_start": 1905534.9999999998,
                        "bin_end": 2176333.6666666665,
                        "count": 4
                      },
                      {
                        "bin_start": 2176333.6666666665,
                        "bin_end": 2447132.333333333,
                        "count": 6
                      },
                      {
                        "bin_start": 2447132.333333333,
                        "bin_end": 2717931,
                        "count": 3
                      }
                    ]
                  }
                },
                {
                  "name": "BinCSG Mean Time",
                  "dtype": "float64",
                  "stats": {
                    "unique_count": 89,
                    "nan_count": 0,
                    "min": 1088,
                    "max": 284583.6666666667,
                    "histogram": [
                      {
                        "bin_start": 1088,
                        "bin_end": 29437.56666666667,
                        "count": 26
                      },
                      {
                        "bin_start": 29437.56666666667,
                        "bin_end": 57787.13333333334,
                        "count": 13
                      },
                      {
                        "bin_start": 57787.13333333334,
                        "bin_end": 86136.70000000001,
                        "count": 7
                      },
                      {
                        "bin_start": 86136.70000000001,
                        "bin_end": 114486.26666666668,
                        "count": 9
                      },
                      {
                        "bin_start": 114486.26666666668,
                        "bin_end": 142835.83333333334,
                        "count": 7
                      },
                      {
                        "bin_start": 142835.83333333334,
                        "bin_end": 171185.40000000002,
                        "count": 8
                      },
                      {
                        "bin_start": 171185.40000000002,
                        "bin_end": 199534.96666666667,
                        "count": 7
                      },
                      {
                        "bin_start": 199534.96666666667,
                        "bin_end": 227884.53333333335,
                        "count": 3
                      },
                      {
                        "bin_start": 227884.53333333335,
                        "bin_end": 256234.10000000003,
                        "count": 5
                      },
                      {
                        "bin_start": 256234.10000000003,
                        "bin_end": 284583.6666666667,
                        "count": 4
                      }
                    ]
                  }
                },
                {
                  "name": "OptiCSG Mean Time",
                  "dtype": "float64",
                  "stats": {
                    "unique_count": 81,
                    "nan_count": 0,
                    "min": 966,
                    "max": 2328,
                    "histogram": [
                      {
                        "bin_start": 966,
                        "bin_end": 1102.2,
                        "count": 3
                      },
                      {
                        "bin_start": 1102.2,
                        "bin_end": 1238.4,
                        "count": 2
                      },
                      {
                        "bin_start": 1238.4,
                        "bin_end": 1374.6,
                        "count": 33
                      },
                      {
                        "bin_start": 1374.6,
                        "bin_end": 1510.8,
                        "count": 31
                      },
                      {
                        "bin_start": 1510.8,
                        "bin_end": 1647,
                        "count": 9
                      },
                      {
                        "bin_start": 1647,
                        "bin_end": 1783.1999999999998,
                        "count": 5
                      },
                      {
                        "bin_start": 1783.1999999999998,
                        "bin_end": 1919.3999999999999,
                        "count": 2
                      },
                      {
                        "bin_start": 1919.3999999999999,
                        "bin_end": 2055.6,
                        "count": 3
                      },
                      {
                        "bin_start": 2055.6,
                        "bin_end": 2191.8,
                        "count": 0
                      },
                      {
                        "bin_start": 2191.8,
                        "bin_end": 2328,
                        "count": 1
                      }
                    ]
                  }
                },
                {
                  "name": "NaiCSG Rolling Mean",
                  "dtype": "float64",
                  "stats": {
                    "unique_count": 83,
                    "nan_count": 6,
                    "min": 24505.380952380954,
                    "max": 2465462.1428571427,
                    "histogram": [
                      {
                        "bin_start": 24505.380952380954,
                        "bin_end": 268601.0571428571,
                        "count": 22
                      },
                      {
                        "bin_start": 268601.0571428571,
                        "bin_end": 512696.7333333333,
                        "count": 13
                      },
                      {
                        "bin_start": 512696.7333333333,
                        "bin_end": 756792.4095238094,
                        "count": 9
                      },
                      {
                        "bin_start": 756792.4095238094,
                        "bin_end": 1000888.0857142856,
                        "count": 8
                      },
                      {
                        "bin_start": 1000888.0857142856,
                        "bin_end": 1244983.761904762,
                        "count": 7
                      },
                      {
                        "bin_start": 1244983.761904762,
                        "bin_end": 1489079.438095238,
                        "count": 6
                      },
                      {
                        "bin_start": 1489079.438095238,
                        "bin_end": 1733175.1142857142,
                        "count": 5
                      },
                      {
                        "bin_start": 1733175.1142857142,
                        "bin_end": 1977270.7904761904,
                        "count": 4
                      },
                      {
                        "bin_start": 1977270.7904761904,
                        "bin_end": 2221366.4666666663,
                        "count": 4
                      },
                      {
                        "bin_start": 2221366.4666666663,
                        "bin_end": 2465462.1428571427,
                        "count": 5
                      }
                    ]
                  }
                },
                {
                  "name": "BinCSG Rolling Mean",
                  "dtype": "float64",
                  "stats": {
                    "unique_count": 83,
                    "nan_count": 6,
                    "min": 2984.666666666667,
                    "max": 258931.42857142858,
                    "histogram": [
                      {
                        "bin_start": 2984.666666666667,
                        "bin_end": 28579.34285714286,
                        "count": 22
                      },
                      {
                        "bin_start": 28579.34285714286,
                        "bin_end": 54174.01904761905,
                        "count": 12
                      },
                      {
                        "bin_start": 54174.01904761905,
                        "bin_end": 79768.69523809524,
                        "count": 7
                      },
                      {
                        "bin_start": 79768.69523809524,
                        "bin_end": 105363.37142857144,
                        "count": 5
                      },
                      {
                        "bin_start": 105363.37142857144,
                        "bin_end": 130958.04761904763,
                        "count": 10
                      },
                      {
                        "bin_start": 130958.04761904763,
                        "bin_end": 156552.7238095238,
                        "count": 5
                      },
                      {
                        "bin_start": 156552.7238095238,
                        "bin_end": 182147.4,
                        "count": 10
                      },
                      {
                        "bin_start": 182147.4,
                        "bin_end": 207742.0761904762,
                        "count": 4
                      },
                      {
                        "bin_start": 207742.0761904762,
                        "bin_end": 233336.75238095238,
                        "count": 4
                      },
                      {
                        "bin_start": 233336.75238095238,
                        "bin_end": 258931.42857142858,
                        "count": 4
                      }
                    ]
                  }
                },
                {
                  "name": "OptiCSG Rolling Mean",
                  "dtype": "float64",
                  "stats": {
                    "unique_count": 82,
                    "nan_count": 6,
                    "min": 1140.2857142857142,
                    "max": 1859.642857142857,
                    "histogram": [
                      {
                        "bin_start": 1140.2857142857142,
                        "bin_end": 1212.2214285714285,
                        "count": 2
                      },
                      {
                        "bin_start": 1212.2214285714285,
                        "bin_end": 1284.1571428571428,
                        "count": 1
                      },
                      {
                        "bin_start": 1284.1571428571428,
                        "bin_end": 1356.0928571428572,
                        "count": 18
                      },
                      {
                        "bin_start": 1356.0928571428572,
                        "bin_end": 1428.0285714285715,
                        "count": 23
                      },
                      {
                        "bin_start": 1428.0285714285715,
                        "bin_end": 1499.9642857142858,
                        "count": 17
                      },
                      {
                        "bin_start": 1499.9642857142858,
                        "bin_end": 1571.8999999999999,
                        "count": 8
                      },
                      {
                        "bin_start": 1571.8999999999999,
                        "bin_end": 1643.8357142857142,
                        "count": 4
                      },
                      {
                        "bin_start": 1643.8357142857142,
                        "bin_end": 1715.7714285714285,
                        "count": 2
                      },
                      {
                        "bin_start": 1715.7714285714285,
                        "bin_end": 1787.7071428571428,
                        "count": 4
                      },
                      {
                        "bin_start": 1787.7071428571428,
                        "bin_end": 1859.642857142857,
                        "count": 4
                      }
                    ]
                  }
                },
                {
                  "name": "_deepnote_index_column",
                  "dtype": "int64"
                }
              ],
              "rows_top": [
                {
                  "Triangle Number": 56,
                  "NaiCSG Mean Time": 9944.333333333334,
                  "BinCSG Mean Time": 1088,
                  "OptiCSG Mean Time": 974,
                  "NaiCSG Rolling Mean": "nan",
                  "BinCSG Rolling Mean": "nan",
                  "OptiCSG Rolling Mean": "nan",
                  "_deepnote_index_column": 0
                },
                {
                  "Triangle Number": 96,
                  "NaiCSG Mean Time": 15192.333333333334,
                  "BinCSG Mean Time": 2585.3333333333335,
                  "OptiCSG Mean Time": 1164,
                  "NaiCSG Rolling Mean": "nan",
                  "BinCSG Rolling Mean": "nan",
                  "OptiCSG Rolling Mean": "nan",
                  "_deepnote_index_column": 1
                },
                {
                  "Triangle Number": 108,
                  "NaiCSG Mean Time": 20821,
                  "BinCSG Mean Time": 2410.3333333333335,
                  "OptiCSG Mean Time": 966,
                  "NaiCSG Rolling Mean": "nan",
                  "BinCSG Rolling Mean": "nan",
                  "OptiCSG Rolling Mean": "nan",
                  "_deepnote_index_column": 2
                },
                {
                  "Triangle Number": 160,
                  "NaiCSG Mean Time": 26803.333333333332,
                  "BinCSG Mean Time": 3428.3333333333335,
                  "OptiCSG Mean Time": 1140.5,
                  "NaiCSG Rolling Mean": "nan",
                  "BinCSG Rolling Mean": "nan",
                  "OptiCSG Rolling Mean": "nan",
                  "_deepnote_index_column": 3
                },
                {
                  "Triangle Number": 176,
                  "NaiCSG Mean Time": 27472.333333333332,
                  "BinCSG Mean Time": 2926,
                  "OptiCSG Mean Time": 1051,
                  "NaiCSG Rolling Mean": "nan",
                  "BinCSG Rolling Mean": "nan",
                  "OptiCSG Rolling Mean": "nan",
                  "_deepnote_index_column": 4
                },
                {
                  "Triangle Number": 240,
                  "NaiCSG Mean Time": 35218.333333333336,
                  "BinCSG Mean Time": 4256.333333333333,
                  "OptiCSG Mean Time": 1354.5,
                  "NaiCSG Rolling Mean": "nan",
                  "BinCSG Rolling Mean": "nan",
                  "OptiCSG Rolling Mean": "nan",
                  "_deepnote_index_column": 5
                },
                {
                  "Triangle Number": 260,
                  "NaiCSG Mean Time": 36086,
                  "BinCSG Mean Time": 4198.333333333333,
                  "OptiCSG Mean Time": 1332,
                  "NaiCSG Rolling Mean": "24505.380952380954",
                  "BinCSG Rolling Mean": "2984.666666666667",
                  "OptiCSG Rolling Mean": "1140.2857142857142",
                  "_deepnote_index_column": 6
                },
                {
                  "Triangle Number": 336,
                  "NaiCSG Mean Time": 46950,
                  "BinCSG Mean Time": 5451.333333333333,
                  "OptiCSG Mean Time": 1321,
                  "NaiCSG Rolling Mean": "29791.90476190476",
                  "BinCSG Rolling Mean": "3608.0",
                  "OptiCSG Rolling Mean": "1189.857142857143",
                  "_deepnote_index_column": 7
                },
                {
                  "Triangle Number": 360,
                  "NaiCSG Mean Time": 50264.666666666664,
                  "BinCSG Mean Time": 5975.333333333333,
                  "OptiCSG Mean Time": 1379.5,
                  "NaiCSG Rolling Mean": "34802.2380952381",
                  "BinCSG Rolling Mean": "4092.285714285714",
                  "OptiCSG Rolling Mean": "1220.642857142857",
                  "_deepnote_index_column": 8
                },
                {
                  "Triangle Number": 448,
                  "NaiCSG Mean Time": 62982.333333333336,
                  "BinCSG Mean Time": 7370,
                  "OptiCSG Mean Time": 1470,
                  "NaiCSG Rolling Mean": "40825.28571428572",
                  "BinCSG Rolling Mean": "4800.809523809524",
                  "OptiCSG Rolling Mean": "1292.642857142857",
                  "_deepnote_index_column": 9
                },
                {
                  "Triangle Number": 476,
                  "NaiCSG Mean Time": 66814.33333333333,
                  "BinCSG Mean Time": 8306.666666666666,
                  "OptiCSG Mean Time": 1699.5,
                  "NaiCSG Rolling Mean": "46541.142857142855",
                  "BinCSG Rolling Mean": "5497.714285714285",
                  "OptiCSG Rolling Mean": "1372.5",
                  "_deepnote_index_column": 10
                },
                {
                  "Triangle Number": 576,
                  "NaiCSG Mean Time": 81025,
                  "BinCSG Mean Time": 9790,
                  "OptiCSG Mean Time": 1467.5,
                  "NaiCSG Rolling Mean": "54191.52380952381",
                  "BinCSG Rolling Mean": "6478.285714285715",
                  "OptiCSG Rolling Mean": "1432.0",
                  "_deepnote_index_column": 11
                },
                {
                  "Triangle Number": 608,
                  "NaiCSG Mean Time": 86191.33333333333,
                  "BinCSG Mean Time": 10053,
                  "OptiCSG Mean Time": 1351,
                  "NaiCSG Rolling Mean": "61473.38095238095",
                  "BinCSG Rolling Mean": "7306.380952380952",
                  "OptiCSG Rolling Mean": "1431.5",
                  "_deepnote_index_column": 12
                },
                {
                  "Triangle Number": 720,
                  "NaiCSG Mean Time": 101993,
                  "BinCSG Mean Time": 11341,
                  "OptiCSG Mean Time": 2014,
                  "NaiCSG Rolling Mean": "70888.66666666666",
                  "BinCSG Rolling Mean": "8326.761904761905",
                  "OptiCSG Rolling Mean": "1528.9285714285713",
                  "_deepnote_index_column": 13
                },
                {
                  "Triangle Number": 756,
                  "NaiCSG Mean Time": 107213.33333333333,
                  "BinCSG Mean Time": 11855.333333333334,
                  "OptiCSG Mean Time": 1550.5,
                  "NaiCSG Rolling Mean": "79497.71428571429",
                  "BinCSG Rolling Mean": "9241.619047619048",
                  "OptiCSG Rolling Mean": "1561.7142857142858",
                  "_deepnote_index_column": 14
                },
                {
                  "Triangle Number": 880,
                  "NaiCSG Mean Time": 125840.66666666667,
                  "BinCSG Mean Time": 13239.666666666666,
                  "OptiCSG Mean Time": 1641,
                  "NaiCSG Rolling Mean": "90294.28571428571",
                  "BinCSG Rolling Mean": "10279.38095238095",
                  "OptiCSG Rolling Mean": "1599.0714285714287",
                  "_deepnote_index_column": 15
                },
                {
                  "Triangle Number": 920,
                  "NaiCSG Mean Time": 131679,
                  "BinCSG Mean Time": 13920.666666666666,
                  "OptiCSG Mean Time": 1426,
                  "NaiCSG Rolling Mean": "100108.09523809524",
                  "BinCSG Rolling Mean": "11215.190476190475",
                  "OptiCSG Rolling Mean": "1592.7857142857142",
                  "_deepnote_index_column": 16
                },
                {
                  "Triangle Number": 1056,
                  "NaiCSG Mean Time": 151288,
                  "BinCSG Mean Time": 16123.333333333334,
                  "OptiCSG Mean Time": 1453.5,
                  "NaiCSG Rolling Mean": "112175.7619047619",
                  "BinCSG Rolling Mean": "12331.857142857143",
                  "OptiCSG Rolling Mean": "1557.642857142857",
                  "_deepnote_index_column": 17
                },
                {
                  "Triangle Number": 1100,
                  "NaiCSG Mean Time": 158617.66666666666,
                  "BinCSG Mean Time": 17650.333333333332,
                  "OptiCSG Mean Time": 1318,
                  "NaiCSG Rolling Mean": "123260.42857142855",
                  "BinCSG Rolling Mean": "13454.761904761905",
                  "OptiCSG Rolling Mean": "1536.2857142857142",
                  "_deepnote_index_column": 18
                },
                {
                  "Triangle Number": 1248,
                  "NaiCSG Mean Time": 179139,
                  "BinCSG Mean Time": 19326.333333333332,
                  "OptiCSG Mean Time": 1391.5,
                  "NaiCSG Rolling Mean": "136538.66666666666",
                  "BinCSG Rolling Mean": "14779.523809523811",
                  "OptiCSG Rolling Mean": "1542.0714285714287",
                  "_deepnote_index_column": 19
                },
                {
                  "Triangle Number": 1296,
                  "NaiCSG Mean Time": 185379.33333333334,
                  "BinCSG Mean Time": 20197,
                  "OptiCSG Mean Time": 1434.5,
                  "NaiCSG Rolling Mean": "148451.0",
                  "BinCSG Rolling Mean": "16044.666666666666",
                  "OptiCSG Rolling Mean": "1459.2857142857142",
                  "_deepnote_index_column": 20
                },
                {
                  "Triangle Number": 1456,
                  "NaiCSG Mean Time": 207921.33333333334,
                  "BinCSG Mean Time": 23522,
                  "OptiCSG Mean Time": 1349.5,
                  "NaiCSG Rolling Mean": "162837.85714285713",
                  "BinCSG Rolling Mean": "17711.333333333332",
                  "OptiCSG Rolling Mean": "1430.5714285714287",
                  "_deepnote_index_column": 21
                },
                {
                  "Triangle Number": 1508,
                  "NaiCSG Mean Time": 213880.33333333334,
                  "BinCSG Mean Time": 23309,
                  "OptiCSG Mean Time": 1557.5,
                  "NaiCSG Rolling Mean": "175414.9523809524",
                  "BinCSG Rolling Mean": "19149.809523809523",
                  "OptiCSG Rolling Mean": "1418.642857142857",
                  "_deepnote_index_column": 22
                },
                {
                  "Triangle Number": 1680,
                  "NaiCSG Mean Time": 237396,
                  "BinCSG Mean Time": 25508.666666666668,
                  "OptiCSG Mean Time": 1685,
                  "NaiCSG Rolling Mean": "190517.38095238098",
                  "BinCSG Rolling Mean": "20805.238095238095",
                  "OptiCSG Rolling Mean": "1455.642857142857",
                  "_deepnote_index_column": 23
                },
                {
                  "Triangle Number": 1736,
                  "NaiCSG Mean Time": 245166.33333333334,
                  "BinCSG Mean Time": 27298.333333333332,
                  "OptiCSG Mean Time": 1364,
                  "NaiCSG Rolling Mean": "203928.57142857142",
                  "BinCSG Rolling Mean": "22401.666666666664",
                  "OptiCSG Rolling Mean": "1442.857142857143",
                  "_deepnote_index_column": 24
                },
                {
                  "Triangle Number": 1920,
                  "NaiCSG Mean Time": 269885.3333333333,
                  "BinCSG Mean Time": 29381.333333333332,
                  "OptiCSG Mean Time": 1303,
                  "NaiCSG Rolling Mean": "219823.95238095237",
                  "BinCSG Rolling Mean": "24077.523809523813",
                  "OptiCSG Rolling Mean": "1440.7142857142858",
                  "_deepnote_index_column": 25
                },
                {
                  "Triangle Number": 1980,
                  "NaiCSG Mean Time": 278121,
                  "BinCSG Mean Time": 30724,
                  "OptiCSG Mean Time": 1282,
                  "NaiCSG Rolling Mean": "233964.23809523808",
                  "BinCSG Rolling Mean": "25705.761904761905",
                  "OptiCSG Rolling Mean": "1425.0714285714287",
                  "_deepnote_index_column": 26
                },
                {
                  "Triangle Number": 2176,
                  "NaiCSG Mean Time": 325863,
                  "BinCSG Mean Time": 33627,
                  "OptiCSG Mean Time": 1344.5,
                  "NaiCSG Rolling Mean": "254033.33333333334",
                  "BinCSG Rolling Mean": "27624.333333333332",
                  "OptiCSG Rolling Mean": "1412.2142857142858",
                  "_deepnote_index_column": 27
                },
                {
                  "Triangle Number": 2240,
                  "NaiCSG Mean Time": 316085.6666666667,
                  "BinCSG Mean Time": 34303.333333333336,
                  "OptiCSG Mean Time": 1285.5,
                  "NaiCSG Rolling Mean": "269485.38095238095",
                  "BinCSG Rolling Mean": "29164.52380952381",
                  "OptiCSG Rolling Mean": "1403.0714285714287",
                  "_deepnote_index_column": 28
                },
                {
                  "Triangle Number": 2448,
                  "NaiCSG Mean Time": 346896.6666666667,
                  "BinCSG Mean Time": 37146,
                  "OptiCSG Mean Time": 1375.5,
                  "NaiCSG Rolling Mean": "288487.71428571426",
                  "BinCSG Rolling Mean": "31141.238095238095",
                  "OptiCSG Rolling Mean": "1377.0714285714287",
                  "_deepnote_index_column": 29
                },
                {
                  "Triangle Number": 2516,
                  "NaiCSG Mean Time": 353486.3333333333,
                  "BinCSG Mean Time": 39709.666666666664,
                  "OptiCSG Mean Time": 1344.5,
                  "NaiCSG Rolling Mean": "305072.04761904763",
                  "BinCSG Rolling Mean": "33169.95238095238",
                  "OptiCSG Rolling Mean": "1328.4285714285713",
                  "_deepnote_index_column": 30
                },
                {
                  "Triangle Number": 2736,
                  "NaiCSG Mean Time": 383663.3333333333,
                  "BinCSG Mean Time": 44464,
                  "OptiCSG Mean Time": 1401,
                  "NaiCSG Rolling Mean": "324857.3333333334",
                  "BinCSG Rolling Mean": "35622.19047619047",
                  "OptiCSG Rolling Mean": "1333.7142857142858",
                  "_deepnote_index_column": 31
                },
                {
                  "Triangle Number": 2808,
                  "NaiCSG Mean Time": 393544,
                  "BinCSG Mean Time": 44487,
                  "OptiCSG Mean Time": 1291.5,
                  "NaiCSG Rolling Mean": "342522.85714285716",
                  "BinCSG Rolling Mean": "37780.142857142855",
                  "OptiCSG Rolling Mean": "1332.0714285714287",
                  "_deepnote_index_column": 32
                },
                {
                  "Triangle Number": 3040,
                  "NaiCSG Mean Time": 426033,
                  "BinCSG Mean Time": 46457.666666666664,
                  "OptiCSG Mean Time": 1293,
                  "NaiCSG Rolling Mean": "363653.14285714284",
                  "BinCSG Rolling Mean": "40027.80952380952",
                  "OptiCSG Rolling Mean": "1333.642857142857",
                  "_deepnote_index_column": 33
                },
                {
                  "Triangle Number": 3116,
                  "NaiCSG Mean Time": 432587,
                  "BinCSG Mean Time": 47135.333333333336,
                  "OptiCSG Mean Time": 1396,
                  "NaiCSG Rolling Mean": "378899.4285714286",
                  "BinCSG Rolling Mean": "41957.57142857143",
                  "OptiCSG Rolling Mean": "1341.0",
                  "_deepnote_index_column": 34
                },
                {
                  "Triangle Number": 3360,
                  "NaiCSG Mean Time": 466329,
                  "BinCSG Mean Time": 50530.666666666664,
                  "OptiCSG Mean Time": 1385,
                  "NaiCSG Rolling Mean": "400362.76190476195",
                  "BinCSG Rolling Mean": "44275.7619047619",
                  "OptiCSG Rolling Mean": "1355.2142857142858",
                  "_deepnote_index_column": 35
                },
                {
                  "Triangle Number": 3440,
                  "NaiCSG Mean Time": 477411,
                  "BinCSG Mean Time": 52388.333333333336,
                  "OptiCSG Mean Time": 1384,
                  "NaiCSG Rolling Mean": "419007.6666666667",
                  "BinCSG Rolling Mean": "46453.2380952381",
                  "OptiCSG Rolling Mean": "1356.4285714285713",
                  "_deepnote_index_column": 36
                },
                {
                  "Triangle Number": 3696,
                  "NaiCSG Mean Time": 511780.6666666667,
                  "BinCSG Mean Time": 56206.666666666664,
                  "OptiCSG Mean Time": 1325.5,
                  "NaiCSG Rolling Mean": "441621.14285714284",
                  "BinCSG Rolling Mean": "48809.952380952374",
                  "OptiCSG Rolling Mean": "1353.7142857142858",
                  "_deepnote_index_column": 37
                },
                {
                  "Triangle Number": 3780,
                  "NaiCSG Mean Time": 523308,
                  "BinCSG Mean Time": 57500,
                  "OptiCSG Mean Time": 1375.5,
                  "NaiCSG Rolling Mean": "461570.38095238095",
                  "BinCSG Rolling Mean": "50672.23809523809",
                  "OptiCSG Rolling Mean": "1350.0714285714287",
                  "_deepnote_index_column": 38
                },
                {
                  "Triangle Number": 4048,
                  "NaiCSG Mean Time": 559077,
                  "BinCSG Mean Time": 60846,
                  "OptiCSG Mean Time": 1459.5,
                  "NaiCSG Rolling Mean": "485217.95238095237",
                  "BinCSG Rolling Mean": "53009.23809523809",
                  "OptiCSG Rolling Mean": "1374.0714285714287",
                  "_deepnote_index_column": 39
                },
                {
                  "Triangle Number": 4136,
                  "NaiCSG Mean Time": 573122.6666666666,
                  "BinCSG Mean Time": 61504,
                  "OptiCSG Mean Time": 1330,
                  "NaiCSG Rolling Mean": "506230.76190476184",
                  "BinCSG Rolling Mean": "55158.71428571428",
                  "OptiCSG Rolling Mean": "1379.357142857143",
                  "_deepnote_index_column": 40
                },
                {
                  "Triangle Number": 4416,
                  "NaiCSG Mean Time": 611821,
                  "BinCSG Mean Time": 67851.33333333333,
                  "OptiCSG Mean Time": 1277.5,
                  "NaiCSG Rolling Mean": "531835.619047619",
                  "BinCSG Rolling Mean": "58118.142857142855",
                  "OptiCSG Rolling Mean": "1362.4285714285713",
                  "_deepnote_index_column": 41
                },
                {
                  "Triangle Number": 4508,
                  "NaiCSG Mean Time": 627475.6666666666,
                  "BinCSG Mean Time": 82377.33333333333,
                  "OptiCSG Mean Time": 1350,
                  "NaiCSG Rolling Mean": "554856.5714285715",
                  "BinCSG Rolling Mean": "62667.66666666667",
                  "OptiCSG Rolling Mean": "1357.4285714285713",
                  "_deepnote_index_column": 42
                },
                {
                  "Triangle Number": 4800,
                  "NaiCSG Mean Time": 668204.3333333334,
                  "BinCSG Mean Time": 80143.66666666667,
                  "OptiCSG Mean Time": 1428.5,
                  "NaiCSG Rolling Mean": "582112.7619047619",
                  "BinCSG Rolling Mean": "66632.71428571429",
                  "OptiCSG Rolling Mean": "1363.7857142857142",
                  "_deepnote_index_column": 43
                },
                {
                  "Triangle Number": 4896,
                  "NaiCSG Mean Time": 679769,
                  "BinCSG Mean Time": 78619.66666666667,
                  "OptiCSG Mean Time": 1338.5,
                  "NaiCSG Rolling Mean": "606111.0952380953",
                  "BinCSG Rolling Mean": "69834.57142857143",
                  "OptiCSG Rolling Mean": "1365.642857142857",
                  "_deepnote_index_column": 44
                },
                {
                  "Triangle Number": 5200,
                  "NaiCSG Mean Time": 720619,
                  "BinCSG Mean Time": 83573.33333333333,
                  "OptiCSG Mean Time": 1312,
                  "NaiCSG Rolling Mean": "634298.380952381",
                  "BinCSG Rolling Mean": "73559.33333333334",
                  "OptiCSG Rolling Mean": "1356.5714285714287",
                  "_deepnote_index_column": 45
                },
                {
                  "Triangle Number": 5300,
                  "NaiCSG Mean Time": 734363,
                  "BinCSG Mean Time": 89425.33333333333,
                  "OptiCSG Mean Time": 1392.5,
                  "NaiCSG Rolling Mean": "659339.2380952381",
                  "BinCSG Rolling Mean": "77642.09523809524",
                  "OptiCSG Rolling Mean": "1347.0",
                  "_deepnote_index_column": 46
                },
                {
                  "Triangle Number": 5616,
                  "NaiCSG Mean Time": 776582.3333333334,
                  "BinCSG Mean Time": 92503.66666666667,
                  "OptiCSG Mean Time": 1344,
                  "NaiCSG Rolling Mean": "688404.9047619049",
                  "BinCSG Rolling Mean": "82070.61904761905",
                  "OptiCSG Rolling Mean": "1349.0",
                  "_deepnote_index_column": 47
                },
                {
                  "Triangle Number": 5720,
                  "NaiCSG Mean Time": 791540.6666666666,
                  "BinCSG Mean Time": 100360.66666666667,
                  "OptiCSG Mean Time": 1327.5,
                  "NaiCSG Rolling Mean": "714079.1428571428",
                  "BinCSG Rolling Mean": "86714.80952380951",
                  "OptiCSG Rolling Mean": "1356.142857142857",
                  "_deepnote_index_column": 48
                },
                {
                  "Triangle Number": 6048,
                  "NaiCSG Mean Time": 832452.3333333334,
                  "BinCSG Mean Time": 108296.33333333333,
                  "OptiCSG Mean Time": 1312.5,
                  "NaiCSG Rolling Mean": "743361.5238095237",
                  "BinCSG Rolling Mean": "90417.52380952382",
                  "OptiCSG Rolling Mean": "1350.7857142857142",
                  "_deepnote_index_column": 49
                },
                {
                  "Triangle Number": 6156,
                  "NaiCSG Mean Time": 843637.6666666666,
                  "BinCSG Mean Time": 127466.66666666667,
                  "OptiCSG Mean Time": 1346,
                  "NaiCSG Rolling Mean": "768423.4285714285",
                  "BinCSG Rolling Mean": "97177.95238095238",
                  "OptiCSG Rolling Mean": "1339.0",
                  "_deepnote_index_column": 50
                },
                {
                  "Triangle Number": 6496,
                  "NaiCSG Mean Time": 888447.3333333334,
                  "BinCSG Mean Time": 120053.33333333333,
                  "OptiCSG Mean Time": 1356.5,
                  "NaiCSG Rolling Mean": "798234.6190476192",
                  "BinCSG Rolling Mean": "103097.04761904762",
                  "OptiCSG Rolling Mean": "1341.5714285714287",
                  "_deepnote_index_column": 51
                },
                {
                  "Triangle Number": 6608,
                  "NaiCSG Mean Time": 905770.6666666666,
                  "BinCSG Mean Time": 99579.33333333333,
                  "OptiCSG Mean Time": 1323.5,
                  "NaiCSG Rolling Mean": "824684.8571428572",
                  "BinCSG Rolling Mean": "105383.61904761904",
                  "OptiCSG Rolling Mean": "1343.2142857142858",
                  "_deepnote_index_column": 52
                },
                {
                  "Triangle Number": 6960,
                  "NaiCSG Mean Time": 952952.3333333334,
                  "BinCSG Mean Time": 105878,
                  "OptiCSG Mean Time": 1482,
                  "NaiCSG Rolling Mean": "855911.9047619049",
                  "BinCSG Rolling Mean": "107734.0",
                  "OptiCSG Rolling Mean": "1356.0",
                  "_deepnote_index_column": 53
                },
                {
                  "Triangle Number": 7076,
                  "NaiCSG Mean Time": 969535.3333333334,
                  "BinCSG Mean Time": 107767.33333333333,
                  "OptiCSG Mean Time": 1348,
                  "NaiCSG Rolling Mean": "883476.619047619",
                  "BinCSG Rolling Mean": "109914.5238095238",
                  "OptiCSG Rolling Mean": "1356.5714285714287",
                  "_deepnote_index_column": 54
                },
                {
                  "Triangle Number": 7440,
                  "NaiCSG Mean Time": 1018127.6666666666,
                  "BinCSG Mean Time": 112030,
                  "OptiCSG Mean Time": 1401.5,
                  "NaiCSG Rolling Mean": "915846.1904761905",
                  "BinCSG Rolling Mean": "111581.57142857143",
                  "OptiCSG Rolling Mean": "1367.142857142857",
                  "_deepnote_index_column": 55
                },
                {
                  "Triangle Number": 7560,
                  "NaiCSG Mean Time": 1034606,
                  "BinCSG Mean Time": 114165,
                  "OptiCSG Mean Time": 1383.5,
                  "NaiCSG Rolling Mean": "944725.2857142857",
                  "BinCSG Rolling Mean": "112419.95238095238",
                  "OptiCSG Rolling Mean": "1377.2857142857142",
                  "_deepnote_index_column": 56
                },
                {
                  "Triangle Number": 7936,
                  "NaiCSG Mean Time": 1085039.3333333333,
                  "BinCSG Mean Time": 120424.66666666667,
                  "OptiCSG Mean Time": 1259,
                  "NaiCSG Rolling Mean": "979211.2380952381",
                  "BinCSG Rolling Mean": "111413.95238095238",
                  "OptiCSG Rolling Mean": "1364.857142857143",
                  "_deepnote_index_column": 57
                },
                {
                  "Triangle Number": 8060,
                  "NaiCSG Mean Time": 1102098.6666666667,
                  "BinCSG Mean Time": 121326.66666666667,
                  "OptiCSG Mean Time": 1384,
                  "NaiCSG Rolling Mean": "1009732.8571428572",
                  "BinCSG Rolling Mean": "111595.85714285714",
                  "OptiCSG Rolling Mean": "1368.7857142857142",
                  "_deepnote_index_column": 58
                },
                {
                  "Triangle Number": 8448,
                  "NaiCSG Mean Time": 1155374,
                  "BinCSG Mean Time": 126632.66666666667,
                  "OptiCSG Mean Time": 1375.5,
                  "NaiCSG Rolling Mean": "1045390.4761904763",
                  "BinCSG Rolling Mean": "115460.61904761905",
                  "OptiCSG Rolling Mean": "1376.2142857142858",
                  "_deepnote_index_column": 59
                },
                {
                  "Triangle Number": 8576,
                  "NaiCSG Mean Time": 1172498.6666666667,
                  "BinCSG Mean Time": 127856,
                  "OptiCSG Mean Time": 1357.5,
                  "NaiCSG Rolling Mean": "1076754.238095238",
                  "BinCSG Rolling Mean": "118600.33333333334",
                  "OptiCSG Rolling Mean": "1358.4285714285713",
                  "_deepnote_index_column": 60
                },
                {
                  "Triangle Number": 8976,
                  "NaiCSG Mean Time": 1227682.6666666667,
                  "BinCSG Mean Time": 140099.66666666666,
                  "OptiCSG Mean Time": 1245.5,
                  "NaiCSG Rolling Mean": "1113632.4285714286",
                  "BinCSG Rolling Mean": "123219.2380952381",
                  "OptiCSG Rolling Mean": "1343.7857142857142",
                  "_deepnote_index_column": 61
                },
                {
                  "Triangle Number": 9108,
                  "NaiCSG Mean Time": 1245022.6666666667,
                  "BinCSG Mean Time": 169516.33333333334,
                  "OptiCSG Mean Time": 1321,
                  "NaiCSG Rolling Mean": "1146046.0000000002",
                  "BinCSG Rolling Mean": "131431.57142857142",
                  "OptiCSG Rolling Mean": "1332.2857142857142",
                  "_deepnote_index_column": 62
                },
                {
                  "Triangle Number": 9520,
                  "NaiCSG Mean Time": 1302731,
                  "BinCSG Mean Time": 195342.33333333334,
                  "OptiCSG Mean Time": 1637.5,
                  "NaiCSG Rolling Mean": "1184349.5714285714",
                  "BinCSG Rolling Mean": "143028.33333333334",
                  "OptiCSG Rolling Mean": "1368.5714285714287",
                  "_deepnote_index_column": 63
                },
                {
                  "Triangle Number": 9656,
                  "NaiCSG Mean Time": 1330542.3333333333,
                  "BinCSG Mean Time": 155470.33333333334,
                  "OptiCSG Mean Time": 1749,
                  "NaiCSG Rolling Mean": "1219421.4285714286",
                  "BinCSG Rolling Mean": "148034.85714285716",
                  "OptiCSG Rolling Mean": "1438.5714285714287",
                  "_deepnote_index_column": 64
                },
                {
                  "Triangle Number": 10080,
                  "NaiCSG Mean Time": 1397053.6666666667,
                  "BinCSG Mean Time": 152280,
                  "OptiCSG Mean Time": 1559,
                  "NaiCSG Rolling Mean": "1261557.857142857",
                  "BinCSG Rolling Mean": "152456.7619047619",
                  "OptiCSG Rolling Mean": "1463.5714285714287",
                  "_deepnote_index_column": 65
                },
                {
                  "Triangle Number": 10220,
                  "NaiCSG Mean Time": 1429035.6666666667,
                  "BinCSG Mean Time": 152532.66666666666,
                  "OptiCSG Mean Time": 1988,
                  "NaiCSG Rolling Mean": "1300652.380952381",
                  "BinCSG Rolling Mean": "156156.76190476192",
                  "OptiCSG Rolling Mean": "1551.0714285714287",
                  "_deepnote_index_column": 66
                },
                {
                  "Triangle Number": 10656,
                  "NaiCSG Mean Time": 1469541,
                  "BinCSG Mean Time": 158060,
                  "OptiCSG Mean Time": 1953.5,
                  "NaiCSG Rolling Mean": "1343087.0",
                  "BinCSG Rolling Mean": "160471.61904761908",
                  "OptiCSG Rolling Mean": "1636.2142857142858",
                  "_deepnote_index_column": 67
                },
                {
                  "Triangle Number": 10800,
                  "NaiCSG Mean Time": 1503263,
                  "BinCSG Mean Time": 159729.66666666666,
                  "OptiCSG Mean Time": 1563,
                  "NaiCSG Rolling Mean": "1382455.6190476192",
                  "BinCSG Rolling Mean": "163275.90476190476",
                  "OptiCSG Rolling Mean": "1681.5714285714287",
                  "_deepnote_index_column": 68
                },
                {
                  "Triangle Number": 11248,
                  "NaiCSG Mean Time": 1588475.6666666667,
                  "BinCSG Mean Time": 168828.66666666666,
                  "OptiCSG Mean Time": 1387.5,
                  "NaiCSG Rolling Mean": "1431520.3333333335",
                  "BinCSG Rolling Mean": "163177.6666666667",
                  "OptiCSG Rolling Mean": "1691.0714285714287",
                  "_deepnote_index_column": 69
                },
                {
                  "Triangle Number": 11396,
                  "NaiCSG Mean Time": 1622460,
                  "BinCSG Mean Time": 165896.33333333334,
                  "OptiCSG Mean Time": 1886,
                  "NaiCSG Rolling Mean": "1477195.9047619049",
                  "BinCSG Rolling Mean": "158971.09523809524",
                  "OptiCSG Rolling Mean": "1726.5714285714287",
                  "_deepnote_index_column": 70
                },
                {
                  "Triangle Number": 11856,
                  "NaiCSG Mean Time": 1703290,
                  "BinCSG Mean Time": 174620.33333333334,
                  "OptiCSG Mean Time": 2328,
                  "NaiCSG Rolling Mean": "1530445.5714285714",
                  "BinCSG Rolling Mean": "161706.8095238095",
                  "OptiCSG Rolling Mean": "1809.2857142857142",
                  "_deepnote_index_column": 71
                },
                {
                  "Triangle Number": 12008,
                  "NaiCSG Mean Time": 1709080,
                  "BinCSG Mean Time": 176120.33333333334,
                  "OptiCSG Mean Time": 1911.5,
                  "NaiCSG Rolling Mean": "1575020.761904762",
                  "BinCSG Rolling Mean": "165112.57142857142",
                  "OptiCSG Rolling Mean": "1859.642857142857",
                  "_deepnote_index_column": 72
                },
                {
                  "Triangle Number": 12480,
                  "NaiCSG Mean Time": 1774493,
                  "BinCSG Mean Time": 183307,
                  "OptiCSG Mean Time": 1732,
                  "NaiCSG Rolling Mean": "1624371.8095238095",
                  "BinCSG Rolling Mean": "169508.90476190476",
                  "OptiCSG Rolling Mean": "1823.0714285714287",
                  "_deepnote_index_column": 73
                },
                {
                  "Triangle Number": 12636,
                  "NaiCSG Mean Time": 1821041,
                  "BinCSG Mean Time": 184293,
                  "OptiCSG Mean Time": 1468,
                  "NaiCSG Rolling Mean": "1674586.0952380951",
                  "BinCSG Rolling Mean": "173256.47619047618",
                  "OptiCSG Rolling Mean": "1753.7142857142858",
                  "_deepnote_index_column": 74
                },
                {
                  "Triangle Number": 13120,
                  "NaiCSG Mean Time": 1864474.6666666667,
                  "BinCSG Mean Time": 191410,
                  "OptiCSG Mean Time": 1762.5,
                  "NaiCSG Rolling Mean": "1726187.7619047617",
                  "BinCSG Rolling Mean": "177782.23809523808",
                  "OptiCSG Rolling Mean": "1782.2142857142858",
                  "_deepnote_index_column": 75
                },
                {
                  "Triangle Number": 13280,
                  "NaiCSG Mean Time": 1935122.3333333333,
                  "BinCSG Mean Time": 194003,
                  "OptiCSG Mean Time": 1554.5,
                  "NaiCSG Rolling Mean": "1775708.7142857143",
                  "BinCSG Rolling Mean": "181378.57142857142",
                  "OptiCSG Rolling Mean": "1806.0714285714287",
                  "_deepnote_index_column": 76
                },
                {
                  "Triangle Number": 13776,
                  "NaiCSG Mean Time": 2013851.3333333333,
                  "BinCSG Mean Time": 201890,
                  "OptiCSG Mean Time": 1368,
                  "NaiCSG Rolling Mean": "1831621.761904762",
                  "BinCSG Rolling Mean": "186520.5238095238",
                  "OptiCSG Rolling Mean": "1732.0714285714287",
                  "_deepnote_index_column": 77
                },
                {
                  "Triangle Number": 13940,
                  "NaiCSG Mean Time": 2080762.6666666667,
                  "BinCSG Mean Time": 204667,
                  "OptiCSG Mean Time": 1483.5,
                  "NaiCSG Rolling Mean": "1885546.4285714286",
                  "BinCSG Rolling Mean": "190812.90476190476",
                  "OptiCSG Rolling Mean": "1611.4285714285713",
                  "_deepnote_index_column": 78
                },
                {
                  "Triangle Number": 14448,
                  "NaiCSG Mean Time": 2178922.6666666665,
                  "BinCSG Mean Time": 210308,
                  "OptiCSG Mean Time": 1561,
                  "NaiCSG Rolling Mean": "1952666.8095238097",
                  "BinCSG Rolling Mean": "195696.85714285713",
                  "OptiCSG Rolling Mean": "1561.357142857143",
                  "_deepnote_index_column": 79
                },
                {
                  "Triangle Number": 14616,
                  "NaiCSG Mean Time": 2175540.6666666665,
                  "BinCSG Mean Time": 230131,
                  "OptiCSG Mean Time": 1416,
                  "NaiCSG Rolling Mean": "2009959.3333333335",
                  "BinCSG Rolling Mean": "202386.0",
                  "OptiCSG Rolling Mean": "1516.2142857142858",
                  "_deepnote_index_column": 80
                },
                {
                  "Triangle Number": 15136,
                  "NaiCSG Mean Time": 2269573.6666666665,
                  "BinCSG Mean Time": 248540,
                  "OptiCSG Mean Time": 1327.5,
                  "NaiCSG Rolling Mean": "2074035.4285714286",
                  "BinCSG Rolling Mean": "211564.14285714287",
                  "OptiCSG Rolling Mean": "1496.142857142857",
                  "_deepnote_index_column": 81
                },
                {
                  "Triangle Number": 15308,
                  "NaiCSG Mean Time": 2262161.3333333335,
                  "BinCSG Mean Time": 236952,
                  "OptiCSG Mean Time": 1511.5,
                  "NaiCSG Rolling Mean": "2130847.8095238092",
                  "BinCSG Rolling Mean": "218070.14285714287",
                  "OptiCSG Rolling Mean": "1460.2857142857142",
                  "_deepnote_index_column": 82
                },
                {
                  "Triangle Number": 15840,
                  "NaiCSG Mean Time": 2327147,
                  "BinCSG Mean Time": 248399.33333333334,
                  "OptiCSG Mean Time": 1437,
                  "NaiCSG Rolling Mean": "2186851.3333333335",
                  "BinCSG Rolling Mean": "225841.04761904763",
                  "OptiCSG Rolling Mean": "1443.5",
                  "_deepnote_index_column": 83
                },
                {
                  "Triangle Number": 16016,
                  "NaiCSG Mean Time": 2386601.6666666665,
                  "BinCSG Mean Time": 250487.66666666666,
                  "OptiCSG Mean Time": 1496.5,
                  "NaiCSG Rolling Mean": "2240101.380952381",
                  "BinCSG Rolling Mean": "232783.57142857142",
                  "OptiCSG Rolling Mean": "1461.857142857143",
                  "_deepnote_index_column": 84
                },
                {
                  "Triangle Number": 16560,
                  "NaiCSG Mean Time": 2412367.3333333335,
                  "BinCSG Mean Time": 256954.66666666666,
                  "OptiCSG Mean Time": 1382.5,
                  "NaiCSG Rolling Mean": "2287473.476190476",
                  "BinCSG Rolling Mean": "240253.2380952381",
                  "OptiCSG Rolling Mean": "1447.4285714285713",
                  "_deepnote_index_column": 85
                },
                {
                  "Triangle Number": 16740,
                  "NaiCSG Mean Time": 2492680.6666666665,
                  "BinCSG Mean Time": 264765.6666666667,
                  "OptiCSG Mean Time": 1428.5,
                  "NaiCSG Rolling Mean": "2332296.0476190476",
                  "BinCSG Rolling Mean": "248032.9047619048",
                  "OptiCSG Rolling Mean": "1428.5",
                  "_deepnote_index_column": 86
                },
                {
                  "Triangle Number": 17296,
                  "NaiCSG Mean Time": 2717931,
                  "BinCSG Mean Time": 270377,
                  "OptiCSG Mean Time": 1433,
                  "NaiCSG Rolling Mean": "2409780.3809523806",
                  "BinCSG Rolling Mean": "253782.33333333334",
                  "OptiCSG Rolling Mean": "1430.9285714285713",
                  "_deepnote_index_column": 87
                },
                {
                  "Triangle Number": 17480,
                  "NaiCSG Mean Time": 2659346,
                  "BinCSG Mean Time": 284583.6666666667,
                  "OptiCSG Mean Time": 1384,
                  "NaiCSG Rolling Mean": "2465462.1428571427",
                  "BinCSG Rolling Mean": "258931.42857142858",
                  "OptiCSG Rolling Mean": "1439.0",
                  "_deepnote_index_column": 88
                }
              ],
              "rows_bottom": null
            },
            "text/plain": "    Triangle Number  NaiCSG Mean Time  BinCSG Mean Time  OptiCSG Mean Time  \\\n0                56      9.944333e+03       1088.000000              974.0   \n1                96      1.519233e+04       2585.333333             1164.0   \n2               108      2.082100e+04       2410.333333              966.0   \n3               160      2.680333e+04       3428.333333             1140.5   \n4               176      2.747233e+04       2926.000000             1051.0   \n..              ...               ...               ...                ...   \n84            16016      2.386602e+06     250487.666667             1496.5   \n85            16560      2.412367e+06     256954.666667             1382.5   \n86            16740      2.492681e+06     264765.666667             1428.5   \n87            17296      2.717931e+06     270377.000000             1433.0   \n88            17480      2.659346e+06     284583.666667             1384.0   \n\n    NaiCSG Rolling Mean  BinCSG Rolling Mean  OptiCSG Rolling Mean  \n0                   NaN                  NaN                   NaN  \n1                   NaN                  NaN                   NaN  \n2                   NaN                  NaN                   NaN  \n3                   NaN                  NaN                   NaN  \n4                   NaN                  NaN                   NaN  \n..                  ...                  ...                   ...  \n84         2.240101e+06        232783.571429           1461.857143  \n85         2.287473e+06        240253.238095           1447.428571  \n86         2.332296e+06        248032.904762           1428.500000  \n87         2.409780e+06        253782.333333           1430.928571  \n88         2.465462e+06        258931.428571           1439.000000  \n\n[89 rows x 7 columns]",
            "text/html": "<div>\n<style scoped>\n    .dataframe tbody tr th:only-of-type {\n        vertical-align: middle;\n    }\n\n    .dataframe tbody tr th {\n        vertical-align: top;\n    }\n\n    .dataframe thead th {\n        text-align: right;\n    }\n</style>\n<table border=\"1\" class=\"dataframe\">\n  <thead>\n    <tr style=\"text-align: right;\">\n      <th></th>\n      <th>Triangle Number</th>\n      <th>NaiCSG Mean Time</th>\n      <th>BinCSG Mean Time</th>\n      <th>OptiCSG Mean Time</th>\n      <th>NaiCSG Rolling Mean</th>\n      <th>BinCSG Rolling Mean</th>\n      <th>OptiCSG Rolling Mean</th>\n    </tr>\n  </thead>\n  <tbody>\n    <tr>\n      <th>0</th>\n      <td>56</td>\n      <td>9.944333e+03</td>\n      <td>1088.000000</td>\n      <td>974.0</td>\n      <td>NaN</td>\n      <td>NaN</td>\n      <td>NaN</td>\n    </tr>\n    <tr>\n      <th>1</th>\n      <td>96</td>\n      <td>1.519233e+04</td>\n      <td>2585.333333</td>\n      <td>1164.0</td>\n      <td>NaN</td>\n      <td>NaN</td>\n      <td>NaN</td>\n    </tr>\n    <tr>\n      <th>2</th>\n      <td>108</td>\n      <td>2.082100e+04</td>\n      <td>2410.333333</td>\n      <td>966.0</td>\n      <td>NaN</td>\n      <td>NaN</td>\n      <td>NaN</td>\n    </tr>\n    <tr>\n      <th>3</th>\n      <td>160</td>\n      <td>2.680333e+04</td>\n      <td>3428.333333</td>\n      <td>1140.5</td>\n      <td>NaN</td>\n      <td>NaN</td>\n      <td>NaN</td>\n    </tr>\n    <tr>\n      <th>4</th>\n      <td>176</td>\n      <td>2.747233e+04</td>\n      <td>2926.000000</td>\n      <td>1051.0</td>\n      <td>NaN</td>\n      <td>NaN</td>\n      <td>NaN</td>\n    </tr>\n    <tr>\n      <th>...</th>\n      <td>...</td>\n      <td>...</td>\n      <td>...</td>\n      <td>...</td>\n      <td>...</td>\n      <td>...</td>\n      <td>...</td>\n    </tr>\n    <tr>\n      <th>84</th>\n      <td>16016</td>\n      <td>2.386602e+06</td>\n      <td>250487.666667</td>\n      <td>1496.5</td>\n      <td>2.240101e+06</td>\n      <td>232783.571429</td>\n      <td>1461.857143</td>\n    </tr>\n    <tr>\n      <th>85</th>\n      <td>16560</td>\n      <td>2.412367e+06</td>\n      <td>256954.666667</td>\n      <td>1382.5</td>\n      <td>2.287473e+06</td>\n      <td>240253.238095</td>\n      <td>1447.428571</td>\n    </tr>\n    <tr>\n      <th>86</th>\n      <td>16740</td>\n      <td>2.492681e+06</td>\n      <td>264765.666667</td>\n      <td>1428.5</td>\n      <td>2.332296e+06</td>\n      <td>248032.904762</td>\n      <td>1428.500000</td>\n    </tr>\n    <tr>\n      <th>87</th>\n      <td>17296</td>\n      <td>2.717931e+06</td>\n      <td>270377.000000</td>\n      <td>1433.0</td>\n      <td>2.409780e+06</td>\n      <td>253782.333333</td>\n      <td>1430.928571</td>\n    </tr>\n    <tr>\n      <th>88</th>\n      <td>17480</td>\n      <td>2.659346e+06</td>\n      <td>284583.666667</td>\n      <td>1384.0</td>\n      <td>2.465462e+06</td>\n      <td>258931.428571</td>\n      <td>1439.000000</td>\n    </tr>\n  </tbody>\n</table>\n<p>89 rows × 7 columns</p>\n</div>"
          },
          "metadata": {}
        }
      ]
    },
    {
      "cell_type": "code",
      "metadata": {
        "tags": [],
        "cell_id": "00022-f5bd6ac0-d7a5-4ee6-b44c-6a6314859918",
        "deepnote_to_be_reexecuted": false,
        "source_hash": "bbe439fa",
        "execution_millis": 209,
        "execution_start": 1616403022399,
        "deepnote_cell_type": "code"
      },
      "source": "df_comp.plot(x=\"Triangle Number\", y=[\"NaiCSG Mean Time\", \"BinCSG Mean Time\", \"OptiCSG Mean Time\"], kind=\"line\", lw=3)\nplt.title('Performance of all versions')\nplt.show()",
      "execution_count": 16,
      "outputs": [
        {
          "data": {
            "text/plain": "<Figure size 432x288 with 1 Axes>",
            "image/png": "[encoded data removed]"
          },
          "metadata": {},
          "output_type": "display_data"
        }
      ]
    },
    {
      "cell_type": "code",
      "metadata": {
        "tags": [],
        "cell_id": "00020-feb88da3-939f-441d-9a30-6785af012484",
        "deepnote_to_be_reexecuted": false,
        "source_hash": "eb11dcb3",
        "execution_millis": 228,
        "execution_start": 1616403022615,
        "deepnote_cell_type": "code"
      },
      "source": "df_comp.plot(x=\"Triangle Number\", y=[\"NaiCSG Rolling Mean\", \"BinCSG Rolling Mean\", \"OptiCSG Rolling Mean\"], kind=\"line\", lw=3)\nplt.title(\"Rolling average of mean time\")\nplt.show()\n\n# 1. Change the plot to remove the first line\n# 2. Wrap the scene in the sphere and run the tests with the spheres inside there.",
      "execution_count": 17,
      "outputs": [
        {
          "data": {
            "text/plain": "<Figure size 432x288 with 1 Axes>",
            "image/png": "[encoded data removed]"
          },
          "metadata": {},
          "output_type": "display_data"
        }
      ]
    },
    {
      "cell_type": "markdown",
      "source": "## Number of Nests\n\n### NaiCSG\n",
      "metadata": {
        "tags": [],
        "cell_id": "00023-6060588b-aec3-4ec0-a77f-36b18f6c2630",
        "deepnote_cell_type": "markdown"
      }
    },
    {
      "cell_type": "code",
      "source": "nest_1 = pd.read_csv('n_nests_tests/nesting_base_union.txt', header=None)\nnest_2 = pd.read_csv('n_nests_tests/nesting_optim_union.txt', header=None)\n\nnest_viewport = pd.read_csv('n_nests_tests/nest_to_viewport.txt', header=None)",
      "metadata": {
        "tags": [],
        "cell_id": "00024-4897ea3c-6c56-4107-bf0a-903f4859cb9c",
        "deepnote_to_be_reexecuted": false,
        "source_hash": "2446eb2c",
        "execution_millis": 9,
        "execution_start": 1616403022844,
        "deepnote_cell_type": "code"
      },
      "outputs": [],
      "execution_count": 18
    },
    {
      "cell_type": "code",
      "source": "df_nest = pd.concat([nest_1, nest_2, nest_viewport], axis=1)\ndf_nest.columns = [\"Triangle Number\", \"Number of Nests\", \"Base Time\", \"tris2\", \"nests2\", \"Optim Time\", \"nests3\", \"Viewport Fill\"]\ndf_nest = df_nest.drop(columns=['tris2', 'nests2', 'nests3'])\n\nmean_viewport_fill = df_nest['Viewport Fill'].mean()\nprint(mean_viewport_fill)",
      "metadata": {
        "tags": [],
        "cell_id": "00025-b212f0fd-f635-458f-ad79-93597b902e2d",
        "deepnote_to_be_reexecuted": false,
        "source_hash": "6af6f23b",
        "execution_millis": 16,
        "execution_start": 1616403022860,
        "deepnote_cell_type": "code"
      },
      "outputs": [
        {
          "name": "stdout",
          "text": "71.62352430555556\n",
          "output_type": "stream"
        }
      ],
      "execution_count": 19
    },
    {
      "cell_type": "code",
      "source": "df_nest",
      "metadata": {
        "tags": [],
        "cell_id": "00026-21c7d67a-aac1-425e-8565-f7433870dad3",
        "deepnote_to_be_reexecuted": false,
        "source_hash": "a1aa4490",
        "execution_millis": 44,
        "execution_start": 1616403022868,
        "deepnote_cell_type": "code"
      },
      "outputs": [
        {
          "output_type": "execute_result",
          "execution_count": 20,
          "data": {
            "application/vnd.deepnote.dataframe.v2+json": {
              "row_count": 14,
              "column_count": 5,
              "columns": [
                {
                  "name": "Triangle Number",
                  "dtype": "int64",
                  "stats": {
                    "unique_count": 14,
                    "nan_count": 0,
                    "min": 1584,
                    "max": 8448,
                    "histogram": [
                      {
                        "bin_start": 1584,
                        "bin_end": 2270.4,
                        "count": 2
                      },
                      {
                        "bin_start": 2270.4,
                        "bin_end": 2956.8,
                        "count": 1
                      },
                      {
                        "bin_start": 2956.8,
                        "bin_end": 3643.2,
                        "count": 1
                      },
                      {
                        "bin_start": 3643.2,
                        "bin_end": 4329.6,
                        "count": 2
                      },
                      {
                        "bin_start": 4329.6,
                        "bin_end": 5016,
                        "count": 1
                      },
                      {
                        "bin_start": 5016,
                        "bin_end": 5702.4,
                        "count": 1
                      },
                      {
                        "bin_start": 5702.4,
                        "bin_end": 6388.8,
                        "count": 2
                      },
                      {
                        "bin_start": 6388.8,
                        "bin_end": 7075.2,
                        "count": 1
                      },
                      {
                        "bin_start": 7075.2,
                        "bin_end": 7761.599999999999,
                        "count": 1
                      },
                      {
                        "bin_start": 7761.599999999999,
                        "bin_end": 8448,
                        "count": 2
                      }
                    ]
                  }
                },
                {
                  "name": "Number of Nests",
                  "dtype": "int64",
                  "stats": {
                    "unique_count": 14,
                    "nan_count": 0,
                    "min": 1,
                    "max": 14,
                    "histogram": [
                      {
                        "bin_start": 1,
                        "bin_end": 2.3,
                        "count": 2
                      },
                      {
                        "bin_start": 2.3,
                        "bin_end": 3.6,
                        "count": 1
                      },
                      {
                        "bin_start": 3.6,
                        "bin_end": 4.9,
                        "count": 1
                      },
                      {
                        "bin_start": 4.9,
                        "bin_end": 6.2,
                        "count": 2
                      },
                      {
                        "bin_start": 6.2,
                        "bin_end": 7.5,
                        "count": 1
                      },
                      {
                        "bin_start": 7.5,
                        "bin_end": 8.8,
                        "count": 1
                      },
                      {
                        "bin_start": 8.8,
                        "bin_end": 10.1,
                        "count": 2
                      },
                      {
                        "bin_start": 10.1,
                        "bin_end": 11.4,
                        "count": 1
                      },
                      {
                        "bin_start": 11.4,
                        "bin_end": 12.700000000000001,
                        "count": 1
                      },
                      {
                        "bin_start": 12.700000000000001,
                        "bin_end": 14,
                        "count": 2
                      }
                    ]
                  }
                },
                {
                  "name": "Base Time",
                  "dtype": "int64",
                  "stats": {
                    "unique_count": 14,
                    "nan_count": 0,
                    "min": 237058,
                    "max": 1198426,
                    "histogram": [
                      {
                        "bin_start": 237058,
                        "bin_end": 333194.8,
                        "count": 2
                      },
                      {
                        "bin_start": 333194.8,
                        "bin_end": 429331.6,
                        "count": 1
                      },
                      {
                        "bin_start": 429331.6,
                        "bin_end": 525468.4,
                        "count": 1
                      },
                      {
                        "bin_start": 525468.4,
                        "bin_end": 621605.2,
                        "count": 2
                      },
                      {
                        "bin_start": 621605.2,
                        "bin_end": 717742,
                        "count": 1
                      },
                      {
                        "bin_start": 717742,
                        "bin_end": 813878.8,
                        "count": 1
                      },
                      {
                        "bin_start": 813878.8,
                        "bin_end": 910015.6,
                        "count": 2
                      },
                      {
                        "bin_start": 910015.6,
                        "bin_end": 1006152.4,
                        "count": 1
                      },
                      {
                        "bin_start": 1006152.4,
                        "bin_end": 1102289.2000000002,
                        "count": 1
                      },
                      {
                        "bin_start": 1102289.2000000002,
                        "bin_end": 1198426,
                        "count": 2
                      }
                    ]
                  }
                },
                {
                  "name": "Optim Time",
                  "dtype": "int64",
                  "stats": {
                    "unique_count": 14,
                    "nan_count": 0,
                    "min": 4643,
                    "max": 13431,
                    "histogram": [
                      {
                        "bin_start": 4643,
                        "bin_end": 5521.8,
                        "count": 1
                      },
                      {
                        "bin_start": 5521.8,
                        "bin_end": 6400.6,
                        "count": 0
                      },
                      {
                        "bin_start": 6400.6,
                        "bin_end": 7279.4,
                        "count": 1
                      },
                      {
                        "bin_start": 7279.4,
                        "bin_end": 8158.2,
                        "count": 1
                      },
                      {
                        "bin_start": 8158.2,
                        "bin_end": 9037,
                        "count": 1
                      },
                      {
                        "bin_start": 9037,
                        "bin_end": 9915.8,
                        "count": 1
                      },
                      {
                        "bin_start": 9915.8,
                        "bin_end": 10794.599999999999,
                        "count": 0
                      },
                      {
                        "bin_start": 10794.599999999999,
                        "bin_end": 11673.4,
                        "count": 2
                      },
                      {
                        "bin_start": 11673.4,
                        "bin_end": 12552.2,
                        "count": 2
                      },
                      {
                        "bin_start": 12552.2,
                        "bin_end": 13431,
                        "count": 5
                      }
                    ]
                  }
                },
                {
                  "name": "Viewport Fill",
                  "dtype": "float64",
                  "stats": {
                    "unique_count": 14,
                    "nan_count": 0,
                    "min": 68.20733506944444,
                    "max": 74.67981770833333,
                    "histogram": [
                      {
                        "bin_start": 68.20733506944444,
                        "bin_end": 68.85458333333332,
                        "count": 1
                      },
                      {
                        "bin_start": 68.85458333333332,
                        "bin_end": 69.50183159722222,
                        "count": 2
                      },
                      {
                        "bin_start": 69.50183159722222,
                        "bin_end": 70.1490798611111,
                        "count": 0
                      },
                      {
                        "bin_start": 70.1490798611111,
                        "bin_end": 70.796328125,
                        "count": 1
                      },
                      {
                        "bin_start": 70.796328125,
                        "bin_end": 71.44357638888889,
                        "count": 3
                      },
                      {
                        "bin_start": 71.44357638888889,
                        "bin_end": 72.09082465277777,
                        "count": 2
                      },
                      {
                        "bin_start": 72.09082465277777,
                        "bin_end": 72.73807291666667,
                        "count": 1
                      },
                      {
                        "bin_start": 72.73807291666667,
                        "bin_end": 73.38532118055555,
                        "count": 1
                      },
                      {
                        "bin_start": 73.38532118055555,
                        "bin_end": 74.03256944444445,
                        "count": 1
                      },
                      {
                        "bin_start": 74.03256944444445,
                        "bin_end": 74.67981770833333,
                        "count": 2
                      }
                    ]
                  }
                },
                {
                  "name": "_deepnote_index_column",
                  "dtype": "int64"
                }
              ],
              "rows_top": [
                {
                  "Triangle Number": 1584,
                  "Number of Nests": 1,
                  "Base Time": 237058,
                  "Optim Time": 4643,
                  "Viewport Fill": 73.89375,
                  "_deepnote_index_column": 0
                },
                {
                  "Triangle Number": 2112,
                  "Number of Nests": 2,
                  "Base Time": 325202,
                  "Optim Time": 6850,
                  "Viewport Fill": 71.10442708333333,
                  "_deepnote_index_column": 1
                },
                {
                  "Triangle Number": 2640,
                  "Number of Nests": 3,
                  "Base Time": 381395,
                  "Optim Time": 7448,
                  "Viewport Fill": 68.20733506944444,
                  "_deepnote_index_column": 2
                },
                {
                  "Triangle Number": 3168,
                  "Number of Nests": 4,
                  "Base Time": 455960,
                  "Optim Time": 8604,
                  "Viewport Fill": 69.42482638888889,
                  "_deepnote_index_column": 3
                },
                {
                  "Triangle Number": 3696,
                  "Number of Nests": 5,
                  "Base Time": 529122,
                  "Optim Time": 9709,
                  "Viewport Fill": 70.63958333333333,
                  "_deepnote_index_column": 4
                },
                {
                  "Triangle Number": 4224,
                  "Number of Nests": 6,
                  "Base Time": 599498,
                  "Optim Time": 11480,
                  "Viewport Fill": 70.996875,
                  "_deepnote_index_column": 5
                },
                {
                  "Triangle Number": 4752,
                  "Number of Nests": 7,
                  "Base Time": 674182,
                  "Optim Time": 12048,
                  "Viewport Fill": 69.49887152777777,
                  "_deepnote_index_column": 6
                },
                {
                  "Triangle Number": 5280,
                  "Number of Nests": 8,
                  "Base Time": 758413,
                  "Optim Time": 11278,
                  "Viewport Fill": 70.82009548611111,
                  "_deepnote_index_column": 7
                },
                {
                  "Triangle Number": 5808,
                  "Number of Nests": 9,
                  "Base Time": 826069,
                  "Optim Time": 12916,
                  "Viewport Fill": 72.0259982638889,
                  "_deepnote_index_column": 8
                },
                {
                  "Triangle Number": 6336,
                  "Number of Nests": 10,
                  "Base Time": 899317,
                  "Optim Time": 13431,
                  "Viewport Fill": 72.56575520833334,
                  "_deepnote_index_column": 9
                },
                {
                  "Triangle Number": 6864,
                  "Number of Nests": 11,
                  "Base Time": 968080,
                  "Optim Time": 12998,
                  "Viewport Fill": 71.77556423611111,
                  "_deepnote_index_column": 10
                },
                {
                  "Triangle Number": 7392,
                  "Number of Nests": 12,
                  "Base Time": 1046354,
                  "Optim Time": 12346,
                  "Viewport Fill": 72.99605034722222,
                  "_deepnote_index_column": 11
                },
                {
                  "Triangle Number": 7920,
                  "Number of Nests": 13,
                  "Base Time": 1127029,
                  "Optim Time": 13387,
                  "Viewport Fill": 74.100390625,
                  "_deepnote_index_column": 12
                },
                {
                  "Triangle Number": 8448,
                  "Number of Nests": 14,
                  "Base Time": 1198426,
                  "Optim Time": 12828,
                  "Viewport Fill": 74.67981770833333,
                  "_deepnote_index_column": 13
                }
              ],
              "rows_bottom": null
            },
            "text/plain": "    Triangle Number  Number of Nests  Base Time  Optim Time  Viewport Fill\n0              1584                1     237058        4643      73.893750\n1              2112                2     325202        6850      71.104427\n2              2640                3     381395        7448      68.207335\n3              3168                4     455960        8604      69.424826\n4              3696                5     529122        9709      70.639583\n5              4224                6     599498       11480      70.996875\n6              4752                7     674182       12048      69.498872\n7              5280                8     758413       11278      70.820095\n8              5808                9     826069       12916      72.025998\n9              6336               10     899317       13431      72.565755\n10             6864               11     968080       12998      71.775564\n11             7392               12    1046354       12346      72.996050\n12             7920               13    1127029       13387      74.100391\n13             8448               14    1198426       12828      74.679818",
            "text/html": "<div>\n<style scoped>\n    .dataframe tbody tr th:only-of-type {\n        vertical-align: middle;\n    }\n\n    .dataframe tbody tr th {\n        vertical-align: top;\n    }\n\n    .dataframe thead th {\n        text-align: right;\n    }\n</style>\n<table border=\"1\" class=\"dataframe\">\n  <thead>\n    <tr style=\"text-align: right;\">\n      <th></th>\n      <th>Triangle Number</th>\n      <th>Number of Nests</th>\n      <th>Base Time</th>\n      <th>Optim Time</th>\n      <th>Viewport Fill</th>\n    </tr>\n  </thead>\n  <tbody>\n    <tr>\n      <th>0</th>\n      <td>1584</td>\n      <td>1</td>\n      <td>237058</td>\n      <td>4643</td>\n      <td>73.893750</td>\n    </tr>\n    <tr>\n      <th>1</th>\n      <td>2112</td>\n      <td>2</td>\n      <td>325202</td>\n      <td>6850</td>\n      <td>71.104427</td>\n    </tr>\n    <tr>\n      <th>2</th>\n      <td>2640</td>\n      <td>3</td>\n      <td>381395</td>\n      <td>7448</td>\n      <td>68.207335</td>\n    </tr>\n    <tr>\n      <th>3</th>\n      <td>3168</td>\n      <td>4</td>\n      <td>455960</td>\n      <td>8604</td>\n      <td>69.424826</td>\n    </tr>\n    <tr>\n      <th>4</th>\n      <td>3696</td>\n      <td>5</td>\n      <td>529122</td>\n      <td>9709</td>\n      <td>70.639583</td>\n    </tr>\n    <tr>\n      <th>5</th>\n      <td>4224</td>\n      <td>6</td>\n      <td>599498</td>\n      <td>11480</td>\n      <td>70.996875</td>\n    </tr>\n    <tr>\n      <th>6</th>\n      <td>4752</td>\n      <td>7</td>\n      <td>674182</td>\n      <td>12048</td>\n      <td>69.498872</td>\n    </tr>\n    <tr>\n      <th>7</th>\n      <td>5280</td>\n      <td>8</td>\n      <td>758413</td>\n      <td>11278</td>\n      <td>70.820095</td>\n    </tr>\n    <tr>\n      <th>8</th>\n      <td>5808</td>\n      <td>9</td>\n      <td>826069</td>\n      <td>12916</td>\n      <td>72.025998</td>\n    </tr>\n    <tr>\n      <th>9</th>\n      <td>6336</td>\n      <td>10</td>\n      <td>899317</td>\n      <td>13431</td>\n      <td>72.565755</td>\n    </tr>\n    <tr>\n      <th>10</th>\n      <td>6864</td>\n      <td>11</td>\n      <td>968080</td>\n      <td>12998</td>\n      <td>71.775564</td>\n    </tr>\n    <tr>\n      <th>11</th>\n      <td>7392</td>\n      <td>12</td>\n      <td>1046354</td>\n      <td>12346</td>\n      <td>72.996050</td>\n    </tr>\n    <tr>\n      <th>12</th>\n      <td>7920</td>\n      <td>13</td>\n      <td>1127029</td>\n      <td>13387</td>\n      <td>74.100391</td>\n    </tr>\n    <tr>\n      <th>13</th>\n      <td>8448</td>\n      <td>14</td>\n      <td>1198426</td>\n      <td>12828</td>\n      <td>74.679818</td>\n    </tr>\n  </tbody>\n</table>\n</div>"
          },
          "metadata": {}
        }
      ],
      "execution_count": 20
    },
    {
      "cell_type": "code",
      "source": "df_nest.plot(x ='Number of Nests', y=['Base Time', 'Optim Time'], kind = 'line', lw=3)\nplt.show()",
      "metadata": {
        "tags": [],
        "cell_id": "00027-6c25f1be-b464-4a5d-ab55-0d8e1662a182",
        "deepnote_to_be_reexecuted": false,
        "source_hash": "fa0abc1c",
        "execution_millis": 203,
        "execution_start": 1616403022896,
        "deepnote_cell_type": "code"
      },
      "outputs": [
        {
          "data": {
            "text/plain": "<Figure size 432x288 with 1 Axes>",
            "image/png": "[encoded data removed]"
          },
          "metadata": {},
          "output_type": "display_data"
        }
      ],
      "execution_count": 21
    },
    {
      "cell_type": "markdown",
      "source": "<a style='text-decoration:none;line-height:16px;display:flex;color:#5B5B62;padding:10px;justify-content:end;' href='https://deepnote.com?utm_source=created-in-deepnote-cell&projectId=9ac4dee6-3593-4df6-9be3-dcc2fad09905' target=\"_blank\">\n<img style='display:inline;max-height:16px;margin:0px;margin-right:7.5px;' src='data:image/svg+xml;base64,PD94bWwgdmVyc2lvbj0iMS4wIiBlbmNvZGluZz0iVVRGLTgiPz4KPHN2ZyB3aWR0aD0iODBweCIgaGVpZ2h0PSI4MHB4IiB2aWV3Qm94PSIwIDAgODAgODAiIHZlcnNpb249IjEuMSIgeG1sbnM9Imh0dHA6Ly93d3cudzMub3JnLzIwMDAvc3ZnIiB4bWxuczp4bGluaz0iaHR0cDovL3d3dy53My5vcmcvMTk5OS94bGluayI+CiAgICA8IS0tIEdlbmVyYXRvcjogU2tldGNoIDU0LjEgKDc2NDkwKSAtIGh0dHBzOi8vc2tldGNoYXBwLmNvbSAtLT4KICAgIDx0aXRsZT5Hcm91cCAzPC90aXRsZT4KICAgIDxkZXNjPkNyZWF0ZWQgd2l0aCBTa2V0Y2guPC9kZXNjPgogICAgPGcgaWQ9IkxhbmRpbmciIHN0cm9rZT0ibm9uZSIgc3Ryb2tlLXdpZHRoPSIxIiBmaWxsPSJub25lIiBmaWxsLXJ1bGU9ImV2ZW5vZGQiPgogICAgICAgIDxnIGlkPSJBcnRib2FyZCIgdHJhbnNmb3JtPSJ0cmFuc2xhdGUoLTEyMzUuMDAwMDAwLCAtNzkuMDAwMDAwKSI+CiAgICAgICAgICAgIDxnIGlkPSJHcm91cC0zIiB0cmFuc2Zvcm09InRyYW5zbGF0ZSgxMjM1LjAwMDAwMCwgNzkuMDAwMDAwKSI+CiAgICAgICAgICAgICAgICA8cG9seWdvbiBpZD0iUGF0aC0yMCIgZmlsbD0iIzAyNjVCNCIgcG9pbnRzPSIyLjM3NjIzNzYyIDgwIDM4LjA0NzY2NjcgODAgNTcuODIxNzgyMiA3My44MDU3NTkyIDU3LjgyMTc4MjIgMzIuNzU5MjczOSAzOS4xNDAyMjc4IDMxLjY4MzE2ODMiPjwvcG9seWdvbj4KICAgICAgICAgICAgICAgIDxwYXRoIGQ9Ik0zNS4wMDc3MTgsODAgQzQyLjkwNjIwMDcsNzYuNDU0OTM1OCA0Ny41NjQ5MTY3LDcxLjU0MjI2NzEgNDguOTgzODY2LDY1LjI2MTk5MzkgQzUxLjExMjI4OTksNTUuODQxNTg0MiA0MS42NzcxNzk1LDQ5LjIxMjIyODQgMjUuNjIzOTg0Niw0OS4yMTIyMjg0IEMyNS40ODQ5Mjg5LDQ5LjEyNjg0NDggMjkuODI2MTI5Niw0My4yODM4MjQ4IDM4LjY0NzU4NjksMzEuNjgzMTY4MyBMNzIuODcxMjg3MSwzMi41NTQ0MjUgTDY1LjI4MDk3Myw2Ny42NzYzNDIxIEw1MS4xMTIyODk5LDc3LjM3NjE0NCBMMzUuMDA3NzE4LDgwIFoiIGlkPSJQYXRoLTIyIiBmaWxsPSIjMDAyODY4Ij48L3BhdGg+CiAgICAgICAgICAgICAgICA8cGF0aCBkPSJNMCwzNy43MzA0NDA1IEwyNy4xMTQ1MzcsMC4yNTcxMTE0MzYgQzYyLjM3MTUxMjMsLTEuOTkwNzE3MDEgODAsMTAuNTAwMzkyNyA4MCwzNy43MzA0NDA1IEM4MCw2NC45NjA0ODgyIDY0Ljc3NjUwMzgsNzkuMDUwMzQxNCAzNC4zMjk1MTEzLDgwIEM0Ny4wNTUzNDg5LDc3LjU2NzA4MDggNTMuNDE4MjY3Nyw3MC4zMTM2MTAzIDUzLjQxODI2NzcsNTguMjM5NTg4NSBDNTMuNDE4MjY3Nyw0MC4xMjg1NTU3IDM2LjMwMzk1NDQsMzcuNzMwNDQwNSAyNS4yMjc0MTcsMzcuNzMwNDQwNSBDMTcuODQzMDU4NiwzNy43MzA0NDA1IDkuNDMzOTE5NjYsMzcuNzMwNDQwNSAwLDM3LjczMDQ0MDUgWiIgaWQ9IlBhdGgtMTkiIGZpbGw9IiMzNzkzRUYiPjwvcGF0aD4KICAgICAgICAgICAgPC9nPgogICAgICAgIDwvZz4KICAgIDwvZz4KPC9zdmc+' > </img>\nCreated in <span style='font-weight:600;margin-left:4px;'>Deepnote</span></a>",
      "metadata": {
        "tags": [],
        "created_in_deepnote_cell": true,
        "deepnote_cell_type": "markdown"
      }
    }
  ],
  "nbformat": 4,
  "nbformat_minor": 2,
  "metadata": {
    "orig_nbformat": 2,
    "deepnote_notebook_id": "93fadb60-3fb8-43ac-aeec-cb2992a6d78b",
    "deepnote": {
      "is_reactive": false
    },
    "deepnote_execution_queue": []
  }
}