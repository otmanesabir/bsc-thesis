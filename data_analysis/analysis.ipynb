{
 "cells": [
  {
   "cell_type": "markdown",
   "source": "",
   "metadata": {
    "tags": [],
    "cell_id": "00005-deb0380f-3ed8-4404-ac77-b48c5b358b92",
    "deepnote_cell_type": "markdown"
   }
  },
  {
   "cell_type": "markdown",
   "source": "# CSG Result Analysis\n\n\n## Introduction\n\nThis notebook is a breakdown of results gathered from running tests on the implementation of the Combinatorial Geometry method in the OpenRT library. The following sections breakdown the way the tests were conducted and also the flow of the rest of this notebook.\n\n\n### The 3 Operations\n\nBy definition, constructive solid geometry is a method which allows to construct complex geometries using primitive operation and boolean set operations (Union, Difference, Intersection). Therefore, every test requires us to test each of these operations on the same exact load. In theory, the operation itself shouldn't have a drastic impact on the performance of the algorithm.\n\n### The 3 Algorithms\n\nThere are 3 variants of the CSG method implemented in OpenRT. The first is the naive and brute force implementation which we refer to as _NaiCSG_. The second is a variant that uses a Binary Space Partition tree in order to solve the visible surface problem but still naivly finds intersections inside the combinatorial geometry, which we will refer to as _BinCSG_. Lastly, we'll introduce our optimized algorithm which uses a binary space partition tree on the outside (solving the visible surface problem) and also inside each composite geometry in order to direct the rays towards the correct geometries, which we will refer to as _OptiCSG_. Every algorithm is checked for each operation - meaning a total of 9 simulations are conducted per test type.\n\n### The 3 Tests\n\nWe conduct 3 main tests. First, we check how the rendering time develops with respect to the complexity of the geometry. In this case, the complexity of the geometry is the number of polygons in the sphere meshes.\nThe second tests are based on the reaction of the different algorithms to a different number of nested geometries while maitaining a relevantly similar viewport fill rate (how much of the image actually contains geometries). The third test gives us an idea of how the spatial distribution of the scene (how much of the viewport is actually filled) affects the times for each of the algorithms. This helps us grasp how much the view port fill percentage affects each of these algorithms individually; therefore, either confirming or denying our hypothesis.\n\n### Notebook Breakdown\n\nThere are a total of 4 sections (the first being this introduction). Section 2 focuses entirely on extracting data for each alogrithm and only comparing the time of the different operations. Section 3 is focused on processing the data and comparing the mean time of each algorithm to the other. The last section works on modeling the time complexities to close representations and finally drawing conclusion on the performance.  \n\n### Hardware Specifications\n\nAll tests were ran on a Macbook Pro 13\" 2017\n\n- **Processor:** 2,3 GHz Dual-Core Intel Core i5\n- **Memory:** 8 GB 2133 MHz LPDDR3\n- **Graphics Card:** Intel Iris Plus Graphics 640 1536 MB",
   "metadata": {
    "tags": [],
    "cell_id": "00005-ead0146e-e080-4f95-8c79-69beebc4c498",
    "deepnote_cell_type": "markdown"
   }
  },
  {
   "cell_type": "markdown",
   "source": "## Geometry Complexity & Rendering Times\n\n### NaiCSG\n\n\nThe naive algorithm essentially brute-forces its way through the hidden surface problem. For each ray, it iterates over all geometries in the scene and picks the closest intersection. Therefore if a scene contains 100 geometries and we have a 2000x2000px image (not a lot by today standards). A total of **400.000.000** intersections will be checked before the image is finally rendered. ",
   "metadata": {
    "tags": [],
    "cell_id": "00006-2ba0d0c5-d4c5-4cef-a414-d67f2e18acab",
    "deepnote_cell_type": "markdown"
   }
  },
  {
   "cell_type": "code",
   "metadata": {
    "tags": [],
    "cell_id": "00003-d0a9acc8-e9d5-43d9-8fec-0c69e98ffdbf",
    "deepnote_to_be_reexecuted": false,
    "source_hash": "b5f6bf9b",
    "execution_millis": 41892,
    "output_cleared": false,
    "is_code_hidden": false,
    "execution_start": 1620551328677,
    "deepnote_cell_type": "code"
   },
   "source": "!apt-get update && apt-get install -y python3-opencv\n!pip install opencv-python==4.5.1.48",
   "execution_count": 1,
   "outputs": [
    {
     "name": "stdout",
     "text": "Get:60 http://deb.debian.org/debian buster/main amd64 libarpack2 amd64 3.7.0-2 [102 kB]\nGet:61 http://deb.debian.org/debian buster/main amd64 libsuperlu5 amd64 5.2.1+dfsg1-4 [161 kB]\nGet:62 http://deb.debian.org/debian buster/main amd64 libarmadillo9 amd64 1:9.200.7+dfsg-1 [88.6 kB]\nGet:63 http://deb.debian.org/debian buster/main amd64 libatk-bridge2.0-0 amd64 2.30.0-5 [61.6 kB]\nGet:64 http://deb.debian.org/debian buster/main amd64 libva-drm2 amd64 2.4.0-1 [16.6 kB]\nGet:65 http://deb.debian.org/debian buster/main amd64 libva-x11-2 amd64 2.4.0-1 [21.3 kB]\nGet:66 http://deb.debian.org/debian buster/main amd64 libvdpau1 amd64 1.1.1-10 [42.0 kB]\nGet:67 http://deb.debian.org/debian buster/main amd64 libavutil56 amd64 7:4.1.6-1~deb10u1 [237 kB]\nGet:68 http://deb.debian.org/debian buster/main amd64 libcodec2-0.8.1 amd64 0.8.1-2 [233 kB]\nGet:69 http://deb.debian.org/debian buster/main amd64 libcrystalhd3 amd64 1:0.0~git20110715.fdd2f19-13 [45.9 kB]\nGet:70 http://deb.debian.org/debian buster/main amd64 libgsm1 amd64 1.0.18-2 [27.7 kB]\nGet:71 http://deb.debian.org/debian buster/main amd64 libmp3lame0 amd64 3.100-2+b1 [367 kB]\nGet:72 http://deb.debian.org/debian buster/main amd64 libopus0 amd64 1.3-1 [191 kB]\nGet:73 http://deb.debian.org/debian buster/main amd64 libshine3 amd64 3.1.1-2 [23.6 kB]\nGet:74 http://deb.debian.org/debian buster/main amd64 libsnappy1v5 amd64 1.1.7-1 [17.0 kB]\nGet:75 http://deb.debian.org/debian buster/main amd64 libspeex1 amd64 1.2~rc1.2-1+b2 [54.8 kB]\nGet:76 http://deb.debian.org/debian buster/main amd64 libsoxr0 amd64 0.1.2-3 [65.9 kB]\nGet:77 http://deb.debian.org/debian buster/main amd64 libswresample3 amd64 7:4.1.6-1~deb10u1 [105 kB]\nGet:78 http://deb.debian.org/debian buster/main amd64 libogg0 amd64 1.3.2-1+b1 [21.3 kB]\nGet:79 http://deb.debian.org/debian buster/main amd64 libtheora0 amd64 1.1.1+dfsg.1-15 [169 kB]\nGet:80 http://deb.debian.org/debian buster/main amd64 libtwolame0 amd64 0.3.13-4 [49.3 kB]\nGet:81 http://deb.debian.org/debian buster/main amd64 libvorbis0a amd64 1.3.6-2 [93.5 kB]\nGet:82 http://deb.debian.org/debian buster/main amd64 libvorbisenc2 amd64 1.3.6-2 [80.2 kB]\nGet:83 http://deb.debian.org/debian buster/main amd64 libvpx5 amd64 1.7.0-3+deb10u1 [800 kB]\nGet:84 http://deb.debian.org/debian buster/main amd64 libwavpack1 amd64 5.1.0-6 [86.8 kB]\nGet:85 http://deb.debian.org/debian buster/main amd64 libwebpmux3 amd64 0.6.1-2 [97.7 kB]\nGet:86 http://deb.debian.org/debian buster/main amd64 libx264-155 amd64 2:0.155.2917+git0a84d98-2 [528 kB]\nGet:87 http://deb.debian.org/debian buster/main amd64 libnuma1 amd64 2.0.12-1 [26.2 kB]\nGet:88 http://deb.debian.org/debian buster/main amd64 libx265-165 amd64 2.9-4 [1,041 kB]\nGet:89 http://deb.debian.org/debian buster/main amd64 libxvidcore4 amd64 2:1.3.5-1 [241 kB]\nGet:90 http://deb.debian.org/debian buster/main amd64 libzvbi-common all 0.2.35-16 [64.3 kB]\nGet:91 http://deb.debian.org/debian buster/main amd64 libzvbi0 amd64 0.2.35-16 [270 kB]\nGet:92 http://deb.debian.org/debian buster/main amd64 libavcodec58 amd64 7:4.1.6-1~deb10u1 [4,803 kB]\nGet:93 http://deb.debian.org/debian buster/main amd64 libbluray2 amd64 1:1.1.0-1 [145 kB]\nGet:94 http://deb.debian.org/debian buster/main amd64 libchromaprint1 amd64 1.4.3-3 [41.4 kB]\nGet:95 http://deb.debian.org/debian buster/main amd64 libgme0 amd64 0.6.2-1 [121 kB]\nGet:96 http://deb.debian.org/debian buster/main amd64 libmpg123-0 amd64 1.25.10-2 [140 kB]\nGet:97 http://deb.debian.org/debian buster/main amd64 libvorbisfile3 amd64 1.3.6-2 [25.5 kB]\nGet:98 http://deb.debian.org/debian buster/main amd64 libopenmpt0 amd64 0.4.3-1+deb10u1 [627 kB]\nGet:99 http://deb.debian.org/debian buster/main amd64 libssh-gcrypt-4 amd64 0.8.7-1+deb10u1 [200 kB]\nGet:100 http://deb.debian.org/debian buster/main amd64 libavformat58 amd64 7:4.1.6-1~deb10u1 [1,012 kB]\nGet:101 http://deb.debian.org/debian buster/main amd64 libavresample4 amd64 7:4.1.6-1~deb10u1 [102 kB]\nGet:102 http://deb.debian.org/debian buster/main amd64 libbdplus0 amd64 0.1.2-3 [47.5 kB]\nGet:103 http://deb.debian.org/debian buster/main amd64 libevent-2.1-6 amd64 2.1.8-stable-4 [177 kB]\nGet:104 http://deb.debian.org/debian buster/main amd64 libevent-core-2.1-6 amd64 2.1.8-stable-4 [129 kB]\nGet:105 http://deb.debian.org/debian buster/main amd64 libevent-pthreads-2.1-6 amd64 2.1.8-stable-4 [47.9 kB]\nGet:106 http://deb.debian.org/debian buster/main amd64 libpsm-infinipath1 amd64 3.3+20.604758e7-6 [168 kB]\nGet:107 http://deb.debian.org/debian buster/main amd64 libpsm2-2 amd64 11.2.78-1 [177 kB]\nGet:108 http://deb.debian.org/debian buster/main amd64 librdmacm1 amd64 22.1-1 [65.3 kB]\nGet:109 http://deb.debian.org/debian buster/main amd64 libfabric1 amd64 1.6.2-3 [396 kB]\nGet:110 http://deb.debian.org/debian buster/main amd64 libhwloc5 amd64 1.11.12-3 [111 kB]\nGet:111 http://deb.debian.org/debian buster/main amd64 ocl-icd-libopencl1 amd64 2.2.12-2 [37.5 kB]\nGet:112 http://deb.debian.org/debian buster/main amd64 libhwloc-plugins amd64 1.11.12-3 [17.4 kB]\nGet:113 http://deb.debian.org/debian buster/main amd64 libpmix2 amd64 3.1.2-3 [498 kB]\nGet:114 http://deb.debian.org/debian buster/main amd64 libopenmpi3 amd64 3.1.3-11 [2,191 kB]\nGet:115 http://deb.debian.org/debian buster/main amd64 libcaf-openmpi-3 amd64 2.4.0-2 [35.6 kB]\nGet:116 http://deb.debian.org/debian buster/main amd64 libcharls2 amd64 2.0.0+dfsg-1 [64.3 kB]\nGet:117 http://deb.debian.org/debian buster/main amd64 libcoarrays-dev amd64 2.4.0-2 [29.1 kB]\nGet:118 http://deb.debian.org/debian buster/main amd64 openmpi-common all 3.1.3-11 [165 kB]\nGet:119 http://deb.debian.org/debian buster/main amd64 openmpi-bin amd64 3.1.3-11 [200 kB]\nGet:120 http://deb.debian.org/debian buster/main amd64 libcoarrays-openmpi-dev amd64 2.4.0-2 [35.2 kB]\nGet:121 http://deb.debian.org/debian buster/main amd64 liblcms2-2 amd64 2.9-3 [145 kB]\nGet:122 http://deb.debian.org/debian buster/main amd64 libcolord2 amd64 1.4.3-4 [141 kB]\nGet:123 http://deb.debian.org/debian buster/main amd64 libdap25 amd64 3.20.3-1 [557 kB]\nGet:124 http://deb.debian.org/debian buster/main amd64 libdapclient6v5 amd64 3.20.3-1 [202 kB]\nGet:125 http://deb.debian.org/debian buster/main amd64 libdapserver7v5 amd64 3.20.3-1 [131 kB]\nGet:126 http://deb.debian.org/debian buster/main amd64 libraw1394-11 amd64 2.1.2-1+b1 [47.2 kB]\nGet:127 http://deb.debian.org/debian buster/main amd64 libusb-1.0-0 amd64 2:1.0.22-2 [55.3 kB]\nGet:128 http://deb.debian.org/debian buster/main amd64 libdc1394-22 amd64 2.2.5-1 [106 kB]\nGet:129 http://deb.debian.org/debian buster/main amd64 libdrm-amdgpu1 amd64 2.4.97-1 [27.3 kB]\nGet:130 http://deb.debian.org/debian buster/main amd64 libdrm-nouveau2 amd64 2.4.97-1 [26.3 kB]\nGet:131 http://deb.debian.org/debian buster/main amd64 libdrm-radeon1 amd64 2.4.97-1 [31.1 kB]\nGet:132 http://deb.debian.org/debian buster/main amd64 libepoxy0 amd64 1.5.3-0.1 [190 kB]\nGet:133 http://deb.debian.org/debian buster/main amd64 libpopt0 amd64 1.16-12 [49.4 kB]\nGet:134 http://deb.debian.org/debian buster/main amd64 libepsilon1 amd64 0.9.2+dfsg-4 [42.0 kB]\nGet:135 http://deb.debian.org/debian buster/main amd64 libexif12 amd64 0.6.21-5.1+deb10u5 [326 kB]\nGet:136 http://deb.debian.org/debian buster/main amd64 libfreexl1 amd64 1.0.5-3 [34.1 kB]\nGet:137 http://deb.debian.org/debian buster/main amd64 libfyba0 amd64 4.1.1-6 [114 kB]\nGet:138 http://deb.debian.org/debian buster/main amd64 libgeos-3.7.1 amd64 3.7.1-1 [735 kB]\nGet:139 http://deb.debian.org/debian buster/main amd64 libgeos-c1v5 amd64 3.7.1-1 [299 kB]\nGet:140 http://deb.debian.org/debian buster/main amd64 proj-data all 5.2.0-1 [6,986 kB]\nGet:141 http://deb.debian.org/debian buster/main amd64 libproj13 amd64 5.2.0-1 [225 kB]\nGet:142 http://deb.debian.org/debian buster/main amd64 libgeotiff2 amd64 1.4.3-1 [72.0 kB]\nGet:143 http://deb.debian.org/debian buster/main amd64 libgif7 amd64 5.1.4-3 [43.3 kB]\nGet:144 http://deb.debian.org/debian buster/main amd64 libhdf4-0-alt amd64 4.2.13-4 [277 kB]\nGet:145 http://deb.debian.org/debian buster/main amd64 libsz2 amd64 1.0.2-1 [6,676 B]\nGet:146 http://deb.debian.org/debian buster/main amd64 libhdf5-103 amd64 1.10.4+repack-10 [1,325 kB]\nGet:147 http://deb.debian.org/debian buster/main amd64 libminizip1 amd64 1.1-8+b1 [20.4 kB]\nGet:148 http://deb.debian.org/debian buster/main amd64 liburiparser1 amd64 0.9.1-1 [47.8 kB]\nGet:149 http://deb.debian.org/debian buster/main amd64 libkmlbase1 amd64 1.3.0-7 [48.9 kB]\nGet:150 http://deb.debian.org/debian buster/main amd64 libkmldom1 amd64 1.3.0-7 [172 kB]\nGet:151 http://deb.debian.org/debian buster/main amd64 libkmlengine1 amd64 1.3.0-7 [78.4 kB]\nGet:152 http://deb.debian.org/debian buster/main amd64 libkmlconvenience1 amd64 1.3.0-7 [50.1 kB]\nGet:153 http://deb.debian.org/debian buster/main amd64 libkmlregionator1 amd64 1.3.0-7 [25.1 kB]\nGet:154 http://deb.debian.org/debian buster/main amd64 libkmlxsd1 amd64 1.3.0-7 [34.6 kB]\nGet:155 http://deb.debian.org/debian buster/main amd64 mysql-common all 5.8+1.0.5 [7,324 B]\nGet:156 http://deb.debian.org/debian buster/main amd64 mariadb-common all 1:10.3.27-0+deb10u1 [32.2 kB]\nGet:157 http://deb.debian.org/debian buster/main amd64 libmariadb3 amd64 1:10.3.27-0+deb10u1 [171 kB]\nGet:158 http://deb.debian.org/debian buster/main amd64 libnetcdf13 amd64 1:4.6.2-1 [403 kB]\nGet:159 http://deb.debian.org/debian buster/main amd64 libodbc1 amd64 2.3.6-0.1 [223 kB]\nGet:160 http://deb.debian.org/debian buster/main amd64 libogdi3.2 amd64 3.2.1+ds-4 [241 kB]\nGet:161 http://deb.debian.org/debian buster/main amd64 libnspr4 amd64 2:4.20-1 [112 kB]\nGet:162 http://deb.debian.org/debian buster/main amd64 libnss3 amd64 2:3.42.1-1+deb10u3 [1,159 kB]\nGet:163 http://deb.debian.org/debian buster/main amd64 libpoppler82 amd64 0.71.0-5 [1,507 kB]\nGet:164 http://deb.debian.org/debian buster/main amd64 libpq5 amd64 11.11-0+deb10u1 [169 kB]\nGet:165 http://deb.debian.org/debian buster/main amd64 libqhull7 amd64 2015.2-4 [196 kB]\nGet:166 http://deb.debian.org/debian buster/main amd64 libspatialite7 amd64 4.3.0a-5+b2 [1,256 kB]\nGet:167 http://deb.debian.org/debian buster/main amd64 libxerces-c3.2 amd64 3.2.2+debian-1+deb10u1 [886 kB]\nGet:168 http://deb.debian.org/debian buster/main amd64 odbcinst amd64 2.3.6-0.1 [48.4 kB]\nGet:169 http://deb.debian.org/debian buster/main amd64 odbcinst1debian2 amd64 2.3.6-0.1 [78.1 kB]\nGet:170 http://deb.debian.org/debian buster/main amd64 libgdal20 amd64 2.4.0+dfsg-1+b1 [6,171 kB]\nGet:171 http://deb.debian.org/debian buster/main amd64 libsocket++1 amd64 1.12.13-10 [42.1 kB]\nGet:172 http://deb.debian.org/debian buster/main amd64 libgdcm2.8 amd64 2.8.8-9 [1,834 kB]\nGet:173 http://deb.debian.org/debian buster/main amd64 libglapi-mesa amd64 18.3.6-2+deb10u1 [66.3 kB]\nGet:174 http://deb.debian.org/debian buster/main amd64 libllvm7 amd64 1:7.0.1-8+deb10u2 [13.1 MB]\nGet:175 http://deb.debian.org/debian buster/main amd64 libsensors-config all 1:3.5.0-3 [31.6 kB]\nGet:176 http://deb.debian.org/debian buster/main amd64 libsensors5 amd64 1:3.5.0-3 [52.6 kB]\nGet:177 http://deb.debian.org/debian buster/main amd64 libgl1-mesa-dri amd64 18.3.6-2+deb10u1 [6,685 kB]\nGet:178 http://deb.debian.org/debian buster/main amd64 libglvnd0 amd64 1.1.0-1 [48.6 kB]\nGet:179 http://deb.debian.org/debian buster/main amd64 libx11-xcb1 amd64 2:1.6.7-1+deb10u1 [190 kB]\nGet:180 http://deb.debian.org/debian buster/main amd64 libxcb-dri2-0 amd64 1.13.1-2 [101 kB]\nGet:181 http://deb.debian.org/debian buster/main amd64 libxcb-dri3-0 amd64 1.13.1-2 [100 kB]\nGet:182 http://deb.debian.org/debian buster/main amd64 libxcb-glx0 amd64 1.13.1-2 [116 kB]\nGet:183 http://deb.debian.org/debian buster/main amd64 libxcb-present0 amd64 1.13.1-2 [99.1 kB]\nGet:184 http://deb.debian.org/debian buster/main amd64 libxcb-sync1 amd64 1.13.1-2 [103 kB]\nGet:185 http://deb.debian.org/debian buster/main amd64 libxshmfence1 amd64 1.3-1 [8,820 B]\nGet:186 http://deb.debian.org/debian buster/main amd64 libxxf86vm1 amd64 1:1.1.4-1+b2 [20.8 kB]\nGet:187 http://deb.debian.org/debian buster/main amd64 libglx-mesa0 amd64 18.3.6-2+deb10u1 [180 kB]\nGet:188 http://deb.debian.org/debian buster/main amd64 libglx0 amd64 1.1.0-1 [30.0 kB]\nGet:189 http://deb.debian.org/debian buster/main amd64 libgl1 amd64 1.1.0-1 [91.1 kB]\nGet:190 http://deb.debian.org/debian buster/main amd64 libgl2ps1.4 amd64 1.4.0+dfsg1-2 [39.0 kB]\nGet:191 http://deb.debian.org/debian buster/main amd64 libglu1-mesa amd64 9.0.0-2.1+b3 [169 kB]\nGet:192 http://deb.debian.org/debian buster/main amd64 libgphoto2-port12 amd64 2.5.22-3 [118 kB]\nGet:193 http://deb.debian.org/debian buster/main amd64 libgphoto2-6 amd64 2.5.22-3 [895 kB]\nGet:194 http://deb.debian.org/debian buster/main amd64 libgphoto2-l10n all 2.5.22-3 [468 kB]\nGet:195 http://deb.debian.org/debian buster/main amd64 libjson-glib-1.0-common all 1.4.4-2 [52.3 kB]\nGet:196 http://deb.debian.org/debian buster/main amd64 libjson-glib-1.0-0 amd64 1.4.4-2 [61.2 kB]\nGet:197 http://deb.debian.org/debian buster/main amd64 libsoup2.4-1 amd64 2.64.2-2 [253 kB]\nGet:198 http://deb.debian.org/debian buster/main amd64 libsoup-gnome2.4-1 amd64 2.64.2-2 [18.0 kB]\nGet:199 http://deb.debian.org/debian buster/main amd64 librest-0.7-0 amd64 0.8.1-1 [33.7 kB]\nGet:200 http://deb.debian.org/debian buster/main amd64 libwayland-client0 amd64 1.16.0-1 [26.4 kB]\nGet:201 http://deb.debian.org/debian buster/main amd64 libwayland-cursor0 amd64 1.16.0-1 [14.1 kB]\nGet:202 http://deb.debian.org/debian buster/main amd64 libwayland-egl1 amd64 1.16.0-1 [8,204 B]\nGet:203 http://deb.debian.org/debian buster/main amd64 xkb-data all 2.26-2 [681 kB]\nGet:204 http://deb.debian.org/debian buster/main amd64 libxkbcommon0 amd64 0.8.2-1 [123 kB]\nGet:205 http://deb.debian.org/debian buster/main amd64 libgtk-3-common all 3.24.5-1 [3,678 kB]\nGet:206 http://deb.debian.org/debian buster/main amd64 libgtk-3-0 amd64 3.24.5-1 [2,580 kB]\nGet:207 http://deb.debian.org/debian buster/main amd64 libgtk-3-bin amd64 3.24.5-1 [114 kB]\nGet:208 http://deb.debian.org/debian buster/main amd64 libhdf5-openmpi-103 amd64 1.10.4+repack-10 [1,373 kB]\nGet:209 http://deb.debian.org/debian buster/main amd64 libnuma-dev amd64 2.0.12-1 [39.2 kB]\nGet:210 http://deb.debian.org/debian buster/main amd64 libltdl-dev amd64 2.4.6-9 [162 kB]\nGet:211 http://deb.debian.org/debian buster/main amd64 libhwloc-dev amd64 1.11.12-3 [175 kB]\nGet:212 http://deb.debian.org/debian buster/main amd64 libnl-3-dev amd64 3.4.0-1 [102 kB]\nGet:213 http://deb.debian.org/debian buster/main amd64 libnl-route-3-dev amd64 3.4.0-1 [177 kB]\nGet:214 http://deb.debian.org/debian buster/main amd64 libibverbs-dev amd64 22.1-1 [362 kB]\nGet:215 http://deb.debian.org/debian buster/main amd64 libilmbase23 amd64 2.2.1-2 [85.6 kB]\nGet:216 http://deb.debian.org/debian buster/main amd64 liblept5 amd64 1.76.0-1 [940 kB]\nGet:217 http://deb.debian.org/debian buster/main amd64 libnetcdf-c++4 amd64 4.2-11 [34.6 kB]\nGet:218 http://deb.debian.org/debian buster/main amd64 libtbb2 amd64 2018~U6-4 [147 kB]\nGet:219 http://deb.debian.org/debian buster/main amd64 libopencv-core3.2 amd64 3.2.0+dfsg-6 [726 kB]\nGet:220 http://deb.debian.org/debian buster/main amd64 libopencv-flann3.2 amd64 3.2.0+dfsg-6 [106 kB]\nGet:221 http://deb.debian.org/debian buster/main amd64 libopencv-imgproc3.2 amd64 3.2.0+dfsg-6 [830 kB]\nGet:222 http://deb.debian.org/debian buster/main amd64 libopenexr23 amd64 2.2.1-4.1+deb10u1 [592 kB]\nGet:223 http://deb.debian.org/debian buster/main amd64 libopencv-imgcodecs3.2 amd64 3.2.0+dfsg-6 [99.1 kB]\nGet:224 http://deb.debian.org/debian buster/main amd64 libswscale5 amd64 7:4.1.6-1~deb10u1 [202 kB]\nGet:225 http://deb.debian.org/debian buster/main amd64 libopencv-videoio3.2 amd64 3.2.0+dfsg-6 [94.1 kB]\nGet:226 http://deb.debian.org/debian buster/main amd64 libopencv-highgui3.2 amd64 3.2.0+dfsg-6 [34.0 kB]\nGet:227 http://deb.debian.org/debian buster/main amd64 libopencv-ml3.2 amd64 3.2.0+dfsg-6 [234 kB]\nGet:228 http://deb.debian.org/debian buster/main amd64 libopencv-features2d3.2 amd64 3.2.0+dfsg-6 [242 kB]\nGet:229 http://deb.debian.org/debian buster/main amd64 libopencv-calib3d3.2 amd64 3.2.0+dfsg-6 [441 kB]\nGet:230 http://deb.debian.org/debian buster/main amd64 libopencv-objdetect3.2 amd64 3.2.0+dfsg-6 [151 kB]\nGet:231 http://deb.debian.org/debian buster/main amd64 libopencv-photo3.2 amd64 3.2.0+dfsg-6 [199 kB]\nGet:232 http://deb.debian.org/debian buster/main amd64 libopencv-video3.2 amd64 3.2.0+dfsg-6 [136 kB]\nGet:233 http://deb.debian.org/debian buster/main amd64 libopencv-shape3.2 amd64 3.2.0+dfsg-6 [72.3 kB]\nGet:234 http://deb.debian.org/debian buster/main amd64 libopencv-stitching3.2 amd64 3.2.0+dfsg-6 [179 kB]\nGet:235 http://deb.debian.org/debian buster/main amd64 libopencv-superres3.2 amd64 3.2.0+dfsg-6 [57.3 kB]\nGet:236 http://deb.debian.org/debian buster/main amd64 libopencv-videostab3.2 amd64 3.2.0+dfsg-6 [110 kB]\nGet:237 http://deb.debian.org/debian buster/main amd64 libpython2.7-minimal amd64 2.7.16-2+deb10u1 [395 kB]\nGet:238 http://deb.debian.org/debian buster/main amd64 libpython2.7-stdlib amd64 2.7.16-2+deb10u1 [1,912 kB]\nGet:239 http://deb.debian.org/debian buster/main amd64 libpython2.7 amd64 2.7.16-2+deb10u1 [1,036 kB]\nGet:240 http://deb.debian.org/debian buster/main amd64 libtcl8.6 amd64 8.6.9+dfsg-2 [1,005 kB]\nGet:241 http://deb.debian.org/debian buster/main amd64 libxss1 amd64 1:1.2.3-1 [17.8 kB]\nGet:242 http://deb.debian.org/debian buster/main amd64 libtk8.6 amd64 8.6.9-2 [768 kB]\nGet:243 http://deb.debian.org/debian buster/main amd64 libvtk6.3 amd64 6.3.0+dfsg2-2+b5 [32.5 MB]\nGet:244 http://deb.debian.org/debian buster/main amd64 libopencv-viz3.2 amd64 3.2.0+dfsg-6 [128 kB]\nGet:245 http://deb.debian.org/debian buster/main amd64 libtesseract4 amd64 4.0.0-2 [1,234 kB]\nGet:246 http://deb.debian.org/debian buster/main amd64 libopencv-contrib3.2 amd64 3.2.0+dfsg-6 [1,469 kB]\nGet:247 http://deb.debian.org/debian buster/main amd64 libopenmpi-dev amd64 3.1.3-11 [974 kB]\nGet:248 http://deb.debian.org/debian buster/main amd64 libtool all 2.4.6-9 [547 kB]\nGet:249 http://deb.debian.org/debian buster/main amd64 libvdpau-va-gl1 amd64 0.4.2-1+b1 [71.3 kB]\nGet:250 http://deb.debian.org/debian buster/main amd64 libxcb-xfixes0 amd64 1.13.1-2 [103 kB]\nGet:251 http://deb.debian.org/debian buster/main amd64 mesa-va-drivers amd64 18.3.6-2+deb10u1 [1,972 kB]\nGet:252 http://deb.debian.org/debian buster/main amd64 mesa-vdpau-drivers amd64 18.3.6-2+deb10u1 [2,101 kB]\nGet:253 http://deb.debian.org/debian buster/main amd64 proj-bin amd64 5.2.0-1 [105 kB]\nGet:254 http://deb.debian.org/debian buster/main amd64 python3-pkg-resources all 40.8.0-1 [153 kB]\nGet:255 http://deb.debian.org/debian buster/main amd64 python3-numpy amd64 1:1.16.2-1 [2,119 kB]\nGet:256 http://deb.debian.org/debian buster/main amd64 python3-opencv amd64 3.2.0+dfsg-6 [553 kB]\nGet:257 http://deb.debian.org/debian buster/main amd64 va-driver-all amd64 2.4.0-1 [13.0 kB]\nGet:258 http://deb.debian.org/debian buster/main amd64 vdpau-driver-all amd64 1.1.1-10 [20.8 kB]\nFetched 159 MB in 2s (102 MB/s)\ndebconf: delaying package configuration, since apt-utils is not installed\nSelecting previously unselected package libapparmor1:amd64.\n(Reading database ... 31085 files and directories currently installed.)\nPreparing to unpack .../00-libapparmor1_2.13.2-10_amd64.deb ...\nUnpacking libapparmor1:amd64 (2.13.2-10) ...\nSelecting previously unselected package libcap2:amd64.\nPreparing to unpack .../01-libcap2_1%3a2.25-2_amd64.deb ...\nUnpacking libcap2:amd64 (1:2.25-2) ...\nSelecting previously unselected package libargon2-1:amd64.\nPreparing to unpack .../02-libargon2-1_0~20171227-0.2_amd64.deb ...\nUnpacking libargon2-1:amd64 (0~20171227-0.2) ...\nSelecting previously unselected package dmsetup.\nPreparing to unpack .../03-dmsetup_2%3a1.02.155-3_amd64.deb ...\nUnpacking dmsetup (2:1.02.155-3) ...\nSelecting previously unselected package libdevmapper1.02.1:amd64.\nPreparing to unpack .../04-libdevmapper1.02.1_2%3a1.02.155-3_amd64.deb ...\nUnpacking libdevmapper1.02.1:amd64 (2:1.02.155-3) ...\nSelecting previously unselected package libjson-c3:amd64.\nPreparing to unpack .../05-libjson-c3_0.12.1+ds-2+deb10u1_amd64.deb ...\nUnpacking libjson-c3:amd64 (0.12.1+ds-2+deb10u1) ...\nSelecting previously unselected package libcryptsetup12:amd64.\nPreparing to unpack .../06-libcryptsetup12_2%3a2.1.0-5+deb10u2_amd64.deb ...\nUnpacking libcryptsetup12:amd64 (2:2.1.0-5+deb10u2) ...\nSelecting previously unselected package libidn11:amd64.\nPreparing to unpack .../07-libidn11_1.33-2.2_amd64.deb ...\nUnpacking libidn11:amd64 (1.33-2.2) ...\nSelecting previously unselected package libip4tc0:amd64.\nPreparing to unpack .../08-libip4tc0_1.8.2-4_amd64.deb ...\nUnpacking libip4tc0:amd64 (1.8.2-4) ...\nSelecting previously unselected package libkmod2:amd64.\nPreparing to unpack .../09-libkmod2_26-1_amd64.deb ...\nUnpacking libkmod2:amd64 (26-1) ...\nSelecting previously unselected package systemd.\nPreparing to unpack .../10-systemd_241-7~deb10u7_amd64.deb ...\nUnpacking systemd (241-7~deb10u7) ...\nSetting up libapparmor1:amd64 (2.13.2-10) ...\nSetting up libcap2:amd64 (1:2.25-2) ...\nSetting up libargon2-1:amd64 (0~20171227-0.2) ...\nSetting up libjson-c3:amd64 (0.12.1+ds-2+deb10u1) ...\nSetting up libidn11:amd64 (1.33-2.2) ...\nSetting up libip4tc0:amd64 (1.8.2-4) ...\nSetting up libkmod2:amd64 (26-1) ...\nSetting up libdevmapper1.02.1:amd64 (2:1.02.155-3) ...\nSetting up libcryptsetup12:amd64 (2:2.1.0-5+deb10u2) ...\nSetting up systemd (241-7~deb10u7) ...\nCreated symlink /etc/systemd/system/getty.target.wants/getty@tty1.service → /lib/systemd/system/getty@.service.\nCreated symlink /etc/systemd/system/multi-user.target.wants/remote-fs.target → /lib/systemd/system/remote-fs.target.\nCreated symlink /etc/systemd/system/dbus-org.freedesktop.timesync1.service → /lib/systemd/system/systemd-timesyncd.service.\nCreated symlink /etc/systemd/system/sysinit.target.wants/systemd-timesyncd.service → /lib/systemd/system/systemd-timesyncd.service.\nSetting up dmsetup (2:1.02.155-3) ...\nSelecting previously unselected package systemd-sysv.\n(Reading database ... 31920 files and directories currently installed.)\nPreparing to unpack .../000-systemd-sysv_241-7~deb10u7_amd64.deb ...\nUnpacking systemd-sysv (241-7~deb10u7) ...\nSelecting previously unselected package poppler-data.\nPreparing to unpack .../001-poppler-data_0.4.9-2_all.deb ...\nUnpacking poppler-data (0.4.9-2) ...\nSelecting previously unselected package dbus.\nPreparing to unpack .../002-dbus_1.12.20-0+deb10u1_amd64.deb ...\nUnpacking dbus (1.12.20-0+deb10u1) ...\nSelecting previously unselected package libmagic-mgc.\nPreparing to unpack .../003-libmagic-mgc_1%3a5.35-4+deb10u2_amd64.deb ...\nUnpacking libmagic-mgc (1:5.35-4+deb10u2) ...\nSelecting previously unselected package libmagic1:amd64.\nPreparing to unpack .../004-libmagic1_1%3a5.35-4+deb10u2_amd64.deb ...\nUnpacking libmagic1:amd64 (1:5.35-4+deb10u2) ...\nSelecting previously unselected package file.\nPreparing to unpack .../005-file_1%3a5.35-4+deb10u2_amd64.deb ...\nUnpacking file (1:5.35-4+deb10u2) ...\nSelecting previously unselected package libnss-systemd:amd64.\nPreparing to unpack .../006-libnss-systemd_241-7~deb10u7_amd64.deb ...\nUnpacking libnss-systemd:amd64 (241-7~deb10u7) ...\nSelecting previously unselected package libpam-systemd:amd64.\nPreparing to unpack .../007-libpam-systemd_241-7~deb10u7_amd64.deb ...\nUnpacking libpam-systemd:amd64 (241-7~deb10u7) ...\nSelecting previously unselected package libatspi2.0-0:amd64.\nPreparing to unpack .../008-libatspi2.0-0_2.30.0-7_amd64.deb ...\nUnpacking libatspi2.0-0:amd64 (2.30.0-7) ...\nSelecting previously unselected package libxtst6:amd64.\nPreparing to unpack .../009-libxtst6_2%3a1.2.3-1_amd64.deb ...\nUnpacking libxtst6:amd64 (2:1.2.3-1) ...\nSelecting previously unselected package at-spi2-core.\nPreparing to unpack .../010-at-spi2-core_2.30.0-7_amd64.deb ...\nUnpacking at-spi2-core (2.30.0-7) ...\nSelecting previously unselected package libsigsegv2:amd64.\nPreparing to unpack .../011-libsigsegv2_2.12-2_amd64.deb ...\nUnpacking libsigsegv2:amd64 (2.12-2) ...\nSelecting previously unselected package m4.\nPreparing to unpack .../012-m4_1.4.18-2_amd64.deb ...\nUnpacking m4 (1.4.18-2) ...\nSelecting previously unselected package autoconf.\nPreparing to unpack .../013-autoconf_2.69-11_all.deb ...\nUnpacking autoconf (2.69-11) ...\nSelecting previously unselected package autotools-dev.\nPreparing to unpack .../014-autotools-dev_20180224.1_all.deb ...\nUnpacking autotools-dev (20180224.1) ...\nSelecting previously unselected package automake.\nPreparing to unpack .../015-automake_1%3a1.16.1-4_all.deb ...\nUnpacking automake (1:1.16.1-4) ...\nSelecting previously unselected package dbus-user-session.\nPreparing to unpack .../016-dbus-user-session_1.12.20-0+deb10u1_amd64.deb ...\nUnpacking dbus-user-session (1.12.20-0+deb10u1) ...\nSelecting previously unselected package libdconf1:amd64.\nPreparing to unpack .../017-libdconf1_0.30.1-2_amd64.deb ...\nUnpacking libdconf1:amd64 (0.30.1-2) ...\nSelecting previously unselected package dconf-service.\nPreparing to unpack .../018-dconf-service_0.30.1-2_amd64.deb ...\nUnpacking dconf-service (0.30.1-2) ...\nSelecting previously unselected package dconf-gsettings-backend:amd64.\nPreparing to unpack .../019-dconf-gsettings-backend_0.30.1-2_amd64.deb ...\nUnpacking dconf-gsettings-backend:amd64 (0.30.1-2) ...\nSelecting previously unselected package gdal-data.\nPreparing to unpack .../020-gdal-data_2.4.0+dfsg-1_all.deb ...\nUnpacking gdal-data (2.4.0+dfsg-1) ...\nSelecting previously unselected package libgfortran5:amd64.\nPreparing to unpack .../021-libgfortran5_8.3.0-6_amd64.deb ...\nUnpacking libgfortran5:amd64 (8.3.0-6) ...\nSelecting previously unselected package libgfortran-8-dev:amd64.\nPreparing to unpack .../022-libgfortran-8-dev_8.3.0-6_amd64.deb ...\nUnpacking libgfortran-8-dev:amd64 (8.3.0-6) ...\nSelecting previously unselected package gfortran-8.\nPreparing to unpack .../023-gfortran-8_8.3.0-6_amd64.deb ...\nUnpacking gfortran-8 (8.3.0-6) ...\nSelecting previously unselected package gfortran.\nPreparing to unpack .../024-gfortran_4%3a8.3.0-1_amd64.deb ...\nUnpacking gfortran (4:8.3.0-1) ...\nSelecting previously unselected package libproxy1v5:amd64.\nPreparing to unpack .../025-libproxy1v5_0.4.15-5+deb10u1_amd64.deb ...\nUnpacking libproxy1v5:amd64 (0.4.15-5+deb10u1) ...\nSelecting previously unselected package glib-networking-common.\nPreparing to unpack .../026-glib-networking-common_2.58.0-2+deb10u2_all.deb ...\nUnpacking glib-networking-common (2.58.0-2+deb10u2) ...\nSelecting previously unselected package glib-networking-services.\nPreparing to unpack .../027-glib-networking-services_2.58.0-2+deb10u2_amd64.deb ...\nUnpacking glib-networking-services (2.58.0-2+deb10u2) ...\nSelecting previously unselected package gsettings-desktop-schemas.\nPreparing to unpack .../028-gsettings-desktop-schemas_3.28.1-1_all.deb ...\nUnpacking gsettings-desktop-schemas (3.28.1-1) ...\nSelecting previously unselected package glib-networking:amd64.\nPreparing to unpack .../029-glib-networking_2.58.0-2+deb10u2_amd64.deb ...\nUnpacking glib-networking:amd64 (2.58.0-2+deb10u2) ...\nSelecting previously unselected package libva2:amd64.\nPreparing to unpack .../030-libva2_2.4.0-1_amd64.deb ...\nUnpacking libva2:amd64 (2.4.0-1) ...\nSelecting previously unselected package libdrm-common.\nPreparing to unpack .../031-libdrm-common_2.4.97-1_all.deb ...\nUnpacking libdrm-common (2.4.97-1) ...\nSelecting previously unselected package libdrm2:amd64.\nPreparing to unpack .../032-libdrm2_2.4.97-1_amd64.deb ...\nUnpacking libdrm2:amd64 (2.4.97-1) ...\nSelecting previously unselected package libpciaccess0:amd64.\nPreparing to unpack .../033-libpciaccess0_0.14-1_amd64.deb ...\nUnpacking libpciaccess0:amd64 (0.14-1) ...\nSelecting previously unselected package libdrm-intel1:amd64.\nPreparing to unpack .../034-libdrm-intel1_2.4.97-1_amd64.deb ...\nUnpacking libdrm-intel1:amd64 (2.4.97-1) ...\nSelecting previously unselected package i965-va-driver:amd64.\nPreparing to unpack .../035-i965-va-driver_2.3.0+dfsg1-1_amd64.deb ...\nUnpacking i965-va-driver:amd64 (2.3.0+dfsg1-1) ...\nSelecting previously unselected package libnl-3-200:amd64.\nPreparing to unpack .../036-libnl-3-200_3.4.0-1_amd64.deb ...\nUnpacking libnl-3-200:amd64 (3.4.0-1) ...\nSelecting previously unselected package libnl-route-3-200:amd64.\nPreparing to unpack .../037-libnl-route-3-200_3.4.0-1_amd64.deb ...\nUnpacking libnl-route-3-200:amd64 (3.4.0-1) ...\nSelecting previously unselected package libibverbs1:amd64.\nPreparing to unpack .../038-libibverbs1_22.1-1_amd64.deb ...\nUnpacking libibverbs1:amd64 (22.1-1) ...\nSelecting previously unselected package ibverbs-providers:amd64.\nPreparing to unpack .../039-ibverbs-providers_22.1-1_amd64.deb ...\nUnpacking ibverbs-providers:amd64 (22.1-1) ...\nSelecting previously unselected package libigdgmm5:amd64.\nPreparing to unpack .../040-libigdgmm5_18.4.1+ds1-1_amd64.deb ...\nUnpacking libigdgmm5:amd64 (18.4.1+ds1-1) ...\nSelecting previously unselected package intel-media-va-driver:amd64.\nPreparing to unpack .../041-intel-media-va-driver_18.4.1+dfsg1-1_amd64.deb ...\nUnpacking intel-media-va-driver:amd64 (18.4.1+dfsg1-1) ...\nSelecting previously unselected package libaacs0:amd64.\nPreparing to unpack .../042-libaacs0_0.9.0-2_amd64.deb ...\nUnpacking libaacs0:amd64 (0.9.0-2) ...\nSelecting previously unselected package libaec0:amd64.\nPreparing to unpack .../043-libaec0_1.0.2-1_amd64.deb ...\nUnpacking libaec0:amd64 (1.0.2-1) ...\nSelecting previously unselected package libaom0:amd64.\nPreparing to unpack .../044-libaom0_1.0.0-3_amd64.deb ...\nUnpacking libaom0:amd64 (1.0.0-3) ...\nSelecting previously unselected package libblas3:amd64.\nPreparing to unpack .../045-libblas3_3.8.0-2_amd64.deb ...\nUnpacking libblas3:amd64 (3.8.0-2) ...\nSelecting previously unselected package liblapack3:amd64.\nPreparing to unpack .../046-liblapack3_3.8.0-2_amd64.deb ...\nUnpacking liblapack3:amd64 (3.8.0-2) ...\nSelecting previously unselected package libarpack2:amd64.\nPreparing to unpack .../047-libarpack2_3.7.0-2_amd64.deb ...\nUnpacking libarpack2:amd64 (3.7.0-2) ...\nSelecting previously unselected package libsuperlu5:amd64.\nPreparing to unpack .../048-libsuperlu5_5.2.1+dfsg1-4_amd64.deb ...\nUnpacking libsuperlu5:amd64 (5.2.1+dfsg1-4) ...\nSelecting previously unselected package libarmadillo9.\nPreparing to unpack .../049-libarmadillo9_1%3a9.200.7+dfsg-1_amd64.deb ...\nUnpacking libarmadillo9 (1:9.200.7+dfsg-1) ...\nSelecting previously unselected package libatk-bridge2.0-0:amd64.\nPreparing to unpack .../050-libatk-bridge2.0-0_2.30.0-5_amd64.deb ...\nUnpacking libatk-bridge2.0-0:amd64 (2.30.0-5) ...\nSelecting previously unselected package libva-drm2:amd64.\nPreparing to unpack .../051-libva-drm2_2.4.0-1_amd64.deb ...\nUnpacking libva-drm2:amd64 (2.4.0-1) ...\nSelecting previously unselected package libva-x11-2:amd64.\nPreparing to unpack .../052-libva-x11-2_2.4.0-1_amd64.deb ...\nUnpacking libva-x11-2:amd64 (2.4.0-1) ...\nSelecting previously unselected package libvdpau1:amd64.\nPreparing to unpack .../053-libvdpau1_1.1.1-10_amd64.deb ...\nUnpacking libvdpau1:amd64 (1.1.1-10) ...\nSelecting previously unselected package libavutil56:amd64.\nPreparing to unpack .../054-libavutil56_7%3a4.1.6-1~deb10u1_amd64.deb ...\nUnpacking libavutil56:amd64 (7:4.1.6-1~deb10u1) ...\nSelecting previously unselected package libcodec2-0.8.1:amd64.\nPreparing to unpack .../055-libcodec2-0.8.1_0.8.1-2_amd64.deb ...\nUnpacking libcodec2-0.8.1:amd64 (0.8.1-2) ...\nSelecting previously unselected package libcrystalhd3:amd64.\nPreparing to unpack .../056-libcrystalhd3_1%3a0.0~git20110715.fdd2f19-13_amd64.deb ...\nUnpacking libcrystalhd3:amd64 (1:0.0~git20110715.fdd2f19-13) ...\nSelecting previously unselected package libgsm1:amd64.\nPreparing to unpack .../057-libgsm1_1.0.18-2_amd64.deb ...\nUnpacking libgsm1:amd64 (1.0.18-2) ...\nSelecting previously unselected package libmp3lame0:amd64.\nPreparing to unpack .../058-libmp3lame0_3.100-2+b1_amd64.deb ...\nUnpacking libmp3lame0:amd64 (3.100-2+b1) ...\nSelecting previously unselected package libopenjp2-7:amd64.\nPreparing to unpack .../059-libopenjp2-7_2.3.0-2+deb10u2_amd64.deb ...\nUnpacking libopenjp2-7:amd64 (2.3.0-2+deb10u2) ...\nSelecting previously unselected package libopus0:amd64.\nPreparing to unpack .../060-libopus0_1.3-1_amd64.deb ...\nUnpacking libopus0:amd64 (1.3-1) ...\nSelecting previously unselected package libshine3:amd64.\nPreparing to unpack .../061-libshine3_3.1.1-2_amd64.deb ...\nUnpacking libshine3:amd64 (3.1.1-2) ...\nSelecting previously unselected package libsnappy1v5:amd64.\nPreparing to unpack .../062-libsnappy1v5_1.1.7-1_amd64.deb ...\nUnpacking libsnappy1v5:amd64 (1.1.7-1) ...\nSelecting previously unselected package libspeex1:amd64.\nPreparing to unpack .../063-libspeex1_1.2~rc1.2-1+b2_amd64.deb ...\nUnpacking libspeex1:amd64 (1.2~rc1.2-1+b2) ...\nSelecting previously unselected package libsoxr0:amd64.\nPreparing to unpack .../064-libsoxr0_0.1.2-3_amd64.deb ...\nUnpacking libsoxr0:amd64 (0.1.2-3) ...\nSelecting previously unselected package libswresample3:amd64.\nPreparing to unpack .../065-libswresample3_7%3a4.1.6-1~deb10u1_amd64.deb ...\nUnpacking libswresample3:amd64 (7:4.1.6-1~deb10u1) ...\nSelecting previously unselected package libogg0:amd64.\nPreparing to unpack .../066-libogg0_1.3.2-1+b1_amd64.deb ...\nUnpacking libogg0:amd64 (1.3.2-1+b1) ...\nSelecting previously unselected package libtheora0:amd64.\nPreparing to unpack .../067-libtheora0_1.1.1+dfsg.1-15_amd64.deb ...\nUnpacking libtheora0:amd64 (1.1.1+dfsg.1-15) ...\nSelecting previously unselected package libtwolame0:amd64.\nPreparing to unpack .../068-libtwolame0_0.3.13-4_amd64.deb ...\nUnpacking libtwolame0:amd64 (0.3.13-4) ...\nSelecting previously unselected package libvorbis0a:amd64.\nPreparing to unpack .../069-libvorbis0a_1.3.6-2_amd64.deb ...\nUnpacking libvorbis0a:amd64 (1.3.6-2) ...\nSelecting previously unselected package libvorbisenc2:amd64.\nPreparing to unpack .../070-libvorbisenc2_1.3.6-2_amd64.deb ...\nUnpacking libvorbisenc2:amd64 (1.3.6-2) ...\nSelecting previously unselected package libvpx5:amd64.\nPreparing to unpack .../071-libvpx5_1.7.0-3+deb10u1_amd64.deb ...\nUnpacking libvpx5:amd64 (1.7.0-3+deb10u1) ...\nSelecting previously unselected package libwavpack1:amd64.\nPreparing to unpack .../072-libwavpack1_5.1.0-6_amd64.deb ...\nUnpacking libwavpack1:amd64 (5.1.0-6) ...\nSelecting previously unselected package libwebpmux3:amd64.\nPreparing to unpack .../073-libwebpmux3_0.6.1-2_amd64.deb ...\nUnpacking libwebpmux3:amd64 (0.6.1-2) ...\nSelecting previously unselected package libx264-155:amd64.\nPreparing to unpack .../074-libx264-155_2%3a0.155.2917+git0a84d98-2_amd64.deb ...\nUnpacking libx264-155:amd64 (2:0.155.2917+git0a84d98-2) ...\nSelecting previously unselected package libnuma1:amd64.\nPreparing to unpack .../075-libnuma1_2.0.12-1_amd64.deb ...\nUnpacking libnuma1:amd64 (2.0.12-1) ...\nSelecting previously unselected package libx265-165:amd64.\nPreparing to unpack .../076-libx265-165_2.9-4_amd64.deb ...\nUnpacking libx265-165:amd64 (2.9-4) ...\nSelecting previously unselected package libxvidcore4:amd64.\nPreparing to unpack .../077-libxvidcore4_2%3a1.3.5-1_amd64.deb ...\nUnpacking libxvidcore4:amd64 (2:1.3.5-1) ...\nSelecting previously unselected package libzvbi-common.\nPreparing to unpack .../078-libzvbi-common_0.2.35-16_all.deb ...\nUnpacking libzvbi-common (0.2.35-16) ...\nSelecting previously unselected package libzvbi0:amd64.\nPreparing to unpack .../079-libzvbi0_0.2.35-16_amd64.deb ...\nUnpacking libzvbi0:amd64 (0.2.35-16) ...\nSelecting previously unselected package libavcodec58:amd64.\nPreparing to unpack .../080-libavcodec58_7%3a4.1.6-1~deb10u1_amd64.deb ...\nUnpacking libavcodec58:amd64 (7:4.1.6-1~deb10u1) ...\nSelecting previously unselected package libbluray2:amd64.\nPreparing to unpack .../081-libbluray2_1%3a1.1.0-1_amd64.deb ...\nUnpacking libbluray2:amd64 (1:1.1.0-1) ...\nSelecting previously unselected package libchromaprint1:amd64.\nPreparing to unpack .../082-libchromaprint1_1.4.3-3_amd64.deb ...\nUnpacking libchromaprint1:amd64 (1.4.3-3) ...\nSelecting previously unselected package libgme0:amd64.\nPreparing to unpack .../083-libgme0_0.6.2-1_amd64.deb ...\nUnpacking libgme0:amd64 (0.6.2-1) ...\nSelecting previously unselected package libmpg123-0:amd64.\nPreparing to unpack .../084-libmpg123-0_1.25.10-2_amd64.deb ...\nUnpacking libmpg123-0:amd64 (1.25.10-2) ...\nSelecting previously unselected package libvorbisfile3:amd64.\nPreparing to unpack .../085-libvorbisfile3_1.3.6-2_amd64.deb ...\nUnpacking libvorbisfile3:amd64 (1.3.6-2) ...\nSelecting previously unselected package libopenmpt0:amd64.\nPreparing to unpack .../086-libopenmpt0_0.4.3-1+deb10u1_amd64.deb ...\nUnpacking libopenmpt0:amd64 (0.4.3-1+deb10u1) ...\nSelecting previously unselected package libssh-gcrypt-4:amd64.\nPreparing to unpack .../087-libssh-gcrypt-4_0.8.7-1+deb10u1_amd64.deb ...\nUnpacking libssh-gcrypt-4:amd64 (0.8.7-1+deb10u1) ...\nSelecting previously unselected package libavformat58:amd64.\nPreparing to unpack .../088-libavformat58_7%3a4.1.6-1~deb10u1_amd64.deb ...\nUnpacking libavformat58:amd64 (7:4.1.6-1~deb10u1) ...\nSelecting previously unselected package libavresample4:amd64.\nPreparing to unpack .../089-libavresample4_7%3a4.1.6-1~deb10u1_amd64.deb ...\nUnpacking libavresample4:amd64 (7:4.1.6-1~deb10u1) ...\nSelecting previously unselected package libbdplus0:amd64.\nPreparing to unpack .../090-libbdplus0_0.1.2-3_amd64.deb ...\nUnpacking libbdplus0:amd64 (0.1.2-3) ...\nSelecting previously unselected package libevent-2.1-6:amd64.\nPreparing to unpack .../091-libevent-2.1-6_2.1.8-stable-4_amd64.deb ...\nUnpacking libevent-2.1-6:amd64 (2.1.8-stable-4) ...\nSelecting previously unselected package libevent-core-2.1-6:amd64.\nPreparing to unpack .../092-libevent-core-2.1-6_2.1.8-stable-4_amd64.deb ...\nUnpacking libevent-core-2.1-6:amd64 (2.1.8-stable-4) ...\nSelecting previously unselected package libevent-pthreads-2.1-6:amd64.\nPreparing to unpack .../093-libevent-pthreads-2.1-6_2.1.8-stable-4_amd64.deb ...\nUnpacking libevent-pthreads-2.1-6:amd64 (2.1.8-stable-4) ...\nSelecting previously unselected package libpsm-infinipath1.\nPreparing to unpack .../094-libpsm-infinipath1_3.3+20.604758e7-6_amd64.deb ...\nUnpacking libpsm-infinipath1 (3.3+20.604758e7-6) ...\nSelecting previously unselected package libpsm2-2.\nPreparing to unpack .../095-libpsm2-2_11.2.78-1_amd64.deb ...\nUnpacking libpsm2-2 (11.2.78-1) ...\nSelecting previously unselected package librdmacm1:amd64.\nPreparing to unpack .../096-librdmacm1_22.1-1_amd64.deb ...\nUnpacking librdmacm1:amd64 (22.1-1) ...\nSelecting previously unselected package libfabric1.\nPreparing to unpack .../097-libfabric1_1.6.2-3_amd64.deb ...\nUnpacking libfabric1 (1.6.2-3) ...\nSelecting previously unselected package libhwloc5:amd64.\nPreparing to unpack .../098-libhwloc5_1.11.12-3_amd64.deb ...\nUnpacking libhwloc5:amd64 (1.11.12-3) ...\nSelecting previously unselected package ocl-icd-libopencl1:amd64.\nPreparing to unpack .../099-ocl-icd-libopencl1_2.2.12-2_amd64.deb ...\nUnpacking ocl-icd-libopencl1:amd64 (2.2.12-2) ...\nSelecting previously unselected package libhwloc-plugins:amd64.\nPreparing to unpack .../100-libhwloc-plugins_1.11.12-3_amd64.deb ...\nUnpacking libhwloc-plugins:amd64 (1.11.12-3) ...\nSelecting previously unselected package libpmix2:amd64.\nPreparing to unpack .../101-libpmix2_3.1.2-3_amd64.deb ...\nUnpacking libpmix2:amd64 (3.1.2-3) ...\nSelecting previously unselected package libopenmpi3:amd64.\nPreparing to unpack .../102-libopenmpi3_3.1.3-11_amd64.deb ...\nUnpacking libopenmpi3:amd64 (3.1.3-11) ...\nSelecting previously unselected package libcaf-openmpi-3:amd64.\nPreparing to unpack .../103-libcaf-openmpi-3_2.4.0-2_amd64.deb ...\nUnpacking libcaf-openmpi-3:amd64 (2.4.0-2) ...\nSelecting previously unselected package libcharls2:amd64.\nPreparing to unpack .../104-libcharls2_2.0.0+dfsg-1_amd64.deb ...\nUnpacking libcharls2:amd64 (2.0.0+dfsg-1) ...\nSelecting previously unselected package libcoarrays-dev:amd64.\nPreparing to unpack .../105-libcoarrays-dev_2.4.0-2_amd64.deb ...\nUnpacking libcoarrays-dev:amd64 (2.4.0-2) ...\nSelecting previously unselected package openmpi-common.\nPreparing to unpack .../106-openmpi-common_3.1.3-11_all.deb ...\nUnpacking openmpi-common (3.1.3-11) ...\nSelecting previously unselected package openmpi-bin.\nPreparing to unpack .../107-openmpi-bin_3.1.3-11_amd64.deb ...\nUnpacking openmpi-bin (3.1.3-11) ...\nSelecting previously unselected package libcoarrays-openmpi-dev:amd64.\nPreparing to unpack .../108-libcoarrays-openmpi-dev_2.4.0-2_amd64.deb ...\nUnpacking libcoarrays-openmpi-dev:amd64 (2.4.0-2) ...\nSelecting previously unselected package liblcms2-2:amd64.\nPreparing to unpack .../109-liblcms2-2_2.9-3_amd64.deb ...\nUnpacking liblcms2-2:amd64 (2.9-3) ...\nSelecting previously unselected package libcolord2:amd64.\nPreparing to unpack .../110-libcolord2_1.4.3-4_amd64.deb ...\nUnpacking libcolord2:amd64 (1.4.3-4) ...\nSelecting previously unselected package libdap25:amd64.\nPreparing to unpack .../111-libdap25_3.20.3-1_amd64.deb ...\nUnpacking libdap25:amd64 (3.20.3-1) ...\nSelecting previously unselected package libdapclient6v5:amd64.\nPreparing to unpack .../112-libdapclient6v5_3.20.3-1_amd64.deb ...\nUnpacking libdapclient6v5:amd64 (3.20.3-1) ...\nSelecting previously unselected package libdapserver7v5:amd64.\nPreparing to unpack .../113-libdapserver7v5_3.20.3-1_amd64.deb ...\nUnpacking libdapserver7v5:amd64 (3.20.3-1) ...\nSelecting previously unselected package libraw1394-11:amd64.\nPreparing to unpack .../114-libraw1394-11_2.1.2-1+b1_amd64.deb ...\nUnpacking libraw1394-11:amd64 (2.1.2-1+b1) ...\nSelecting previously unselected package libusb-1.0-0:amd64.\nPreparing to unpack .../115-libusb-1.0-0_2%3a1.0.22-2_amd64.deb ...\nUnpacking libusb-1.0-0:amd64 (2:1.0.22-2) ...\nSelecting previously unselected package libdc1394-22:amd64.\nPreparing to unpack .../116-libdc1394-22_2.2.5-1_amd64.deb ...\nUnpacking libdc1394-22:amd64 (2.2.5-1) ...\nSelecting previously unselected package libdrm-amdgpu1:amd64.\nPreparing to unpack .../117-libdrm-amdgpu1_2.4.97-1_amd64.deb ...\nUnpacking libdrm-amdgpu1:amd64 (2.4.97-1) ...\nSelecting previously unselected package libdrm-nouveau2:amd64.\nPreparing to unpack .../118-libdrm-nouveau2_2.4.97-1_amd64.deb ...\nUnpacking libdrm-nouveau2:amd64 (2.4.97-1) ...\nSelecting previously unselected package libdrm-radeon1:amd64.\nPreparing to unpack .../119-libdrm-radeon1_2.4.97-1_amd64.deb ...\nUnpacking libdrm-radeon1:amd64 (2.4.97-1) ...\nSelecting previously unselected package libepoxy0:amd64.\nPreparing to unpack .../120-libepoxy0_1.5.3-0.1_amd64.deb ...\nUnpacking libepoxy0:amd64 (1.5.3-0.1) ...\nSelecting previously unselected package libpopt0:amd64.\nPreparing to unpack .../121-libpopt0_1.16-12_amd64.deb ...\nUnpacking libpopt0:amd64 (1.16-12) ...\nSelecting previously unselected package libepsilon1:amd64.\nPreparing to unpack .../122-libepsilon1_0.9.2+dfsg-4_amd64.deb ...\nUnpacking libepsilon1:amd64 (0.9.2+dfsg-4) ...\nSelecting previously unselected package libexif12:amd64.\nPreparing to unpack .../123-libexif12_0.6.21-5.1+deb10u5_amd64.deb ...\nUnpacking libexif12:amd64 (0.6.21-5.1+deb10u5) ...\nSelecting previously unselected package libfreexl1:amd64.\nPreparing to unpack .../124-libfreexl1_1.0.5-3_amd64.deb ...\nUnpacking libfreexl1:amd64 (1.0.5-3) ...\nSelecting previously unselected package libfyba0:amd64.\nPreparing to unpack .../125-libfyba0_4.1.1-6_amd64.deb ...\nUnpacking libfyba0:amd64 (4.1.1-6) ...\nSelecting previously unselected package libgeos-3.7.1:amd64.\nPreparing to unpack .../126-libgeos-3.7.1_3.7.1-1_amd64.deb ...\nUnpacking libgeos-3.7.1:amd64 (3.7.1-1) ...\nSelecting previously unselected package libgeos-c1v5:amd64.\nPreparing to unpack .../127-libgeos-c1v5_3.7.1-1_amd64.deb ...\nUnpacking libgeos-c1v5:amd64 (3.7.1-1) ...\nSelecting previously unselected package proj-data.\nPreparing to unpack .../128-proj-data_5.2.0-1_all.deb ...\nUnpacking proj-data (5.2.0-1) ...\nSelecting previously unselected package libproj13:amd64.\nPreparing to unpack .../129-libproj13_5.2.0-1_amd64.deb ...\nUnpacking libproj13:amd64 (5.2.0-1) ...\nSelecting previously unselected package libgeotiff2:amd64.\nPreparing to unpack .../130-libgeotiff2_1.4.3-1_amd64.deb ...\nUnpacking libgeotiff2:amd64 (1.4.3-1) ...\nSelecting previously unselected package libgif7:amd64.\nPreparing to unpack .../131-libgif7_5.1.4-3_amd64.deb ...\nUnpacking libgif7:amd64 (5.1.4-3) ...\nSelecting previously unselected package libhdf4-0-alt.\nPreparing to unpack .../132-libhdf4-0-alt_4.2.13-4_amd64.deb ...\nUnpacking libhdf4-0-alt (4.2.13-4) ...\nSelecting previously unselected package libsz2:amd64.\nPreparing to unpack .../133-libsz2_1.0.2-1_amd64.deb ...\nUnpacking libsz2:amd64 (1.0.2-1) ...\nSelecting previously unselected package libhdf5-103:amd64.\nPreparing to unpack .../134-libhdf5-103_1.10.4+repack-10_amd64.deb ...\nUnpacking libhdf5-103:amd64 (1.10.4+repack-10) ...\nSelecting previously unselected package libminizip1:amd64.\nPreparing to unpack .../135-libminizip1_1.1-8+b1_amd64.deb ...\nUnpacking libminizip1:amd64 (1.1-8+b1) ...\nSelecting previously unselected package liburiparser1:amd64.\nPreparing to unpack .../136-liburiparser1_0.9.1-1_amd64.deb ...\nUnpacking liburiparser1:amd64 (0.9.1-1) ...\nSelecting previously unselected package libkmlbase1:amd64.\nPreparing to unpack .../137-libkmlbase1_1.3.0-7_amd64.deb ...\nUnpacking libkmlbase1:amd64 (1.3.0-7) ...\nSelecting previously unselected package libkmldom1:amd64.\nPreparing to unpack .../138-libkmldom1_1.3.0-7_amd64.deb ...\nUnpacking libkmldom1:amd64 (1.3.0-7) ...\nSelecting previously unselected package libkmlengine1:amd64.\nPreparing to unpack .../139-libkmlengine1_1.3.0-7_amd64.deb ...\nUnpacking libkmlengine1:amd64 (1.3.0-7) ...\nSelecting previously unselected package libkmlconvenience1:amd64.\nPreparing to unpack .../140-libkmlconvenience1_1.3.0-7_amd64.deb ...\nUnpacking libkmlconvenience1:amd64 (1.3.0-7) ...\nSelecting previously unselected package libkmlregionator1:amd64.\nPreparing to unpack .../141-libkmlregionator1_1.3.0-7_amd64.deb ...\nUnpacking libkmlregionator1:amd64 (1.3.0-7) ...\nSelecting previously unselected package libkmlxsd1:amd64.\nPreparing to unpack .../142-libkmlxsd1_1.3.0-7_amd64.deb ...\nUnpacking libkmlxsd1:amd64 (1.3.0-7) ...\nSelecting previously unselected package mysql-common.\nPreparing to unpack .../143-mysql-common_5.8+1.0.5_all.deb ...\nUnpacking mysql-common (5.8+1.0.5) ...\nSelecting previously unselected package mariadb-common.\nPreparing to unpack .../144-mariadb-common_1%3a10.3.27-0+deb10u1_all.deb ...\nUnpacking mariadb-common (1:10.3.27-0+deb10u1) ...\nSelecting previously unselected package libmariadb3:amd64.\nPreparing to unpack .../145-libmariadb3_1%3a10.3.27-0+deb10u1_amd64.deb ...\nUnpacking libmariadb3:amd64 (1:10.3.27-0+deb10u1) ...\nSelecting previously unselected package libnetcdf13:amd64.\nPreparing to unpack .../146-libnetcdf13_1%3a4.6.2-1_amd64.deb ...\nUnpacking libnetcdf13:amd64 (1:4.6.2-1) ...\nSelecting previously unselected package libodbc1:amd64.\nPreparing to unpack .../147-libodbc1_2.3.6-0.1_amd64.deb ...\nUnpacking libodbc1:amd64 (2.3.6-0.1) ...\nSelecting previously unselected package libogdi3.2.\nPreparing to unpack .../148-libogdi3.2_3.2.1+ds-4_amd64.deb ...\nUnpacking libogdi3.2 (3.2.1+ds-4) ...\nSelecting previously unselected package libnspr4:amd64.\nPreparing to unpack .../149-libnspr4_2%3a4.20-1_amd64.deb ...\nUnpacking libnspr4:amd64 (2:4.20-1) ...\nSelecting previously unselected package libnss3:amd64.\nPreparing to unpack .../150-libnss3_2%3a3.42.1-1+deb10u3_amd64.deb ...\nUnpacking libnss3:amd64 (2:3.42.1-1+deb10u3) ...\nSelecting previously unselected package libpoppler82:amd64.\nPreparing to unpack .../151-libpoppler82_0.71.0-5_amd64.deb ...\nUnpacking libpoppler82:amd64 (0.71.0-5) ...\nSelecting previously unselected package libpq5:amd64.\nPreparing to unpack .../152-libpq5_11.11-0+deb10u1_amd64.deb ...\nUnpacking libpq5:amd64 (11.11-0+deb10u1) ...\nSelecting previously unselected package libqhull7:amd64.\nPreparing to unpack .../153-libqhull7_2015.2-4_amd64.deb ...\nUnpacking libqhull7:amd64 (2015.2-4) ...\nSelecting previously unselected package libspatialite7:amd64.\nPreparing to unpack .../154-libspatialite7_4.3.0a-5+b2_amd64.deb ...\nUnpacking libspatialite7:amd64 (4.3.0a-5+b2) ...\nSelecting previously unselected package libxerces-c3.2:amd64.\nPreparing to unpack .../155-libxerces-c3.2_3.2.2+debian-1+deb10u1_amd64.deb ...\nUnpacking libxerces-c3.2:amd64 (3.2.2+debian-1+deb10u1) ...\nSelecting previously unselected package odbcinst.\nPreparing to unpack .../156-odbcinst_2.3.6-0.1_amd64.deb ...\nUnpacking odbcinst (2.3.6-0.1) ...\nSelecting previously unselected package odbcinst1debian2:amd64.\nPreparing to unpack .../157-odbcinst1debian2_2.3.6-0.1_amd64.deb ...\nUnpacking odbcinst1debian2:amd64 (2.3.6-0.1) ...\nSelecting previously unselected package libgdal20.\nPreparing to unpack .../158-libgdal20_2.4.0+dfsg-1+b1_amd64.deb ...\nUnpacking libgdal20 (2.4.0+dfsg-1+b1) ...\nSelecting previously unselected package libsocket++1:amd64.\nPreparing to unpack .../159-libsocket++1_1.12.13-10_amd64.deb ...\nUnpacking libsocket++1:amd64 (1.12.13-10) ...\nSelecting previously unselected package libgdcm2.8:amd64.\nPreparing to unpack .../160-libgdcm2.8_2.8.8-9_amd64.deb ...\nUnpacking libgdcm2.8:amd64 (2.8.8-9) ...\nSelecting previously unselected package libglapi-mesa:amd64.\nPreparing to unpack .../161-libglapi-mesa_18.3.6-2+deb10u1_amd64.deb ...\nUnpacking libglapi-mesa:amd64 (18.3.6-2+deb10u1) ...\nSelecting previously unselected package libllvm7:amd64.\nPreparing to unpack .../162-libllvm7_1%3a7.0.1-8+deb10u2_amd64.deb ...\nUnpacking libllvm7:amd64 (1:7.0.1-8+deb10u2) ...\nSelecting previously unselected package libsensors-config.\nPreparing to unpack .../163-libsensors-config_1%3a3.5.0-3_all.deb ...\nUnpacking libsensors-config (1:3.5.0-3) ...\nSelecting previously unselected package libsensors5:amd64.\nPreparing to unpack .../164-libsensors5_1%3a3.5.0-3_amd64.deb ...\nUnpacking libsensors5:amd64 (1:3.5.0-3) ...\nSelecting previously unselected package libgl1-mesa-dri:amd64.\nPreparing to unpack .../165-libgl1-mesa-dri_18.3.6-2+deb10u1_amd64.deb ...\nUnpacking libgl1-mesa-dri:amd64 (18.3.6-2+deb10u1) ...\nSelecting previously unselected package libglvnd0:amd64.\nPreparing to unpack .../166-libglvnd0_1.1.0-1_amd64.deb ...\nUnpacking libglvnd0:amd64 (1.1.0-1) ...\nSelecting previously unselected package libx11-xcb1:amd64.\nPreparing to unpack .../167-libx11-xcb1_2%3a1.6.7-1+deb10u1_amd64.deb ...\nUnpacking libx11-xcb1:amd64 (2:1.6.7-1+deb10u1) ...\nSelecting previously unselected package libxcb-dri2-0:amd64.\nPreparing to unpack .../168-libxcb-dri2-0_1.13.1-2_amd64.deb ...\nUnpacking libxcb-dri2-0:amd64 (1.13.1-2) ...\nSelecting previously unselected package libxcb-dri3-0:amd64.\nPreparing to unpack .../169-libxcb-dri3-0_1.13.1-2_amd64.deb ...\nUnpacking libxcb-dri3-0:amd64 (1.13.1-2) ...\nSelecting previously unselected package libxcb-glx0:amd64.\nPreparing to unpack .../170-libxcb-glx0_1.13.1-2_amd64.deb ...\nUnpacking libxcb-glx0:amd64 (1.13.1-2) ...\nSelecting previously unselected package libxcb-present0:amd64.\nPreparing to unpack .../171-libxcb-present0_1.13.1-2_amd64.deb ...\nUnpacking libxcb-present0:amd64 (1.13.1-2) ...\nSelecting previously unselected package libxcb-sync1:amd64.\nPreparing to unpack .../172-libxcb-sync1_1.13.1-2_amd64.deb ...\nUnpacking libxcb-sync1:amd64 (1.13.1-2) ...\nSelecting previously unselected package libxshmfence1:amd64.\nPreparing to unpack .../173-libxshmfence1_1.3-1_amd64.deb ...\nUnpacking libxshmfence1:amd64 (1.3-1) ...\nSelecting previously unselected package libxxf86vm1:amd64.\nPreparing to unpack .../174-libxxf86vm1_1%3a1.1.4-1+b2_amd64.deb ...\nUnpacking libxxf86vm1:amd64 (1:1.1.4-1+b2) ...\nSelecting previously unselected package libglx-mesa0:amd64.\nPreparing to unpack .../175-libglx-mesa0_18.3.6-2+deb10u1_amd64.deb ...\nUnpacking libglx-mesa0:amd64 (18.3.6-2+deb10u1) ...\nSelecting previously unselected package libglx0:amd64.\nPreparing to unpack .../176-libglx0_1.1.0-1_amd64.deb ...\nUnpacking libglx0:amd64 (1.1.0-1) ...\nSelecting previously unselected package libgl1:amd64.\nPreparing to unpack .../177-libgl1_1.1.0-1_amd64.deb ...\nUnpacking libgl1:amd64 (1.1.0-1) ...\nSelecting previously unselected package libgl2ps1.4.\nPreparing to unpack .../178-libgl2ps1.4_1.4.0+dfsg1-2_amd64.deb ...\nUnpacking libgl2ps1.4 (1.4.0+dfsg1-2) ...\nSelecting previously unselected package libglu1-mesa:amd64.\nPreparing to unpack .../179-libglu1-mesa_9.0.0-2.1+b3_amd64.deb ...\nUnpacking libglu1-mesa:amd64 (9.0.0-2.1+b3) ...\nSelecting previously unselected package libgphoto2-port12:amd64.\nPreparing to unpack .../180-libgphoto2-port12_2.5.22-3_amd64.deb ...\nUnpacking libgphoto2-port12:amd64 (2.5.22-3) ...\nSelecting previously unselected package libgphoto2-6:amd64.\nPreparing to unpack .../181-libgphoto2-6_2.5.22-3_amd64.deb ...\nUnpacking libgphoto2-6:amd64 (2.5.22-3) ...\nSelecting previously unselected package libgphoto2-l10n.\nPreparing to unpack .../182-libgphoto2-l10n_2.5.22-3_all.deb ...\nUnpacking libgphoto2-l10n (2.5.22-3) ...\nSelecting previously unselected package libjson-glib-1.0-common.\nPreparing to unpack .../183-libjson-glib-1.0-common_1.4.4-2_all.deb ...\nUnpacking libjson-glib-1.0-common (1.4.4-2) ...\nSelecting previously unselected package libjson-glib-1.0-0:amd64.\nPreparing to unpack .../184-libjson-glib-1.0-0_1.4.4-2_amd64.deb ...\nUnpacking libjson-glib-1.0-0:amd64 (1.4.4-2) ...\nSelecting previously unselected package libsoup2.4-1:amd64.\nPreparing to unpack .../185-libsoup2.4-1_2.64.2-2_amd64.deb ...\nUnpacking libsoup2.4-1:amd64 (2.64.2-2) ...\nSelecting previously unselected package libsoup-gnome2.4-1:amd64.\nPreparing to unpack .../186-libsoup-gnome2.4-1_2.64.2-2_amd64.deb ...\nUnpacking libsoup-gnome2.4-1:amd64 (2.64.2-2) ...\nSelecting previously unselected package librest-0.7-0:amd64.\nPreparing to unpack .../187-librest-0.7-0_0.8.1-1_amd64.deb ...\nUnpacking librest-0.7-0:amd64 (0.8.1-1) ...\nSelecting previously unselected package libwayland-client0:amd64.\nPreparing to unpack .../188-libwayland-client0_1.16.0-1_amd64.deb ...\nUnpacking libwayland-client0:amd64 (1.16.0-1) ...\nSelecting previously unselected package libwayland-cursor0:amd64.\nPreparing to unpack .../189-libwayland-cursor0_1.16.0-1_amd64.deb ...\nUnpacking libwayland-cursor0:amd64 (1.16.0-1) ...\nSelecting previously unselected package libwayland-egl1:amd64.\nPreparing to unpack .../190-libwayland-egl1_1.16.0-1_amd64.deb ...\nUnpacking libwayland-egl1:amd64 (1.16.0-1) ...\nSelecting previously unselected package xkb-data.\nPreparing to unpack .../191-xkb-data_2.26-2_all.deb ...\nUnpacking xkb-data (2.26-2) ...\nSelecting previously unselected package libxkbcommon0:amd64.\nPreparing to unpack .../192-libxkbcommon0_0.8.2-1_amd64.deb ...\nUnpacking libxkbcommon0:amd64 (0.8.2-1) ...\nSelecting previously unselected package libgtk-3-common.\nPreparing to unpack .../193-libgtk-3-common_3.24.5-1_all.deb ...\nUnpacking libgtk-3-common (3.24.5-1) ...\nSelecting previously unselected package libgtk-3-0:amd64.\nPreparing to unpack .../194-libgtk-3-0_3.24.5-1_amd64.deb ...\nUnpacking libgtk-3-0:amd64 (3.24.5-1) ...\nSelecting previously unselected package libgtk-3-bin.\nPreparing to unpack .../195-libgtk-3-bin_3.24.5-1_amd64.deb ...\nUnpacking libgtk-3-bin (3.24.5-1) ...\nSelecting previously unselected package libhdf5-openmpi-103:amd64.\nPreparing to unpack .../196-libhdf5-openmpi-103_1.10.4+repack-10_amd64.deb ...\nUnpacking libhdf5-openmpi-103:amd64 (1.10.4+repack-10) ...\nSelecting previously unselected package libnuma-dev:amd64.\nPreparing to unpack .../197-libnuma-dev_2.0.12-1_amd64.deb ...\nUnpacking libnuma-dev:amd64 (2.0.12-1) ...\nSelecting previously unselected package libltdl-dev:amd64.\nPreparing to unpack .../198-libltdl-dev_2.4.6-9_amd64.deb ...\nUnpacking libltdl-dev:amd64 (2.4.6-9) ...\nSelecting previously unselected package libhwloc-dev:amd64.\nPreparing to unpack .../199-libhwloc-dev_1.11.12-3_amd64.deb ...\nUnpacking libhwloc-dev:amd64 (1.11.12-3) ...\nSelecting previously unselected package libnl-3-dev:amd64.\nPreparing to unpack .../200-libnl-3-dev_3.4.0-1_amd64.deb ...\nUnpacking libnl-3-dev:amd64 (3.4.0-1) ...\nSelecting previously unselected package libnl-route-3-dev:amd64.\nPreparing to unpack .../201-libnl-route-3-dev_3.4.0-1_amd64.deb ...\nUnpacking libnl-route-3-dev:amd64 (3.4.0-1) ...\nSelecting previously unselected package libibverbs-dev:amd64.\nPreparing to unpack .../202-libibverbs-dev_22.1-1_amd64.deb ...\nUnpacking libibverbs-dev:amd64 (22.1-1) ...\nSelecting previously unselected package libilmbase23:amd64.\nPreparing to unpack .../203-libilmbase23_2.2.1-2_amd64.deb ...\nUnpacking libilmbase23:amd64 (2.2.1-2) ...\nSelecting previously unselected package liblept5.\nPreparing to unpack .../204-liblept5_1.76.0-1_amd64.deb ...\nUnpacking liblept5 (1.76.0-1) ...\nSelecting previously unselected package libnetcdf-c++4.\nPreparing to unpack .../205-libnetcdf-c++4_4.2-11_amd64.deb ...\nUnpacking libnetcdf-c++4 (4.2-11) ...\nSelecting previously unselected package libtbb2:amd64.\nPreparing to unpack .../206-libtbb2_2018~U6-4_amd64.deb ...\nUnpacking libtbb2:amd64 (2018~U6-4) ...\nSelecting previously unselected package libopencv-core3.2:amd64.\nPreparing to unpack .../207-libopencv-core3.2_3.2.0+dfsg-6_amd64.deb ...\nUnpacking libopencv-core3.2:amd64 (3.2.0+dfsg-6) ...\nSelecting previously unselected package libopencv-flann3.2:amd64.\nPreparing to unpack .../208-libopencv-flann3.2_3.2.0+dfsg-6_amd64.deb ...\nUnpacking libopencv-flann3.2:amd64 (3.2.0+dfsg-6) ...\nSelecting previously unselected package libopencv-imgproc3.2:amd64.\nPreparing to unpack .../209-libopencv-imgproc3.2_3.2.0+dfsg-6_amd64.deb ...\nUnpacking libopencv-imgproc3.2:amd64 (3.2.0+dfsg-6) ...\nSelecting previously unselected package libopenexr23:amd64.\nPreparing to unpack .../210-libopenexr23_2.2.1-4.1+deb10u1_amd64.deb ...\nUnpacking libopenexr23:amd64 (2.2.1-4.1+deb10u1) ...\nSelecting previously unselected package libopencv-imgcodecs3.2:amd64.\nPreparing to unpack .../211-libopencv-imgcodecs3.2_3.2.0+dfsg-6_amd64.deb ...\nUnpacking libopencv-imgcodecs3.2:amd64 (3.2.0+dfsg-6) ...\nSelecting previously unselected package libswscale5:amd64.\nPreparing to unpack .../212-libswscale5_7%3a4.1.6-1~deb10u1_amd64.deb ...\nUnpacking libswscale5:amd64 (7:4.1.6-1~deb10u1) ...\nSelecting previously unselected package libopencv-videoio3.2:amd64.\nPreparing to unpack .../213-libopencv-videoio3.2_3.2.0+dfsg-6_amd64.deb ...\nUnpacking libopencv-videoio3.2:amd64 (3.2.0+dfsg-6) ...\nSelecting previously unselected package libopencv-highgui3.2:amd64.\nPreparing to unpack .../214-libopencv-highgui3.2_3.2.0+dfsg-6_amd64.deb ...\nUnpacking libopencv-highgui3.2:amd64 (3.2.0+dfsg-6) ...\nSelecting previously unselected package libopencv-ml3.2:amd64.\nPreparing to unpack .../215-libopencv-ml3.2_3.2.0+dfsg-6_amd64.deb ...\nUnpacking libopencv-ml3.2:amd64 (3.2.0+dfsg-6) ...\nSelecting previously unselected package libopencv-features2d3.2:amd64.\nPreparing to unpack .../216-libopencv-features2d3.2_3.2.0+dfsg-6_amd64.deb ...\nUnpacking libopencv-features2d3.2:amd64 (3.2.0+dfsg-6) ...\nSelecting previously unselected package libopencv-calib3d3.2:amd64.\nPreparing to unpack .../217-libopencv-calib3d3.2_3.2.0+dfsg-6_amd64.deb ...\nUnpacking libopencv-calib3d3.2:amd64 (3.2.0+dfsg-6) ...\nSelecting previously unselected package libopencv-objdetect3.2:amd64.\nPreparing to unpack .../218-libopencv-objdetect3.2_3.2.0+dfsg-6_amd64.deb ...\nUnpacking libopencv-objdetect3.2:amd64 (3.2.0+dfsg-6) ...\nSelecting previously unselected package libopencv-photo3.2:amd64.\nPreparing to unpack .../219-libopencv-photo3.2_3.2.0+dfsg-6_amd64.deb ...\nUnpacking libopencv-photo3.2:amd64 (3.2.0+dfsg-6) ...\nSelecting previously unselected package libopencv-video3.2:amd64.\nPreparing to unpack .../220-libopencv-video3.2_3.2.0+dfsg-6_amd64.deb ...\nUnpacking libopencv-video3.2:amd64 (3.2.0+dfsg-6) ...\nSelecting previously unselected package libopencv-shape3.2:amd64.\nPreparing to unpack .../221-libopencv-shape3.2_3.2.0+dfsg-6_amd64.deb ...\nUnpacking libopencv-shape3.2:amd64 (3.2.0+dfsg-6) ...\nSelecting previously unselected package libopencv-stitching3.2:amd64.\nPreparing to unpack .../222-libopencv-stitching3.2_3.2.0+dfsg-6_amd64.deb ...\nUnpacking libopencv-stitching3.2:amd64 (3.2.0+dfsg-6) ...\nSelecting previously unselected package libopencv-superres3.2:amd64.\nPreparing to unpack .../223-libopencv-superres3.2_3.2.0+dfsg-6_amd64.deb ...\nUnpacking libopencv-superres3.2:amd64 (3.2.0+dfsg-6) ...\nSelecting previously unselected package libopencv-videostab3.2:amd64.\nPreparing to unpack .../224-libopencv-videostab3.2_3.2.0+dfsg-6_amd64.deb ...\nUnpacking libopencv-videostab3.2:amd64 (3.2.0+dfsg-6) ...\nSelecting previously unselected package libpython2.7-minimal:amd64.\nPreparing to unpack .../225-libpython2.7-minimal_2.7.16-2+deb10u1_amd64.deb ...\nUnpacking libpython2.7-minimal:amd64 (2.7.16-2+deb10u1) ...\nSelecting previously unselected package libpython2.7-stdlib:amd64.\nPreparing to unpack .../226-libpython2.7-stdlib_2.7.16-2+deb10u1_amd64.deb ...\nUnpacking libpython2.7-stdlib:amd64 (2.7.16-2+deb10u1) ...\nSelecting previously unselected package libpython2.7:amd64.\nPreparing to unpack .../227-libpython2.7_2.7.16-2+deb10u1_amd64.deb ...\nUnpacking libpython2.7:amd64 (2.7.16-2+deb10u1) ...\nSelecting previously unselected package libtcl8.6:amd64.\nPreparing to unpack .../228-libtcl8.6_8.6.9+dfsg-2_amd64.deb ...\nUnpacking libtcl8.6:amd64 (8.6.9+dfsg-2) ...\nSelecting previously unselected package libxss1:amd64.\nPreparing to unpack .../229-libxss1_1%3a1.2.3-1_amd64.deb ...\nUnpacking libxss1:amd64 (1:1.2.3-1) ...\nSelecting previously unselected package libtk8.6:amd64.\nPreparing to unpack .../230-libtk8.6_8.6.9-2_amd64.deb ...\nUnpacking libtk8.6:amd64 (8.6.9-2) ...\nSelecting previously unselected package libvtk6.3.\nPreparing to unpack .../231-libvtk6.3_6.3.0+dfsg2-2+b5_amd64.deb ...\nUnpacking libvtk6.3 (6.3.0+dfsg2-2+b5) ...\ndpkg: error processing archive /tmp/apt-dpkg-install-uYIyYV/232-libopencv-viz3.2_3.2.0+dfsg-6_amd64.deb (--unpack):\n cannot access archive '/tmp/apt-dpkg-install-uYIyYV/232-libopencv-viz3.2_3.2.0+dfsg-6_amd64.deb': No such file or directory\ndpkg: error processing archive /tmp/apt-dpkg-install-uYIyYV/233-libtesseract4_4.0.0-2_amd64.deb (--unpack):\n cannot access archive '/tmp/apt-dpkg-install-uYIyYV/233-libtesseract4_4.0.0-2_amd64.deb': No such file or directory\ndpkg: error processing archive /tmp/apt-dpkg-install-uYIyYV/234-libopencv-contrib3.2_3.2.0+dfsg-6_amd64.deb (--unpack):\n cannot access archive '/tmp/apt-dpkg-install-uYIyYV/234-libopencv-contrib3.2_3.2.0+dfsg-6_amd64.deb': No such file or directory\ndpkg: error processing archive /tmp/apt-dpkg-install-uYIyYV/235-libopenmpi-dev_3.1.3-11_amd64.deb (--unpack):\n cannot access archive '/tmp/apt-dpkg-install-uYIyYV/235-libopenmpi-dev_3.1.3-11_amd64.deb': No such file or directory\ndpkg: error processing archive /tmp/apt-dpkg-install-uYIyYV/236-libtool_2.4.6-9_all.deb (--unpack):\n cannot access archive '/tmp/apt-dpkg-install-uYIyYV/236-libtool_2.4.6-9_all.deb': No such file or directory\ndpkg: error processing archive /tmp/apt-dpkg-install-uYIyYV/237-libvdpau-va-gl1_0.4.2-1+b1_amd64.deb (--unpack):\n cannot access archive '/tmp/apt-dpkg-install-uYIyYV/237-libvdpau-va-gl1_0.4.2-1+b1_amd64.deb': No such file or directory\ndpkg: error processing archive /tmp/apt-dpkg-install-uYIyYV/238-libxcb-xfixes0_1.13.1-2_amd64.deb (--unpack):\n cannot access archive '/tmp/apt-dpkg-install-uYIyYV/238-libxcb-xfixes0_1.13.1-2_amd64.deb': No such file or directory\ndpkg: error processing archive /tmp/apt-dpkg-install-uYIyYV/239-mesa-va-drivers_18.3.6-2+deb10u1_amd64.deb (--unpack):\n cannot access archive '/tmp/apt-dpkg-install-uYIyYV/239-mesa-va-drivers_18.3.6-2+deb10u1_amd64.deb': No such file or directory\ndpkg: error processing archive /tmp/apt-dpkg-install-uYIyYV/240-mesa-vdpau-drivers_18.3.6-2+deb10u1_amd64.deb (--unpack):\n cannot access archive '/tmp/apt-dpkg-install-uYIyYV/240-mesa-vdpau-drivers_18.3.6-2+deb10u1_amd64.deb': No such file or directory\ndpkg: error processing archive /tmp/apt-dpkg-install-uYIyYV/241-proj-bin_5.2.0-1_amd64.deb (--unpack):\n cannot access archive '/tmp/apt-dpkg-install-uYIyYV/241-proj-bin_5.2.0-1_amd64.deb': No such file or directory\ndpkg: error processing archive /tmp/apt-dpkg-install-uYIyYV/242-python3-pkg-resources_40.8.0-1_all.deb (--unpack):\n cannot access archive '/tmp/apt-dpkg-install-uYIyYV/242-python3-pkg-resources_40.8.0-1_all.deb': No such file or directory\ndpkg: error processing archive /tmp/apt-dpkg-install-uYIyYV/243-python3-numpy_1%3a1.16.2-1_amd64.deb (--unpack):\n cannot access archive '/tmp/apt-dpkg-install-uYIyYV/243-python3-numpy_1%3a1.16.2-1_amd64.deb': No such file or directory\ndpkg: error processing archive /tmp/apt-dpkg-install-uYIyYV/244-python3-opencv_3.2.0+dfsg-6_amd64.deb (--unpack):\n cannot access archive '/tmp/apt-dpkg-install-uYIyYV/244-python3-opencv_3.2.0+dfsg-6_amd64.deb': No such file or directory\ndpkg: error processing archive /tmp/apt-dpkg-install-uYIyYV/245-va-driver-all_2.4.0-1_amd64.deb (--unpack):\n cannot access archive '/tmp/apt-dpkg-install-uYIyYV/245-va-driver-all_2.4.0-1_amd64.deb': No such file or directory\ndpkg: error processing archive /tmp/apt-dpkg-install-uYIyYV/246-vdpau-driver-all_1.1.1-10_amd64.deb (--unpack):\n cannot access archive '/tmp/apt-dpkg-install-uYIyYV/246-vdpau-driver-all_1.1.1-10_amd64.deb': No such file or directory\nErrors were encountered while processing:\n /tmp/apt-dpkg-install-uYIyYV/232-libopencv-viz3.2_3.2.0+dfsg-6_amd64.deb\n /tmp/apt-dpkg-install-uYIyYV/233-libtesseract4_4.0.0-2_amd64.deb\n /tmp/apt-dpkg-install-uYIyYV/234-libopencv-contrib3.2_3.2.0+dfsg-6_amd64.deb\n /tmp/apt-dpkg-install-uYIyYV/235-libopenmpi-dev_3.1.3-11_amd64.deb\n /tmp/apt-dpkg-install-uYIyYV/236-libtool_2.4.6-9_all.deb\n /tmp/apt-dpkg-install-uYIyYV/237-libvdpau-va-gl1_0.4.2-1+b1_amd64.deb\n /tmp/apt-dpkg-install-uYIyYV/238-libxcb-xfixes0_1.13.1-2_amd64.deb\n /tmp/apt-dpkg-install-uYIyYV/239-mesa-va-drivers_18.3.6-2+deb10u1_amd64.deb\n /tmp/apt-dpkg-install-uYIyYV/240-mesa-vdpau-drivers_18.3.6-2+deb10u1_amd64.deb\n /tmp/apt-dpkg-install-uYIyYV/241-proj-bin_5.2.0-1_amd64.deb\n /tmp/apt-dpkg-install-uYIyYV/242-python3-pkg-resources_40.8.0-1_all.deb\n /tmp/apt-dpkg-install-uYIyYV/243-python3-numpy_1%3a1.16.2-1_amd64.deb\n /tmp/apt-dpkg-install-uYIyYV/244-python3-opencv_3.2.0+dfsg-6_amd64.deb\n /tmp/apt-dpkg-install-uYIyYV/245-va-driver-all_2.4.0-1_amd64.deb\n /tmp/apt-dpkg-install-uYIyYV/246-vdpau-driver-all_1.1.1-10_amd64.deb\nE: Sub-process /usr/bin/dpkg returned an error code (1)\nCollecting opencv-python==4.5.1.48\n  Using cached opencv_python-4.5.1.48-cp37-cp37m-manylinux2014_x86_64.whl (50.4 MB)\nRequirement already satisfied: numpy>=1.14.5 in /shared-libs/python3.7/py/lib/python3.7/site-packages (from opencv-python==4.5.1.48) (1.19.5)\nInstalling collected packages: opencv-python\nSuccessfully installed opencv-python-4.5.1.48\n",
     "output_type": "stream"
    }
   ]
  },
  {
   "cell_type": "code",
   "metadata": {
    "tags": [],
    "cell_id": "00003-880fcc9b-04a7-4611-85d9-73218b08f28f",
    "deepnote_to_be_reexecuted": false,
    "source_hash": "5ec7b93d",
    "execution_millis": 1238,
    "execution_start": 1620551370570,
    "deepnote_cell_type": "code"
   },
   "source": "# setting up notebook all modules\n%matplotlib inline\nimport matplotlib.pyplot as plt\nplt.style.use('ggplot')\nimport numpy as np\nimport pandas as pd\nimport cv2\nfrom scipy.interpolate import make_interp_spline, BSpline\nfrom functools import reduce\n\n\nsaveFig = False",
   "execution_count": 2,
   "outputs": []
  },
  {
   "cell_type": "code",
   "metadata": {
    "tags": [],
    "cell_id": "00007-a494594d-e57d-4d06-b158-f93626d87f8f",
    "deepnote_to_be_reexecuted": false,
    "source_hash": "1204d28",
    "execution_millis": 53,
    "execution_start": 1620551371841,
    "deepnote_cell_type": "code"
   },
   "source": "nai_intersection = pd.read_csv('n_primitives_tests/tests_pdp_intersection.txt')\nnai_union = pd.read_csv('n_primitives_tests/tests_pdp_union.txt')\nnai_difference = pd.read_csv('n_primitives_tests/tests_pdp_difference.txt')",
   "execution_count": 3,
   "outputs": []
  },
  {
   "cell_type": "code",
   "metadata": {
    "tags": [],
    "cell_id": "00010-5f9ef82b-29b7-4591-8c0f-334373b12032",
    "deepnote_to_be_reexecuted": false,
    "source_hash": "e05e699f",
    "execution_millis": 18,
    "execution_start": 1620551371905,
    "deepnote_cell_type": "code"
   },
   "source": "df_normal = pd.concat([nai_intersection, nai_union, nai_difference], axis=1)\ndf_normal.columns = [\"Triangle Number\", \"Intersection Time\", \"tris2\", \"Union Time\", \"tris3\", \"Difference Time\"]\ndf_normal = df_normal.drop(columns=['tris2', 'tris3'])\ncol = df_normal.loc[: , \"Intersection Time\":\"Difference Time\"]\ndf_normal['NaiCSG Mean Time'] = col.mean(axis=1)",
   "execution_count": 4,
   "outputs": []
  },
  {
   "cell_type": "code",
   "metadata": {
    "tags": [],
    "cell_id": "00010-2fa0138d-3ded-44d8-a692-7dbd512b5f04",
    "deepnote_to_be_reexecuted": false,
    "source_hash": "9fa5df28",
    "execution_millis": 74,
    "execution_start": 1620551371940,
    "deepnote_cell_type": "code"
   },
   "source": "df_normal",
   "execution_count": 5,
   "outputs": [
    {
     "output_type": "execute_result",
     "execution_count": 5,
     "data": {
      "application/vnd.deepnote.dataframe.v2+json": {
       "row_count": 89,
       "column_count": 5,
       "columns": [
        {
         "name": "Triangle Number",
         "dtype": "int64",
         "stats": {
          "unique_count": 89,
          "nan_count": 0,
          "min": "56",
          "max": "17480",
          "histogram": [
           {
            "bin_start": 56,
            "bin_end": 1798.4,
            "count": 25
           },
           {
            "bin_start": 1798.4,
            "bin_end": 3540.8,
            "count": 12
           },
           {
            "bin_start": 3540.8,
            "bin_end": 5283.200000000001,
            "count": 9
           },
           {
            "bin_start": 5283.200000000001,
            "bin_end": 7025.6,
            "count": 8
           },
           {
            "bin_start": 7025.6,
            "bin_end": 8768,
            "count": 7
           },
           {
            "bin_start": 8768,
            "bin_end": 10510.400000000001,
            "count": 6
           },
           {
            "bin_start": 10510.400000000001,
            "bin_end": 12252.800000000001,
            "count": 6
           },
           {
            "bin_start": 12252.800000000001,
            "bin_end": 13995.2,
            "count": 6
           },
           {
            "bin_start": 13995.2,
            "bin_end": 15737.6,
            "count": 4
           },
           {
            "bin_start": 15737.6,
            "bin_end": 17480,
            "count": 6
           }
          ]
         }
        },
        {
         "name": "Intersection Time",
         "dtype": "int64",
         "stats": {
          "unique_count": 89,
          "nan_count": 0,
          "min": "9584",
          "max": "2827311",
          "histogram": [
           {
            "bin_start": 9584,
            "bin_end": 291356.7,
            "count": 27
           },
           {
            "bin_start": 291356.7,
            "bin_end": 573129.4,
            "count": 13
           },
           {
            "bin_start": 573129.4,
            "bin_end": 854902.1000000001,
            "count": 11
           },
           {
            "bin_start": 854902.1000000001,
            "bin_end": 1136674.8,
            "count": 8
           },
           {
            "bin_start": 1136674.8,
            "bin_end": 1418447.5,
            "count": 7
           },
           {
            "bin_start": 1418447.5,
            "bin_end": 1700220.2000000002,
            "count": 6
           },
           {
            "bin_start": 1700220.2000000002,
            "bin_end": 1981992.9000000001,
            "count": 5
           },
           {
            "bin_start": 1981992.9000000001,
            "bin_end": 2263765.6,
            "count": 7
           },
           {
            "bin_start": 2263765.6,
            "bin_end": 2545538.3000000003,
            "count": 3
           },
           {
            "bin_start": 2545538.3000000003,
            "bin_end": 2827311,
            "count": 2
           }
          ]
         }
        },
        {
         "name": "Union Time",
         "dtype": "int64",
         "stats": {
          "unique_count": 89,
          "nan_count": 0,
          "min": "10005",
          "max": "2517694",
          "histogram": [
           {
            "bin_start": 10005,
            "bin_end": 260773.9,
            "count": 25
           },
           {
            "bin_start": 260773.9,
            "bin_end": 511542.8,
            "count": 13
           },
           {
            "bin_start": 511542.8,
            "bin_end": 762311.7,
            "count": 9
           },
           {
            "bin_start": 762311.7,
            "bin_end": 1013080.6,
            "count": 9
           },
           {
            "bin_start": 1013080.6,
            "bin_end": 1263849.5,
            "count": 7
           },
           {
            "bin_start": 1263849.5,
            "bin_end": 1514618.4,
            "count": 5
           },
           {
            "bin_start": 1514618.4,
            "bin_end": 1765387.3,
            "count": 5
           },
           {
            "bin_start": 1765387.3,
            "bin_end": 2016156.2,
            "count": 7
           },
           {
            "bin_start": 2016156.2,
            "bin_end": 2266925.1,
            "count": 6
           },
           {
            "bin_start": 2266925.1,
            "bin_end": 2517694,
            "count": 3
           }
          ]
         }
        },
        {
         "name": "Difference Time",
         "dtype": "int64",
         "stats": {
          "unique_count": 89,
          "nan_count": 0,
          "min": "10244",
          "max": "2905425",
          "histogram": [
           {
            "bin_start": 10244,
            "bin_end": 299762.1,
            "count": 27
           },
           {
            "bin_start": 299762.1,
            "bin_end": 589280.2,
            "count": 14
           },
           {
            "bin_start": 589280.2,
            "bin_end": 878798.2999999999,
            "count": 10
           },
           {
            "bin_start": 878798.2999999999,
            "bin_end": 1168316.4,
            "count": 9
           },
           {
            "bin_start": 1168316.4,
            "bin_end": 1457834.5,
            "count": 6
           },
           {
            "bin_start": 1457834.5,
            "bin_end": 1747352.5999999999,
            "count": 7
           },
           {
            "bin_start": 1747352.5999999999,
            "bin_end": 2036870.6999999997,
            "count": 5
           },
           {
            "bin_start": 2036870.6999999997,
            "bin_end": 2326388.8,
            "count": 1
           },
           {
            "bin_start": 2326388.8,
            "bin_end": 2615906.9,
            "count": 5
           },
           {
            "bin_start": 2615906.9,
            "bin_end": 2905425,
            "count": 5
           }
          ]
         }
        },
        {
         "name": "NaiCSG Mean Time",
         "dtype": "float64",
         "stats": {
          "unique_count": 89,
          "nan_count": 0,
          "min": "9944.333333333334",
          "max": "2717931.0",
          "histogram": [
           {
            "bin_start": 9944.333333333334,
            "bin_end": 280742.99999999994,
            "count": 27
           },
           {
            "bin_start": 280742.99999999994,
            "bin_end": 551541.6666666666,
            "count": 12
           },
           {
            "bin_start": 551541.6666666666,
            "bin_end": 822340.3333333333,
            "count": 10
           },
           {
            "bin_start": 822340.3333333333,
            "bin_end": 1093138.9999999998,
            "count": 9
           },
           {
            "bin_start": 1093138.9999999998,
            "bin_end": 1363937.6666666663,
            "count": 7
           },
           {
            "bin_start": 1363937.6666666663,
            "bin_end": 1634736.333333333,
            "count": 6
           },
           {
            "bin_start": 1634736.333333333,
            "bin_end": 1905534.9999999998,
            "count": 5
           },
           {
            "bin_start": 1905534.9999999998,
            "bin_end": 2176333.6666666665,
            "count": 4
           },
           {
            "bin_start": 2176333.6666666665,
            "bin_end": 2447132.333333333,
            "count": 6
           },
           {
            "bin_start": 2447132.333333333,
            "bin_end": 2717931,
            "count": 3
           }
          ]
         }
        },
        {
         "name": "_deepnote_index_column",
         "dtype": "int64"
        }
       ],
       "rows_top": [
        {
         "Triangle Number": 56,
         "Intersection Time": 9584,
         "Union Time": 10005,
         "Difference Time": 10244,
         "NaiCSG Mean Time": 9944.333333333334,
         "_deepnote_index_column": 0
        },
        {
         "Triangle Number": 96,
         "Intersection Time": 14842,
         "Union Time": 13504,
         "Difference Time": 17231,
         "NaiCSG Mean Time": 15192.333333333334,
         "_deepnote_index_column": 1
        },
        {
         "Triangle Number": 108,
         "Intersection Time": 19609,
         "Union Time": 15103,
         "Difference Time": 27751,
         "NaiCSG Mean Time": 20821,
         "_deepnote_index_column": 2
        },
        {
         "Triangle Number": 160,
         "Intersection Time": 23874,
         "Union Time": 21834,
         "Difference Time": 34702,
         "NaiCSG Mean Time": 26803.333333333332,
         "_deepnote_index_column": 3
        },
        {
         "Triangle Number": 176,
         "Intersection Time": 24185,
         "Union Time": 23850,
         "Difference Time": 34382,
         "NaiCSG Mean Time": 27472.333333333332,
         "_deepnote_index_column": 4
        },
        {
         "Triangle Number": 240,
         "Intersection Time": 32998,
         "Union Time": 32219,
         "Difference Time": 40438,
         "NaiCSG Mean Time": 35218.333333333336,
         "_deepnote_index_column": 5
        },
        {
         "Triangle Number": 260,
         "Intersection Time": 35652,
         "Union Time": 34818,
         "Difference Time": 37788,
         "NaiCSG Mean Time": 36086,
         "_deepnote_index_column": 6
        },
        {
         "Triangle Number": 336,
         "Intersection Time": 46222,
         "Union Time": 45260,
         "Difference Time": 49368,
         "NaiCSG Mean Time": 46950,
         "_deepnote_index_column": 7
        },
        {
         "Triangle Number": 360,
         "Intersection Time": 49417,
         "Union Time": 48493,
         "Difference Time": 52884,
         "NaiCSG Mean Time": 50264.666666666664,
         "_deepnote_index_column": 8
        },
        {
         "Triangle Number": 448,
         "Intersection Time": 62203,
         "Union Time": 60094,
         "Difference Time": 66650,
         "NaiCSG Mean Time": 62982.333333333336,
         "_deepnote_index_column": 9
        },
        {
         "Triangle Number": 476,
         "Intersection Time": 65952,
         "Union Time": 64117,
         "Difference Time": 70374,
         "NaiCSG Mean Time": 66814.33333333333,
         "_deepnote_index_column": 10
        },
        {
         "Triangle Number": 576,
         "Intersection Time": 80372,
         "Union Time": 77733,
         "Difference Time": 84970,
         "NaiCSG Mean Time": 81025,
         "_deepnote_index_column": 11
        },
        {
         "Triangle Number": 608,
         "Intersection Time": 85444,
         "Union Time": 82366,
         "Difference Time": 90764,
         "NaiCSG Mean Time": 86191.33333333333,
         "_deepnote_index_column": 12
        },
        {
         "Triangle Number": 720,
         "Intersection Time": 101890,
         "Union Time": 97392,
         "Difference Time": 106697,
         "NaiCSG Mean Time": 101993,
         "_deepnote_index_column": 13
        },
        {
         "Triangle Number": 756,
         "Intersection Time": 107086,
         "Union Time": 102464,
         "Difference Time": 112090,
         "NaiCSG Mean Time": 107213.33333333333,
         "_deepnote_index_column": 14
        },
        {
         "Triangle Number": 880,
         "Intersection Time": 125876,
         "Union Time": 120397,
         "Difference Time": 131249,
         "NaiCSG Mean Time": 125840.66666666667,
         "_deepnote_index_column": 15
        },
        {
         "Triangle Number": 920,
         "Intersection Time": 132002,
         "Union Time": 126373,
         "Difference Time": 136662,
         "NaiCSG Mean Time": 131679,
         "_deepnote_index_column": 16
        },
        {
         "Triangle Number": 1056,
         "Intersection Time": 151325,
         "Union Time": 146608,
         "Difference Time": 155931,
         "NaiCSG Mean Time": 151288,
         "_deepnote_index_column": 17
        },
        {
         "Triangle Number": 1100,
         "Intersection Time": 158486,
         "Union Time": 155609,
         "Difference Time": 161758,
         "NaiCSG Mean Time": 158617.66666666666,
         "_deepnote_index_column": 18
        },
        {
         "Triangle Number": 1248,
         "Intersection Time": 179280,
         "Union Time": 173207,
         "Difference Time": 184930,
         "NaiCSG Mean Time": 179139,
         "_deepnote_index_column": 19
        },
        {
         "Triangle Number": 1296,
         "Intersection Time": 185978,
         "Union Time": 180151,
         "Difference Time": 190009,
         "NaiCSG Mean Time": 185379.33333333334,
         "_deepnote_index_column": 20
        },
        {
         "Triangle Number": 1456,
         "Intersection Time": 211041,
         "Union Time": 202205,
         "Difference Time": 210518,
         "NaiCSG Mean Time": 207921.33333333334,
         "_deepnote_index_column": 21
        },
        {
         "Triangle Number": 1508,
         "Intersection Time": 215526,
         "Union Time": 210085,
         "Difference Time": 216030,
         "NaiCSG Mean Time": 213880.33333333334,
         "_deepnote_index_column": 22
        },
        {
         "Triangle Number": 1680,
         "Intersection Time": 239881,
         "Union Time": 233945,
         "Difference Time": 238362,
         "NaiCSG Mean Time": 237396,
         "_deepnote_index_column": 23
        },
        {
         "Triangle Number": 1736,
         "Intersection Time": 249382,
         "Union Time": 241841,
         "Difference Time": 244276,
         "NaiCSG Mean Time": 245166.33333333334,
         "_deepnote_index_column": 24
        },
        {
         "Triangle Number": 1920,
         "Intersection Time": 273845,
         "Union Time": 265866,
         "Difference Time": 269945,
         "NaiCSG Mean Time": 269885.3333333333,
         "_deepnote_index_column": 25
        },
        {
         "Triangle Number": 1980,
         "Intersection Time": 282575,
         "Union Time": 273237,
         "Difference Time": 278551,
         "NaiCSG Mean Time": 278121,
         "_deepnote_index_column": 26
        },
        {
         "Triangle Number": 2176,
         "Intersection Time": 311274,
         "Union Time": 362476,
         "Difference Time": 303839,
         "NaiCSG Mean Time": 325863,
         "_deepnote_index_column": 27
        },
        {
         "Triangle Number": 2240,
         "Intersection Time": 320150,
         "Union Time": 317460,
         "Difference Time": 310647,
         "NaiCSG Mean Time": 316085.6666666667,
         "_deepnote_index_column": 28
        },
        {
         "Triangle Number": 2448,
         "Intersection Time": 349675,
         "Union Time": 349581,
         "Difference Time": 341434,
         "NaiCSG Mean Time": 346896.6666666667,
         "_deepnote_index_column": 29
        },
        {
         "Triangle Number": 2516,
         "Intersection Time": 359038,
         "Union Time": 352627,
         "Difference Time": 348794,
         "NaiCSG Mean Time": 353486.3333333333,
         "_deepnote_index_column": 30
        },
        {
         "Triangle Number": 2736,
         "Intersection Time": 389403,
         "Union Time": 383456,
         "Difference Time": 378131,
         "NaiCSG Mean Time": 383663.3333333333,
         "_deepnote_index_column": 31
        },
        {
         "Triangle Number": 2808,
         "Intersection Time": 400696,
         "Union Time": 391477,
         "Difference Time": 388459,
         "NaiCSG Mean Time": 393544,
         "_deepnote_index_column": 32
        },
        {
         "Triangle Number": 3040,
         "Intersection Time": 435233,
         "Union Time": 421346,
         "Difference Time": 421520,
         "NaiCSG Mean Time": 426033,
         "_deepnote_index_column": 33
        },
        {
         "Triangle Number": 3116,
         "Intersection Time": 443130,
         "Union Time": 425838,
         "Difference Time": 428793,
         "NaiCSG Mean Time": 432587,
         "_deepnote_index_column": 34
        },
        {
         "Triangle Number": 3360,
         "Intersection Time": 476118,
         "Union Time": 460286,
         "Difference Time": 462583,
         "NaiCSG Mean Time": 466329,
         "_deepnote_index_column": 35
        },
        {
         "Triangle Number": 3440,
         "Intersection Time": 486536,
         "Union Time": 471180,
         "Difference Time": 474517,
         "NaiCSG Mean Time": 477411,
         "_deepnote_index_column": 36
        },
        {
         "Triangle Number": 3696,
         "Intersection Time": 523298,
         "Union Time": 504251,
         "Difference Time": 507793,
         "NaiCSG Mean Time": 511780.6666666667,
         "_deepnote_index_column": 37
        },
        {
         "Triangle Number": 3780,
         "Intersection Time": 534070,
         "Union Time": 516559,
         "Difference Time": 519295,
         "NaiCSG Mean Time": 523308,
         "_deepnote_index_column": 38
        },
        {
         "Triangle Number": 4048,
         "Intersection Time": 570935,
         "Union Time": 551434,
         "Difference Time": 554862,
         "NaiCSG Mean Time": 559077,
         "_deepnote_index_column": 39
        },
        {
         "Triangle Number": 4136,
         "Intersection Time": 583255,
         "Union Time": 563322,
         "Difference Time": 572791,
         "NaiCSG Mean Time": 573122.6666666666,
         "_deepnote_index_column": 40
        },
        {
         "Triangle Number": 4416,
         "Intersection Time": 626171,
         "Union Time": 603081,
         "Difference Time": 606211,
         "NaiCSG Mean Time": 611821,
         "_deepnote_index_column": 41
        },
        {
         "Triangle Number": 4508,
         "Intersection Time": 646534,
         "Union Time": 615300,
         "Difference Time": 620593,
         "NaiCSG Mean Time": 627475.6666666666,
         "_deepnote_index_column": 42
        },
        {
         "Triangle Number": 4800,
         "Intersection Time": 688092,
         "Union Time": 656010,
         "Difference Time": 660511,
         "NaiCSG Mean Time": 668204.3333333334,
         "_deepnote_index_column": 43
        },
        {
         "Triangle Number": 4896,
         "Intersection Time": 696540,
         "Union Time": 667881,
         "Difference Time": 674886,
         "NaiCSG Mean Time": 679769,
         "_deepnote_index_column": 44
        },
        {
         "Triangle Number": 5200,
         "Intersection Time": 740545,
         "Union Time": 706178,
         "Difference Time": 715134,
         "NaiCSG Mean Time": 720619,
         "_deepnote_index_column": 45
        },
        {
         "Triangle Number": 5300,
         "Intersection Time": 752197,
         "Union Time": 721692,
         "Difference Time": 729200,
         "NaiCSG Mean Time": 734363,
         "_deepnote_index_column": 46
        },
        {
         "Triangle Number": 5616,
         "Intersection Time": 792693,
         "Union Time": 764273,
         "Difference Time": 772781,
         "NaiCSG Mean Time": 776582.3333333334,
         "_deepnote_index_column": 47
        },
        {
         "Triangle Number": 5720,
         "Intersection Time": 806085,
         "Union Time": 780495,
         "Difference Time": 788042,
         "NaiCSG Mean Time": 791540.6666666666,
         "_deepnote_index_column": 48
        },
        {
         "Triangle Number": 6048,
         "Intersection Time": 845372,
         "Union Time": 822356,
         "Difference Time": 829629,
         "NaiCSG Mean Time": 832452.3333333334,
         "_deepnote_index_column": 49
        },
        {
         "Triangle Number": 6156,
         "Intersection Time": 846592,
         "Union Time": 836841,
         "Difference Time": 847480,
         "NaiCSG Mean Time": 843637.6666666666,
         "_deepnote_index_column": 50
        },
        {
         "Triangle Number": 6496,
         "Intersection Time": 890124,
         "Union Time": 883372,
         "Difference Time": 891846,
         "NaiCSG Mean Time": 888447.3333333334,
         "_deepnote_index_column": 51
        },
        {
         "Triangle Number": 6608,
         "Intersection Time": 907426,
         "Union Time": 900361,
         "Difference Time": 909525,
         "NaiCSG Mean Time": 905770.6666666666,
         "_deepnote_index_column": 52
        },
        {
         "Triangle Number": 6960,
         "Intersection Time": 956599,
         "Union Time": 946814,
         "Difference Time": 955444,
         "NaiCSG Mean Time": 952952.3333333334,
         "_deepnote_index_column": 53
        },
        {
         "Triangle Number": 7076,
         "Intersection Time": 973313,
         "Union Time": 961597,
         "Difference Time": 973696,
         "NaiCSG Mean Time": 969535.3333333334,
         "_deepnote_index_column": 54
        },
        {
         "Triangle Number": 7440,
         "Intersection Time": 1019164,
         "Union Time": 1011085,
         "Difference Time": 1024134,
         "NaiCSG Mean Time": 1018127.6666666666,
         "_deepnote_index_column": 55
        },
        {
         "Triangle Number": 7560,
         "Intersection Time": 1035400,
         "Union Time": 1026368,
         "Difference Time": 1042050,
         "NaiCSG Mean Time": 1034606,
         "_deepnote_index_column": 56
        },
        {
         "Triangle Number": 7936,
         "Intersection Time": 1085636,
         "Union Time": 1077793,
         "Difference Time": 1091689,
         "NaiCSG Mean Time": 1085039.3333333333,
         "_deepnote_index_column": 57
        },
        {
         "Triangle Number": 8060,
         "Intersection Time": 1101434,
         "Union Time": 1094405,
         "Difference Time": 1110457,
         "NaiCSG Mean Time": 1102098.6666666667,
         "_deepnote_index_column": 58
        },
        {
         "Triangle Number": 8448,
         "Intersection Time": 1155906,
         "Union Time": 1145365,
         "Difference Time": 1164851,
         "NaiCSG Mean Time": 1155374,
         "_deepnote_index_column": 59
        },
        {
         "Triangle Number": 8576,
         "Intersection Time": 1176290,
         "Union Time": 1161851,
         "Difference Time": 1179355,
         "NaiCSG Mean Time": 1172498.6666666667,
         "_deepnote_index_column": 60
        },
        {
         "Triangle Number": 8976,
         "Intersection Time": 1230970,
         "Union Time": 1215861,
         "Difference Time": 1236217,
         "NaiCSG Mean Time": 1227682.6666666667,
         "_deepnote_index_column": 61
        },
        {
         "Triangle Number": 9108,
         "Intersection Time": 1244317,
         "Union Time": 1236288,
         "Difference Time": 1254463,
         "NaiCSG Mean Time": 1245022.6666666667,
         "_deepnote_index_column": 62
        },
        {
         "Triangle Number": 9520,
         "Intersection Time": 1305554,
         "Union Time": 1291552,
         "Difference Time": 1311087,
         "NaiCSG Mean Time": 1302731,
         "_deepnote_index_column": 63
        },
        {
         "Triangle Number": 9656,
         "Intersection Time": 1354374,
         "Union Time": 1306579,
         "Difference Time": 1330674,
         "NaiCSG Mean Time": 1330542.3333333333,
         "_deepnote_index_column": 64
        },
        {
         "Triangle Number": 10080,
         "Intersection Time": 1417211,
         "Union Time": 1369572,
         "Difference Time": 1404378,
         "NaiCSG Mean Time": 1397053.6666666667,
         "_deepnote_index_column": 65
        },
        {
         "Triangle Number": 10220,
         "Intersection Time": 1431568,
         "Union Time": 1385029,
         "Difference Time": 1470510,
         "NaiCSG Mean Time": 1429035.6666666667,
         "_deepnote_index_column": 66
        },
        {
         "Triangle Number": 10656,
         "Intersection Time": 1493278,
         "Union Time": 1453171,
         "Difference Time": 1462174,
         "NaiCSG Mean Time": 1469541,
         "_deepnote_index_column": 67
        },
        {
         "Triangle Number": 10800,
         "Intersection Time": 1510771,
         "Union Time": 1531993,
         "Difference Time": 1467025,
         "NaiCSG Mean Time": 1503263,
         "_deepnote_index_column": 68
        },
        {
         "Triangle Number": 11248,
         "Intersection Time": 1573793,
         "Union Time": 1590187,
         "Difference Time": 1601447,
         "NaiCSG Mean Time": 1588475.6666666667,
         "_deepnote_index_column": 69
        },
        {
         "Triangle Number": 11396,
         "Intersection Time": 1606627,
         "Union Time": 1607657,
         "Difference Time": 1653096,
         "NaiCSG Mean Time": 1622460,
         "_deepnote_index_column": 70
        },
        {
         "Triangle Number": 11856,
         "Intersection Time": 1711876,
         "Union Time": 1672848,
         "Difference Time": 1725146,
         "NaiCSG Mean Time": 1703290,
         "_deepnote_index_column": 71
        },
        {
         "Triangle Number": 12008,
         "Intersection Time": 1681931,
         "Union Time": 1708713,
         "Difference Time": 1736596,
         "NaiCSG Mean Time": 1709080,
         "_deepnote_index_column": 72
        },
        {
         "Triangle Number": 12480,
         "Intersection Time": 1750013,
         "Union Time": 1784590,
         "Difference Time": 1788876,
         "NaiCSG Mean Time": 1774493,
         "_deepnote_index_column": 73
        },
        {
         "Triangle Number": 12636,
         "Intersection Time": 1773598,
         "Union Time": 1787878,
         "Difference Time": 1901647,
         "NaiCSG Mean Time": 1821041,
         "_deepnote_index_column": 74
        },
        {
         "Triangle Number": 13120,
         "Intersection Time": 1844089,
         "Union Time": 1852116,
         "Difference Time": 1897219,
         "NaiCSG Mean Time": 1864474.6666666667,
         "_deepnote_index_column": 75
        },
        {
         "Triangle Number": 13280,
         "Intersection Time": 1997018,
         "Union Time": 1879533,
         "Difference Time": 1928816,
         "NaiCSG Mean Time": 1935122.3333333333,
         "_deepnote_index_column": 76
        },
        {
         "Triangle Number": 13776,
         "Intersection Time": 2072811,
         "Union Time": 1951463,
         "Difference Time": 2017280,
         "NaiCSG Mean Time": 2013851.3333333333,
         "_deepnote_index_column": 77
        },
        {
         "Triangle Number": 13940,
         "Intersection Time": 1962739,
         "Union Time": 1973032,
         "Difference Time": 2306517,
         "NaiCSG Mean Time": 2080762.6666666667,
         "_deepnote_index_column": 78
        },
        {
         "Triangle Number": 14448,
         "Intersection Time": 2038081,
         "Union Time": 2032794,
         "Difference Time": 2465893,
         "NaiCSG Mean Time": 2178922.6666666665,
         "_deepnote_index_column": 79
        },
        {
         "Triangle Number": 14616,
         "Intersection Time": 2055913,
         "Union Time": 1995208,
         "Difference Time": 2475501,
         "NaiCSG Mean Time": 2175540.6666666665,
         "_deepnote_index_column": 80
        },
        {
         "Triangle Number": 15136,
         "Intersection Time": 2132282,
         "Union Time": 2165655,
         "Difference Time": 2510784,
         "NaiCSG Mean Time": 2269573.6666666665,
         "_deepnote_index_column": 81
        },
        {
         "Triangle Number": 15308,
         "Intersection Time": 2157535,
         "Union Time": 2107704,
         "Difference Time": 2521245,
         "NaiCSG Mean Time": 2262161.3333333335,
         "_deepnote_index_column": 82
        },
        {
         "Triangle Number": 15840,
         "Intersection Time": 2226724,
         "Union Time": 2162510,
         "Difference Time": 2592207,
         "NaiCSG Mean Time": 2327147,
         "_deepnote_index_column": 83
        },
        {
         "Triangle Number": 16016,
         "Intersection Time": 2358169,
         "Union Time": 2185245,
         "Difference Time": 2616391,
         "NaiCSG Mean Time": 2386601.6666666665,
         "_deepnote_index_column": 84
        },
        {
         "Triangle Number": 16560,
         "Intersection Time": 2325892,
         "Union Time": 2249876,
         "Difference Time": 2661334,
         "NaiCSG Mean Time": 2412367.3333333335,
         "_deepnote_index_column": 85
        },
        {
         "Triangle Number": 16740,
         "Intersection Time": 2468460,
         "Union Time": 2281268,
         "Difference Time": 2728314,
         "NaiCSG Mean Time": 2492680.6666666665,
         "_deepnote_index_column": 86
        },
        {
         "Triangle Number": 17296,
         "Intersection Time": 2827311,
         "Union Time": 2477078,
         "Difference Time": 2849404,
         "NaiCSG Mean Time": 2717931,
         "_deepnote_index_column": 87
        },
        {
         "Triangle Number": 17480,
         "Intersection Time": 2554919,
         "Union Time": 2517694,
         "Difference Time": 2905425,
         "NaiCSG Mean Time": 2659346,
         "_deepnote_index_column": 88
        }
       ],
       "rows_bottom": null
      },
      "text/plain": "    Triangle Number  Intersection Time  Union Time  Difference Time  \\\n0                56               9584       10005            10244   \n1                96              14842       13504            17231   \n2               108              19609       15103            27751   \n3               160              23874       21834            34702   \n4               176              24185       23850            34382   \n..              ...                ...         ...              ...   \n84            16016            2358169     2185245          2616391   \n85            16560            2325892     2249876          2661334   \n86            16740            2468460     2281268          2728314   \n87            17296            2827311     2477078          2849404   \n88            17480            2554919     2517694          2905425   \n\n    NaiCSG Mean Time  \n0       9.944333e+03  \n1       1.519233e+04  \n2       2.082100e+04  \n3       2.680333e+04  \n4       2.747233e+04  \n..               ...  \n84      2.386602e+06  \n85      2.412367e+06  \n86      2.492681e+06  \n87      2.717931e+06  \n88      2.659346e+06  \n\n[89 rows x 5 columns]",
      "text/html": "<div>\n<style scoped>\n    .dataframe tbody tr th:only-of-type {\n        vertical-align: middle;\n    }\n\n    .dataframe tbody tr th {\n        vertical-align: top;\n    }\n\n    .dataframe thead th {\n        text-align: right;\n    }\n</style>\n<table border=\"1\" class=\"dataframe\">\n  <thead>\n    <tr style=\"text-align: right;\">\n      <th></th>\n      <th>Triangle Number</th>\n      <th>Intersection Time</th>\n      <th>Union Time</th>\n      <th>Difference Time</th>\n      <th>NaiCSG Mean Time</th>\n    </tr>\n  </thead>\n  <tbody>\n    <tr>\n      <th>0</th>\n      <td>56</td>\n      <td>9584</td>\n      <td>10005</td>\n      <td>10244</td>\n      <td>9.944333e+03</td>\n    </tr>\n    <tr>\n      <th>1</th>\n      <td>96</td>\n      <td>14842</td>\n      <td>13504</td>\n      <td>17231</td>\n      <td>1.519233e+04</td>\n    </tr>\n    <tr>\n      <th>2</th>\n      <td>108</td>\n      <td>19609</td>\n      <td>15103</td>\n      <td>27751</td>\n      <td>2.082100e+04</td>\n    </tr>\n    <tr>\n      <th>3</th>\n      <td>160</td>\n      <td>23874</td>\n      <td>21834</td>\n      <td>34702</td>\n      <td>2.680333e+04</td>\n    </tr>\n    <tr>\n      <th>4</th>\n      <td>176</td>\n      <td>24185</td>\n      <td>23850</td>\n      <td>34382</td>\n      <td>2.747233e+04</td>\n    </tr>\n    <tr>\n      <th>...</th>\n      <td>...</td>\n      <td>...</td>\n      <td>...</td>\n      <td>...</td>\n      <td>...</td>\n    </tr>\n    <tr>\n      <th>84</th>\n      <td>16016</td>\n      <td>2358169</td>\n      <td>2185245</td>\n      <td>2616391</td>\n      <td>2.386602e+06</td>\n    </tr>\n    <tr>\n      <th>85</th>\n      <td>16560</td>\n      <td>2325892</td>\n      <td>2249876</td>\n      <td>2661334</td>\n      <td>2.412367e+06</td>\n    </tr>\n    <tr>\n      <th>86</th>\n      <td>16740</td>\n      <td>2468460</td>\n      <td>2281268</td>\n      <td>2728314</td>\n      <td>2.492681e+06</td>\n    </tr>\n    <tr>\n      <th>87</th>\n      <td>17296</td>\n      <td>2827311</td>\n      <td>2477078</td>\n      <td>2849404</td>\n      <td>2.717931e+06</td>\n    </tr>\n    <tr>\n      <th>88</th>\n      <td>17480</td>\n      <td>2554919</td>\n      <td>2517694</td>\n      <td>2905425</td>\n      <td>2.659346e+06</td>\n    </tr>\n  </tbody>\n</table>\n<p>89 rows × 5 columns</p>\n</div>"
     },
     "metadata": {}
    }
   ]
  },
  {
   "cell_type": "markdown",
   "source": "#### NaiCSG 3 Operations Plot ",
   "metadata": {
    "tags": [],
    "cell_id": "00007-340a4799-7a08-4c51-8a74-dcf4b6da83df",
    "deepnote_cell_type": "markdown"
   }
  },
  {
   "cell_type": "code",
   "metadata": {
    "tags": [],
    "cell_id": "00012-ed590e82-9f6f-4ce6-b7b0-7a458912c82f",
    "deepnote_to_be_reexecuted": false,
    "source_hash": "9020fd39",
    "execution_millis": 585,
    "execution_start": 1620551372004,
    "deepnote_cell_type": "code"
   },
   "source": "df_normal.plot(x ='Triangle Number', y=['Intersection Time', 'Union Time', 'Difference Time', 'NaiCSG Mean Time'], kind = 'line', lw=1)\nplt.show()\nif saveFig:\n    plt.savefig('NaiCSG-OPS.png')\n\n# step size in triangles grow exponentiall; therefore the bar chart shows different results than the scaled one below here.",
   "execution_count": 6,
   "outputs": [
    {
     "data": {
      "text/plain": "<Figure size 640x480 with 1 Axes>",
      "image/png": "[encoded data removed]"
     },
     "metadata": {
      "image/png": {
       "width": 547,
       "height": 452
      }
     },
     "output_type": "display_data"
    }
   ]
  },
  {
   "cell_type": "markdown",
   "source": "### BinCSG",
   "metadata": {
    "tags": [],
    "cell_id": "00008-1b98398b-70b9-4197-ab8c-ae6748b9b4cc",
    "deepnote_cell_type": "markdown"
   }
  },
  {
   "cell_type": "code",
   "metadata": {
    "tags": [],
    "cell_id": "00008-ea34de0b-27c9-496f-95cb-a567ea95f6c7",
    "deepnote_to_be_reexecuted": false,
    "source_hash": "33ef9e9b",
    "execution_millis": 73,
    "execution_start": 1620551372586,
    "deepnote_cell_type": "code"
   },
   "source": "bsp_intersection = pd.read_csv('n_primitives_tests/tests_bsp_pdp_intersection.txt')\nbsp_union = pd.read_csv('n_primitives_tests/tests_bsp_pdp_union.txt')\nbsp_difference = pd.read_csv('n_primitives_tests/tests_bsp_pdp_difference.txt')",
   "execution_count": 7,
   "outputs": []
  },
  {
   "cell_type": "code",
   "metadata": {
    "tags": [],
    "cell_id": "00010-74c17ed8-1e10-44ec-b657-f8244b4f79fd",
    "deepnote_to_be_reexecuted": false,
    "source_hash": "17c386df",
    "execution_millis": 997137808,
    "execution_start": 1620551372669,
    "deepnote_cell_type": "code"
   },
   "source": "df_bsp = pd.concat([bsp_intersection, bsp_union, bsp_difference], axis=1)\ndf_bsp.columns = [\"Triangle Number\", \"Intersection Time\", \"tris2\", \"Union Time\", \"tris3\", \"Difference Time\"]\ndf_bsp = df_bsp.drop(columns=['tris2', 'tris3'])\ncol2 = df_bsp.loc[: , \"Intersection Time\":\"Difference Time\"]\ndf_bsp['BinCSG Mean Time'] = col2.mean(axis=1)",
   "execution_count": 8,
   "outputs": []
  },
  {
   "cell_type": "code",
   "metadata": {
    "tags": [],
    "cell_id": "00014-29839f1f-8295-4370-a89c-a48730ff25ac",
    "deepnote_to_be_reexecuted": false,
    "source_hash": "8ba2b847",
    "execution_millis": 26,
    "execution_start": 1620551372686,
    "deepnote_cell_type": "code"
   },
   "source": "df_bsp",
   "execution_count": 9,
   "outputs": [
    {
     "output_type": "execute_result",
     "execution_count": 9,
     "data": {
      "application/vnd.deepnote.dataframe.v2+json": {
       "row_count": 198,
       "column_count": 5,
       "columns": [
        {
         "name": "Triangle Number",
         "dtype": "int64",
         "stats": {
          "unique_count": 198,
          "nan_count": 0,
          "min": "56",
          "max": "82416",
          "histogram": [
           {
            "bin_start": 56,
            "bin_end": 8292,
            "count": 59
           },
           {
            "bin_start": 8292,
            "bin_end": 16528,
            "count": 26
           },
           {
            "bin_start": 16528,
            "bin_end": 24764,
            "count": 21
           },
           {
            "bin_start": 24764,
            "bin_end": 33000,
            "count": 17
           },
           {
            "bin_start": 33000,
            "bin_end": 41236,
            "count": 16
           },
           {
            "bin_start": 41236,
            "bin_end": 49472,
            "count": 13
           },
           {
            "bin_start": 49472,
            "bin_end": 57708,
            "count": 13
           },
           {
            "bin_start": 57708,
            "bin_end": 65944,
            "count": 12
           },
           {
            "bin_start": 65944,
            "bin_end": 74180,
            "count": 10
           },
           {
            "bin_start": 74180,
            "bin_end": 82416,
            "count": 11
           }
          ]
         }
        },
        {
         "name": "Intersection Time",
         "dtype": "int64",
         "stats": {
          "unique_count": 198,
          "nan_count": 0,
          "min": "787",
          "max": "2068738",
          "histogram": [
           {
            "bin_start": 787,
            "bin_end": 207582.1,
            "count": 86
           },
           {
            "bin_start": 207582.1,
            "bin_end": 414377.2,
            "count": 43
           },
           {
            "bin_start": 414377.2,
            "bin_end": 621172.3,
            "count": 32
           },
           {
            "bin_start": 621172.3,
            "bin_end": 827967.4,
            "count": 19
           },
           {
            "bin_start": 827967.4,
            "bin_end": 1034762.5,
            "count": 17
           },
           {
            "bin_start": 1034762.5,
            "bin_end": 1241557.6,
            "count": 0
           },
           {
            "bin_start": 1241557.6,
            "bin_end": 1448352.7,
            "count": 0
           },
           {
            "bin_start": 1448352.7,
            "bin_end": 1655147.8,
            "count": 0
           },
           {
            "bin_start": 1655147.8,
            "bin_end": 1861942.9000000001,
            "count": 0
           },
           {
            "bin_start": 1861942.9000000001,
            "bin_end": 2068738,
            "count": 1
           }
          ]
         }
        },
        {
         "name": "Union Time",
         "dtype": "int64",
         "stats": {
          "unique_count": 198,
          "nan_count": 0,
          "min": "1269",
          "max": "1662735",
          "histogram": [
           {
            "bin_start": 1269,
            "bin_end": 167415.6,
            "count": 59
           },
           {
            "bin_start": 167415.6,
            "bin_end": 333562.2,
            "count": 26
           },
           {
            "bin_start": 333562.2,
            "bin_end": 499708.80000000005,
            "count": 24
           },
           {
            "bin_start": 499708.80000000005,
            "bin_end": 665855.4,
            "count": 18
           },
           {
            "bin_start": 665855.4,
            "bin_end": 832002,
            "count": 16
           },
           {
            "bin_start": 832002,
            "bin_end": 998148.6000000001,
            "count": 16
           },
           {
            "bin_start": 998148.6000000001,
            "bin_end": 1164295.2,
            "count": 9
           },
           {
            "bin_start": 1164295.2,
            "bin_end": 1330441.8,
            "count": 6
           },
           {
            "bin_start": 1330441.8,
            "bin_end": 1496588.4000000001,
            "count": 18
           },
           {
            "bin_start": 1496588.4000000001,
            "bin_end": 1662735,
            "count": 6
           }
          ]
         }
        },
        {
         "name": "Difference Time",
         "dtype": "int64",
         "stats": {
          "unique_count": 198,
          "nan_count": 0,
          "min": "1208",
          "max": "1710673",
          "histogram": [
           {
            "bin_start": 1208,
            "bin_end": 172154.5,
            "count": 72
           },
           {
            "bin_start": 172154.5,
            "bin_end": 343101,
            "count": 29
           },
           {
            "bin_start": 343101,
            "bin_end": 514047.5,
            "count": 26
           },
           {
            "bin_start": 514047.5,
            "bin_end": 684994,
            "count": 20
           },
           {
            "bin_start": 684994,
            "bin_end": 855940.5,
            "count": 18
           },
           {
            "bin_start": 855940.5,
            "bin_end": 1026887,
            "count": 16
           },
           {
            "bin_start": 1026887,
            "bin_end": 1197833.5,
            "count": 13
           },
           {
            "bin_start": 1197833.5,
            "bin_end": 1368780,
            "count": 3
           },
           {
            "bin_start": 1368780,
            "bin_end": 1539726.5,
            "count": 0
           },
           {
            "bin_start": 1539726.5,
            "bin_end": 1710673,
            "count": 1
           }
          ]
         }
        },
        {
         "name": "BinCSG Mean Time",
         "dtype": "float64",
         "stats": {
          "unique_count": 198,
          "nan_count": 0,
          "min": "1088.0",
          "max": "1485332.6666666667",
          "histogram": [
           {
            "bin_start": 1088,
            "bin_end": 149512.46666666667,
            "count": 62
           },
           {
            "bin_start": 149512.46666666667,
            "bin_end": 297936.93333333335,
            "count": 27
           },
           {
            "bin_start": 297936.93333333335,
            "bin_end": 446361.4,
            "count": 27
           },
           {
            "bin_start": 446361.4,
            "bin_end": 594785.8666666667,
            "count": 15
           },
           {
            "bin_start": 594785.8666666667,
            "bin_end": 743210.3333333334,
            "count": 22
           },
           {
            "bin_start": 743210.3333333334,
            "bin_end": 891634.8,
            "count": 14
           },
           {
            "bin_start": 891634.8,
            "bin_end": 1040059.2666666667,
            "count": 8
           },
           {
            "bin_start": 1040059.2666666667,
            "bin_end": 1188483.7333333334,
            "count": 14
           },
           {
            "bin_start": 1188483.7333333334,
            "bin_end": 1336908.2000000002,
            "count": 7
           },
           {
            "bin_start": 1336908.2000000002,
            "bin_end": 1485332.6666666667,
            "count": 2
           }
          ]
         }
        },
        {
         "name": "_deepnote_index_column",
         "dtype": "int64"
        }
       ],
       "rows_top": [
        {
         "Triangle Number": 56,
         "Intersection Time": 787,
         "Union Time": 1269,
         "Difference Time": 1208,
         "BinCSG Mean Time": 1088,
         "_deepnote_index_column": 0
        },
        {
         "Triangle Number": 96,
         "Intersection Time": 1410,
         "Union Time": 2160,
         "Difference Time": 4186,
         "BinCSG Mean Time": 2585.3333333333335,
         "_deepnote_index_column": 1
        },
        {
         "Triangle Number": 108,
         "Intersection Time": 1531,
         "Union Time": 2332,
         "Difference Time": 3368,
         "BinCSG Mean Time": 2410.3333333333335,
         "_deepnote_index_column": 2
        },
        {
         "Triangle Number": 160,
         "Intersection Time": 1909,
         "Union Time": 3170,
         "Difference Time": 5206,
         "BinCSG Mean Time": 3428.3333333333335,
         "_deepnote_index_column": 3
        },
        {
         "Triangle Number": 176,
         "Intersection Time": 2036,
         "Union Time": 3380,
         "Difference Time": 3362,
         "BinCSG Mean Time": 2926,
         "_deepnote_index_column": 4
        },
        {
         "Triangle Number": 240,
         "Intersection Time": 3005,
         "Union Time": 4949,
         "Difference Time": 4815,
         "BinCSG Mean Time": 4256.333333333333,
         "_deepnote_index_column": 5
        },
        {
         "Triangle Number": 260,
         "Intersection Time": 3209,
         "Union Time": 5128,
         "Difference Time": 4258,
         "BinCSG Mean Time": 4198.333333333333,
         "_deepnote_index_column": 6
        },
        {
         "Triangle Number": 336,
         "Intersection Time": 3826,
         "Union Time": 6487,
         "Difference Time": 6041,
         "BinCSG Mean Time": 5451.333333333333,
         "_deepnote_index_column": 7
        },
        {
         "Triangle Number": 360,
         "Intersection Time": 4120,
         "Union Time": 6979,
         "Difference Time": 6827,
         "BinCSG Mean Time": 5975.333333333333,
         "_deepnote_index_column": 8
        },
        {
         "Triangle Number": 448,
         "Intersection Time": 5318,
         "Union Time": 8869,
         "Difference Time": 7923,
         "BinCSG Mean Time": 7370,
         "_deepnote_index_column": 9
        },
        {
         "Triangle Number": 476,
         "Intersection Time": 5570,
         "Union Time": 9316,
         "Difference Time": 10034,
         "BinCSG Mean Time": 8306.666666666666,
         "_deepnote_index_column": 10
        },
        {
         "Triangle Number": 576,
         "Intersection Time": 6365,
         "Union Time": 13214,
         "Difference Time": 9791,
         "BinCSG Mean Time": 9790,
         "_deepnote_index_column": 11
        },
        {
         "Triangle Number": 608,
         "Intersection Time": 6837,
         "Union Time": 14405,
         "Difference Time": 8917,
         "BinCSG Mean Time": 10053,
         "_deepnote_index_column": 12
        },
        {
         "Triangle Number": 720,
         "Intersection Time": 8274,
         "Union Time": 14764,
         "Difference Time": 10985,
         "BinCSG Mean Time": 11341,
         "_deepnote_index_column": 13
        },
        {
         "Triangle Number": 756,
         "Intersection Time": 8795,
         "Union Time": 15135,
         "Difference Time": 11636,
         "BinCSG Mean Time": 11855.333333333334,
         "_deepnote_index_column": 14
        },
        {
         "Triangle Number": 880,
         "Intersection Time": 9786,
         "Union Time": 16728,
         "Difference Time": 13205,
         "BinCSG Mean Time": 13239.666666666666,
         "_deepnote_index_column": 15
        },
        {
         "Triangle Number": 920,
         "Intersection Time": 10203,
         "Union Time": 17830,
         "Difference Time": 13729,
         "BinCSG Mean Time": 13920.666666666666,
         "_deepnote_index_column": 16
        },
        {
         "Triangle Number": 1056,
         "Intersection Time": 12292,
         "Union Time": 19949,
         "Difference Time": 16129,
         "BinCSG Mean Time": 16123.333333333334,
         "_deepnote_index_column": 17
        },
        {
         "Triangle Number": 1100,
         "Intersection Time": 15091,
         "Union Time": 21068,
         "Difference Time": 16792,
         "BinCSG Mean Time": 17650.333333333332,
         "_deepnote_index_column": 18
        },
        {
         "Triangle Number": 1248,
         "Intersection Time": 16208,
         "Union Time": 23221,
         "Difference Time": 18550,
         "BinCSG Mean Time": 19326.333333333332,
         "_deepnote_index_column": 19
        },
        {
         "Triangle Number": 1296,
         "Intersection Time": 16907,
         "Union Time": 24069,
         "Difference Time": 19615,
         "BinCSG Mean Time": 20197,
         "_deepnote_index_column": 20
        },
        {
         "Triangle Number": 1456,
         "Intersection Time": 18921,
         "Union Time": 29287,
         "Difference Time": 22358,
         "BinCSG Mean Time": 23522,
         "_deepnote_index_column": 21
        },
        {
         "Triangle Number": 1508,
         "Intersection Time": 18867,
         "Union Time": 28235,
         "Difference Time": 22825,
         "BinCSG Mean Time": 23309,
         "_deepnote_index_column": 22
        },
        {
         "Triangle Number": 1680,
         "Intersection Time": 20236,
         "Union Time": 31569,
         "Difference Time": 24721,
         "BinCSG Mean Time": 25508.666666666668,
         "_deepnote_index_column": 23
        },
        {
         "Triangle Number": 1736,
         "Intersection Time": 21327,
         "Union Time": 32278,
         "Difference Time": 28290,
         "BinCSG Mean Time": 27298.333333333332,
         "_deepnote_index_column": 24
        },
        {
         "Triangle Number": 1920,
         "Intersection Time": 21333,
         "Union Time": 36691,
         "Difference Time": 30120,
         "BinCSG Mean Time": 29381.333333333332,
         "_deepnote_index_column": 25
        },
        {
         "Triangle Number": 1980,
         "Intersection Time": 22616,
         "Union Time": 39816,
         "Difference Time": 29740,
         "BinCSG Mean Time": 30724,
         "_deepnote_index_column": 26
        },
        {
         "Triangle Number": 2176,
         "Intersection Time": 24788,
         "Union Time": 43724,
         "Difference Time": 32369,
         "BinCSG Mean Time": 33627,
         "_deepnote_index_column": 27
        },
        {
         "Triangle Number": 2240,
         "Intersection Time": 25838,
         "Union Time": 43751,
         "Difference Time": 33321,
         "BinCSG Mean Time": 34303.333333333336,
         "_deepnote_index_column": 28
        },
        {
         "Triangle Number": 2448,
         "Intersection Time": 27683,
         "Union Time": 47211,
         "Difference Time": 36544,
         "BinCSG Mean Time": 37146,
         "_deepnote_index_column": 29
        },
        {
         "Triangle Number": 2516,
         "Intersection Time": 28283,
         "Union Time": 52147,
         "Difference Time": 38699,
         "BinCSG Mean Time": 39709.666666666664,
         "_deepnote_index_column": 30
        },
        {
         "Triangle Number": 2736,
         "Intersection Time": 34947,
         "Union Time": 57415,
         "Difference Time": 41030,
         "BinCSG Mean Time": 44464,
         "_deepnote_index_column": 31
        },
        {
         "Triangle Number": 2808,
         "Intersection Time": 31091,
         "Union Time": 60696,
         "Difference Time": 41674,
         "BinCSG Mean Time": 44487,
         "_deepnote_index_column": 32
        },
        {
         "Triangle Number": 3040,
         "Intersection Time": 33813,
         "Union Time": 60295,
         "Difference Time": 45265,
         "BinCSG Mean Time": 46457.666666666664,
         "_deepnote_index_column": 33
        },
        {
         "Triangle Number": 3116,
         "Intersection Time": 34403,
         "Union Time": 60671,
         "Difference Time": 46332,
         "BinCSG Mean Time": 47135.333333333336,
         "_deepnote_index_column": 34
        },
        {
         "Triangle Number": 3360,
         "Intersection Time": 36993,
         "Union Time": 65018,
         "Difference Time": 49581,
         "BinCSG Mean Time": 50530.666666666664,
         "_deepnote_index_column": 35
        },
        {
         "Triangle Number": 3440,
         "Intersection Time": 38280,
         "Union Time": 66201,
         "Difference Time": 52684,
         "BinCSG Mean Time": 52388.333333333336,
         "_deepnote_index_column": 36
        },
        {
         "Triangle Number": 3696,
         "Intersection Time": 40876,
         "Union Time": 72088,
         "Difference Time": 55656,
         "BinCSG Mean Time": 56206.666666666664,
         "_deepnote_index_column": 37
        },
        {
         "Triangle Number": 3780,
         "Intersection Time": 41828,
         "Union Time": 74901,
         "Difference Time": 55771,
         "BinCSG Mean Time": 57500,
         "_deepnote_index_column": 38
        },
        {
         "Triangle Number": 4048,
         "Intersection Time": 45403,
         "Union Time": 77903,
         "Difference Time": 59232,
         "BinCSG Mean Time": 60846,
         "_deepnote_index_column": 39
        },
        {
         "Triangle Number": 4136,
         "Intersection Time": 46220,
         "Union Time": 77837,
         "Difference Time": 60455,
         "BinCSG Mean Time": 61504,
         "_deepnote_index_column": 40
        },
        {
         "Triangle Number": 4416,
         "Intersection Time": 49701,
         "Union Time": 88976,
         "Difference Time": 64877,
         "BinCSG Mean Time": 67851.33333333333,
         "_deepnote_index_column": 41
        },
        {
         "Triangle Number": 4508,
         "Intersection Time": 51331,
         "Union Time": 129936,
         "Difference Time": 65865,
         "BinCSG Mean Time": 82377.33333333333,
         "_deepnote_index_column": 42
        },
        {
         "Triangle Number": 4800,
         "Intersection Time": 54230,
         "Union Time": 116600,
         "Difference Time": 69601,
         "BinCSG Mean Time": 80143.66666666667,
         "_deepnote_index_column": 43
        },
        {
         "Triangle Number": 4896,
         "Intersection Time": 55959,
         "Union Time": 109147,
         "Difference Time": 70753,
         "BinCSG Mean Time": 78619.66666666667,
         "_deepnote_index_column": 44
        },
        {
         "Triangle Number": 5200,
         "Intersection Time": 60833,
         "Union Time": 114514,
         "Difference Time": 75373,
         "BinCSG Mean Time": 83573.33333333333,
         "_deepnote_index_column": 45
        },
        {
         "Triangle Number": 5300,
         "Intersection Time": 61244,
         "Union Time": 129958,
         "Difference Time": 77074,
         "BinCSG Mean Time": 89425.33333333333,
         "_deepnote_index_column": 46
        },
        {
         "Triangle Number": 5616,
         "Intersection Time": 64198,
         "Union Time": 131284,
         "Difference Time": 82029,
         "BinCSG Mean Time": 92503.66666666667,
         "_deepnote_index_column": 47
        },
        {
         "Triangle Number": 5720,
         "Intersection Time": 66177,
         "Union Time": 152196,
         "Difference Time": 82709,
         "BinCSG Mean Time": 100360.66666666667,
         "_deepnote_index_column": 48
        },
        {
         "Triangle Number": 6048,
         "Intersection Time": 71060,
         "Union Time": 165600,
         "Difference Time": 88229,
         "BinCSG Mean Time": 108296.33333333333,
         "_deepnote_index_column": 49
        },
        {
         "Triangle Number": 6156,
         "Intersection Time": 71542,
         "Union Time": 219635,
         "Difference Time": 91223,
         "BinCSG Mean Time": 127466.66666666667,
         "_deepnote_index_column": 50
        },
        {
         "Triangle Number": 6496,
         "Intersection Time": 75605,
         "Union Time": 190408,
         "Difference Time": 94147,
         "BinCSG Mean Time": 120053.33333333333,
         "_deepnote_index_column": 51
        },
        {
         "Triangle Number": 6608,
         "Intersection Time": 76407,
         "Union Time": 127769,
         "Difference Time": 94562,
         "BinCSG Mean Time": 99579.33333333333,
         "_deepnote_index_column": 52
        },
        {
         "Triangle Number": 6960,
         "Intersection Time": 80686,
         "Union Time": 137681,
         "Difference Time": 99267,
         "BinCSG Mean Time": 105878,
         "_deepnote_index_column": 53
        },
        {
         "Triangle Number": 7076,
         "Intersection Time": 83954,
         "Union Time": 138153,
         "Difference Time": 101195,
         "BinCSG Mean Time": 107767.33333333333,
         "_deepnote_index_column": 54
        },
        {
         "Triangle Number": 7440,
         "Intersection Time": 86970,
         "Union Time": 143322,
         "Difference Time": 105798,
         "BinCSG Mean Time": 112030,
         "_deepnote_index_column": 55
        },
        {
         "Triangle Number": 7560,
         "Intersection Time": 88331,
         "Union Time": 145763,
         "Difference Time": 108401,
         "BinCSG Mean Time": 114165,
         "_deepnote_index_column": 56
        },
        {
         "Triangle Number": 7936,
         "Intersection Time": 97410,
         "Union Time": 151097,
         "Difference Time": 112767,
         "BinCSG Mean Time": 120424.66666666667,
         "_deepnote_index_column": 57
        },
        {
         "Triangle Number": 8060,
         "Intersection Time": 94936,
         "Union Time": 154403,
         "Difference Time": 114641,
         "BinCSG Mean Time": 121326.66666666667,
         "_deepnote_index_column": 58
        },
        {
         "Triangle Number": 8448,
         "Intersection Time": 98400,
         "Union Time": 160829,
         "Difference Time": 120669,
         "BinCSG Mean Time": 126632.66666666667,
         "_deepnote_index_column": 59
        },
        {
         "Triangle Number": 8576,
         "Intersection Time": 100840,
         "Union Time": 161115,
         "Difference Time": 121613,
         "BinCSG Mean Time": 127856,
         "_deepnote_index_column": 60
        },
        {
         "Triangle Number": 8976,
         "Intersection Time": 105154,
         "Union Time": 187621,
         "Difference Time": 127524,
         "BinCSG Mean Time": 140099.66666666666,
         "_deepnote_index_column": 61
        },
        {
         "Triangle Number": 9108,
         "Intersection Time": 106557,
         "Union Time": 272587,
         "Difference Time": 129405,
         "BinCSG Mean Time": 169516.33333333334,
         "_deepnote_index_column": 62
        },
        {
         "Triangle Number": 9520,
         "Intersection Time": 111729,
         "Union Time": 338473,
         "Difference Time": 135825,
         "BinCSG Mean Time": 195342.33333333334,
         "_deepnote_index_column": 63
        },
        {
         "Triangle Number": 9656,
         "Intersection Time": 113285,
         "Union Time": 216132,
         "Difference Time": 136994,
         "BinCSG Mean Time": 155470.33333333334,
         "_deepnote_index_column": 64
        },
        {
         "Triangle Number": 10080,
         "Intersection Time": 120131,
         "Union Time": 193286,
         "Difference Time": 143423,
         "BinCSG Mean Time": 152280,
         "_deepnote_index_column": 65
        },
        {
         "Triangle Number": 10220,
         "Intersection Time": 119520,
         "Union Time": 192742,
         "Difference Time": 145336,
         "BinCSG Mean Time": 152532.66666666666,
         "_deepnote_index_column": 66
        },
        {
         "Triangle Number": 10656,
         "Intersection Time": 123849,
         "Union Time": 198958,
         "Difference Time": 151373,
         "BinCSG Mean Time": 158060,
         "_deepnote_index_column": 67
        },
        {
         "Triangle Number": 10800,
         "Intersection Time": 127068,
         "Union Time": 199179,
         "Difference Time": 152942,
         "BinCSG Mean Time": 159729.66666666666,
         "_deepnote_index_column": 68
        },
        {
         "Triangle Number": 11248,
         "Intersection Time": 133731,
         "Union Time": 212763,
         "Difference Time": 159992,
         "BinCSG Mean Time": 168828.66666666666,
         "_deepnote_index_column": 69
        },
        {
         "Triangle Number": 11396,
         "Intersection Time": 134769,
         "Union Time": 201378,
         "Difference Time": 161542,
         "BinCSG Mean Time": 165896.33333333334,
         "_deepnote_index_column": 70
        },
        {
         "Triangle Number": 11856,
         "Intersection Time": 138940,
         "Union Time": 216415,
         "Difference Time": 168506,
         "BinCSG Mean Time": 174620.33333333334,
         "_deepnote_index_column": 71
        },
        {
         "Triangle Number": 12008,
         "Intersection Time": 141310,
         "Union Time": 214842,
         "Difference Time": 172209,
         "BinCSG Mean Time": 176120.33333333334,
         "_deepnote_index_column": 72
        },
        {
         "Triangle Number": 12480,
         "Intersection Time": 145878,
         "Union Time": 226569,
         "Difference Time": 177474,
         "BinCSG Mean Time": 183307,
         "_deepnote_index_column": 73
        },
        {
         "Triangle Number": 12636,
         "Intersection Time": 149360,
         "Union Time": 224474,
         "Difference Time": 179045,
         "BinCSG Mean Time": 184293,
         "_deepnote_index_column": 74
        },
        {
         "Triangle Number": 13120,
         "Intersection Time": 153950,
         "Union Time": 234353,
         "Difference Time": 185927,
         "BinCSG Mean Time": 191410,
         "_deepnote_index_column": 75
        },
        {
         "Triangle Number": 13280,
         "Intersection Time": 155465,
         "Union Time": 238064,
         "Difference Time": 188480,
         "BinCSG Mean Time": 194003,
         "_deepnote_index_column": 76
        },
        {
         "Triangle Number": 13776,
         "Intersection Time": 161899,
         "Union Time": 248620,
         "Difference Time": 195151,
         "BinCSG Mean Time": 201890,
         "_deepnote_index_column": 77
        },
        {
         "Triangle Number": 13940,
         "Intersection Time": 165331,
         "Union Time": 250390,
         "Difference Time": 198280,
         "BinCSG Mean Time": 204667,
         "_deepnote_index_column": 78
        },
        {
         "Triangle Number": 14448,
         "Intersection Time": 169220,
         "Union Time": 256228,
         "Difference Time": 205476,
         "BinCSG Mean Time": 210308,
         "_deepnote_index_column": 79
        },
        {
         "Triangle Number": 14616,
         "Intersection Time": 178785,
         "Union Time": 303883,
         "Difference Time": 207725,
         "BinCSG Mean Time": 230131,
         "_deepnote_index_column": 80
        },
        {
         "Triangle Number": 15136,
         "Intersection Time": 186084,
         "Union Time": 343900,
         "Difference Time": 215636,
         "BinCSG Mean Time": 248540,
         "_deepnote_index_column": 81
        },
        {
         "Triangle Number": 15308,
         "Intersection Time": 187945,
         "Union Time": 293170,
         "Difference Time": 229741,
         "BinCSG Mean Time": 236952,
         "_deepnote_index_column": 82
        },
        {
         "Triangle Number": 15840,
         "Intersection Time": 202731,
         "Union Time": 304637,
         "Difference Time": 237830,
         "BinCSG Mean Time": 248399.33333333334,
         "_deepnote_index_column": 83
        },
        {
         "Triangle Number": 16016,
         "Intersection Time": 198172,
         "Union Time": 313060,
         "Difference Time": 240231,
         "BinCSG Mean Time": 250487.66666666666,
         "_deepnote_index_column": 84
        },
        {
         "Triangle Number": 16560,
         "Intersection Time": 198828,
         "Union Time": 322684,
         "Difference Time": 249352,
         "BinCSG Mean Time": 256954.66666666666,
         "_deepnote_index_column": 85
        },
        {
         "Triangle Number": 16740,
         "Intersection Time": 209462,
         "Union Time": 332750,
         "Difference Time": 252085,
         "BinCSG Mean Time": 264765.6666666667,
         "_deepnote_index_column": 86
        },
        {
         "Triangle Number": 17296,
         "Intersection Time": 208383,
         "Union Time": 342183,
         "Difference Time": 260565,
         "BinCSG Mean Time": 270377,
         "_deepnote_index_column": 87
        },
        {
         "Triangle Number": 17480,
         "Intersection Time": 208566,
         "Union Time": 382193,
         "Difference Time": 262992,
         "BinCSG Mean Time": 284583.6666666667,
         "_deepnote_index_column": 88
        },
        {
         "Triangle Number": 18048,
         "Intersection Time": 226068,
         "Union Time": 402124,
         "Difference Time": 274241,
         "BinCSG Mean Time": 300811,
         "_deepnote_index_column": 89
        },
        {
         "Triangle Number": 18236,
         "Intersection Time": 228262,
         "Union Time": 435173,
         "Difference Time": 274547,
         "BinCSG Mean Time": 312660.6666666667,
         "_deepnote_index_column": 90
        },
        {
         "Triangle Number": 18816,
         "Intersection Time": 222538,
         "Union Time": 712072,
         "Difference Time": 283215,
         "BinCSG Mean Time": 405941.6666666667,
         "_deepnote_index_column": 91
        },
        {
         "Triangle Number": 19008,
         "Intersection Time": 235110,
         "Union Time": 590215,
         "Difference Time": 285697,
         "BinCSG Mean Time": 370340.6666666667,
         "_deepnote_index_column": 92
        },
        {
         "Triangle Number": 19600,
         "Intersection Time": 246367,
         "Union Time": 429400,
         "Difference Time": 295506,
         "BinCSG Mean Time": 323757.6666666667,
         "_deepnote_index_column": 93
        },
        {
         "Triangle Number": 19796,
         "Intersection Time": 251851,
         "Union Time": 418355,
         "Difference Time": 298038,
         "BinCSG Mean Time": 322748,
         "_deepnote_index_column": 94
        },
        {
         "Triangle Number": 20400,
         "Intersection Time": 259326,
         "Union Time": 418887,
         "Difference Time": 306825,
         "BinCSG Mean Time": 328346,
         "_deepnote_index_column": 95
        },
        {
         "Triangle Number": 20600,
         "Intersection Time": 257064,
         "Union Time": 422786,
         "Difference Time": 310331,
         "BinCSG Mean Time": 330060.3333333333,
         "_deepnote_index_column": 96
        },
        {
         "Triangle Number": 21216,
         "Intersection Time": 267327,
         "Union Time": 425111,
         "Difference Time": 320101,
         "BinCSG Mean Time": 337513,
         "_deepnote_index_column": 97
        },
        {
         "Triangle Number": 21420,
         "Intersection Time": 270604,
         "Union Time": 429218,
         "Difference Time": 323016,
         "BinCSG Mean Time": 340946,
         "_deepnote_index_column": 98
        },
        {
         "Triangle Number": 22048,
         "Intersection Time": 267608,
         "Union Time": 440500,
         "Difference Time": 332301,
         "BinCSG Mean Time": 346803,
         "_deepnote_index_column": 99
        },
        {
         "Triangle Number": 22256,
         "Intersection Time": 281673,
         "Union Time": 442879,
         "Difference Time": 335251,
         "BinCSG Mean Time": 353267.6666666667,
         "_deepnote_index_column": 100
        },
        {
         "Triangle Number": 22896,
         "Intersection Time": 288092,
         "Union Time": 452812,
         "Difference Time": 348166,
         "BinCSG Mean Time": 363023.3333333333,
         "_deepnote_index_column": 101
        },
        {
         "Triangle Number": 23108,
         "Intersection Time": 284965,
         "Union Time": 459782,
         "Difference Time": 348275,
         "BinCSG Mean Time": 364340.6666666667,
         "_deepnote_index_column": 102
        },
        {
         "Triangle Number": 23760,
         "Intersection Time": 296205,
         "Union Time": 462354,
         "Difference Time": 359252,
         "BinCSG Mean Time": 372603.6666666667,
         "_deepnote_index_column": 103
        },
        {
         "Triangle Number": 23976,
         "Intersection Time": 294037,
         "Union Time": 461612,
         "Difference Time": 361790,
         "BinCSG Mean Time": 372479.6666666667,
         "_deepnote_index_column": 104
        },
        {
         "Triangle Number": 24640,
         "Intersection Time": 300038,
         "Union Time": 473295,
         "Difference Time": 371366,
         "BinCSG Mean Time": 381566.3333333333,
         "_deepnote_index_column": 105
        },
        {
         "Triangle Number": 24860,
         "Intersection Time": 299359,
         "Union Time": 471886,
         "Difference Time": 375486,
         "BinCSG Mean Time": 382243.6666666667,
         "_deepnote_index_column": 106
        },
        {
         "Triangle Number": 25536,
         "Intersection Time": 307673,
         "Union Time": 481346,
         "Difference Time": 384601,
         "BinCSG Mean Time": 391206.6666666667,
         "_deepnote_index_column": 107
        },
        {
         "Triangle Number": 25760,
         "Intersection Time": 312557,
         "Union Time": 476609,
         "Difference Time": 388357,
         "BinCSG Mean Time": 392507.6666666667,
         "_deepnote_index_column": 108
        },
        {
         "Triangle Number": 26448,
         "Intersection Time": 325323,
         "Union Time": 490384,
         "Difference Time": 398658,
         "BinCSG Mean Time": 404788.3333333333,
         "_deepnote_index_column": 109
        },
        {
         "Triangle Number": 26676,
         "Intersection Time": 330413,
         "Union Time": 495642,
         "Difference Time": 402198,
         "BinCSG Mean Time": 409417.6666666667,
         "_deepnote_index_column": 110
        },
        {
         "Triangle Number": 27376,
         "Intersection Time": 337198,
         "Union Time": 504321,
         "Difference Time": 412296,
         "BinCSG Mean Time": 417938.3333333333,
         "_deepnote_index_column": 111
        },
        {
         "Triangle Number": 27608,
         "Intersection Time": 341592,
         "Union Time": 507568,
         "Difference Time": 411109,
         "BinCSG Mean Time": 420089.6666666667,
         "_deepnote_index_column": 112
        },
        {
         "Triangle Number": 28320,
         "Intersection Time": 329084,
         "Union Time": 522060,
         "Difference Time": 419961,
         "BinCSG Mean Time": 423701.6666666667,
         "_deepnote_index_column": 113
        },
        {
         "Triangle Number": 28556,
         "Intersection Time": 342269,
         "Union Time": 523950,
         "Difference Time": 422165,
         "BinCSG Mean Time": 429461.3333333333,
         "_deepnote_index_column": 114
        },
        {
         "Triangle Number": 29280,
         "Intersection Time": 351297,
         "Union Time": 539140,
         "Difference Time": 432797,
         "BinCSG Mean Time": 441078,
         "_deepnote_index_column": 115
        },
        {
         "Triangle Number": 29520,
         "Intersection Time": 364566,
         "Union Time": 544484,
         "Difference Time": 435639,
         "BinCSG Mean Time": 448229.6666666667,
         "_deepnote_index_column": 116
        },
        {
         "Triangle Number": 30256,
         "Intersection Time": 378297,
         "Union Time": 558486,
         "Difference Time": 447123,
         "BinCSG Mean Time": 461302,
         "_deepnote_index_column": 117
        },
        {
         "Triangle Number": 30500,
         "Intersection Time": 354910,
         "Union Time": 560708,
         "Difference Time": 450587,
         "BinCSG Mean Time": 455401.6666666667,
         "_deepnote_index_column": 118
        },
        {
         "Triangle Number": 31248,
         "Intersection Time": 363678,
         "Union Time": 574081,
         "Difference Time": 461332,
         "BinCSG Mean Time": 466363.6666666667,
         "_deepnote_index_column": 119
        },
        {
         "Triangle Number": 31496,
         "Intersection Time": 367419,
         "Union Time": 579274,
         "Difference Time": 466052,
         "BinCSG Mean Time": 470915,
         "_deepnote_index_column": 120
        },
        {
         "Triangle Number": 32256,
         "Intersection Time": 377107,
         "Union Time": 593850,
         "Difference Time": 475834,
         "BinCSG Mean Time": 482263.6666666667,
         "_deepnote_index_column": 121
        },
        {
         "Triangle Number": 32508,
         "Intersection Time": 375032,
         "Union Time": 599676,
         "Difference Time": 479795,
         "BinCSG Mean Time": 484834.3333333333,
         "_deepnote_index_column": 122
        },
        {
         "Triangle Number": 33280,
         "Intersection Time": 382914,
         "Union Time": 613605,
         "Difference Time": 490693,
         "BinCSG Mean Time": 495737.3333333333,
         "_deepnote_index_column": 123
        },
        {
         "Triangle Number": 33536,
         "Intersection Time": 383987,
         "Union Time": 618625,
         "Difference Time": 494292,
         "BinCSG Mean Time": 498968,
         "_deepnote_index_column": 124
        },
        {
         "Triangle Number": 34320,
         "Intersection Time": 392752,
         "Union Time": 630972,
         "Difference Time": 506718,
         "BinCSG Mean Time": 510147.3333333333,
         "_deepnote_index_column": 125
        },
        {
         "Triangle Number": 34580,
         "Intersection Time": 393684,
         "Union Time": 637629,
         "Difference Time": 510761,
         "BinCSG Mean Time": 514024.6666666667,
         "_deepnote_index_column": 126
        },
        {
         "Triangle Number": 35376,
         "Intersection Time": 402255,
         "Union Time": 652472,
         "Difference Time": 523581,
         "BinCSG Mean Time": 526102.6666666666,
         "_deepnote_index_column": 127
        },
        {
         "Triangle Number": 35640,
         "Intersection Time": 404153,
         "Union Time": 666465,
         "Difference Time": 525914,
         "BinCSG Mean Time": 532177.3333333334,
         "_deepnote_index_column": 128
        },
        {
         "Triangle Number": 36448,
         "Intersection Time": 415105,
         "Union Time": 760535,
         "Difference Time": 537892,
         "BinCSG Mean Time": 571177.3333333334,
         "_deepnote_index_column": 129
        },
        {
         "Triangle Number": 36716,
         "Intersection Time": 418544,
         "Union Time": 881514,
         "Difference Time": 542307,
         "BinCSG Mean Time": 614121.6666666666,
         "_deepnote_index_column": 130
        },
        {
         "Triangle Number": 37536,
         "Intersection Time": 425105,
         "Union Time": 855639,
         "Difference Time": 553330,
         "BinCSG Mean Time": 611358,
         "_deepnote_index_column": 131
        },
        {
         "Triangle Number": 37808,
         "Intersection Time": 427818,
         "Union Time": 826847,
         "Difference Time": 558008,
         "BinCSG Mean Time": 604224.3333333334,
         "_deepnote_index_column": 132
        },
        {
         "Triangle Number": 38640,
         "Intersection Time": 437061,
         "Union Time": 780919,
         "Difference Time": 570112,
         "BinCSG Mean Time": 596030.6666666666,
         "_deepnote_index_column": 133
        },
        {
         "Triangle Number": 38916,
         "Intersection Time": 439859,
         "Union Time": 734436,
         "Difference Time": 575801,
         "BinCSG Mean Time": 583365.3333333334,
         "_deepnote_index_column": 134
        },
        {
         "Triangle Number": 39760,
         "Intersection Time": 448921,
         "Union Time": 766916,
         "Difference Time": 586316,
         "BinCSG Mean Time": 600717.6666666666,
         "_deepnote_index_column": 135
        },
        {
         "Triangle Number": 40040,
         "Intersection Time": 452116,
         "Union Time": 828057,
         "Difference Time": 591874,
         "BinCSG Mean Time": 624015.6666666666,
         "_deepnote_index_column": 136
        },
        {
         "Triangle Number": 40896,
         "Intersection Time": 460777,
         "Union Time": 799765,
         "Difference Time": 604345,
         "BinCSG Mean Time": 621629,
         "_deepnote_index_column": 137
        },
        {
         "Triangle Number": 41180,
         "Intersection Time": 463450,
         "Union Time": 748738,
         "Difference Time": 607977,
         "BinCSG Mean Time": 606721.6666666666,
         "_deepnote_index_column": 138
        },
        {
         "Triangle Number": 42048,
         "Intersection Time": 474718,
         "Union Time": 748289,
         "Difference Time": 620258,
         "BinCSG Mean Time": 614421.6666666666,
         "_deepnote_index_column": 139
        },
        {
         "Triangle Number": 42336,
         "Intersection Time": 476025,
         "Union Time": 753255,
         "Difference Time": 626847,
         "BinCSG Mean Time": 618709,
         "_deepnote_index_column": 140
        },
        {
         "Triangle Number": 43216,
         "Intersection Time": 486136,
         "Union Time": 784419,
         "Difference Time": 638814,
         "BinCSG Mean Time": 636456.3333333334,
         "_deepnote_index_column": 141
        },
        {
         "Triangle Number": 43508,
         "Intersection Time": 489084,
         "Union Time": 795882,
         "Difference Time": 642532,
         "BinCSG Mean Time": 642499.3333333334,
         "_deepnote_index_column": 142
        },
        {
         "Triangle Number": 44400,
         "Intersection Time": 498935,
         "Union Time": 815245,
         "Difference Time": 655561,
         "BinCSG Mean Time": 656580.3333333334,
         "_deepnote_index_column": 143
        },
        {
         "Triangle Number": 44696,
         "Intersection Time": 503081,
         "Union Time": 820677,
         "Difference Time": 659948,
         "BinCSG Mean Time": 661235.3333333334,
         "_deepnote_index_column": 144
        },
        {
         "Triangle Number": 45600,
         "Intersection Time": 512681,
         "Union Time": 838895,
         "Difference Time": 672838,
         "BinCSG Mean Time": 674804.6666666666,
         "_deepnote_index_column": 145
        },
        {
         "Triangle Number": 45900,
         "Intersection Time": 518484,
         "Union Time": 845376,
         "Difference Time": 680298,
         "BinCSG Mean Time": 681386,
         "_deepnote_index_column": 146
        },
        {
         "Triangle Number": 46816,
         "Intersection Time": 526203,
         "Union Time": 867952,
         "Difference Time": 691861,
         "BinCSG Mean Time": 695338.6666666666,
         "_deepnote_index_column": 147
        },
        {
         "Triangle Number": 47120,
         "Intersection Time": 530129,
         "Union Time": 871103,
         "Difference Time": 696576,
         "BinCSG Mean Time": 699269.3333333334,
         "_deepnote_index_column": 148
        },
        {
         "Triangle Number": 48048,
         "Intersection Time": 539646,
         "Union Time": 888882,
         "Difference Time": 710601,
         "BinCSG Mean Time": 713043,
         "_deepnote_index_column": 149
        },
        {
         "Triangle Number": 48356,
         "Intersection Time": 542964,
         "Union Time": 894659,
         "Difference Time": 714188,
         "BinCSG Mean Time": 717270.3333333334,
         "_deepnote_index_column": 150
        },
        {
         "Triangle Number": 49296,
         "Intersection Time": 552557,
         "Union Time": 914449,
         "Difference Time": 729319,
         "BinCSG Mean Time": 732108.3333333334,
         "_deepnote_index_column": 151
        },
        {
         "Triangle Number": 49608,
         "Intersection Time": 555681,
         "Union Time": 921411,
         "Difference Time": 734194,
         "BinCSG Mean Time": 737095.3333333334,
         "_deepnote_index_column": 152
        },
        {
         "Triangle Number": 50560,
         "Intersection Time": 568283,
         "Union Time": 937950,
         "Difference Time": 748629,
         "BinCSG Mean Time": 751620.6666666666,
         "_deepnote_index_column": 153
        },
        {
         "Triangle Number": 50876,
         "Intersection Time": 570083,
         "Union Time": 945084,
         "Difference Time": 752730,
         "BinCSG Mean Time": 755965.6666666666,
         "_deepnote_index_column": 154
        },
        {
         "Triangle Number": 51840,
         "Intersection Time": 580439,
         "Union Time": 961659,
         "Difference Time": 765080,
         "BinCSG Mean Time": 769059.3333333334,
         "_deepnote_index_column": 155
        },
        {
         "Triangle Number": 52160,
         "Intersection Time": 583079,
         "Union Time": 967460,
         "Difference Time": 774048,
         "BinCSG Mean Time": 774862.3333333334,
         "_deepnote_index_column": 156
        },
        {
         "Triangle Number": 53136,
         "Intersection Time": 594275,
         "Union Time": 985558,
         "Difference Time": 787323,
         "BinCSG Mean Time": 789052,
         "_deepnote_index_column": 157
        },
        {
         "Triangle Number": 53460,
         "Intersection Time": 597624,
         "Union Time": 991849,
         "Difference Time": 791337,
         "BinCSG Mean Time": 793603.3333333334,
         "_deepnote_index_column": 158
        },
        {
         "Triangle Number": 54448,
         "Intersection Time": 609847,
         "Union Time": 1013767,
         "Difference Time": 807950,
         "BinCSG Mean Time": 810521.3333333334,
         "_deepnote_index_column": 159
        },
        {
         "Triangle Number": 54776,
         "Intersection Time": 613245,
         "Union Time": 1020886,
         "Difference Time": 809756,
         "BinCSG Mean Time": 814629,
         "_deepnote_index_column": 160
        },
        {
         "Triangle Number": 55776,
         "Intersection Time": 624211,
         "Union Time": 1040504,
         "Difference Time": 828664,
         "BinCSG Mean Time": 831126.3333333334,
         "_deepnote_index_column": 161
        },
        {
         "Triangle Number": 56108,
         "Intersection Time": 626257,
         "Union Time": 1044567,
         "Difference Time": 832096,
         "BinCSG Mean Time": 834306.6666666666,
         "_deepnote_index_column": 162
        },
        {
         "Triangle Number": 57120,
         "Intersection Time": 637302,
         "Union Time": 1073502,
         "Difference Time": 844990,
         "BinCSG Mean Time": 851931.3333333334,
         "_deepnote_index_column": 163
        },
        {
         "Triangle Number": 57456,
         "Intersection Time": 640507,
         "Union Time": 1077185,
         "Difference Time": 854740,
         "BinCSG Mean Time": 857477.3333333334,
         "_deepnote_index_column": 164
        },
        {
         "Triangle Number": 58480,
         "Intersection Time": 653928,
         "Union Time": 1091293,
         "Difference Time": 867478,
         "BinCSG Mean Time": 870899.6666666666,
         "_deepnote_index_column": 165
        },
        {
         "Triangle Number": 58820,
         "Intersection Time": 655378,
         "Union Time": 1102254,
         "Difference Time": 870630,
         "BinCSG Mean Time": 876087.3333333334,
         "_deepnote_index_column": 166
        },
        {
         "Triangle Number": 59856,
         "Intersection Time": 666540,
         "Union Time": 1146621,
         "Difference Time": 885567,
         "BinCSG Mean Time": 899576,
         "_deepnote_index_column": 167
        },
        {
         "Triangle Number": 60200,
         "Intersection Time": 670918,
         "Union Time": 1230269,
         "Difference Time": 889066,
         "BinCSG Mean Time": 930084.3333333334,
         "_deepnote_index_column": 168
        },
        {
         "Triangle Number": 61248,
         "Intersection Time": 680854,
         "Union Time": 1255006,
         "Difference Time": 906968,
         "BinCSG Mean Time": 947609.3333333334,
         "_deepnote_index_column": 169
        },
        {
         "Triangle Number": 61596,
         "Intersection Time": 681864,
         "Union Time": 1252952,
         "Difference Time": 911773,
         "BinCSG Mean Time": 948863,
         "_deepnote_index_column": 170
        },
        {
         "Triangle Number": 62656,
         "Intersection Time": 682301,
         "Union Time": 1280996,
         "Difference Time": 926370,
         "BinCSG Mean Time": 963222.3333333334,
         "_deepnote_index_column": 171
        },
        {
         "Triangle Number": 63008,
         "Intersection Time": 699618,
         "Union Time": 1296039,
         "Difference Time": 931468,
         "BinCSG Mean Time": 975708.3333333334,
         "_deepnote_index_column": 172
        },
        {
         "Triangle Number": 64080,
         "Intersection Time": 725108,
         "Union Time": 1324633,
         "Difference Time": 951972,
         "BinCSG Mean Time": 1000571,
         "_deepnote_index_column": 173
        },
        {
         "Triangle Number": 64436,
         "Intersection Time": 751480,
         "Union Time": 1342807,
         "Difference Time": 951407,
         "BinCSG Mean Time": 1015231.3333333334,
         "_deepnote_index_column": 174
        },
        {
         "Triangle Number": 65520,
         "Intersection Time": 780784,
         "Union Time": 1383402,
         "Difference Time": 966489,
         "BinCSG Mean Time": 1043558.3333333334,
         "_deepnote_index_column": 175
        },
        {
         "Triangle Number": 65880,
         "Intersection Time": 787329,
         "Union Time": 1375862,
         "Difference Time": 972788,
         "BinCSG Mean Time": 1045326.3333333334,
         "_deepnote_index_column": 176
        },
        {
         "Triangle Number": 66976,
         "Intersection Time": 2068738,
         "Union Time": 1397750,
         "Difference Time": 989510,
         "BinCSG Mean Time": 1485332.6666666667,
         "_deepnote_index_column": 177
        },
        {
         "Triangle Number": 67340,
         "Intersection Time": 723880,
         "Union Time": 1421838,
         "Difference Time": 993280,
         "BinCSG Mean Time": 1046332.6666666666,
         "_deepnote_index_column": 178
        },
        {
         "Triangle Number": 68448,
         "Intersection Time": 781474,
         "Union Time": 1433212,
         "Difference Time": 1009183,
         "BinCSG Mean Time": 1074623,
         "_deepnote_index_column": 179
        },
        {
         "Triangle Number": 68816,
         "Intersection Time": 817824,
         "Union Time": 1428781,
         "Difference Time": 1014511,
         "BinCSG Mean Time": 1087038.6666666667,
         "_deepnote_index_column": 180
        },
        {
         "Triangle Number": 69936,
         "Intersection Time": 855450,
         "Union Time": 1408353,
         "Difference Time": 1034895,
         "BinCSG Mean Time": 1099566,
         "_deepnote_index_column": 181
        },
        {
         "Triangle Number": 70308,
         "Intersection Time": 862763,
         "Union Time": 1361131,
         "Difference Time": 1036940,
         "BinCSG Mean Time": 1086944.6666666667,
         "_deepnote_index_column": 182
        },
        {
         "Triangle Number": 71440,
         "Intersection Time": 867725,
         "Union Time": 1378267,
         "Difference Time": 1053395,
         "BinCSG Mean Time": 1099795.6666666667,
         "_deepnote_index_column": 183
        },
        {
         "Triangle Number": 71816,
         "Intersection Time": 861474,
         "Union Time": 1349678,
         "Difference Time": 1062541,
         "BinCSG Mean Time": 1091231,
         "_deepnote_index_column": 184
        },
        {
         "Triangle Number": 72960,
         "Intersection Time": 888867,
         "Union Time": 1361247,
         "Difference Time": 1078602,
         "BinCSG Mean Time": 1109572,
         "_deepnote_index_column": 185
        },
        {
         "Triangle Number": 73340,
         "Intersection Time": 889654,
         "Union Time": 1396863,
         "Difference Time": 1085181,
         "BinCSG Mean Time": 1123899.3333333333,
         "_deepnote_index_column": 186
        },
        {
         "Triangle Number": 74496,
         "Intersection Time": 901365,
         "Union Time": 1413530,
         "Difference Time": 1097122,
         "BinCSG Mean Time": 1137339,
         "_deepnote_index_column": 187
        },
        {
         "Triangle Number": 74880,
         "Intersection Time": 904139,
         "Union Time": 1396417,
         "Difference Time": 1106271,
         "BinCSG Mean Time": 1135609,
         "_deepnote_index_column": 188
        },
        {
         "Triangle Number": 76048,
         "Intersection Time": 921666,
         "Union Time": 1408748,
         "Difference Time": 1146127,
         "BinCSG Mean Time": 1158847,
         "_deepnote_index_column": 189
        },
        {
         "Triangle Number": 76436,
         "Intersection Time": 913783,
         "Union Time": 1441569,
         "Difference Time": 1292532,
         "BinCSG Mean Time": 1215961.3333333333,
         "_deepnote_index_column": 190
        },
        {
         "Triangle Number": 77616,
         "Intersection Time": 931422,
         "Union Time": 1496271,
         "Difference Time": 1151519,
         "BinCSG Mean Time": 1193070.6666666667,
         "_deepnote_index_column": 191
        },
        {
         "Triangle Number": 78008,
         "Intersection Time": 927781,
         "Union Time": 1519990,
         "Difference Time": 1284469,
         "BinCSG Mean Time": 1244080,
         "_deepnote_index_column": 192
        },
        {
         "Triangle Number": 79200,
         "Intersection Time": 941104,
         "Union Time": 1541728,
         "Difference Time": 1231117,
         "BinCSG Mean Time": 1237983,
         "_deepnote_index_column": 193
        },
        {
         "Triangle Number": 79596,
         "Intersection Time": 912189,
         "Union Time": 1549889,
         "Difference Time": 1145179,
         "BinCSG Mean Time": 1202419,
         "_deepnote_index_column": 194
        },
        {
         "Triangle Number": 80800,
         "Intersection Time": 927021,
         "Union Time": 1662735,
         "Difference Time": 1149373,
         "BinCSG Mean Time": 1246376.3333333333,
         "_deepnote_index_column": 195
        },
        {
         "Triangle Number": 81200,
         "Intersection Time": 939500,
         "Union Time": 1622445,
         "Difference Time": 1167704,
         "BinCSG Mean Time": 1243216.3333333333,
         "_deepnote_index_column": 196
        },
        {
         "Triangle Number": 82416,
         "Intersection Time": 967861,
         "Union Time": 1593039,
         "Difference Time": 1710673,
         "BinCSG Mean Time": 1423857.6666666667,
         "_deepnote_index_column": 197
        }
       ],
       "rows_bottom": null
      },
      "text/plain": "     Triangle Number  Intersection Time  Union Time  Difference Time  \\\n0                 56                787        1269             1208   \n1                 96               1410        2160             4186   \n2                108               1531        2332             3368   \n3                160               1909        3170             5206   \n4                176               2036        3380             3362   \n..               ...                ...         ...              ...   \n193            79200             941104     1541728          1231117   \n194            79596             912189     1549889          1145179   \n195            80800             927021     1662735          1149373   \n196            81200             939500     1622445          1167704   \n197            82416             967861     1593039          1710673   \n\n     BinCSG Mean Time  \n0        1.088000e+03  \n1        2.585333e+03  \n2        2.410333e+03  \n3        3.428333e+03  \n4        2.926000e+03  \n..                ...  \n193      1.237983e+06  \n194      1.202419e+06  \n195      1.246376e+06  \n196      1.243216e+06  \n197      1.423858e+06  \n\n[198 rows x 5 columns]",
      "text/html": "<div>\n<style scoped>\n    .dataframe tbody tr th:only-of-type {\n        vertical-align: middle;\n    }\n\n    .dataframe tbody tr th {\n        vertical-align: top;\n    }\n\n    .dataframe thead th {\n        text-align: right;\n    }\n</style>\n<table border=\"1\" class=\"dataframe\">\n  <thead>\n    <tr style=\"text-align: right;\">\n      <th></th>\n      <th>Triangle Number</th>\n      <th>Intersection Time</th>\n      <th>Union Time</th>\n      <th>Difference Time</th>\n      <th>BinCSG Mean Time</th>\n    </tr>\n  </thead>\n  <tbody>\n    <tr>\n      <th>0</th>\n      <td>56</td>\n      <td>787</td>\n      <td>1269</td>\n      <td>1208</td>\n      <td>1.088000e+03</td>\n    </tr>\n    <tr>\n      <th>1</th>\n      <td>96</td>\n      <td>1410</td>\n      <td>2160</td>\n      <td>4186</td>\n      <td>2.585333e+03</td>\n    </tr>\n    <tr>\n      <th>2</th>\n      <td>108</td>\n      <td>1531</td>\n      <td>2332</td>\n      <td>3368</td>\n      <td>2.410333e+03</td>\n    </tr>\n    <tr>\n      <th>3</th>\n      <td>160</td>\n      <td>1909</td>\n      <td>3170</td>\n      <td>5206</td>\n      <td>3.428333e+03</td>\n    </tr>\n    <tr>\n      <th>4</th>\n      <td>176</td>\n      <td>2036</td>\n      <td>3380</td>\n      <td>3362</td>\n      <td>2.926000e+03</td>\n    </tr>\n    <tr>\n      <th>...</th>\n      <td>...</td>\n      <td>...</td>\n      <td>...</td>\n      <td>...</td>\n      <td>...</td>\n    </tr>\n    <tr>\n      <th>193</th>\n      <td>79200</td>\n      <td>941104</td>\n      <td>1541728</td>\n      <td>1231117</td>\n      <td>1.237983e+06</td>\n    </tr>\n    <tr>\n      <th>194</th>\n      <td>79596</td>\n      <td>912189</td>\n      <td>1549889</td>\n      <td>1145179</td>\n      <td>1.202419e+06</td>\n    </tr>\n    <tr>\n      <th>195</th>\n      <td>80800</td>\n      <td>927021</td>\n      <td>1662735</td>\n      <td>1149373</td>\n      <td>1.246376e+06</td>\n    </tr>\n    <tr>\n      <th>196</th>\n      <td>81200</td>\n      <td>939500</td>\n      <td>1622445</td>\n      <td>1167704</td>\n      <td>1.243216e+06</td>\n    </tr>\n    <tr>\n      <th>197</th>\n      <td>82416</td>\n      <td>967861</td>\n      <td>1593039</td>\n      <td>1710673</td>\n      <td>1.423858e+06</td>\n    </tr>\n  </tbody>\n</table>\n<p>198 rows × 5 columns</p>\n</div>"
     },
     "metadata": {}
    }
   ]
  },
  {
   "cell_type": "markdown",
   "source": "#### BinCSG 3 Operations Plot ",
   "metadata": {
    "tags": [],
    "cell_id": "00013-44a84691-85eb-478b-9630-8d62d11d4b67",
    "deepnote_cell_type": "markdown"
   }
  },
  {
   "cell_type": "code",
   "metadata": {
    "tags": [],
    "cell_id": "00011-d0102d07-e64a-4b80-b6a6-c46af69fc026",
    "deepnote_to_be_reexecuted": false,
    "source_hash": "195bacfb",
    "execution_millis": 343,
    "execution_start": 1620551372740,
    "deepnote_cell_type": "code"
   },
   "source": "df_bsp.plot(x ='Triangle Number', y=['Intersection Time', 'Union Time', 'Difference Time', 'BinCSG Mean Time'], kind = 'line', lw=1)\nplt.show()\nif saveFig:\n    plt.savefig('BinCSG-OPS.png')",
   "execution_count": 10,
   "outputs": [
    {
     "data": {
      "text/plain": "<Figure size 640x480 with 1 Axes>",
      "image/png": "[encoded data removed]"
     },
     "metadata": {
      "image/png": {
       "width": 547,
       "height": 452
      }
     },
     "output_type": "display_data"
    }
   ]
  },
  {
   "cell_type": "markdown",
   "source": "### OptimCSG",
   "metadata": {
    "tags": [],
    "cell_id": "00013-d545ce71-25a3-4a3c-b544-c8a40d8b56b1",
    "deepnote_cell_type": "markdown"
   }
  },
  {
   "cell_type": "code",
   "metadata": {
    "tags": [],
    "cell_id": "00016-68aa4975-ce61-4a8b-ab98-7ec4b3877d0b",
    "deepnote_to_be_reexecuted": false,
    "source_hash": "1db31ca7",
    "execution_millis": 28,
    "execution_start": 1620551373080,
    "deepnote_cell_type": "code"
   },
   "source": "optim_intersection = pd.read_csv('n_primitives_tests/tests_bsp_optim_intersection.txt')\noptim_union = pd.read_csv('n_primitives_tests/tests_bsp_optim_union.txt')\noptim_difference = pd.read_csv('n_primitives_tests/tests_bsp_optim_difference.txt')\n",
   "execution_count": 11,
   "outputs": []
  },
  {
   "cell_type": "code",
   "metadata": {
    "tags": [],
    "cell_id": "00017-a6e508c3-c5c8-401e-8f67-7bab5a4c4583",
    "deepnote_to_be_reexecuted": false,
    "source_hash": "1519df61",
    "execution_millis": 9,
    "execution_start": 1620551373117,
    "deepnote_cell_type": "code"
   },
   "source": "df_optim = pd.concat([optim_intersection, optim_union, optim_difference], axis=1)\ndf_optim.columns = [\"Triangle Number\", \"Intersection Time\", \"tris2\", \"Union Time\", \"tris3\", \"Difference Time\"]\ndf_optim = df_optim.drop(columns=['tris2', 'tris3'])\ncol3 = df_optim.loc[: , \"Intersection Time\":\"Difference Time\"]\ndf_optim['OptiCSG Mean Time'] = col3.mean(axis=1)",
   "execution_count": 12,
   "outputs": []
  },
  {
   "cell_type": "code",
   "metadata": {
    "tags": [],
    "cell_id": "00019-d58b3c83-e4bb-4283-b8bc-eb797393a5d5",
    "deepnote_to_be_reexecuted": false,
    "source_hash": "e1b6e5e0",
    "execution_millis": 70,
    "execution_start": 1620551373130,
    "deepnote_cell_type": "code"
   },
   "source": "df_optim",
   "execution_count": 13,
   "outputs": [
    {
     "output_type": "execute_result",
     "execution_count": 13,
     "data": {
      "application/vnd.deepnote.dataframe.v2+json": {
       "row_count": 199,
       "column_count": 5,
       "columns": [
        {
         "name": "Triangle Number",
         "dtype": "int64",
         "stats": {
          "unique_count": 199,
          "nan_count": 0,
          "min": "56",
          "max": "82820",
          "histogram": [
           {
            "bin_start": 56,
            "bin_end": 8332.4,
            "count": 59
           },
           {
            "bin_start": 8332.4,
            "bin_end": 16608.8,
            "count": 27
           },
           {
            "bin_start": 16608.8,
            "bin_end": 24885.199999999997,
            "count": 21
           },
           {
            "bin_start": 24885.199999999997,
            "bin_end": 33161.6,
            "count": 16
           },
           {
            "bin_start": 33161.6,
            "bin_end": 41438,
            "count": 16
           },
           {
            "bin_start": 41438,
            "bin_end": 49714.399999999994,
            "count": 14
           },
           {
            "bin_start": 49714.399999999994,
            "bin_end": 57990.799999999996,
            "count": 12
           },
           {
            "bin_start": 57990.799999999996,
            "bin_end": 66267.2,
            "count": 12
           },
           {
            "bin_start": 66267.2,
            "bin_end": 74543.59999999999,
            "count": 11
           },
           {
            "bin_start": 74543.59999999999,
            "bin_end": 82820,
            "count": 11
           }
          ]
         }
        },
        {
         "name": "Intersection Time",
         "dtype": "int64",
         "stats": {
          "unique_count": 151,
          "nan_count": 0,
          "min": "672",
          "max": "1467",
          "histogram": [
           {
            "bin_start": 672,
            "bin_end": 751.5,
            "count": 1
           },
           {
            "bin_start": 751.5,
            "bin_end": 831,
            "count": 1
           },
           {
            "bin_start": 831,
            "bin_end": 910.5,
            "count": 3
           },
           {
            "bin_start": 910.5,
            "bin_end": 990,
            "count": 4
           },
           {
            "bin_start": 990,
            "bin_end": 1069.5,
            "count": 4
           },
           {
            "bin_start": 1069.5,
            "bin_end": 1149,
            "count": 13
           },
           {
            "bin_start": 1149,
            "bin_end": 1228.5,
            "count": 35
           },
           {
            "bin_start": 1228.5,
            "bin_end": 1308,
            "count": 63
           },
           {
            "bin_start": 1308,
            "bin_end": 1387.5,
            "count": 50
           },
           {
            "bin_start": 1387.5,
            "bin_end": 1467,
            "count": 25
           }
          ]
         }
        },
        {
         "name": "Union Time",
         "dtype": "int64",
         "stats": {
          "unique_count": 156,
          "nan_count": 0,
          "min": "763",
          "max": "1754",
          "histogram": [
           {
            "bin_start": 763,
            "bin_end": 862.1,
            "count": 1
           },
           {
            "bin_start": 862.1,
            "bin_end": 961.2,
            "count": 0
           },
           {
            "bin_start": 961.2,
            "bin_end": 1060.3,
            "count": 4
           },
           {
            "bin_start": 1060.3,
            "bin_end": 1159.4,
            "count": 2
           },
           {
            "bin_start": 1159.4,
            "bin_end": 1258.5,
            "count": 4
           },
           {
            "bin_start": 1258.5,
            "bin_end": 1357.6,
            "count": 4
           },
           {
            "bin_start": 1357.6,
            "bin_end": 1456.6999999999998,
            "count": 14
           },
           {
            "bin_start": 1456.6999999999998,
            "bin_end": 1555.8,
            "count": 48
           },
           {
            "bin_start": 1555.8,
            "bin_end": 1654.9,
            "count": 79
           },
           {
            "bin_start": 1654.9,
            "bin_end": 1754,
            "count": 43
           }
          ]
         }
        },
        {
         "name": "Difference Time",
         "dtype": "int64",
         "stats": {
          "unique_count": 185,
          "nan_count": 0,
          "min": "948",
          "max": "2937",
          "histogram": [
           {
            "bin_start": 948,
            "bin_end": 1146.9,
            "count": 1
           },
           {
            "bin_start": 1146.9,
            "bin_end": 1345.8,
            "count": 1
           },
           {
            "bin_start": 1345.8,
            "bin_end": 1544.7,
            "count": 1
           },
           {
            "bin_start": 1544.7,
            "bin_end": 1743.6,
            "count": 3
           },
           {
            "bin_start": 1743.6,
            "bin_end": 1942.5,
            "count": 5
           },
           {
            "bin_start": 1942.5,
            "bin_end": 2141.4,
            "count": 17
           },
           {
            "bin_start": 2141.4,
            "bin_end": 2340.3,
            "count": 37
           },
           {
            "bin_start": 2340.3,
            "bin_end": 2539.2,
            "count": 56
           },
           {
            "bin_start": 2539.2,
            "bin_end": 2738.1000000000004,
            "count": 54
           },
           {
            "bin_start": 2738.1000000000004,
            "bin_end": 2937,
            "count": 24
           }
          ]
         }
        },
        {
         "name": "OptiCSG Mean Time",
         "dtype": "float64",
         "stats": {
          "unique_count": 184,
          "nan_count": 0,
          "min": "794.3333333333334",
          "max": "2042.0",
          "histogram": [
           {
            "bin_start": 794.3333333333334,
            "bin_end": 919.1,
            "count": 1
           },
           {
            "bin_start": 919.1,
            "bin_end": 1043.8666666666668,
            "count": 0
           },
           {
            "bin_start": 1043.8666666666668,
            "bin_end": 1168.6333333333332,
            "count": 2
           },
           {
            "bin_start": 1168.6333333333332,
            "bin_end": 1293.4,
            "count": 3
           },
           {
            "bin_start": 1293.4,
            "bin_end": 1418.1666666666665,
            "count": 5
           },
           {
            "bin_start": 1418.1666666666665,
            "bin_end": 1542.9333333333334,
            "count": 12
           },
           {
            "bin_start": 1542.9333333333334,
            "bin_end": 1667.6999999999998,
            "count": 25
           },
           {
            "bin_start": 1667.6999999999998,
            "bin_end": 1792.4666666666667,
            "count": 58
           },
           {
            "bin_start": 1792.4666666666667,
            "bin_end": 1917.2333333333331,
            "count": 60
           },
           {
            "bin_start": 1917.2333333333331,
            "bin_end": 2042,
            "count": 33
           }
          ]
         }
        },
        {
         "name": "_deepnote_index_column",
         "dtype": "int64"
        }
       ],
       "rows_top": [
        {
         "Triangle Number": 56,
         "Intersection Time": 672,
         "Union Time": 763,
         "Difference Time": 948,
         "OptiCSG Mean Time": 794.3333333333334,
         "_deepnote_index_column": 0
        },
        {
         "Triangle Number": 96,
         "Intersection Time": 840,
         "Union Time": 993,
         "Difference Time": 1338,
         "OptiCSG Mean Time": 1057,
         "_deepnote_index_column": 1
        },
        {
         "Triangle Number": 108,
         "Intersection Time": 849,
         "Union Time": 976,
         "Difference Time": 1443,
         "OptiCSG Mean Time": 1089.3333333333333,
         "_deepnote_index_column": 2
        },
        {
         "Triangle Number": 160,
         "Intersection Time": 858,
         "Union Time": 1045,
         "Difference Time": 1951,
         "OptiCSG Mean Time": 1284.6666666666667,
         "_deepnote_index_column": 3
        },
        {
         "Triangle Number": 176,
         "Intersection Time": 825,
         "Union Time": 984,
         "Difference Time": 1863,
         "OptiCSG Mean Time": 1224,
         "_deepnote_index_column": 4
        },
        {
         "Triangle Number": 240,
         "Intersection Time": 979,
         "Union Time": 1196,
         "Difference Time": 2166,
         "OptiCSG Mean Time": 1447,
         "_deepnote_index_column": 5
        },
        {
         "Triangle Number": 260,
         "Intersection Time": 935,
         "Union Time": 1154,
         "Difference Time": 1902,
         "OptiCSG Mean Time": 1330.3333333333333,
         "_deepnote_index_column": 6
        },
        {
         "Triangle Number": 336,
         "Intersection Time": 971,
         "Union Time": 1153,
         "Difference Time": 1760,
         "OptiCSG Mean Time": 1294.6666666666667,
         "_deepnote_index_column": 7
        },
        {
         "Triangle Number": 360,
         "Intersection Time": 962,
         "Union Time": 1217,
         "Difference Time": 1663,
         "OptiCSG Mean Time": 1280.6666666666667,
         "_deepnote_index_column": 8
        },
        {
         "Triangle Number": 448,
         "Intersection Time": 990,
         "Union Time": 1185,
         "Difference Time": 1709,
         "OptiCSG Mean Time": 1294.6666666666667,
         "_deepnote_index_column": 9
        },
        {
         "Triangle Number": 476,
         "Intersection Time": 990,
         "Union Time": 1222,
         "Difference Time": 1725,
         "OptiCSG Mean Time": 1312.3333333333333,
         "_deepnote_index_column": 10
        },
        {
         "Triangle Number": 576,
         "Intersection Time": 1106,
         "Union Time": 1381,
         "Difference Time": 1999,
         "OptiCSG Mean Time": 1495.3333333333333,
         "_deepnote_index_column": 11
        },
        {
         "Triangle Number": 608,
         "Intersection Time": 1046,
         "Union Time": 1289,
         "Difference Time": 1850,
         "OptiCSG Mean Time": 1395,
         "_deepnote_index_column": 12
        },
        {
         "Triangle Number": 720,
         "Intersection Time": 1137,
         "Union Time": 1389,
         "Difference Time": 2026,
         "OptiCSG Mean Time": 1517.3333333333333,
         "_deepnote_index_column": 13
        },
        {
         "Triangle Number": 756,
         "Intersection Time": 1119,
         "Union Time": 1397,
         "Difference Time": 2017,
         "OptiCSG Mean Time": 1511,
         "_deepnote_index_column": 14
        },
        {
         "Triangle Number": 880,
         "Intersection Time": 1069,
         "Union Time": 1349,
         "Difference Time": 1957,
         "OptiCSG Mean Time": 1458.3333333333333,
         "_deepnote_index_column": 15
        },
        {
         "Triangle Number": 920,
         "Intersection Time": 1079,
         "Union Time": 1334,
         "Difference Time": 1939,
         "OptiCSG Mean Time": 1450.6666666666667,
         "_deepnote_index_column": 16
        },
        {
         "Triangle Number": 1056,
         "Intersection Time": 1102,
         "Union Time": 1360,
         "Difference Time": 1961,
         "OptiCSG Mean Time": 1474.3333333333333,
         "_deepnote_index_column": 17
        },
        {
         "Triangle Number": 1100,
         "Intersection Time": 1122,
         "Union Time": 1379,
         "Difference Time": 2009,
         "OptiCSG Mean Time": 1503.3333333333333,
         "_deepnote_index_column": 18
        },
        {
         "Triangle Number": 1248,
         "Intersection Time": 1235,
         "Union Time": 1479,
         "Difference Time": 2174,
         "OptiCSG Mean Time": 1629.3333333333333,
         "_deepnote_index_column": 19
        },
        {
         "Triangle Number": 1296,
         "Intersection Time": 1157,
         "Union Time": 1428,
         "Difference Time": 2069,
         "OptiCSG Mean Time": 1551.3333333333333,
         "_deepnote_index_column": 20
        },
        {
         "Triangle Number": 1456,
         "Intersection Time": 1145,
         "Union Time": 1445,
         "Difference Time": 2068,
         "OptiCSG Mean Time": 1552.6666666666667,
         "_deepnote_index_column": 21
        },
        {
         "Triangle Number": 1508,
         "Intersection Time": 1199,
         "Union Time": 1540,
         "Difference Time": 2253,
         "OptiCSG Mean Time": 1664,
         "_deepnote_index_column": 22
        },
        {
         "Triangle Number": 1680,
         "Intersection Time": 1250,
         "Union Time": 1597,
         "Difference Time": 2266,
         "OptiCSG Mean Time": 1704.3333333333333,
         "_deepnote_index_column": 23
        },
        {
         "Triangle Number": 1736,
         "Intersection Time": 1163,
         "Union Time": 1515,
         "Difference Time": 2131,
         "OptiCSG Mean Time": 1603,
         "_deepnote_index_column": 24
        },
        {
         "Triangle Number": 1920,
         "Intersection Time": 1077,
         "Union Time": 1355,
         "Difference Time": 1989,
         "OptiCSG Mean Time": 1473.6666666666667,
         "_deepnote_index_column": 25
        },
        {
         "Triangle Number": 1980,
         "Intersection Time": 1108,
         "Union Time": 1415,
         "Difference Time": 2060,
         "OptiCSG Mean Time": 1527.6666666666667,
         "_deepnote_index_column": 26
        },
        {
         "Triangle Number": 2176,
         "Intersection Time": 1128,
         "Union Time": 1444,
         "Difference Time": 2064,
         "OptiCSG Mean Time": 1545.3333333333333,
         "_deepnote_index_column": 27
        },
        {
         "Triangle Number": 2240,
         "Intersection Time": 1119,
         "Union Time": 1425,
         "Difference Time": 2069,
         "OptiCSG Mean Time": 1537.6666666666667,
         "_deepnote_index_column": 28
        },
        {
         "Triangle Number": 2448,
         "Intersection Time": 1118,
         "Union Time": 1422,
         "Difference Time": 2083,
         "OptiCSG Mean Time": 1541,
         "_deepnote_index_column": 29
        },
        {
         "Triangle Number": 2516,
         "Intersection Time": 1185,
         "Union Time": 1529,
         "Difference Time": 2198,
         "OptiCSG Mean Time": 1637.3333333333333,
         "_deepnote_index_column": 30
        },
        {
         "Triangle Number": 2736,
         "Intersection Time": 1180,
         "Union Time": 1478,
         "Difference Time": 2186,
         "OptiCSG Mean Time": 1614.6666666666667,
         "_deepnote_index_column": 31
        },
        {
         "Triangle Number": 2808,
         "Intersection Time": 1149,
         "Union Time": 1465,
         "Difference Time": 2137,
         "OptiCSG Mean Time": 1583.6666666666667,
         "_deepnote_index_column": 32
        },
        {
         "Triangle Number": 3040,
         "Intersection Time": 1153,
         "Union Time": 1504,
         "Difference Time": 2102,
         "OptiCSG Mean Time": 1586.3333333333333,
         "_deepnote_index_column": 33
        },
        {
         "Triangle Number": 3116,
         "Intersection Time": 1192,
         "Union Time": 1514,
         "Difference Time": 2206,
         "OptiCSG Mean Time": 1637.3333333333333,
         "_deepnote_index_column": 34
        },
        {
         "Triangle Number": 3360,
         "Intersection Time": 1239,
         "Union Time": 1584,
         "Difference Time": 2308,
         "OptiCSG Mean Time": 1710.3333333333333,
         "_deepnote_index_column": 35
        },
        {
         "Triangle Number": 3440,
         "Intersection Time": 1179,
         "Union Time": 1515,
         "Difference Time": 2206,
         "OptiCSG Mean Time": 1633.3333333333333,
         "_deepnote_index_column": 36
        },
        {
         "Triangle Number": 3696,
         "Intersection Time": 1213,
         "Union Time": 1502,
         "Difference Time": 2215,
         "OptiCSG Mean Time": 1643.3333333333333,
         "_deepnote_index_column": 37
        },
        {
         "Triangle Number": 3780,
         "Intersection Time": 1225,
         "Union Time": 1567,
         "Difference Time": 2259,
         "OptiCSG Mean Time": 1683.6666666666667,
         "_deepnote_index_column": 38
        },
        {
         "Triangle Number": 4048,
         "Intersection Time": 1215,
         "Union Time": 1535,
         "Difference Time": 2274,
         "OptiCSG Mean Time": 1674.6666666666667,
         "_deepnote_index_column": 39
        },
        {
         "Triangle Number": 4136,
         "Intersection Time": 1201,
         "Union Time": 1548,
         "Difference Time": 2219,
         "OptiCSG Mean Time": 1656,
         "_deepnote_index_column": 40
        },
        {
         "Triangle Number": 4416,
         "Intersection Time": 1137,
         "Union Time": 1449,
         "Difference Time": 2189,
         "OptiCSG Mean Time": 1591.6666666666667,
         "_deepnote_index_column": 41
        },
        {
         "Triangle Number": 4508,
         "Intersection Time": 1187,
         "Union Time": 1488,
         "Difference Time": 2219,
         "OptiCSG Mean Time": 1631.3333333333333,
         "_deepnote_index_column": 42
        },
        {
         "Triangle Number": 4800,
         "Intersection Time": 1232,
         "Union Time": 1566,
         "Difference Time": 2294,
         "OptiCSG Mean Time": 1697.3333333333333,
         "_deepnote_index_column": 43
        },
        {
         "Triangle Number": 4896,
         "Intersection Time": 1237,
         "Union Time": 1573,
         "Difference Time": 2242,
         "OptiCSG Mean Time": 1684,
         "_deepnote_index_column": 44
        },
        {
         "Triangle Number": 5200,
         "Intersection Time": 1193,
         "Union Time": 1513,
         "Difference Time": 2196,
         "OptiCSG Mean Time": 1634,
         "_deepnote_index_column": 45
        },
        {
         "Triangle Number": 5300,
         "Intersection Time": 1251,
         "Union Time": 1592,
         "Difference Time": 2400,
         "OptiCSG Mean Time": 1747.6666666666667,
         "_deepnote_index_column": 46
        },
        {
         "Triangle Number": 5616,
         "Intersection Time": 1216,
         "Union Time": 1553,
         "Difference Time": 2319,
         "OptiCSG Mean Time": 1696,
         "_deepnote_index_column": 47
        },
        {
         "Triangle Number": 5720,
         "Intersection Time": 1208,
         "Union Time": 1524,
         "Difference Time": 2275,
         "OptiCSG Mean Time": 1669,
         "_deepnote_index_column": 48
        },
        {
         "Triangle Number": 6048,
         "Intersection Time": 1182,
         "Union Time": 1495,
         "Difference Time": 2190,
         "OptiCSG Mean Time": 1622.3333333333333,
         "_deepnote_index_column": 49
        },
        {
         "Triangle Number": 6156,
         "Intersection Time": 1228,
         "Union Time": 1562,
         "Difference Time": 2321,
         "OptiCSG Mean Time": 1703.6666666666667,
         "_deepnote_index_column": 50
        },
        {
         "Triangle Number": 6496,
         "Intersection Time": 1219,
         "Union Time": 1544,
         "Difference Time": 2319,
         "OptiCSG Mean Time": 1694,
         "_deepnote_index_column": 51
        },
        {
         "Triangle Number": 6608,
         "Intersection Time": 1208,
         "Union Time": 1545,
         "Difference Time": 2281,
         "OptiCSG Mean Time": 1678,
         "_deepnote_index_column": 52
        },
        {
         "Triangle Number": 6960,
         "Intersection Time": 1152,
         "Union Time": 1468,
         "Difference Time": 2155,
         "OptiCSG Mean Time": 1591.6666666666667,
         "_deepnote_index_column": 53
        },
        {
         "Triangle Number": 7076,
         "Intersection Time": 1234,
         "Union Time": 1525,
         "Difference Time": 2288,
         "OptiCSG Mean Time": 1682.3333333333333,
         "_deepnote_index_column": 54
        },
        {
         "Triangle Number": 7440,
         "Intersection Time": 1263,
         "Union Time": 1596,
         "Difference Time": 2405,
         "OptiCSG Mean Time": 1754.6666666666667,
         "_deepnote_index_column": 55
        },
        {
         "Triangle Number": 7560,
         "Intersection Time": 1254,
         "Union Time": 1592,
         "Difference Time": 2361,
         "OptiCSG Mean Time": 1735.6666666666667,
         "_deepnote_index_column": 56
        },
        {
         "Triangle Number": 7936,
         "Intersection Time": 1168,
         "Union Time": 1421,
         "Difference Time": 2166,
         "OptiCSG Mean Time": 1585,
         "_deepnote_index_column": 57
        },
        {
         "Triangle Number": 8060,
         "Intersection Time": 1246,
         "Union Time": 1527,
         "Difference Time": 2335,
         "OptiCSG Mean Time": 1702.6666666666667,
         "_deepnote_index_column": 58
        },
        {
         "Triangle Number": 8448,
         "Intersection Time": 1253,
         "Union Time": 1564,
         "Difference Time": 2405,
         "OptiCSG Mean Time": 1740.6666666666667,
         "_deepnote_index_column": 59
        },
        {
         "Triangle Number": 8576,
         "Intersection Time": 1217,
         "Union Time": 1528,
         "Difference Time": 2331,
         "OptiCSG Mean Time": 1692,
         "_deepnote_index_column": 60
        },
        {
         "Triangle Number": 8976,
         "Intersection Time": 1171,
         "Union Time": 1414,
         "Difference Time": 2143,
         "OptiCSG Mean Time": 1576,
         "_deepnote_index_column": 61
        },
        {
         "Triangle Number": 9108,
         "Intersection Time": 1212,
         "Union Time": 1490,
         "Difference Time": 2273,
         "OptiCSG Mean Time": 1658.3333333333333,
         "_deepnote_index_column": 62
        },
        {
         "Triangle Number": 9520,
         "Intersection Time": 1290,
         "Union Time": 1643,
         "Difference Time": 2441,
         "OptiCSG Mean Time": 1791.3333333333333,
         "_deepnote_index_column": 63
        },
        {
         "Triangle Number": 9656,
         "Intersection Time": 1287,
         "Union Time": 1598,
         "Difference Time": 2384,
         "OptiCSG Mean Time": 1756.3333333333333,
         "_deepnote_index_column": 64
        },
        {
         "Triangle Number": 10080,
         "Intersection Time": 1202,
         "Union Time": 1488,
         "Difference Time": 2269,
         "OptiCSG Mean Time": 1653,
         "_deepnote_index_column": 65
        },
        {
         "Triangle Number": 10220,
         "Intersection Time": 1275,
         "Union Time": 1595,
         "Difference Time": 2379,
         "OptiCSG Mean Time": 1749.6666666666667,
         "_deepnote_index_column": 66
        },
        {
         "Triangle Number": 10656,
         "Intersection Time": 1299,
         "Union Time": 1612,
         "Difference Time": 2444,
         "OptiCSG Mean Time": 1785,
         "_deepnote_index_column": 67
        },
        {
         "Triangle Number": 10800,
         "Intersection Time": 1246,
         "Union Time": 1572,
         "Difference Time": 2378,
         "OptiCSG Mean Time": 1732,
         "_deepnote_index_column": 68
        },
        {
         "Triangle Number": 11248,
         "Intersection Time": 1189,
         "Union Time": 1460,
         "Difference Time": 2194,
         "OptiCSG Mean Time": 1614.3333333333333,
         "_deepnote_index_column": 69
        },
        {
         "Triangle Number": 11396,
         "Intersection Time": 1237,
         "Union Time": 1547,
         "Difference Time": 2324,
         "OptiCSG Mean Time": 1702.6666666666667,
         "_deepnote_index_column": 70
        },
        {
         "Triangle Number": 11856,
         "Intersection Time": 1294,
         "Union Time": 1643,
         "Difference Time": 2474,
         "OptiCSG Mean Time": 1803.6666666666667,
         "_deepnote_index_column": 71
        },
        {
         "Triangle Number": 12008,
         "Intersection Time": 1288,
         "Union Time": 1614,
         "Difference Time": 2443,
         "OptiCSG Mean Time": 1781.6666666666667,
         "_deepnote_index_column": 72
        },
        {
         "Triangle Number": 12480,
         "Intersection Time": 1225,
         "Union Time": 1480,
         "Difference Time": 2263,
         "OptiCSG Mean Time": 1656,
         "_deepnote_index_column": 73
        },
        {
         "Triangle Number": 12636,
         "Intersection Time": 1263,
         "Union Time": 1572,
         "Difference Time": 2406,
         "OptiCSG Mean Time": 1747,
         "_deepnote_index_column": 74
        },
        {
         "Triangle Number": 13120,
         "Intersection Time": 1253,
         "Union Time": 1586,
         "Difference Time": 2401,
         "OptiCSG Mean Time": 1746.6666666666667,
         "_deepnote_index_column": 75
        },
        {
         "Triangle Number": 13280,
         "Intersection Time": 1232,
         "Union Time": 1534,
         "Difference Time": 2350,
         "OptiCSG Mean Time": 1705.3333333333333,
         "_deepnote_index_column": 76
        },
        {
         "Triangle Number": 13776,
         "Intersection Time": 1225,
         "Union Time": 1517,
         "Difference Time": 2348,
         "OptiCSG Mean Time": 1696.6666666666667,
         "_deepnote_index_column": 77
        },
        {
         "Triangle Number": 13940,
         "Intersection Time": 1256,
         "Union Time": 1585,
         "Difference Time": 2389,
         "OptiCSG Mean Time": 1743.3333333333333,
         "_deepnote_index_column": 78
        },
        {
         "Triangle Number": 14448,
         "Intersection Time": 1303,
         "Union Time": 1627,
         "Difference Time": 2518,
         "OptiCSG Mean Time": 1816,
         "_deepnote_index_column": 79
        },
        {
         "Triangle Number": 14616,
         "Intersection Time": 1273,
         "Union Time": 1600,
         "Difference Time": 2455,
         "OptiCSG Mean Time": 1776,
         "_deepnote_index_column": 80
        },
        {
         "Triangle Number": 15136,
         "Intersection Time": 1223,
         "Union Time": 1503,
         "Difference Time": 2283,
         "OptiCSG Mean Time": 1669.6666666666667,
         "_deepnote_index_column": 81
        },
        {
         "Triangle Number": 15308,
         "Intersection Time": 1251,
         "Union Time": 1595,
         "Difference Time": 2465,
         "OptiCSG Mean Time": 1770.3333333333333,
         "_deepnote_index_column": 82
        },
        {
         "Triangle Number": 15840,
         "Intersection Time": 1317,
         "Union Time": 1608,
         "Difference Time": 2632,
         "OptiCSG Mean Time": 1852.3333333333333,
         "_deepnote_index_column": 83
        },
        {
         "Triangle Number": 16016,
         "Intersection Time": 1264,
         "Union Time": 1586,
         "Difference Time": 2476,
         "OptiCSG Mean Time": 1775.3333333333333,
         "_deepnote_index_column": 84
        },
        {
         "Triangle Number": 16560,
         "Intersection Time": 1219,
         "Union Time": 1536,
         "Difference Time": 2313,
         "OptiCSG Mean Time": 1689.3333333333333,
         "_deepnote_index_column": 85
        },
        {
         "Triangle Number": 16740,
         "Intersection Time": 1296,
         "Union Time": 1617,
         "Difference Time": 2491,
         "OptiCSG Mean Time": 1801.3333333333333,
         "_deepnote_index_column": 86
        },
        {
         "Triangle Number": 17296,
         "Intersection Time": 1259,
         "Union Time": 1582,
         "Difference Time": 2439,
         "OptiCSG Mean Time": 1760,
         "_deepnote_index_column": 87
        },
        {
         "Triangle Number": 17480,
         "Intersection Time": 1237,
         "Union Time": 1551,
         "Difference Time": 2379,
         "OptiCSG Mean Time": 1722.3333333333333,
         "_deepnote_index_column": 88
        },
        {
         "Triangle Number": 18048,
         "Intersection Time": 1244,
         "Union Time": 1509,
         "Difference Time": 2360,
         "OptiCSG Mean Time": 1704.3333333333333,
         "_deepnote_index_column": 89
        },
        {
         "Triangle Number": 18236,
         "Intersection Time": 1260,
         "Union Time": 1567,
         "Difference Time": 2419,
         "OptiCSG Mean Time": 1748.6666666666667,
         "_deepnote_index_column": 90
        },
        {
         "Triangle Number": 18816,
         "Intersection Time": 1320,
         "Union Time": 1658,
         "Difference Time": 2537,
         "OptiCSG Mean Time": 1838.3333333333333,
         "_deepnote_index_column": 91
        },
        {
         "Triangle Number": 19008,
         "Intersection Time": 1303,
         "Union Time": 1642,
         "Difference Time": 2480,
         "OptiCSG Mean Time": 1808.3333333333333,
         "_deepnote_index_column": 92
        },
        {
         "Triangle Number": 19600,
         "Intersection Time": 1245,
         "Union Time": 1545,
         "Difference Time": 2356,
         "OptiCSG Mean Time": 1715.3333333333333,
         "_deepnote_index_column": 93
        },
        {
         "Triangle Number": 19796,
         "Intersection Time": 1312,
         "Union Time": 1607,
         "Difference Time": 2482,
         "OptiCSG Mean Time": 1800.3333333333333,
         "_deepnote_index_column": 94
        },
        {
         "Triangle Number": 20400,
         "Intersection Time": 1292,
         "Union Time": 1593,
         "Difference Time": 2496,
         "OptiCSG Mean Time": 1793.6666666666667,
         "_deepnote_index_column": 95
        },
        {
         "Triangle Number": 20600,
         "Intersection Time": 1273,
         "Union Time": 1574,
         "Difference Time": 2531,
         "OptiCSG Mean Time": 1792.6666666666667,
         "_deepnote_index_column": 96
        },
        {
         "Triangle Number": 21216,
         "Intersection Time": 1224,
         "Union Time": 1508,
         "Difference Time": 2341,
         "OptiCSG Mean Time": 1691,
         "_deepnote_index_column": 97
        },
        {
         "Triangle Number": 21420,
         "Intersection Time": 1276,
         "Union Time": 1611,
         "Difference Time": 2483,
         "OptiCSG Mean Time": 1790,
         "_deepnote_index_column": 98
        },
        {
         "Triangle Number": 22048,
         "Intersection Time": 1306,
         "Union Time": 1626,
         "Difference Time": 2501,
         "OptiCSG Mean Time": 1811,
         "_deepnote_index_column": 99
        },
        {
         "Triangle Number": 22256,
         "Intersection Time": 1261,
         "Union Time": 1610,
         "Difference Time": 2471,
         "OptiCSG Mean Time": 1780.6666666666667,
         "_deepnote_index_column": 100
        },
        {
         "Triangle Number": 22896,
         "Intersection Time": 1213,
         "Union Time": 1518,
         "Difference Time": 2374,
         "OptiCSG Mean Time": 1701.6666666666667,
         "_deepnote_index_column": 101
        },
        {
         "Triangle Number": 23108,
         "Intersection Time": 1257,
         "Union Time": 1548,
         "Difference Time": 2473,
         "OptiCSG Mean Time": 1759.3333333333333,
         "_deepnote_index_column": 102
        },
        {
         "Triangle Number": 23760,
         "Intersection Time": 1311,
         "Union Time": 1608,
         "Difference Time": 2567,
         "OptiCSG Mean Time": 1828.6666666666667,
         "_deepnote_index_column": 103
        },
        {
         "Triangle Number": 23976,
         "Intersection Time": 1303,
         "Union Time": 1576,
         "Difference Time": 2487,
         "OptiCSG Mean Time": 1788.6666666666667,
         "_deepnote_index_column": 104
        },
        {
         "Triangle Number": 24640,
         "Intersection Time": 1259,
         "Union Time": 1543,
         "Difference Time": 2407,
         "OptiCSG Mean Time": 1736.3333333333333,
         "_deepnote_index_column": 105
        },
        {
         "Triangle Number": 24860,
         "Intersection Time": 1317,
         "Union Time": 1635,
         "Difference Time": 2509,
         "OptiCSG Mean Time": 1820.3333333333333,
         "_deepnote_index_column": 106
        },
        {
         "Triangle Number": 25536,
         "Intersection Time": 1304,
         "Union Time": 1608,
         "Difference Time": 2550,
         "OptiCSG Mean Time": 1820.6666666666667,
         "_deepnote_index_column": 107
        },
        {
         "Triangle Number": 25760,
         "Intersection Time": 1317,
         "Union Time": 1603,
         "Difference Time": 2539,
         "OptiCSG Mean Time": 1819.6666666666667,
         "_deepnote_index_column": 108
        },
        {
         "Triangle Number": 26448,
         "Intersection Time": 1241,
         "Union Time": 1575,
         "Difference Time": 2486,
         "OptiCSG Mean Time": 1767.3333333333333,
         "_deepnote_index_column": 109
        },
        {
         "Triangle Number": 26676,
         "Intersection Time": 1296,
         "Union Time": 1634,
         "Difference Time": 2500,
         "OptiCSG Mean Time": 1810,
         "_deepnote_index_column": 110
        },
        {
         "Triangle Number": 27376,
         "Intersection Time": 1379,
         "Union Time": 1597,
         "Difference Time": 2561,
         "OptiCSG Mean Time": 1845.6666666666667,
         "_deepnote_index_column": 111
        },
        {
         "Triangle Number": 27608,
         "Intersection Time": 1286,
         "Union Time": 1607,
         "Difference Time": 2496,
         "OptiCSG Mean Time": 1796.3333333333333,
         "_deepnote_index_column": 112
        },
        {
         "Triangle Number": 28320,
         "Intersection Time": 1270,
         "Union Time": 1528,
         "Difference Time": 2466,
         "OptiCSG Mean Time": 1754.6666666666667,
         "_deepnote_index_column": 113
        },
        {
         "Triangle Number": 28556,
         "Intersection Time": 1305,
         "Union Time": 1721,
         "Difference Time": 2545,
         "OptiCSG Mean Time": 1857,
         "_deepnote_index_column": 114
        },
        {
         "Triangle Number": 29280,
         "Intersection Time": 1369,
         "Union Time": 1672,
         "Difference Time": 2623,
         "OptiCSG Mean Time": 1888,
         "_deepnote_index_column": 115
        },
        {
         "Triangle Number": 29520,
         "Intersection Time": 1330,
         "Union Time": 1629,
         "Difference Time": 2541,
         "OptiCSG Mean Time": 1833.3333333333333,
         "_deepnote_index_column": 116
        },
        {
         "Triangle Number": 30256,
         "Intersection Time": 1244,
         "Union Time": 1513,
         "Difference Time": 2383,
         "OptiCSG Mean Time": 1713.3333333333333,
         "_deepnote_index_column": 117
        },
        {
         "Triangle Number": 30500,
         "Intersection Time": 1301,
         "Union Time": 1593,
         "Difference Time": 2577,
         "OptiCSG Mean Time": 1823.6666666666667,
         "_deepnote_index_column": 118
        },
        {
         "Triangle Number": 31248,
         "Intersection Time": 1358,
         "Union Time": 1633,
         "Difference Time": 2606,
         "OptiCSG Mean Time": 1865.6666666666667,
         "_deepnote_index_column": 119
        },
        {
         "Triangle Number": 31496,
         "Intersection Time": 1338,
         "Union Time": 1603,
         "Difference Time": 2571,
         "OptiCSG Mean Time": 1837.3333333333333,
         "_deepnote_index_column": 120
        },
        {
         "Triangle Number": 32256,
         "Intersection Time": 1209,
         "Union Time": 1472,
         "Difference Time": 2384,
         "OptiCSG Mean Time": 1688.3333333333333,
         "_deepnote_index_column": 121
        },
        {
         "Triangle Number": 32508,
         "Intersection Time": 1290,
         "Union Time": 1562,
         "Difference Time": 2485,
         "OptiCSG Mean Time": 1779,
         "_deepnote_index_column": 122
        },
        {
         "Triangle Number": 33280,
         "Intersection Time": 1347,
         "Union Time": 1641,
         "Difference Time": 2641,
         "OptiCSG Mean Time": 1876.3333333333333,
         "_deepnote_index_column": 123
        },
        {
         "Triangle Number": 33536,
         "Intersection Time": 1341,
         "Union Time": 1673,
         "Difference Time": 2654,
         "OptiCSG Mean Time": 1889.3333333333333,
         "_deepnote_index_column": 124
        },
        {
         "Triangle Number": 34320,
         "Intersection Time": 1257,
         "Union Time": 1533,
         "Difference Time": 2463,
         "OptiCSG Mean Time": 1751,
         "_deepnote_index_column": 125
        },
        {
         "Triangle Number": 34580,
         "Intersection Time": 1304,
         "Union Time": 1622,
         "Difference Time": 2579,
         "OptiCSG Mean Time": 1835,
         "_deepnote_index_column": 126
        },
        {
         "Triangle Number": 35376,
         "Intersection Time": 1327,
         "Union Time": 1608,
         "Difference Time": 2605,
         "OptiCSG Mean Time": 1846.6666666666667,
         "_deepnote_index_column": 127
        },
        {
         "Triangle Number": 35640,
         "Intersection Time": 1296,
         "Union Time": 1601,
         "Difference Time": 2589,
         "OptiCSG Mean Time": 1828.6666666666667,
         "_deepnote_index_column": 128
        },
        {
         "Triangle Number": 36448,
         "Intersection Time": 1252,
         "Union Time": 1506,
         "Difference Time": 2387,
         "OptiCSG Mean Time": 1715,
         "_deepnote_index_column": 129
        },
        {
         "Triangle Number": 36716,
         "Intersection Time": 1287,
         "Union Time": 1570,
         "Difference Time": 2554,
         "OptiCSG Mean Time": 1803.6666666666667,
         "_deepnote_index_column": 130
        },
        {
         "Triangle Number": 37536,
         "Intersection Time": 1384,
         "Union Time": 1680,
         "Difference Time": 2669,
         "OptiCSG Mean Time": 1911,
         "_deepnote_index_column": 131
        },
        {
         "Triangle Number": 37808,
         "Intersection Time": 1332,
         "Union Time": 1614,
         "Difference Time": 2603,
         "OptiCSG Mean Time": 1849.6666666666667,
         "_deepnote_index_column": 132
        },
        {
         "Triangle Number": 38640,
         "Intersection Time": 1302,
         "Union Time": 1591,
         "Difference Time": 2519,
         "OptiCSG Mean Time": 1804,
         "_deepnote_index_column": 133
        },
        {
         "Triangle Number": 38916,
         "Intersection Time": 1345,
         "Union Time": 1664,
         "Difference Time": 2622,
         "OptiCSG Mean Time": 1877,
         "_deepnote_index_column": 134
        },
        {
         "Triangle Number": 39760,
         "Intersection Time": 1350,
         "Union Time": 1653,
         "Difference Time": 2692,
         "OptiCSG Mean Time": 1898.3333333333333,
         "_deepnote_index_column": 135
        },
        {
         "Triangle Number": 40040,
         "Intersection Time": 1322,
         "Union Time": 1647,
         "Difference Time": 2597,
         "OptiCSG Mean Time": 1855.3333333333333,
         "_deepnote_index_column": 136
        },
        {
         "Triangle Number": 40896,
         "Intersection Time": 1275,
         "Union Time": 1542,
         "Difference Time": 2433,
         "OptiCSG Mean Time": 1750,
         "_deepnote_index_column": 137
        },
        {
         "Triangle Number": 41180,
         "Intersection Time": 1306,
         "Union Time": 1637,
         "Difference Time": 2619,
         "OptiCSG Mean Time": 1854,
         "_deepnote_index_column": 138
        },
        {
         "Triangle Number": 42048,
         "Intersection Time": 1419,
         "Union Time": 1703,
         "Difference Time": 2712,
         "OptiCSG Mean Time": 1944.6666666666667,
         "_deepnote_index_column": 139
        },
        {
         "Triangle Number": 42336,
         "Intersection Time": 1341,
         "Union Time": 1659,
         "Difference Time": 2659,
         "OptiCSG Mean Time": 1886.3333333333333,
         "_deepnote_index_column": 140
        },
        {
         "Triangle Number": 43216,
         "Intersection Time": 1312,
         "Union Time": 1536,
         "Difference Time": 2498,
         "OptiCSG Mean Time": 1782,
         "_deepnote_index_column": 141
        },
        {
         "Triangle Number": 43508,
         "Intersection Time": 1314,
         "Union Time": 1630,
         "Difference Time": 2580,
         "OptiCSG Mean Time": 1841.3333333333333,
         "_deepnote_index_column": 142
        },
        {
         "Triangle Number": 44400,
         "Intersection Time": 1386,
         "Union Time": 1658,
         "Difference Time": 2718,
         "OptiCSG Mean Time": 1920.6666666666667,
         "_deepnote_index_column": 143
        },
        {
         "Triangle Number": 44696,
         "Intersection Time": 1330,
         "Union Time": 1644,
         "Difference Time": 2632,
         "OptiCSG Mean Time": 1868.6666666666667,
         "_deepnote_index_column": 144
        },
        {
         "Triangle Number": 45600,
         "Intersection Time": 1275,
         "Union Time": 1523,
         "Difference Time": 2456,
         "OptiCSG Mean Time": 1751.3333333333333,
         "_deepnote_index_column": 145
        },
        {
         "Triangle Number": 45900,
         "Intersection Time": 1320,
         "Union Time": 1634,
         "Difference Time": 2624,
         "OptiCSG Mean Time": 1859.3333333333333,
         "_deepnote_index_column": 146
        },
        {
         "Triangle Number": 46816,
         "Intersection Time": 1399,
         "Union Time": 1669,
         "Difference Time": 2722,
         "OptiCSG Mean Time": 1930,
         "_deepnote_index_column": 147
        },
        {
         "Triangle Number": 47120,
         "Intersection Time": 1346,
         "Union Time": 1675,
         "Difference Time": 2687,
         "OptiCSG Mean Time": 1902.6666666666667,
         "_deepnote_index_column": 148
        },
        {
         "Triangle Number": 48048,
         "Intersection Time": 1318,
         "Union Time": 1587,
         "Difference Time": 2573,
         "OptiCSG Mean Time": 1826,
         "_deepnote_index_column": 149
        },
        {
         "Triangle Number": 48356,
         "Intersection Time": 1351,
         "Union Time": 1665,
         "Difference Time": 2652,
         "OptiCSG Mean Time": 1889.3333333333333,
         "_deepnote_index_column": 150
        },
        {
         "Triangle Number": 49296,
         "Intersection Time": 1423,
         "Union Time": 1683,
         "Difference Time": 2753,
         "OptiCSG Mean Time": 1953,
         "_deepnote_index_column": 151
        },
        {
         "Triangle Number": 49608,
         "Intersection Time": 1353,
         "Union Time": 1662,
         "Difference Time": 2677,
         "OptiCSG Mean Time": 1897.3333333333333,
         "_deepnote_index_column": 152
        },
        {
         "Triangle Number": 50560,
         "Intersection Time": 1306,
         "Union Time": 1540,
         "Difference Time": 2481,
         "OptiCSG Mean Time": 1775.6666666666667,
         "_deepnote_index_column": 153
        },
        {
         "Triangle Number": 50876,
         "Intersection Time": 1327,
         "Union Time": 1646,
         "Difference Time": 2656,
         "OptiCSG Mean Time": 1876.3333333333333,
         "_deepnote_index_column": 154
        },
        {
         "Triangle Number": 51840,
         "Intersection Time": 1415,
         "Union Time": 1699,
         "Difference Time": 2761,
         "OptiCSG Mean Time": 1958.3333333333333,
         "_deepnote_index_column": 155
        },
        {
         "Triangle Number": 52160,
         "Intersection Time": 1368,
         "Union Time": 1651,
         "Difference Time": 2665,
         "OptiCSG Mean Time": 1894.6666666666667,
         "_deepnote_index_column": 156
        },
        {
         "Triangle Number": 53136,
         "Intersection Time": 1336,
         "Union Time": 1698,
         "Difference Time": 2600,
         "OptiCSG Mean Time": 1878,
         "_deepnote_index_column": 157
        },
        {
         "Triangle Number": 53460,
         "Intersection Time": 1397,
         "Union Time": 1646,
         "Difference Time": 2736,
         "OptiCSG Mean Time": 1926.3333333333333,
         "_deepnote_index_column": 158
        },
        {
         "Triangle Number": 54448,
         "Intersection Time": 1396,
         "Union Time": 1666,
         "Difference Time": 2694,
         "OptiCSG Mean Time": 1918.6666666666667,
         "_deepnote_index_column": 159
        },
        {
         "Triangle Number": 54776,
         "Intersection Time": 1332,
         "Union Time": 1598,
         "Difference Time": 2648,
         "OptiCSG Mean Time": 1859.3333333333333,
         "_deepnote_index_column": 160
        },
        {
         "Triangle Number": 55776,
         "Intersection Time": 1342,
         "Union Time": 1600,
         "Difference Time": 2681,
         "OptiCSG Mean Time": 1874.3333333333333,
         "_deepnote_index_column": 161
        },
        {
         "Triangle Number": 56108,
         "Intersection Time": 1366,
         "Union Time": 1642,
         "Difference Time": 2683,
         "OptiCSG Mean Time": 1897,
         "_deepnote_index_column": 162
        },
        {
         "Triangle Number": 57120,
         "Intersection Time": 1423,
         "Union Time": 1717,
         "Difference Time": 2865,
         "OptiCSG Mean Time": 2001.6666666666667,
         "_deepnote_index_column": 163
        },
        {
         "Triangle Number": 57456,
         "Intersection Time": 1366,
         "Union Time": 1664,
         "Difference Time": 2724,
         "OptiCSG Mean Time": 1918,
         "_deepnote_index_column": 164
        },
        {
         "Triangle Number": 58480,
         "Intersection Time": 1306,
         "Union Time": 1567,
         "Difference Time": 2533,
         "OptiCSG Mean Time": 1802,
         "_deepnote_index_column": 165
        },
        {
         "Triangle Number": 58820,
         "Intersection Time": 1360,
         "Union Time": 1667,
         "Difference Time": 2741,
         "OptiCSG Mean Time": 1922.6666666666667,
         "_deepnote_index_column": 166
        },
        {
         "Triangle Number": 59856,
         "Intersection Time": 1417,
         "Union Time": 1714,
         "Difference Time": 2834,
         "OptiCSG Mean Time": 1988.3333333333333,
         "_deepnote_index_column": 167
        },
        {
         "Triangle Number": 60200,
         "Intersection Time": 1381,
         "Union Time": 1693,
         "Difference Time": 2713,
         "OptiCSG Mean Time": 1929,
         "_deepnote_index_column": 168
        },
        {
         "Triangle Number": 61248,
         "Intersection Time": 1334,
         "Union Time": 1622,
         "Difference Time": 2632,
         "OptiCSG Mean Time": 1862.6666666666667,
         "_deepnote_index_column": 169
        },
        {
         "Triangle Number": 61596,
         "Intersection Time": 1431,
         "Union Time": 1680,
         "Difference Time": 2750,
         "OptiCSG Mean Time": 1953.6666666666667,
         "_deepnote_index_column": 170
        },
        {
         "Triangle Number": 62656,
         "Intersection Time": 1383,
         "Union Time": 1665,
         "Difference Time": 2755,
         "OptiCSG Mean Time": 1934.3333333333333,
         "_deepnote_index_column": 171
        },
        {
         "Triangle Number": 63008,
         "Intersection Time": 1371,
         "Union Time": 1619,
         "Difference Time": 2710,
         "OptiCSG Mean Time": 1900,
         "_deepnote_index_column": 172
        },
        {
         "Triangle Number": 64080,
         "Intersection Time": 1319,
         "Union Time": 1633,
         "Difference Time": 2620,
         "OptiCSG Mean Time": 1857.3333333333333,
         "_deepnote_index_column": 173
        },
        {
         "Triangle Number": 64436,
         "Intersection Time": 1381,
         "Union Time": 1656,
         "Difference Time": 2738,
         "OptiCSG Mean Time": 1925,
         "_deepnote_index_column": 174
        },
        {
         "Triangle Number": 65520,
         "Intersection Time": 1442,
         "Union Time": 1716,
         "Difference Time": 2880,
         "OptiCSG Mean Time": 2012.6666666666667,
         "_deepnote_index_column": 175
        },
        {
         "Triangle Number": 65880,
         "Intersection Time": 1396,
         "Union Time": 1678,
         "Difference Time": 2790,
         "OptiCSG Mean Time": 1954.6666666666667,
         "_deepnote_index_column": 176
        },
        {
         "Triangle Number": 66976,
         "Intersection Time": 1307,
         "Union Time": 1578,
         "Difference Time": 2579,
         "OptiCSG Mean Time": 1821.3333333333333,
         "_deepnote_index_column": 177
        },
        {
         "Triangle Number": 67340,
         "Intersection Time": 1367,
         "Union Time": 1689,
         "Difference Time": 2700,
         "OptiCSG Mean Time": 1918.6666666666667,
         "_deepnote_index_column": 178
        },
        {
         "Triangle Number": 68448,
         "Intersection Time": 1457,
         "Union Time": 1711,
         "Difference Time": 2874,
         "OptiCSG Mean Time": 2014,
         "_deepnote_index_column": 179
        },
        {
         "Triangle Number": 68816,
         "Intersection Time": 1400,
         "Union Time": 1689,
         "Difference Time": 2814,
         "OptiCSG Mean Time": 1967.6666666666667,
         "_deepnote_index_column": 180
        },
        {
         "Triangle Number": 69936,
         "Intersection Time": 1357,
         "Union Time": 1652,
         "Difference Time": 2650,
         "OptiCSG Mean Time": 1886.3333333333333,
         "_deepnote_index_column": 181
        },
        {
         "Triangle Number": 70308,
         "Intersection Time": 1394,
         "Union Time": 1693,
         "Difference Time": 2770,
         "OptiCSG Mean Time": 1952.3333333333333,
         "_deepnote_index_column": 182
        },
        {
         "Triangle Number": 71440,
         "Intersection Time": 1424,
         "Union Time": 1754,
         "Difference Time": 2897,
         "OptiCSG Mean Time": 2025,
         "_deepnote_index_column": 183
        },
        {
         "Triangle Number": 71816,
         "Intersection Time": 1386,
         "Union Time": 1667,
         "Difference Time": 2805,
         "OptiCSG Mean Time": 1952.6666666666667,
         "_deepnote_index_column": 184
        },
        {
         "Triangle Number": 72960,
         "Intersection Time": 1327,
         "Union Time": 1601,
         "Difference Time": 2628,
         "OptiCSG Mean Time": 1852,
         "_deepnote_index_column": 185
        },
        {
         "Triangle Number": 73340,
         "Intersection Time": 1403,
         "Union Time": 1690,
         "Difference Time": 2759,
         "OptiCSG Mean Time": 1950.6666666666667,
         "_deepnote_index_column": 186
        },
        {
         "Triangle Number": 74496,
         "Intersection Time": 1431,
         "Union Time": 1730,
         "Difference Time": 2896,
         "OptiCSG Mean Time": 2019,
         "_deepnote_index_column": 187
        },
        {
         "Triangle Number": 74880,
         "Intersection Time": 1392,
         "Union Time": 1717,
         "Difference Time": 2857,
         "OptiCSG Mean Time": 1988.6666666666667,
         "_deepnote_index_column": 188
        },
        {
         "Triangle Number": 76048,
         "Intersection Time": 1362,
         "Union Time": 1654,
         "Difference Time": 2683,
         "OptiCSG Mean Time": 1899.6666666666667,
         "_deepnote_index_column": 189
        },
        {
         "Triangle Number": 76436,
         "Intersection Time": 1406,
         "Union Time": 1718,
         "Difference Time": 2805,
         "OptiCSG Mean Time": 1976.3333333333333,
         "_deepnote_index_column": 190
        },
        {
         "Triangle Number": 77616,
         "Intersection Time": 1467,
         "Union Time": 1717,
         "Difference Time": 2919,
         "OptiCSG Mean Time": 2034.3333333333333,
         "_deepnote_index_column": 191
        },
        {
         "Triangle Number": 78008,
         "Intersection Time": 1432,
         "Union Time": 1698,
         "Difference Time": 2855,
         "OptiCSG Mean Time": 1995,
         "_deepnote_index_column": 192
        },
        {
         "Triangle Number": 79200,
         "Intersection Time": 1373,
         "Union Time": 1640,
         "Difference Time": 2714,
         "OptiCSG Mean Time": 1909,
         "_deepnote_index_column": 193
        },
        {
         "Triangle Number": 79596,
         "Intersection Time": 1415,
         "Union Time": 1692,
         "Difference Time": 2816,
         "OptiCSG Mean Time": 1974.3333333333333,
         "_deepnote_index_column": 194
        },
        {
         "Triangle Number": 80800,
         "Intersection Time": 1452,
         "Union Time": 1737,
         "Difference Time": 2937,
         "OptiCSG Mean Time": 2042,
         "_deepnote_index_column": 195
        },
        {
         "Triangle Number": 81200,
         "Intersection Time": 1433,
         "Union Time": 1719,
         "Difference Time": 2853,
         "OptiCSG Mean Time": 2001.6666666666667,
         "_deepnote_index_column": 196
        },
        {
         "Triangle Number": 82416,
         "Intersection Time": 1351,
         "Union Time": 1609,
         "Difference Time": 2661,
         "OptiCSG Mean Time": 1873.6666666666667,
         "_deepnote_index_column": 197
        },
        {
         "Triangle Number": 82820,
         "Intersection Time": 1390,
         "Union Time": 1692,
         "Difference Time": 2802,
         "OptiCSG Mean Time": 1961.3333333333333,
         "_deepnote_index_column": 198
        }
       ],
       "rows_bottom": null
      },
      "text/plain": "     Triangle Number  Intersection Time  Union Time  Difference Time  \\\n0                 56                672         763              948   \n1                 96                840         993             1338   \n2                108                849         976             1443   \n3                160                858        1045             1951   \n4                176                825         984             1863   \n..               ...                ...         ...              ...   \n194            79596               1415        1692             2816   \n195            80800               1452        1737             2937   \n196            81200               1433        1719             2853   \n197            82416               1351        1609             2661   \n198            82820               1390        1692             2802   \n\n     OptiCSG Mean Time  \n0           794.333333  \n1          1057.000000  \n2          1089.333333  \n3          1284.666667  \n4          1224.000000  \n..                 ...  \n194        1974.333333  \n195        2042.000000  \n196        2001.666667  \n197        1873.666667  \n198        1961.333333  \n\n[199 rows x 5 columns]",
      "text/html": "<div>\n<style scoped>\n    .dataframe tbody tr th:only-of-type {\n        vertical-align: middle;\n    }\n\n    .dataframe tbody tr th {\n        vertical-align: top;\n    }\n\n    .dataframe thead th {\n        text-align: right;\n    }\n</style>\n<table border=\"1\" class=\"dataframe\">\n  <thead>\n    <tr style=\"text-align: right;\">\n      <th></th>\n      <th>Triangle Number</th>\n      <th>Intersection Time</th>\n      <th>Union Time</th>\n      <th>Difference Time</th>\n      <th>OptiCSG Mean Time</th>\n    </tr>\n  </thead>\n  <tbody>\n    <tr>\n      <th>0</th>\n      <td>56</td>\n      <td>672</td>\n      <td>763</td>\n      <td>948</td>\n      <td>794.333333</td>\n    </tr>\n    <tr>\n      <th>1</th>\n      <td>96</td>\n      <td>840</td>\n      <td>993</td>\n      <td>1338</td>\n      <td>1057.000000</td>\n    </tr>\n    <tr>\n      <th>2</th>\n      <td>108</td>\n      <td>849</td>\n      <td>976</td>\n      <td>1443</td>\n      <td>1089.333333</td>\n    </tr>\n    <tr>\n      <th>3</th>\n      <td>160</td>\n      <td>858</td>\n      <td>1045</td>\n      <td>1951</td>\n      <td>1284.666667</td>\n    </tr>\n    <tr>\n      <th>4</th>\n      <td>176</td>\n      <td>825</td>\n      <td>984</td>\n      <td>1863</td>\n      <td>1224.000000</td>\n    </tr>\n    <tr>\n      <th>...</th>\n      <td>...</td>\n      <td>...</td>\n      <td>...</td>\n      <td>...</td>\n      <td>...</td>\n    </tr>\n    <tr>\n      <th>194</th>\n      <td>79596</td>\n      <td>1415</td>\n      <td>1692</td>\n      <td>2816</td>\n      <td>1974.333333</td>\n    </tr>\n    <tr>\n      <th>195</th>\n      <td>80800</td>\n      <td>1452</td>\n      <td>1737</td>\n      <td>2937</td>\n      <td>2042.000000</td>\n    </tr>\n    <tr>\n      <th>196</th>\n      <td>81200</td>\n      <td>1433</td>\n      <td>1719</td>\n      <td>2853</td>\n      <td>2001.666667</td>\n    </tr>\n    <tr>\n      <th>197</th>\n      <td>82416</td>\n      <td>1351</td>\n      <td>1609</td>\n      <td>2661</td>\n      <td>1873.666667</td>\n    </tr>\n    <tr>\n      <th>198</th>\n      <td>82820</td>\n      <td>1390</td>\n      <td>1692</td>\n      <td>2802</td>\n      <td>1961.333333</td>\n    </tr>\n  </tbody>\n</table>\n<p>199 rows × 5 columns</p>\n</div>"
     },
     "metadata": {}
    }
   ]
  },
  {
   "cell_type": "markdown",
   "source": "#### OptimCSG 2 Operations Plot",
   "metadata": {
    "tags": [],
    "cell_id": "00019-85df95e6-8822-4337-bb11-b0621d379818",
    "deepnote_cell_type": "markdown"
   }
  },
  {
   "cell_type": "code",
   "metadata": {
    "tags": [],
    "cell_id": "00018-35d43163-0e51-4b50-b9e7-dad661b610c2",
    "deepnote_to_be_reexecuted": false,
    "source_hash": "aefcd0af",
    "execution_millis": 402,
    "execution_start": 1620551373197,
    "deepnote_cell_type": "code"
   },
   "source": "df_optim.plot(x ='Triangle Number', y=['Intersection Time', 'Union Time', 'Difference Time', 'OptiCSG Mean Time'], kind = 'line', lw=1)\nplt.show()\nif saveFig:\n    plt.savefig('OptimCSG-OPS.png')",
   "execution_count": 14,
   "outputs": [
    {
     "data": {
      "text/plain": "<Figure size 640x480 with 1 Axes>",
      "image/png": "[encoded data removed]"
     },
     "metadata": {
      "image/png": {
       "width": 560,
       "height": 436
      }
     },
     "output_type": "display_data"
    }
   ]
  },
  {
   "cell_type": "code",
   "metadata": {
    "tags": [],
    "cell_id": "00018-c2368ecc-92ff-40a0-9a8e-82c58474dfc1",
    "deepnote_to_be_reexecuted": false,
    "source_hash": "88bb4233",
    "execution_millis": 63,
    "execution_start": 1620551373596,
    "deepnote_cell_type": "code"
   },
   "source": "df_comp = pd.concat([df_normal[\"Triangle Number\"], df_normal[\"NaiCSG Mean Time\"], df_bsp[0:len(df_normal.index)][\"BinCSG Mean Time\"], df_optim[0:len(df_normal.index)][\"OptiCSG Mean Time\"]], axis=1)\n\ndf_comp",
   "execution_count": 15,
   "outputs": [
    {
     "output_type": "execute_result",
     "execution_count": 15,
     "data": {
      "application/vnd.deepnote.dataframe.v2+json": {
       "row_count": 89,
       "column_count": 4,
       "columns": [
        {
         "name": "Triangle Number",
         "dtype": "int64",
         "stats": {
          "unique_count": 89,
          "nan_count": 0,
          "min": "56",
          "max": "17480",
          "histogram": [
           {
            "bin_start": 56,
            "bin_end": 1798.4,
            "count": 25
           },
           {
            "bin_start": 1798.4,
            "bin_end": 3540.8,
            "count": 12
           },
           {
            "bin_start": 3540.8,
            "bin_end": 5283.200000000001,
            "count": 9
           },
           {
            "bin_start": 5283.200000000001,
            "bin_end": 7025.6,
            "count": 8
           },
           {
            "bin_start": 7025.6,
            "bin_end": 8768,
            "count": 7
           },
           {
            "bin_start": 8768,
            "bin_end": 10510.400000000001,
            "count": 6
           },
           {
            "bin_start": 10510.400000000001,
            "bin_end": 12252.800000000001,
            "count": 6
           },
           {
            "bin_start": 12252.800000000001,
            "bin_end": 13995.2,
            "count": 6
           },
           {
            "bin_start": 13995.2,
            "bin_end": 15737.6,
            "count": 4
           },
           {
            "bin_start": 15737.6,
            "bin_end": 17480,
            "count": 6
           }
          ]
         }
        },
        {
         "name": "NaiCSG Mean Time",
         "dtype": "float64",
         "stats": {
          "unique_count": 89,
          "nan_count": 0,
          "min": "9944.333333333334",
          "max": "2717931.0",
          "histogram": [
           {
            "bin_start": 9944.333333333334,
            "bin_end": 280742.99999999994,
            "count": 27
           },
           {
            "bin_start": 280742.99999999994,
            "bin_end": 551541.6666666666,
            "count": 12
           },
           {
            "bin_start": 551541.6666666666,
            "bin_end": 822340.3333333333,
            "count": 10
           },
           {
            "bin_start": 822340.3333333333,
            "bin_end": 1093138.9999999998,
            "count": 9
           },
           {
            "bin_start": 1093138.9999999998,
            "bin_end": 1363937.6666666663,
            "count": 7
           },
           {
            "bin_start": 1363937.6666666663,
            "bin_end": 1634736.333333333,
            "count": 6
           },
           {
            "bin_start": 1634736.333333333,
            "bin_end": 1905534.9999999998,
            "count": 5
           },
           {
            "bin_start": 1905534.9999999998,
            "bin_end": 2176333.6666666665,
            "count": 4
           },
           {
            "bin_start": 2176333.6666666665,
            "bin_end": 2447132.333333333,
            "count": 6
           },
           {
            "bin_start": 2447132.333333333,
            "bin_end": 2717931,
            "count": 3
           }
          ]
         }
        },
        {
         "name": "BinCSG Mean Time",
         "dtype": "float64",
         "stats": {
          "unique_count": 89,
          "nan_count": 0,
          "min": "1088.0",
          "max": "284583.6666666667",
          "histogram": [
           {
            "bin_start": 1088,
            "bin_end": 29437.56666666667,
            "count": 26
           },
           {
            "bin_start": 29437.56666666667,
            "bin_end": 57787.13333333334,
            "count": 13
           },
           {
            "bin_start": 57787.13333333334,
            "bin_end": 86136.70000000001,
            "count": 7
           },
           {
            "bin_start": 86136.70000000001,
            "bin_end": 114486.26666666668,
            "count": 9
           },
           {
            "bin_start": 114486.26666666668,
            "bin_end": 142835.83333333334,
            "count": 7
           },
           {
            "bin_start": 142835.83333333334,
            "bin_end": 171185.40000000002,
            "count": 8
           },
           {
            "bin_start": 171185.40000000002,
            "bin_end": 199534.96666666667,
            "count": 7
           },
           {
            "bin_start": 199534.96666666667,
            "bin_end": 227884.53333333335,
            "count": 3
           },
           {
            "bin_start": 227884.53333333335,
            "bin_end": 256234.10000000003,
            "count": 5
           },
           {
            "bin_start": 256234.10000000003,
            "bin_end": 284583.6666666667,
            "count": 4
           }
          ]
         }
        },
        {
         "name": "OptiCSG Mean Time",
         "dtype": "float64",
         "stats": {
          "unique_count": 84,
          "nan_count": 0,
          "min": "794.3333333333334",
          "max": "1852.3333333333333",
          "histogram": [
           {
            "bin_start": 794.3333333333334,
            "bin_end": 900.1333333333333,
            "count": 1
           },
           {
            "bin_start": 900.1333333333333,
            "bin_end": 1005.9333333333334,
            "count": 0
           },
           {
            "bin_start": 1005.9333333333334,
            "bin_end": 1111.7333333333333,
            "count": 2
           },
           {
            "bin_start": 1111.7333333333333,
            "bin_end": 1217.5333333333333,
            "count": 0
           },
           {
            "bin_start": 1217.5333333333333,
            "bin_end": 1323.3333333333335,
            "count": 6
           },
           {
            "bin_start": 1323.3333333333335,
            "bin_end": 1429.1333333333332,
            "count": 2
           },
           {
            "bin_start": 1429.1333333333332,
            "bin_end": 1534.9333333333334,
            "count": 10
           },
           {
            "bin_start": 1534.9333333333334,
            "bin_end": 1640.7333333333333,
            "count": 21
           },
           {
            "bin_start": 1640.7333333333333,
            "bin_end": 1746.5333333333333,
            "count": 30
           },
           {
            "bin_start": 1746.5333333333333,
            "bin_end": 1852.3333333333333,
            "count": 17
           }
          ]
         }
        },
        {
         "name": "_deepnote_index_column",
         "dtype": "int64"
        }
       ],
       "rows_top": [
        {
         "Triangle Number": 56,
         "NaiCSG Mean Time": 9944.333333333334,
         "BinCSG Mean Time": 1088,
         "OptiCSG Mean Time": 794.3333333333334,
         "_deepnote_index_column": 0
        },
        {
         "Triangle Number": 96,
         "NaiCSG Mean Time": 15192.333333333334,
         "BinCSG Mean Time": 2585.3333333333335,
         "OptiCSG Mean Time": 1057,
         "_deepnote_index_column": 1
        },
        {
         "Triangle Number": 108,
         "NaiCSG Mean Time": 20821,
         "BinCSG Mean Time": 2410.3333333333335,
         "OptiCSG Mean Time": 1089.3333333333333,
         "_deepnote_index_column": 2
        },
        {
         "Triangle Number": 160,
         "NaiCSG Mean Time": 26803.333333333332,
         "BinCSG Mean Time": 3428.3333333333335,
         "OptiCSG Mean Time": 1284.6666666666667,
         "_deepnote_index_column": 3
        },
        {
         "Triangle Number": 176,
         "NaiCSG Mean Time": 27472.333333333332,
         "BinCSG Mean Time": 2926,
         "OptiCSG Mean Time": 1224,
         "_deepnote_index_column": 4
        },
        {
         "Triangle Number": 240,
         "NaiCSG Mean Time": 35218.333333333336,
         "BinCSG Mean Time": 4256.333333333333,
         "OptiCSG Mean Time": 1447,
         "_deepnote_index_column": 5
        },
        {
         "Triangle Number": 260,
         "NaiCSG Mean Time": 36086,
         "BinCSG Mean Time": 4198.333333333333,
         "OptiCSG Mean Time": 1330.3333333333333,
         "_deepnote_index_column": 6
        },
        {
         "Triangle Number": 336,
         "NaiCSG Mean Time": 46950,
         "BinCSG Mean Time": 5451.333333333333,
         "OptiCSG Mean Time": 1294.6666666666667,
         "_deepnote_index_column": 7
        },
        {
         "Triangle Number": 360,
         "NaiCSG Mean Time": 50264.666666666664,
         "BinCSG Mean Time": 5975.333333333333,
         "OptiCSG Mean Time": 1280.6666666666667,
         "_deepnote_index_column": 8
        },
        {
         "Triangle Number": 448,
         "NaiCSG Mean Time": 62982.333333333336,
         "BinCSG Mean Time": 7370,
         "OptiCSG Mean Time": 1294.6666666666667,
         "_deepnote_index_column": 9
        },
        {
         "Triangle Number": 476,
         "NaiCSG Mean Time": 66814.33333333333,
         "BinCSG Mean Time": 8306.666666666666,
         "OptiCSG Mean Time": 1312.3333333333333,
         "_deepnote_index_column": 10
        },
        {
         "Triangle Number": 576,
         "NaiCSG Mean Time": 81025,
         "BinCSG Mean Time": 9790,
         "OptiCSG Mean Time": 1495.3333333333333,
         "_deepnote_index_column": 11
        },
        {
         "Triangle Number": 608,
         "NaiCSG Mean Time": 86191.33333333333,
         "BinCSG Mean Time": 10053,
         "OptiCSG Mean Time": 1395,
         "_deepnote_index_column": 12
        },
        {
         "Triangle Number": 720,
         "NaiCSG Mean Time": 101993,
         "BinCSG Mean Time": 11341,
         "OptiCSG Mean Time": 1517.3333333333333,
         "_deepnote_index_column": 13
        },
        {
         "Triangle Number": 756,
         "NaiCSG Mean Time": 107213.33333333333,
         "BinCSG Mean Time": 11855.333333333334,
         "OptiCSG Mean Time": 1511,
         "_deepnote_index_column": 14
        },
        {
         "Triangle Number": 880,
         "NaiCSG Mean Time": 125840.66666666667,
         "BinCSG Mean Time": 13239.666666666666,
         "OptiCSG Mean Time": 1458.3333333333333,
         "_deepnote_index_column": 15
        },
        {
         "Triangle Number": 920,
         "NaiCSG Mean Time": 131679,
         "BinCSG Mean Time": 13920.666666666666,
         "OptiCSG Mean Time": 1450.6666666666667,
         "_deepnote_index_column": 16
        },
        {
         "Triangle Number": 1056,
         "NaiCSG Mean Time": 151288,
         "BinCSG Mean Time": 16123.333333333334,
         "OptiCSG Mean Time": 1474.3333333333333,
         "_deepnote_index_column": 17
        },
        {
         "Triangle Number": 1100,
         "NaiCSG Mean Time": 158617.66666666666,
         "BinCSG Mean Time": 17650.333333333332,
         "OptiCSG Mean Time": 1503.3333333333333,
         "_deepnote_index_column": 18
        },
        {
         "Triangle Number": 1248,
         "NaiCSG Mean Time": 179139,
         "BinCSG Mean Time": 19326.333333333332,
         "OptiCSG Mean Time": 1629.3333333333333,
         "_deepnote_index_column": 19
        },
        {
         "Triangle Number": 1296,
         "NaiCSG Mean Time": 185379.33333333334,
         "BinCSG Mean Time": 20197,
         "OptiCSG Mean Time": 1551.3333333333333,
         "_deepnote_index_column": 20
        },
        {
         "Triangle Number": 1456,
         "NaiCSG Mean Time": 207921.33333333334,
         "BinCSG Mean Time": 23522,
         "OptiCSG Mean Time": 1552.6666666666667,
         "_deepnote_index_column": 21
        },
        {
         "Triangle Number": 1508,
         "NaiCSG Mean Time": 213880.33333333334,
         "BinCSG Mean Time": 23309,
         "OptiCSG Mean Time": 1664,
         "_deepnote_index_column": 22
        },
        {
         "Triangle Number": 1680,
         "NaiCSG Mean Time": 237396,
         "BinCSG Mean Time": 25508.666666666668,
         "OptiCSG Mean Time": 1704.3333333333333,
         "_deepnote_index_column": 23
        },
        {
         "Triangle Number": 1736,
         "NaiCSG Mean Time": 245166.33333333334,
         "BinCSG Mean Time": 27298.333333333332,
         "OptiCSG Mean Time": 1603,
         "_deepnote_index_column": 24
        },
        {
         "Triangle Number": 1920,
         "NaiCSG Mean Time": 269885.3333333333,
         "BinCSG Mean Time": 29381.333333333332,
         "OptiCSG Mean Time": 1473.6666666666667,
         "_deepnote_index_column": 25
        },
        {
         "Triangle Number": 1980,
         "NaiCSG Mean Time": 278121,
         "BinCSG Mean Time": 30724,
         "OptiCSG Mean Time": 1527.6666666666667,
         "_deepnote_index_column": 26
        },
        {
         "Triangle Number": 2176,
         "NaiCSG Mean Time": 325863,
         "BinCSG Mean Time": 33627,
         "OptiCSG Mean Time": 1545.3333333333333,
         "_deepnote_index_column": 27
        },
        {
         "Triangle Number": 2240,
         "NaiCSG Mean Time": 316085.6666666667,
         "BinCSG Mean Time": 34303.333333333336,
         "OptiCSG Mean Time": 1537.6666666666667,
         "_deepnote_index_column": 28
        },
        {
         "Triangle Number": 2448,
         "NaiCSG Mean Time": 346896.6666666667,
         "BinCSG Mean Time": 37146,
         "OptiCSG Mean Time": 1541,
         "_deepnote_index_column": 29
        },
        {
         "Triangle Number": 2516,
         "NaiCSG Mean Time": 353486.3333333333,
         "BinCSG Mean Time": 39709.666666666664,
         "OptiCSG Mean Time": 1637.3333333333333,
         "_deepnote_index_column": 30
        },
        {
         "Triangle Number": 2736,
         "NaiCSG Mean Time": 383663.3333333333,
         "BinCSG Mean Time": 44464,
         "OptiCSG Mean Time": 1614.6666666666667,
         "_deepnote_index_column": 31
        },
        {
         "Triangle Number": 2808,
         "NaiCSG Mean Time": 393544,
         "BinCSG Mean Time": 44487,
         "OptiCSG Mean Time": 1583.6666666666667,
         "_deepnote_index_column": 32
        },
        {
         "Triangle Number": 3040,
         "NaiCSG Mean Time": 426033,
         "BinCSG Mean Time": 46457.666666666664,
         "OptiCSG Mean Time": 1586.3333333333333,
         "_deepnote_index_column": 33
        },
        {
         "Triangle Number": 3116,
         "NaiCSG Mean Time": 432587,
         "BinCSG Mean Time": 47135.333333333336,
         "OptiCSG Mean Time": 1637.3333333333333,
         "_deepnote_index_column": 34
        },
        {
         "Triangle Number": 3360,
         "NaiCSG Mean Time": 466329,
         "BinCSG Mean Time": 50530.666666666664,
         "OptiCSG Mean Time": 1710.3333333333333,
         "_deepnote_index_column": 35
        },
        {
         "Triangle Number": 3440,
         "NaiCSG Mean Time": 477411,
         "BinCSG Mean Time": 52388.333333333336,
         "OptiCSG Mean Time": 1633.3333333333333,
         "_deepnote_index_column": 36
        },
        {
         "Triangle Number": 3696,
         "NaiCSG Mean Time": 511780.6666666667,
         "BinCSG Mean Time": 56206.666666666664,
         "OptiCSG Mean Time": 1643.3333333333333,
         "_deepnote_index_column": 37
        },
        {
         "Triangle Number": 3780,
         "NaiCSG Mean Time": 523308,
         "BinCSG Mean Time": 57500,
         "OptiCSG Mean Time": 1683.6666666666667,
         "_deepnote_index_column": 38
        },
        {
         "Triangle Number": 4048,
         "NaiCSG Mean Time": 559077,
         "BinCSG Mean Time": 60846,
         "OptiCSG Mean Time": 1674.6666666666667,
         "_deepnote_index_column": 39
        },
        {
         "Triangle Number": 4136,
         "NaiCSG Mean Time": 573122.6666666666,
         "BinCSG Mean Time": 61504,
         "OptiCSG Mean Time": 1656,
         "_deepnote_index_column": 40
        },
        {
         "Triangle Number": 4416,
         "NaiCSG Mean Time": 611821,
         "BinCSG Mean Time": 67851.33333333333,
         "OptiCSG Mean Time": 1591.6666666666667,
         "_deepnote_index_column": 41
        },
        {
         "Triangle Number": 4508,
         "NaiCSG Mean Time": 627475.6666666666,
         "BinCSG Mean Time": 82377.33333333333,
         "OptiCSG Mean Time": 1631.3333333333333,
         "_deepnote_index_column": 42
        },
        {
         "Triangle Number": 4800,
         "NaiCSG Mean Time": 668204.3333333334,
         "BinCSG Mean Time": 80143.66666666667,
         "OptiCSG Mean Time": 1697.3333333333333,
         "_deepnote_index_column": 43
        },
        {
         "Triangle Number": 4896,
         "NaiCSG Mean Time": 679769,
         "BinCSG Mean Time": 78619.66666666667,
         "OptiCSG Mean Time": 1684,
         "_deepnote_index_column": 44
        },
        {
         "Triangle Number": 5200,
         "NaiCSG Mean Time": 720619,
         "BinCSG Mean Time": 83573.33333333333,
         "OptiCSG Mean Time": 1634,
         "_deepnote_index_column": 45
        },
        {
         "Triangle Number": 5300,
         "NaiCSG Mean Time": 734363,
         "BinCSG Mean Time": 89425.33333333333,
         "OptiCSG Mean Time": 1747.6666666666667,
         "_deepnote_index_column": 46
        },
        {
         "Triangle Number": 5616,
         "NaiCSG Mean Time": 776582.3333333334,
         "BinCSG Mean Time": 92503.66666666667,
         "OptiCSG Mean Time": 1696,
         "_deepnote_index_column": 47
        },
        {
         "Triangle Number": 5720,
         "NaiCSG Mean Time": 791540.6666666666,
         "BinCSG Mean Time": 100360.66666666667,
         "OptiCSG Mean Time": 1669,
         "_deepnote_index_column": 48
        },
        {
         "Triangle Number": 6048,
         "NaiCSG Mean Time": 832452.3333333334,
         "BinCSG Mean Time": 108296.33333333333,
         "OptiCSG Mean Time": 1622.3333333333333,
         "_deepnote_index_column": 49
        },
        {
         "Triangle Number": 6156,
         "NaiCSG Mean Time": 843637.6666666666,
         "BinCSG Mean Time": 127466.66666666667,
         "OptiCSG Mean Time": 1703.6666666666667,
         "_deepnote_index_column": 50
        },
        {
         "Triangle Number": 6496,
         "NaiCSG Mean Time": 888447.3333333334,
         "BinCSG Mean Time": 120053.33333333333,
         "OptiCSG Mean Time": 1694,
         "_deepnote_index_column": 51
        },
        {
         "Triangle Number": 6608,
         "NaiCSG Mean Time": 905770.6666666666,
         "BinCSG Mean Time": 99579.33333333333,
         "OptiCSG Mean Time": 1678,
         "_deepnote_index_column": 52
        },
        {
         "Triangle Number": 6960,
         "NaiCSG Mean Time": 952952.3333333334,
         "BinCSG Mean Time": 105878,
         "OptiCSG Mean Time": 1591.6666666666667,
         "_deepnote_index_column": 53
        },
        {
         "Triangle Number": 7076,
         "NaiCSG Mean Time": 969535.3333333334,
         "BinCSG Mean Time": 107767.33333333333,
         "OptiCSG Mean Time": 1682.3333333333333,
         "_deepnote_index_column": 54
        },
        {
         "Triangle Number": 7440,
         "NaiCSG Mean Time": 1018127.6666666666,
         "BinCSG Mean Time": 112030,
         "OptiCSG Mean Time": 1754.6666666666667,
         "_deepnote_index_column": 55
        },
        {
         "Triangle Number": 7560,
         "NaiCSG Mean Time": 1034606,
         "BinCSG Mean Time": 114165,
         "OptiCSG Mean Time": 1735.6666666666667,
         "_deepnote_index_column": 56
        },
        {
         "Triangle Number": 7936,
         "NaiCSG Mean Time": 1085039.3333333333,
         "BinCSG Mean Time": 120424.66666666667,
         "OptiCSG Mean Time": 1585,
         "_deepnote_index_column": 57
        },
        {
         "Triangle Number": 8060,
         "NaiCSG Mean Time": 1102098.6666666667,
         "BinCSG Mean Time": 121326.66666666667,
         "OptiCSG Mean Time": 1702.6666666666667,
         "_deepnote_index_column": 58
        },
        {
         "Triangle Number": 8448,
         "NaiCSG Mean Time": 1155374,
         "BinCSG Mean Time": 126632.66666666667,
         "OptiCSG Mean Time": 1740.6666666666667,
         "_deepnote_index_column": 59
        },
        {
         "Triangle Number": 8576,
         "NaiCSG Mean Time": 1172498.6666666667,
         "BinCSG Mean Time": 127856,
         "OptiCSG Mean Time": 1692,
         "_deepnote_index_column": 60
        },
        {
         "Triangle Number": 8976,
         "NaiCSG Mean Time": 1227682.6666666667,
         "BinCSG Mean Time": 140099.66666666666,
         "OptiCSG Mean Time": 1576,
         "_deepnote_index_column": 61
        },
        {
         "Triangle Number": 9108,
         "NaiCSG Mean Time": 1245022.6666666667,
         "BinCSG Mean Time": 169516.33333333334,
         "OptiCSG Mean Time": 1658.3333333333333,
         "_deepnote_index_column": 62
        },
        {
         "Triangle Number": 9520,
         "NaiCSG Mean Time": 1302731,
         "BinCSG Mean Time": 195342.33333333334,
         "OptiCSG Mean Time": 1791.3333333333333,
         "_deepnote_index_column": 63
        },
        {
         "Triangle Number": 9656,
         "NaiCSG Mean Time": 1330542.3333333333,
         "BinCSG Mean Time": 155470.33333333334,
         "OptiCSG Mean Time": 1756.3333333333333,
         "_deepnote_index_column": 64
        },
        {
         "Triangle Number": 10080,
         "NaiCSG Mean Time": 1397053.6666666667,
         "BinCSG Mean Time": 152280,
         "OptiCSG Mean Time": 1653,
         "_deepnote_index_column": 65
        },
        {
         "Triangle Number": 10220,
         "NaiCSG Mean Time": 1429035.6666666667,
         "BinCSG Mean Time": 152532.66666666666,
         "OptiCSG Mean Time": 1749.6666666666667,
         "_deepnote_index_column": 66
        },
        {
         "Triangle Number": 10656,
         "NaiCSG Mean Time": 1469541,
         "BinCSG Mean Time": 158060,
         "OptiCSG Mean Time": 1785,
         "_deepnote_index_column": 67
        },
        {
         "Triangle Number": 10800,
         "NaiCSG Mean Time": 1503263,
         "BinCSG Mean Time": 159729.66666666666,
         "OptiCSG Mean Time": 1732,
         "_deepnote_index_column": 68
        },
        {
         "Triangle Number": 11248,
         "NaiCSG Mean Time": 1588475.6666666667,
         "BinCSG Mean Time": 168828.66666666666,
         "OptiCSG Mean Time": 1614.3333333333333,
         "_deepnote_index_column": 69
        },
        {
         "Triangle Number": 11396,
         "NaiCSG Mean Time": 1622460,
         "BinCSG Mean Time": 165896.33333333334,
         "OptiCSG Mean Time": 1702.6666666666667,
         "_deepnote_index_column": 70
        },
        {
         "Triangle Number": 11856,
         "NaiCSG Mean Time": 1703290,
         "BinCSG Mean Time": 174620.33333333334,
         "OptiCSG Mean Time": 1803.6666666666667,
         "_deepnote_index_column": 71
        },
        {
         "Triangle Number": 12008,
         "NaiCSG Mean Time": 1709080,
         "BinCSG Mean Time": 176120.33333333334,
         "OptiCSG Mean Time": 1781.6666666666667,
         "_deepnote_index_column": 72
        },
        {
         "Triangle Number": 12480,
         "NaiCSG Mean Time": 1774493,
         "BinCSG Mean Time": 183307,
         "OptiCSG Mean Time": 1656,
         "_deepnote_index_column": 73
        },
        {
         "Triangle Number": 12636,
         "NaiCSG Mean Time": 1821041,
         "BinCSG Mean Time": 184293,
         "OptiCSG Mean Time": 1747,
         "_deepnote_index_column": 74
        },
        {
         "Triangle Number": 13120,
         "NaiCSG Mean Time": 1864474.6666666667,
         "BinCSG Mean Time": 191410,
         "OptiCSG Mean Time": 1746.6666666666667,
         "_deepnote_index_column": 75
        },
        {
         "Triangle Number": 13280,
         "NaiCSG Mean Time": 1935122.3333333333,
         "BinCSG Mean Time": 194003,
         "OptiCSG Mean Time": 1705.3333333333333,
         "_deepnote_index_column": 76
        },
        {
         "Triangle Number": 13776,
         "NaiCSG Mean Time": 2013851.3333333333,
         "BinCSG Mean Time": 201890,
         "OptiCSG Mean Time": 1696.6666666666667,
         "_deepnote_index_column": 77
        },
        {
         "Triangle Number": 13940,
         "NaiCSG Mean Time": 2080762.6666666667,
         "BinCSG Mean Time": 204667,
         "OptiCSG Mean Time": 1743.3333333333333,
         "_deepnote_index_column": 78
        },
        {
         "Triangle Number": 14448,
         "NaiCSG Mean Time": 2178922.6666666665,
         "BinCSG Mean Time": 210308,
         "OptiCSG Mean Time": 1816,
         "_deepnote_index_column": 79
        },
        {
         "Triangle Number": 14616,
         "NaiCSG Mean Time": 2175540.6666666665,
         "BinCSG Mean Time": 230131,
         "OptiCSG Mean Time": 1776,
         "_deepnote_index_column": 80
        },
        {
         "Triangle Number": 15136,
         "NaiCSG Mean Time": 2269573.6666666665,
         "BinCSG Mean Time": 248540,
         "OptiCSG Mean Time": 1669.6666666666667,
         "_deepnote_index_column": 81
        },
        {
         "Triangle Number": 15308,
         "NaiCSG Mean Time": 2262161.3333333335,
         "BinCSG Mean Time": 236952,
         "OptiCSG Mean Time": 1770.3333333333333,
         "_deepnote_index_column": 82
        },
        {
         "Triangle Number": 15840,
         "NaiCSG Mean Time": 2327147,
         "BinCSG Mean Time": 248399.33333333334,
         "OptiCSG Mean Time": 1852.3333333333333,
         "_deepnote_index_column": 83
        },
        {
         "Triangle Number": 16016,
         "NaiCSG Mean Time": 2386601.6666666665,
         "BinCSG Mean Time": 250487.66666666666,
         "OptiCSG Mean Time": 1775.3333333333333,
         "_deepnote_index_column": 84
        },
        {
         "Triangle Number": 16560,
         "NaiCSG Mean Time": 2412367.3333333335,
         "BinCSG Mean Time": 256954.66666666666,
         "OptiCSG Mean Time": 1689.3333333333333,
         "_deepnote_index_column": 85
        },
        {
         "Triangle Number": 16740,
         "NaiCSG Mean Time": 2492680.6666666665,
         "BinCSG Mean Time": 264765.6666666667,
         "OptiCSG Mean Time": 1801.3333333333333,
         "_deepnote_index_column": 86
        },
        {
         "Triangle Number": 17296,
         "NaiCSG Mean Time": 2717931,
         "BinCSG Mean Time": 270377,
         "OptiCSG Mean Time": 1760,
         "_deepnote_index_column": 87
        },
        {
         "Triangle Number": 17480,
         "NaiCSG Mean Time": 2659346,
         "BinCSG Mean Time": 284583.6666666667,
         "OptiCSG Mean Time": 1722.3333333333333,
         "_deepnote_index_column": 88
        }
       ],
       "rows_bottom": null
      },
      "text/plain": "    Triangle Number  NaiCSG Mean Time  BinCSG Mean Time  OptiCSG Mean Time\n0                56      9.944333e+03       1088.000000         794.333333\n1                96      1.519233e+04       2585.333333        1057.000000\n2               108      2.082100e+04       2410.333333        1089.333333\n3               160      2.680333e+04       3428.333333        1284.666667\n4               176      2.747233e+04       2926.000000        1224.000000\n..              ...               ...               ...                ...\n84            16016      2.386602e+06     250487.666667        1775.333333\n85            16560      2.412367e+06     256954.666667        1689.333333\n86            16740      2.492681e+06     264765.666667        1801.333333\n87            17296      2.717931e+06     270377.000000        1760.000000\n88            17480      2.659346e+06     284583.666667        1722.333333\n\n[89 rows x 4 columns]",
      "text/html": "<div>\n<style scoped>\n    .dataframe tbody tr th:only-of-type {\n        vertical-align: middle;\n    }\n\n    .dataframe tbody tr th {\n        vertical-align: top;\n    }\n\n    .dataframe thead th {\n        text-align: right;\n    }\n</style>\n<table border=\"1\" class=\"dataframe\">\n  <thead>\n    <tr style=\"text-align: right;\">\n      <th></th>\n      <th>Triangle Number</th>\n      <th>NaiCSG Mean Time</th>\n      <th>BinCSG Mean Time</th>\n      <th>OptiCSG Mean Time</th>\n    </tr>\n  </thead>\n  <tbody>\n    <tr>\n      <th>0</th>\n      <td>56</td>\n      <td>9.944333e+03</td>\n      <td>1088.000000</td>\n      <td>794.333333</td>\n    </tr>\n    <tr>\n      <th>1</th>\n      <td>96</td>\n      <td>1.519233e+04</td>\n      <td>2585.333333</td>\n      <td>1057.000000</td>\n    </tr>\n    <tr>\n      <th>2</th>\n      <td>108</td>\n      <td>2.082100e+04</td>\n      <td>2410.333333</td>\n      <td>1089.333333</td>\n    </tr>\n    <tr>\n      <th>3</th>\n      <td>160</td>\n      <td>2.680333e+04</td>\n      <td>3428.333333</td>\n      <td>1284.666667</td>\n    </tr>\n    <tr>\n      <th>4</th>\n      <td>176</td>\n      <td>2.747233e+04</td>\n      <td>2926.000000</td>\n      <td>1224.000000</td>\n    </tr>\n    <tr>\n      <th>...</th>\n      <td>...</td>\n      <td>...</td>\n      <td>...</td>\n      <td>...</td>\n    </tr>\n    <tr>\n      <th>84</th>\n      <td>16016</td>\n      <td>2.386602e+06</td>\n      <td>250487.666667</td>\n      <td>1775.333333</td>\n    </tr>\n    <tr>\n      <th>85</th>\n      <td>16560</td>\n      <td>2.412367e+06</td>\n      <td>256954.666667</td>\n      <td>1689.333333</td>\n    </tr>\n    <tr>\n      <th>86</th>\n      <td>16740</td>\n      <td>2.492681e+06</td>\n      <td>264765.666667</td>\n      <td>1801.333333</td>\n    </tr>\n    <tr>\n      <th>87</th>\n      <td>17296</td>\n      <td>2.717931e+06</td>\n      <td>270377.000000</td>\n      <td>1760.000000</td>\n    </tr>\n    <tr>\n      <th>88</th>\n      <td>17480</td>\n      <td>2.659346e+06</td>\n      <td>284583.666667</td>\n      <td>1722.333333</td>\n    </tr>\n  </tbody>\n</table>\n<p>89 rows × 4 columns</p>\n</div>"
     },
     "metadata": {}
    }
   ]
  },
  {
   "cell_type": "markdown",
   "source": "### Final Plots",
   "metadata": {
    "tags": [],
    "cell_id": "00024-af171f74-538f-4ceb-8573-fc4cf98c7a43",
    "deepnote_cell_type": "markdown"
   }
  },
  {
   "cell_type": "code",
   "metadata": {
    "tags": [],
    "cell_id": "00022-f5bd6ac0-d7a5-4ee6-b44c-6a6314859918",
    "deepnote_to_be_reexecuted": false,
    "source_hash": "69df4bfd",
    "execution_millis": 399,
    "execution_start": 1620551373661,
    "deepnote_cell_type": "code"
   },
   "source": "# Performance of all versions\ndf_comp.plot(x=\"Triangle Number\", y=[\"NaiCSG Mean Time\", \"BinCSG Mean Time\", \"OptiCSG Mean Time\"], kind=\"line\", lw=2)\nplt.show()\nif saveFig:\n    plt.savefig('Performance-3OPS.png')",
   "execution_count": 16,
   "outputs": [
    {
     "data": {
      "text/plain": "<Figure size 640x480 with 1 Axes>",
      "image/png": "[encoded data removed]"
     },
     "metadata": {
      "image/png": {
       "width": 547,
       "height": 452
      }
     },
     "output_type": "display_data"
    }
   ]
  },
  {
   "cell_type": "code",
   "metadata": {
    "tags": [],
    "cell_id": "00025-0fb9e936-82e0-4d76-bda5-1ab46b649433",
    "deepnote_to_be_reexecuted": false,
    "source_hash": "64e3d5a5",
    "execution_millis": 17,
    "execution_start": 1620551374070,
    "deepnote_cell_type": "code"
   },
   "source": "mean_time_nai = df_comp[\"NaiCSG Mean Time\"].mean()\nmean_time_bin = df_comp[\"BinCSG Mean Time\"].mean()\nmean_time_opti = df_comp[\"OptiCSG Mean Time\"].mean()\n\nprint(\"Mean time for test per operation:\")\nprint(\"NaiCSG: \" + str(mean_time_nai))\nprint(\"BinCSG: \" + str(mean_time_bin))\nprint(\"OptiCSG: \" + str(mean_time_opti))\n\nspeedup_nai_bin = mean_time_nai / mean_time_bin\nspeedup_nai_opti = mean_time_nai / mean_time_opti\nspeedup_bin_opti = mean_time_bin / mean_time_opti\n\nprint(\"\\nSpeedup per operation:\")\nprint(\"NaiCSG/BinCSG: \" + str(speedup_nai_bin))\nprint(\"NaiCSG/OptiCSG: \" + str(speedup_nai_opti))\nprint(\"BinCSG/OptiCSG: \" + str(speedup_bin_opti))",
   "execution_count": 17,
   "outputs": [
    {
     "name": "stdout",
     "text": "Mean time for test per operation:\nNaiCSG: 895725.6479400748\nBinCSG: 97903.80149812733\nOptiCSG: 1603.0374531835207\n\nSpeedup per operation:\nNaiCSG/BinCSG: 9.149038487103159\nNaiCSG/OptiCSG: 558.7677606416656\nBinCSG/OptiCSG: 61.073932679300285\n",
     "output_type": "stream"
    }
   ]
  },
  {
   "cell_type": "markdown",
   "source": "## Number of Nests\n",
   "metadata": {
    "tags": [],
    "cell_id": "00023-6060588b-aec3-4ec0-a77f-36b18f6c2630",
    "deepnote_cell_type": "markdown"
   }
  },
  {
   "cell_type": "code",
   "metadata": {
    "tags": [],
    "cell_id": "00024-4897ea3c-6c56-4107-bf0a-903f4859cb9c",
    "deepnote_to_be_reexecuted": false,
    "source_hash": "edf8e01b",
    "execution_millis": 22,
    "execution_start": 1620551374081,
    "deepnote_cell_type": "code"
   },
   "source": "nest_nai = pd.read_csv('n_nests_tests/nesting_base_union.txt', header=None)\nnest_optim = pd.read_csv('n_nests_tests/nesting_optim_union.txt', header=None)\nnest_bin = pd.read_csv('n_nests_tests/nesting_bin_union.txt', header=None)\nnest_viewport = pd.read_csv('n_nests_tests/nest_to_viewport.txt', header=None)",
   "execution_count": 18,
   "outputs": []
  },
  {
   "cell_type": "code",
   "metadata": {
    "tags": [],
    "cell_id": "00025-b212f0fd-f635-458f-ad79-93597b902e2d",
    "deepnote_to_be_reexecuted": false,
    "source_hash": "7ccaac60",
    "execution_millis": 54,
    "execution_start": 1620551374107,
    "deepnote_cell_type": "code"
   },
   "source": "df_nest = pd.concat([nest_nai, nest_optim, nest_bin, nest_viewport], axis=1)\ndf_nest.columns = [\"Triangle Number\", \"Number of Nests\", \"NaiCSG Time\", \"tris2\", \"nests2\", \"OptiCSG Time\", \"tris3\", \"nests3\", \"BinCSG Time\", \"nests4\", \"Viewport Fill\"]\ndf_nest = df_nest.drop(columns=['tris2', 'nests2', 'tris3', 'nests3', 'nests4'])\nmean_viewport_fill = df_nest['Viewport Fill'].mean()\n\nprint(\"Mean viewport fill\")\nprint(mean_viewport_fill)",
   "execution_count": 19,
   "outputs": [
    {
     "name": "stdout",
     "text": "Mean viewport fill\n71.62352430555556\n",
     "output_type": "stream"
    }
   ]
  },
  {
   "cell_type": "code",
   "metadata": {
    "tags": [],
    "cell_id": "00026-21c7d67a-aac1-425e-8565-f7433870dad3",
    "deepnote_to_be_reexecuted": false,
    "source_hash": "a1aa4490",
    "execution_millis": 44,
    "execution_start": 1620551374161,
    "deepnote_cell_type": "code"
   },
   "source": "df_nest",
   "execution_count": 20,
   "outputs": [
    {
     "output_type": "execute_result",
     "execution_count": 20,
     "data": {
      "application/vnd.deepnote.dataframe.v2+json": {
       "row_count": 14,
       "column_count": 6,
       "columns": [
        {
         "name": "Triangle Number",
         "dtype": "int64",
         "stats": {
          "unique_count": 14,
          "nan_count": 0,
          "min": "1584",
          "max": "8448",
          "histogram": [
           {
            "bin_start": 1584,
            "bin_end": 2270.4,
            "count": 2
           },
           {
            "bin_start": 2270.4,
            "bin_end": 2956.8,
            "count": 1
           },
           {
            "bin_start": 2956.8,
            "bin_end": 3643.2,
            "count": 1
           },
           {
            "bin_start": 3643.2,
            "bin_end": 4329.6,
            "count": 2
           },
           {
            "bin_start": 4329.6,
            "bin_end": 5016,
            "count": 1
           },
           {
            "bin_start": 5016,
            "bin_end": 5702.4,
            "count": 1
           },
           {
            "bin_start": 5702.4,
            "bin_end": 6388.8,
            "count": 2
           },
           {
            "bin_start": 6388.8,
            "bin_end": 7075.2,
            "count": 1
           },
           {
            "bin_start": 7075.2,
            "bin_end": 7761.599999999999,
            "count": 1
           },
           {
            "bin_start": 7761.599999999999,
            "bin_end": 8448,
            "count": 2
           }
          ]
         }
        },
        {
         "name": "Number of Nests",
         "dtype": "int64",
         "stats": {
          "unique_count": 14,
          "nan_count": 0,
          "min": "1",
          "max": "14",
          "histogram": [
           {
            "bin_start": 1,
            "bin_end": 2.3,
            "count": 2
           },
           {
            "bin_start": 2.3,
            "bin_end": 3.6,
            "count": 1
           },
           {
            "bin_start": 3.6,
            "bin_end": 4.9,
            "count": 1
           },
           {
            "bin_start": 4.9,
            "bin_end": 6.2,
            "count": 2
           },
           {
            "bin_start": 6.2,
            "bin_end": 7.5,
            "count": 1
           },
           {
            "bin_start": 7.5,
            "bin_end": 8.8,
            "count": 1
           },
           {
            "bin_start": 8.8,
            "bin_end": 10.1,
            "count": 2
           },
           {
            "bin_start": 10.1,
            "bin_end": 11.4,
            "count": 1
           },
           {
            "bin_start": 11.4,
            "bin_end": 12.700000000000001,
            "count": 1
           },
           {
            "bin_start": 12.700000000000001,
            "bin_end": 14,
            "count": 2
           }
          ]
         }
        },
        {
         "name": "NaiCSG Time",
         "dtype": "int64",
         "stats": {
          "unique_count": 14,
          "nan_count": 0,
          "min": "237058",
          "max": "1198426",
          "histogram": [
           {
            "bin_start": 237058,
            "bin_end": 333194.8,
            "count": 2
           },
           {
            "bin_start": 333194.8,
            "bin_end": 429331.6,
            "count": 1
           },
           {
            "bin_start": 429331.6,
            "bin_end": 525468.4,
            "count": 1
           },
           {
            "bin_start": 525468.4,
            "bin_end": 621605.2,
            "count": 2
           },
           {
            "bin_start": 621605.2,
            "bin_end": 717742,
            "count": 1
           },
           {
            "bin_start": 717742,
            "bin_end": 813878.8,
            "count": 1
           },
           {
            "bin_start": 813878.8,
            "bin_end": 910015.6,
            "count": 2
           },
           {
            "bin_start": 910015.6,
            "bin_end": 1006152.4,
            "count": 1
           },
           {
            "bin_start": 1006152.4,
            "bin_end": 1102289.2000000002,
            "count": 1
           },
           {
            "bin_start": 1102289.2000000002,
            "bin_end": 1198426,
            "count": 2
           }
          ]
         }
        },
        {
         "name": "OptiCSG Time",
         "dtype": "int64",
         "stats": {
          "unique_count": 14,
          "nan_count": 0,
          "min": "4643",
          "max": "13431",
          "histogram": [
           {
            "bin_start": 4643,
            "bin_end": 5521.8,
            "count": 1
           },
           {
            "bin_start": 5521.8,
            "bin_end": 6400.6,
            "count": 0
           },
           {
            "bin_start": 6400.6,
            "bin_end": 7279.4,
            "count": 1
           },
           {
            "bin_start": 7279.4,
            "bin_end": 8158.2,
            "count": 1
           },
           {
            "bin_start": 8158.2,
            "bin_end": 9037,
            "count": 1
           },
           {
            "bin_start": 9037,
            "bin_end": 9915.8,
            "count": 1
           },
           {
            "bin_start": 9915.8,
            "bin_end": 10794.599999999999,
            "count": 0
           },
           {
            "bin_start": 10794.599999999999,
            "bin_end": 11673.4,
            "count": 2
           },
           {
            "bin_start": 11673.4,
            "bin_end": 12552.2,
            "count": 2
           },
           {
            "bin_start": 12552.2,
            "bin_end": 13431,
            "count": 5
           }
          ]
         }
        },
        {
         "name": "BinCSG Time",
         "dtype": "int64",
         "stats": {
          "unique_count": 14,
          "nan_count": 0,
          "min": "120359",
          "max": "478628",
          "histogram": [
           {
            "bin_start": 120359,
            "bin_end": 156185.9,
            "count": 1
           },
           {
            "bin_start": 156185.9,
            "bin_end": 192012.8,
            "count": 1
           },
           {
            "bin_start": 192012.8,
            "bin_end": 227839.7,
            "count": 0
           },
           {
            "bin_start": 227839.7,
            "bin_end": 263666.6,
            "count": 1
           },
           {
            "bin_start": 263666.6,
            "bin_end": 299493.5,
            "count": 3
           },
           {
            "bin_start": 299493.5,
            "bin_end": 335320.4,
            "count": 0
           },
           {
            "bin_start": 335320.4,
            "bin_end": 371147.30000000005,
            "count": 0
           },
           {
            "bin_start": 371147.30000000005,
            "bin_end": 406974.2,
            "count": 4
           },
           {
            "bin_start": 406974.2,
            "bin_end": 442801.10000000003,
            "count": 0
           },
           {
            "bin_start": 442801.10000000003,
            "bin_end": 478628,
            "count": 4
           }
          ]
         }
        },
        {
         "name": "Viewport Fill",
         "dtype": "float64",
         "stats": {
          "unique_count": 14,
          "nan_count": 0,
          "min": "68.20733506944444",
          "max": "74.67981770833333",
          "histogram": [
           {
            "bin_start": 68.20733506944444,
            "bin_end": 68.85458333333332,
            "count": 1
           },
           {
            "bin_start": 68.85458333333332,
            "bin_end": 69.50183159722222,
            "count": 2
           },
           {
            "bin_start": 69.50183159722222,
            "bin_end": 70.1490798611111,
            "count": 0
           },
           {
            "bin_start": 70.1490798611111,
            "bin_end": 70.796328125,
            "count": 1
           },
           {
            "bin_start": 70.796328125,
            "bin_end": 71.44357638888889,
            "count": 3
           },
           {
            "bin_start": 71.44357638888889,
            "bin_end": 72.09082465277777,
            "count": 2
           },
           {
            "bin_start": 72.09082465277777,
            "bin_end": 72.73807291666667,
            "count": 1
           },
           {
            "bin_start": 72.73807291666667,
            "bin_end": 73.38532118055555,
            "count": 1
           },
           {
            "bin_start": 73.38532118055555,
            "bin_end": 74.03256944444445,
            "count": 1
           },
           {
            "bin_start": 74.03256944444445,
            "bin_end": 74.67981770833333,
            "count": 2
           }
          ]
         }
        },
        {
         "name": "_deepnote_index_column",
         "dtype": "int64"
        }
       ],
       "rows_top": [
        {
         "Triangle Number": 1584,
         "Number of Nests": 1,
         "NaiCSG Time": 237058,
         "OptiCSG Time": 4643,
         "BinCSG Time": 120359,
         "Viewport Fill": 73.89375,
         "_deepnote_index_column": 0
        },
        {
         "Triangle Number": 2112,
         "Number of Nests": 2,
         "NaiCSG Time": 325202,
         "OptiCSG Time": 6850,
         "BinCSG Time": 166538,
         "Viewport Fill": 71.10442708333333,
         "_deepnote_index_column": 1
        },
        {
         "Triangle Number": 2640,
         "Number of Nests": 3,
         "NaiCSG Time": 381395,
         "OptiCSG Time": 7448,
         "BinCSG Time": 253581,
         "Viewport Fill": 68.20733506944444,
         "_deepnote_index_column": 2
        },
        {
         "Triangle Number": 3168,
         "Number of Nests": 4,
         "NaiCSG Time": 455960,
         "OptiCSG Time": 8604,
         "BinCSG Time": 272963,
         "Viewport Fill": 69.42482638888889,
         "_deepnote_index_column": 3
        },
        {
         "Triangle Number": 3696,
         "Number of Nests": 5,
         "NaiCSG Time": 529122,
         "OptiCSG Time": 9709,
         "BinCSG Time": 285720,
         "Viewport Fill": 70.63958333333333,
         "_deepnote_index_column": 4
        },
        {
         "Triangle Number": 4224,
         "Number of Nests": 6,
         "NaiCSG Time": 599498,
         "OptiCSG Time": 11480,
         "BinCSG Time": 298418,
         "Viewport Fill": 70.996875,
         "_deepnote_index_column": 5
        },
        {
         "Triangle Number": 4752,
         "Number of Nests": 7,
         "NaiCSG Time": 674182,
         "OptiCSG Time": 12048,
         "BinCSG Time": 389363,
         "Viewport Fill": 69.49887152777777,
         "_deepnote_index_column": 6
        },
        {
         "Triangle Number": 5280,
         "Number of Nests": 8,
         "NaiCSG Time": 758413,
         "OptiCSG Time": 11278,
         "BinCSG Time": 391564,
         "Viewport Fill": 70.82009548611111,
         "_deepnote_index_column": 7
        },
        {
         "Triangle Number": 5808,
         "Number of Nests": 9,
         "NaiCSG Time": 826069,
         "OptiCSG Time": 12916,
         "BinCSG Time": 391875,
         "Viewport Fill": 72.0259982638889,
         "_deepnote_index_column": 8
        },
        {
         "Triangle Number": 6336,
         "Number of Nests": 10,
         "NaiCSG Time": 899317,
         "OptiCSG Time": 13431,
         "BinCSG Time": 397416,
         "Viewport Fill": 72.56575520833334,
         "_deepnote_index_column": 9
        },
        {
         "Triangle Number": 6864,
         "Number of Nests": 11,
         "NaiCSG Time": 968080,
         "OptiCSG Time": 12998,
         "BinCSG Time": 478628,
         "Viewport Fill": 71.77556423611111,
         "_deepnote_index_column": 10
        },
        {
         "Triangle Number": 7392,
         "Number of Nests": 12,
         "NaiCSG Time": 1046354,
         "OptiCSG Time": 12346,
         "BinCSG Time": 472108,
         "Viewport Fill": 72.99605034722222,
         "_deepnote_index_column": 11
        },
        {
         "Triangle Number": 7920,
         "Number of Nests": 13,
         "NaiCSG Time": 1127029,
         "OptiCSG Time": 13387,
         "BinCSG Time": 463179,
         "Viewport Fill": 74.100390625,
         "_deepnote_index_column": 12
        },
        {
         "Triangle Number": 8448,
         "Number of Nests": 14,
         "NaiCSG Time": 1198426,
         "OptiCSG Time": 12828,
         "BinCSG Time": 453609,
         "Viewport Fill": 74.67981770833333,
         "_deepnote_index_column": 13
        }
       ],
       "rows_bottom": null
      },
      "text/plain": "    Triangle Number  Number of Nests  NaiCSG Time  OptiCSG Time  BinCSG Time  \\\n0              1584                1       237058          4643       120359   \n1              2112                2       325202          6850       166538   \n2              2640                3       381395          7448       253581   \n3              3168                4       455960          8604       272963   \n4              3696                5       529122          9709       285720   \n5              4224                6       599498         11480       298418   \n6              4752                7       674182         12048       389363   \n7              5280                8       758413         11278       391564   \n8              5808                9       826069         12916       391875   \n9              6336               10       899317         13431       397416   \n10             6864               11       968080         12998       478628   \n11             7392               12      1046354         12346       472108   \n12             7920               13      1127029         13387       463179   \n13             8448               14      1198426         12828       453609   \n\n    Viewport Fill  \n0       73.893750  \n1       71.104427  \n2       68.207335  \n3       69.424826  \n4       70.639583  \n5       70.996875  \n6       69.498872  \n7       70.820095  \n8       72.025998  \n9       72.565755  \n10      71.775564  \n11      72.996050  \n12      74.100391  \n13      74.679818  ",
      "text/html": "<div>\n<style scoped>\n    .dataframe tbody tr th:only-of-type {\n        vertical-align: middle;\n    }\n\n    .dataframe tbody tr th {\n        vertical-align: top;\n    }\n\n    .dataframe thead th {\n        text-align: right;\n    }\n</style>\n<table border=\"1\" class=\"dataframe\">\n  <thead>\n    <tr style=\"text-align: right;\">\n      <th></th>\n      <th>Triangle Number</th>\n      <th>Number of Nests</th>\n      <th>NaiCSG Time</th>\n      <th>OptiCSG Time</th>\n      <th>BinCSG Time</th>\n      <th>Viewport Fill</th>\n    </tr>\n  </thead>\n  <tbody>\n    <tr>\n      <th>0</th>\n      <td>1584</td>\n      <td>1</td>\n      <td>237058</td>\n      <td>4643</td>\n      <td>120359</td>\n      <td>73.893750</td>\n    </tr>\n    <tr>\n      <th>1</th>\n      <td>2112</td>\n      <td>2</td>\n      <td>325202</td>\n      <td>6850</td>\n      <td>166538</td>\n      <td>71.104427</td>\n    </tr>\n    <tr>\n      <th>2</th>\n      <td>2640</td>\n      <td>3</td>\n      <td>381395</td>\n      <td>7448</td>\n      <td>253581</td>\n      <td>68.207335</td>\n    </tr>\n    <tr>\n      <th>3</th>\n      <td>3168</td>\n      <td>4</td>\n      <td>455960</td>\n      <td>8604</td>\n      <td>272963</td>\n      <td>69.424826</td>\n    </tr>\n    <tr>\n      <th>4</th>\n      <td>3696</td>\n      <td>5</td>\n      <td>529122</td>\n      <td>9709</td>\n      <td>285720</td>\n      <td>70.639583</td>\n    </tr>\n    <tr>\n      <th>5</th>\n      <td>4224</td>\n      <td>6</td>\n      <td>599498</td>\n      <td>11480</td>\n      <td>298418</td>\n      <td>70.996875</td>\n    </tr>\n    <tr>\n      <th>6</th>\n      <td>4752</td>\n      <td>7</td>\n      <td>674182</td>\n      <td>12048</td>\n      <td>389363</td>\n      <td>69.498872</td>\n    </tr>\n    <tr>\n      <th>7</th>\n      <td>5280</td>\n      <td>8</td>\n      <td>758413</td>\n      <td>11278</td>\n      <td>391564</td>\n      <td>70.820095</td>\n    </tr>\n    <tr>\n      <th>8</th>\n      <td>5808</td>\n      <td>9</td>\n      <td>826069</td>\n      <td>12916</td>\n      <td>391875</td>\n      <td>72.025998</td>\n    </tr>\n    <tr>\n      <th>9</th>\n      <td>6336</td>\n      <td>10</td>\n      <td>899317</td>\n      <td>13431</td>\n      <td>397416</td>\n      <td>72.565755</td>\n    </tr>\n    <tr>\n      <th>10</th>\n      <td>6864</td>\n      <td>11</td>\n      <td>968080</td>\n      <td>12998</td>\n      <td>478628</td>\n      <td>71.775564</td>\n    </tr>\n    <tr>\n      <th>11</th>\n      <td>7392</td>\n      <td>12</td>\n      <td>1046354</td>\n      <td>12346</td>\n      <td>472108</td>\n      <td>72.996050</td>\n    </tr>\n    <tr>\n      <th>12</th>\n      <td>7920</td>\n      <td>13</td>\n      <td>1127029</td>\n      <td>13387</td>\n      <td>463179</td>\n      <td>74.100391</td>\n    </tr>\n    <tr>\n      <th>13</th>\n      <td>8448</td>\n      <td>14</td>\n      <td>1198426</td>\n      <td>12828</td>\n      <td>453609</td>\n      <td>74.679818</td>\n    </tr>\n  </tbody>\n</table>\n</div>"
     },
     "metadata": {}
    }
   ]
  },
  {
   "cell_type": "markdown",
   "source": "### Final Plot",
   "metadata": {
    "tags": [],
    "cell_id": "00031-718bf0b3-b62b-4837-9e3e-2cc5d35c4cc1",
    "deepnote_cell_type": "markdown"
   }
  },
  {
   "cell_type": "code",
   "metadata": {
    "tags": [],
    "cell_id": "00027-6c25f1be-b464-4a5d-ab55-0d8e1662a182",
    "deepnote_to_be_reexecuted": false,
    "source_hash": "e37fad72",
    "execution_millis": 1393,
    "execution_start": 1620551374202,
    "deepnote_cell_type": "code"
   },
   "source": "# Render time with respect to increases in the number of nests\n\ndf_nest.plot(x ='Number of Nests', y=['NaiCSG Time', 'BinCSG Time', 'OptiCSG Time'], kind = 'line', lw=2)\nif saveFig:\n    plt.savefig('nest-performance.png')\nplt.show()",
   "execution_count": 21,
   "outputs": [
    {
     "data": {
      "text/plain": "<Figure size 640x480 with 1 Axes>",
      "image/png": "[encoded data removed]"
     },
     "metadata": {
      "image/png": {
       "width": 547,
       "height": 452
      }
     },
     "output_type": "display_data"
    }
   ]
  },
  {
   "cell_type": "code",
   "metadata": {
    "tags": [],
    "cell_id": "00032-27694f38-c628-40e2-93f5-5867ff49f763",
    "deepnote_to_be_reexecuted": false,
    "source_hash": "873c09eb",
    "execution_millis": 943,
    "execution_start": 1620551374652,
    "deepnote_cell_type": "code"
   },
   "source": "df_nest.plot(x ='Number of Nests', y=['OptiCSG Time'], kind = 'line', lw=2†)\nif saveFig:\n    plt.savefig('nest-performance.png')\nplt.show()",
   "execution_count": 22,
   "outputs": [
    {
     "output_type": "error",
     "ename": "SyntaxError",
     "evalue": "invalid character in identifier (<ipython-input-22-ee2f5fcae700>, line 1)",
     "traceback": [
      "\u001b[0;36m  File \u001b[0;32m\"<ipython-input-22-ee2f5fcae700>\"\u001b[0;36m, line \u001b[0;32m1\u001b[0m\n\u001b[0;31m    df_nest.plot(x ='Number of Nests', y=['OptiCSG Time'], kind = 'line', lw=2†)\u001b[0m\n\u001b[0m                                                                              ^\u001b[0m\n\u001b[0;31mSyntaxError\u001b[0m\u001b[0;31m:\u001b[0m invalid character in identifier\n"
     ]
    }
   ]
  },
  {
   "cell_type": "markdown",
   "source": "## View Port Tests",
   "metadata": {
    "tags": [],
    "cell_id": "00033-b80499fb-7b50-4892-af47-73f9b7447550",
    "deepnote_cell_type": "markdown"
   }
  },
  {
   "cell_type": "code",
   "metadata": {
    "tags": [],
    "cell_id": "00034-f2b3ff82-327c-454f-8006-b539c9b0ecf5",
    "deepnote_to_be_reexecuted": true,
    "source_hash": "4490e17c",
    "execution_millis": 547,
    "execution_start": 1618926894045,
    "deepnote_cell_type": "code"
   },
   "source": "## First get the view port rates. These are the same across all operations so they should remain the same.\nn_step = []\nn_viewPort = []\n\nfor i in range(1, 21, 1):\n    n_step.append(i)\n    img = cv2.imread('view_port_renders/bin_port_union_' + str(i - 1) + '.png', cv2.IMREAD_GRAYSCALE)\n    n_pixels = img.size\n    n_white_pix = np.sum(img == 255)\n    n_rate = (n_pixels - n_white_pix)/n_pixels * 100\n    n_viewPort.append(n_rate)\n\ndata_tuples = list(zip(n_step,n_viewPort))\ngeneric_rate = pd.DataFrame(data_tuples, columns=['Step','Viewport Fill Rate'])",
   "execution_count": null,
   "outputs": []
  },
  {
   "cell_type": "code",
   "metadata": {
    "tags": [],
    "cell_id": "00035-5fe45904-a5f4-4002-b335-2ddbc4bfd01d",
    "deepnote_to_be_reexecuted": true,
    "source_hash": "722c8994",
    "execution_millis": 10,
    "execution_start": 1618926894592,
    "deepnote_cell_type": "code"
   },
   "source": "viewport_1 = pd.read_csv('viewport_tests/viewport_bin_union.txt', header=None)\nviewport_1.columns = [\"tris1\", \"step2\", \"BinCSG Time\"]\nviewport_1 = viewport_1.drop(columns=['tris1', 'step2'])\n\nviewport_2 = pd.read_csv('viewport_tests/viewport_optim_union.txt', header=None)\nviewport_2.columns = [\"tris1\", \"step2\", \"OptiCSG Time\"]\nviewport_2 = viewport_2.drop(columns=['tris1', 'step2'])\n\nviewport_3 = pd.read_csv('viewport_tests/viewport_base_union.txt', header=None)\nviewport_3.columns = [\"tris1\", \"step2\", \"NaiCSG Time\"]\nviewport_3 = viewport_3.drop(columns=['tris1', 'step2'])\n\ndf_viewport = pd.concat([generic_rate, viewport_1, viewport_2, viewport_3], axis=1)",
   "execution_count": null,
   "outputs": []
  },
  {
   "cell_type": "code",
   "metadata": {
    "tags": [],
    "cell_id": "00035-fa415330-b30b-4e65-bb60-84cb667f1d87",
    "deepnote_to_be_reexecuted": true,
    "source_hash": "3288a58e",
    "execution_start": 1618928285306,
    "execution_millis": 42,
    "deepnote_cell_type": "code"
   },
   "source": "df_viewport",
   "execution_count": null,
   "outputs": [
    {
     "output_type": "execute_result",
     "execution_count": 27,
     "data": {
      "application/vnd.deepnote.dataframe.v2+json": {
       "row_count": 20,
       "column_count": 5,
       "columns": [
        {
         "name": "Step",
         "dtype": "int64",
         "stats": {
          "unique_count": 20,
          "nan_count": 0,
          "min": "1",
          "max": "20",
          "histogram": [
           {
            "bin_start": 1,
            "bin_end": 2.9,
            "count": 2
           },
           {
            "bin_start": 2.9,
            "bin_end": 4.8,
            "count": 2
           },
           {
            "bin_start": 4.8,
            "bin_end": 6.699999999999999,
            "count": 2
           },
           {
            "bin_start": 6.699999999999999,
            "bin_end": 8.6,
            "count": 2
           },
           {
            "bin_start": 8.6,
            "bin_end": 10.5,
            "count": 2
           },
           {
            "bin_start": 10.5,
            "bin_end": 12.399999999999999,
            "count": 2
           },
           {
            "bin_start": 12.399999999999999,
            "bin_end": 14.299999999999999,
            "count": 2
           },
           {
            "bin_start": 14.299999999999999,
            "bin_end": 16.2,
            "count": 2
           },
           {
            "bin_start": 16.2,
            "bin_end": 18.099999999999998,
            "count": 2
           },
           {
            "bin_start": 18.099999999999998,
            "bin_end": 20,
            "count": 2
           }
          ]
         }
        },
        {
         "name": "Viewport Fill Rate",
         "dtype": "float64",
         "stats": {
          "unique_count": 20,
          "nan_count": 0,
          "min": "0.14361979166666666",
          "max": "67.83559027777778",
          "histogram": [
           {
            "bin_start": 0.14361979166666666,
            "bin_end": 6.912816840277778,
            "count": 6
           },
           {
            "bin_start": 6.912816840277778,
            "bin_end": 13.682013888888891,
            "count": 3
           },
           {
            "bin_start": 13.682013888888891,
            "bin_end": 20.4512109375,
            "count": 2
           },
           {
            "bin_start": 20.4512109375,
            "bin_end": 27.220407986111113,
            "count": 2
           },
           {
            "bin_start": 27.220407986111113,
            "bin_end": 33.989605034722224,
            "count": 1
           },
           {
            "bin_start": 33.989605034722224,
            "bin_end": 40.758802083333336,
            "count": 1
           },
           {
            "bin_start": 40.758802083333336,
            "bin_end": 47.52799913194445,
            "count": 2
           },
           {
            "bin_start": 47.52799913194445,
            "bin_end": 54.29719618055556,
            "count": 1
           },
           {
            "bin_start": 54.29719618055556,
            "bin_end": 61.06639322916667,
            "count": 1
           },
           {
            "bin_start": 61.06639322916667,
            "bin_end": 67.83559027777778,
            "count": 1
           }
          ]
         }
        },
        {
         "name": "BinCSG Time",
         "dtype": "int64",
         "stats": {
          "unique_count": 20,
          "nan_count": 0,
          "min": "754",
          "max": "170217",
          "histogram": [
           {
            "bin_start": 754,
            "bin_end": 17700.3,
            "count": 6
           },
           {
            "bin_start": 17700.3,
            "bin_end": 34646.6,
            "count": 3
           },
           {
            "bin_start": 34646.6,
            "bin_end": 51592.899999999994,
            "count": 2
           },
           {
            "bin_start": 51592.899999999994,
            "bin_end": 68539.2,
            "count": 1
           },
           {
            "bin_start": 68539.2,
            "bin_end": 85485.5,
            "count": 1
           },
           {
            "bin_start": 85485.5,
            "bin_end": 102431.79999999999,
            "count": 1
           },
           {
            "bin_start": 102431.79999999999,
            "bin_end": 119378.09999999999,
            "count": 1
           },
           {
            "bin_start": 119378.09999999999,
            "bin_end": 136324.4,
            "count": 1
           },
           {
            "bin_start": 136324.4,
            "bin_end": 153270.69999999998,
            "count": 2
           },
           {
            "bin_start": 153270.69999999998,
            "bin_end": 170217,
            "count": 2
           }
          ]
         }
        },
        {
         "name": "OptiCSG Time",
         "dtype": "int64",
         "stats": {
          "unique_count": 20,
          "nan_count": 0,
          "min": "478",
          "max": "25743",
          "histogram": [
           {
            "bin_start": 478,
            "bin_end": 3004.5,
            "count": 6
           },
           {
            "bin_start": 3004.5,
            "bin_end": 5531,
            "count": 2
           },
           {
            "bin_start": 5531,
            "bin_end": 8057.5,
            "count": 3
           },
           {
            "bin_start": 8057.5,
            "bin_end": 10584,
            "count": 0
           },
           {
            "bin_start": 10584,
            "bin_end": 13110.5,
            "count": 2
           },
           {
            "bin_start": 13110.5,
            "bin_end": 15637,
            "count": 1
           },
           {
            "bin_start": 15637,
            "bin_end": 18163.5,
            "count": 2
           },
           {
            "bin_start": 18163.5,
            "bin_end": 20690,
            "count": 1
           },
           {
            "bin_start": 20690,
            "bin_end": 23216.5,
            "count": 1
           },
           {
            "bin_start": 23216.5,
            "bin_end": 25743,
            "count": 2
           }
          ]
         }
        },
        {
         "name": "NaiCSG Time",
         "dtype": "int64",
         "stats": {
          "unique_count": 20,
          "nan_count": 0,
          "min": "140108",
          "max": "163340",
          "histogram": [
           {
            "bin_start": 140108,
            "bin_end": 142431.2,
            "count": 1
           },
           {
            "bin_start": 142431.2,
            "bin_end": 144754.4,
            "count": 1
           },
           {
            "bin_start": 144754.4,
            "bin_end": 147077.6,
            "count": 1
           },
           {
            "bin_start": 147077.6,
            "bin_end": 149400.8,
            "count": 1
           },
           {
            "bin_start": 149400.8,
            "bin_end": 151724,
            "count": 1
           },
           {
            "bin_start": 151724,
            "bin_end": 154047.2,
            "count": 1
           },
           {
            "bin_start": 154047.2,
            "bin_end": 156370.4,
            "count": 1
           },
           {
            "bin_start": 156370.4,
            "bin_end": 158693.6,
            "count": 1
           },
           {
            "bin_start": 158693.6,
            "bin_end": 161016.8,
            "count": 4
           },
           {
            "bin_start": 161016.8,
            "bin_end": 163340,
            "count": 8
           }
          ]
         }
        },
        {
         "name": "_deepnote_index_column",
         "dtype": "int64"
        }
       ],
       "rows_top": [
        {
         "Step": 1,
         "Viewport Fill Rate": 0.14361979166666666,
         "BinCSG Time": 754,
         "OptiCSG Time": 478,
         "NaiCSG Time": 140108,
         "_deepnote_index_column": 0
        },
        {
         "Step": 2,
         "Viewport Fill Rate": 0.5782118055555556,
         "BinCSG Time": 1746,
         "OptiCSG Time": 586,
         "NaiCSG Time": 143941,
         "_deepnote_index_column": 1
        },
        {
         "Step": 3,
         "Viewport Fill Rate": 1.3026475694444444,
         "BinCSG Time": 3258,
         "OptiCSG Time": 816,
         "NaiCSG Time": 146766,
         "_deepnote_index_column": 2
        },
        {
         "Step": 4,
         "Viewport Fill Rate": 2.322222222222222,
         "BinCSG Time": 5684,
         "OptiCSG Time": 1173,
         "NaiCSG Time": 149234,
         "_deepnote_index_column": 3
        },
        {
         "Step": 5,
         "Viewport Fill Rate": 3.642230902777778,
         "BinCSG Time": 9215,
         "OptiCSG Time": 1595,
         "NaiCSG Time": 151668,
         "_deepnote_index_column": 4
        },
        {
         "Step": 6,
         "Viewport Fill Rate": 5.270529513888889,
         "BinCSG Time": 13591,
         "OptiCSG Time": 2213,
         "NaiCSG Time": 154006,
         "_deepnote_index_column": 5
        },
        {
         "Step": 7,
         "Viewport Fill Rate": 7.211371527777779,
         "BinCSG Time": 18246,
         "OptiCSG Time": 3233,
         "NaiCSG Time": 155492,
         "_deepnote_index_column": 6
        },
        {
         "Step": 8,
         "Viewport Fill Rate": 9.470833333333333,
         "BinCSG Time": 24391,
         "OptiCSG Time": 5283,
         "NaiCSG Time": 157720,
         "_deepnote_index_column": 7
        },
        {
         "Step": 9,
         "Viewport Fill Rate": 12.062022569444444,
         "BinCSG Time": 31784,
         "OptiCSG Time": 5768,
         "NaiCSG Time": 160388,
         "_deepnote_index_column": 8
        },
        {
         "Step": 10,
         "Viewport Fill Rate": 14.992621527777777,
         "BinCSG Time": 40582,
         "OptiCSG Time": 6575,
         "NaiCSG Time": 161123,
         "_deepnote_index_column": 9
        },
        {
         "Step": 11,
         "Viewport Fill Rate": 18.286545138888886,
         "BinCSG Time": 50538,
         "OptiCSG Time": 7837,
         "NaiCSG Time": 161696,
         "_deepnote_index_column": 10
        },
        {
         "Step": 12,
         "Viewport Fill Rate": 21.956119791666666,
         "BinCSG Time": 62089,
         "OptiCSG Time": 10630,
         "NaiCSG Time": 161195,
         "_deepnote_index_column": 11
        },
        {
         "Step": 13,
         "Viewport Fill Rate": 26.013975694444447,
         "BinCSG Time": 75838,
         "OptiCSG Time": 11991,
         "NaiCSG Time": 160043,
         "_deepnote_index_column": 12
        },
        {
         "Step": 14,
         "Viewport Fill Rate": 30.491102430555557,
         "BinCSG Time": 90821,
         "OptiCSG Time": 13671,
         "NaiCSG Time": 160661,
         "_deepnote_index_column": 13
        },
        {
         "Step": 15,
         "Viewport Fill Rate": 35.39782986111111,
         "BinCSG Time": 108752,
         "OptiCSG Time": 16604,
         "NaiCSG Time": 160835,
         "_deepnote_index_column": 14
        },
        {
         "Step": 16,
         "Viewport Fill Rate": 40.78502604166667,
         "BinCSG Time": 119965,
         "OptiCSG Time": 17838,
         "NaiCSG Time": 161654,
         "_deepnote_index_column": 15
        },
        {
         "Step": 17,
         "Viewport Fill Rate": 46.66809895833333,
         "BinCSG Time": 136404,
         "OptiCSG Time": 20226,
         "NaiCSG Time": 162307,
         "_deepnote_index_column": 16
        },
        {
         "Step": 18,
         "Viewport Fill Rate": 53.12105034722222,
         "BinCSG Time": 150227,
         "OptiCSG Time": 22491,
         "NaiCSG Time": 162413,
         "_deepnote_index_column": 17
        },
        {
         "Step": 19,
         "Viewport Fill Rate": 60.1796875,
         "BinCSG Time": 161220,
         "OptiCSG Time": 24612,
         "NaiCSG Time": 163211,
         "_deepnote_index_column": 18
        },
        {
         "Step": 20,
         "Viewport Fill Rate": 67.83559027777778,
         "BinCSG Time": 170217,
         "OptiCSG Time": 25743,
         "NaiCSG Time": 163340,
         "_deepnote_index_column": 19
        }
       ],
       "rows_bottom": null
      },
      "text/plain": "    Step  Viewport Fill Rate  BinCSG Time  OptiCSG Time  NaiCSG Time\n0      1            0.143620          754           478       140108\n1      2            0.578212         1746           586       143941\n2      3            1.302648         3258           816       146766\n3      4            2.322222         5684          1173       149234\n4      5            3.642231         9215          1595       151668\n5      6            5.270530        13591          2213       154006\n6      7            7.211372        18246          3233       155492\n7      8            9.470833        24391          5283       157720\n8      9           12.062023        31784          5768       160388\n9     10           14.992622        40582          6575       161123\n10    11           18.286545        50538          7837       161696\n11    12           21.956120        62089         10630       161195\n12    13           26.013976        75838         11991       160043\n13    14           30.491102        90821         13671       160661\n14    15           35.397830       108752         16604       160835\n15    16           40.785026       119965         17838       161654\n16    17           46.668099       136404         20226       162307\n17    18           53.121050       150227         22491       162413\n18    19           60.179688       161220         24612       163211\n19    20           67.835590       170217         25743       163340",
      "text/html": "<div>\n<style scoped>\n    .dataframe tbody tr th:only-of-type {\n        vertical-align: middle;\n    }\n\n    .dataframe tbody tr th {\n        vertical-align: top;\n    }\n\n    .dataframe thead th {\n        text-align: right;\n    }\n</style>\n<table border=\"1\" class=\"dataframe\">\n  <thead>\n    <tr style=\"text-align: right;\">\n      <th></th>\n      <th>Step</th>\n      <th>Viewport Fill Rate</th>\n      <th>BinCSG Time</th>\n      <th>OptiCSG Time</th>\n      <th>NaiCSG Time</th>\n    </tr>\n  </thead>\n  <tbody>\n    <tr>\n      <th>0</th>\n      <td>1</td>\n      <td>0.143620</td>\n      <td>754</td>\n      <td>478</td>\n      <td>140108</td>\n    </tr>\n    <tr>\n      <th>1</th>\n      <td>2</td>\n      <td>0.578212</td>\n      <td>1746</td>\n      <td>586</td>\n      <td>143941</td>\n    </tr>\n    <tr>\n      <th>2</th>\n      <td>3</td>\n      <td>1.302648</td>\n      <td>3258</td>\n      <td>816</td>\n      <td>146766</td>\n    </tr>\n    <tr>\n      <th>3</th>\n      <td>4</td>\n      <td>2.322222</td>\n      <td>5684</td>\n      <td>1173</td>\n      <td>149234</td>\n    </tr>\n    <tr>\n      <th>4</th>\n      <td>5</td>\n      <td>3.642231</td>\n      <td>9215</td>\n      <td>1595</td>\n      <td>151668</td>\n    </tr>\n    <tr>\n      <th>5</th>\n      <td>6</td>\n      <td>5.270530</td>\n      <td>13591</td>\n      <td>2213</td>\n      <td>154006</td>\n    </tr>\n    <tr>\n      <th>6</th>\n      <td>7</td>\n      <td>7.211372</td>\n      <td>18246</td>\n      <td>3233</td>\n      <td>155492</td>\n    </tr>\n    <tr>\n      <th>7</th>\n      <td>8</td>\n      <td>9.470833</td>\n      <td>24391</td>\n      <td>5283</td>\n      <td>157720</td>\n    </tr>\n    <tr>\n      <th>8</th>\n      <td>9</td>\n      <td>12.062023</td>\n      <td>31784</td>\n      <td>5768</td>\n      <td>160388</td>\n    </tr>\n    <tr>\n      <th>9</th>\n      <td>10</td>\n      <td>14.992622</td>\n      <td>40582</td>\n      <td>6575</td>\n      <td>161123</td>\n    </tr>\n    <tr>\n      <th>10</th>\n      <td>11</td>\n      <td>18.286545</td>\n      <td>50538</td>\n      <td>7837</td>\n      <td>161696</td>\n    </tr>\n    <tr>\n      <th>11</th>\n      <td>12</td>\n      <td>21.956120</td>\n      <td>62089</td>\n      <td>10630</td>\n      <td>161195</td>\n    </tr>\n    <tr>\n      <th>12</th>\n      <td>13</td>\n      <td>26.013976</td>\n      <td>75838</td>\n      <td>11991</td>\n      <td>160043</td>\n    </tr>\n    <tr>\n      <th>13</th>\n      <td>14</td>\n      <td>30.491102</td>\n      <td>90821</td>\n      <td>13671</td>\n      <td>160661</td>\n    </tr>\n    <tr>\n      <th>14</th>\n      <td>15</td>\n      <td>35.397830</td>\n      <td>108752</td>\n      <td>16604</td>\n      <td>160835</td>\n    </tr>\n    <tr>\n      <th>15</th>\n      <td>16</td>\n      <td>40.785026</td>\n      <td>119965</td>\n      <td>17838</td>\n      <td>161654</td>\n    </tr>\n    <tr>\n      <th>16</th>\n      <td>17</td>\n      <td>46.668099</td>\n      <td>136404</td>\n      <td>20226</td>\n      <td>162307</td>\n    </tr>\n    <tr>\n      <th>17</th>\n      <td>18</td>\n      <td>53.121050</td>\n      <td>150227</td>\n      <td>22491</td>\n      <td>162413</td>\n    </tr>\n    <tr>\n      <th>18</th>\n      <td>19</td>\n      <td>60.179688</td>\n      <td>161220</td>\n      <td>24612</td>\n      <td>163211</td>\n    </tr>\n    <tr>\n      <th>19</th>\n      <td>20</td>\n      <td>67.835590</td>\n      <td>170217</td>\n      <td>25743</td>\n      <td>163340</td>\n    </tr>\n  </tbody>\n</table>\n</div>"
     },
     "metadata": {}
    }
   ]
  },
  {
   "cell_type": "code",
   "metadata": {
    "tags": [],
    "cell_id": "00037-edc46ad9-8965-4b4b-a328-c6286b5a7cbe",
    "deepnote_to_be_reexecuted": true,
    "source_hash": "e03f2705",
    "execution_millis": 339,
    "execution_start": 1618926894624,
    "deepnote_cell_type": "code"
   },
   "source": "subplot = df_viewport.plot(x ='Viewport Fill Rate', y=['NaiCSG Time', 'BinCSG Time', 'OptiCSG Time'], lw=2)\nplt.title(\"Render time with respect to viewport fill percentage\")\nif saveFig:\n    plt.savefig('viewport-performance.png')\nplt.show()",
   "execution_count": null,
   "outputs": [
    {
     "data": {
      "text/plain": "<Figure size 432x288 with 1 Axes>",
      "image/png": "[encoded data removed]"
     },
     "metadata": {
      "image/png": {
       "width": 414,
       "height": 282
      }
     },
     "output_type": "display_data"
    }
   ]
  },
  {
   "cell_type": "code",
   "metadata": {
    "tags": [],
    "cell_id": "00037-e381a62a-2421-4f57-97aa-9e1819e68e08",
    "deepnote_to_be_reexecuted": true,
    "source_hash": "3288a58e",
    "execution_millis": 76,
    "execution_start": 1618926894918,
    "deepnote_cell_type": "code"
   },
   "source": "df_viewport",
   "execution_count": null,
   "outputs": [
    {
     "output_type": "execute_result",
     "execution_count": 26,
     "data": {
      "application/vnd.deepnote.dataframe.v2+json": {
       "row_count": 20,
       "column_count": 5,
       "columns": [
        {
         "name": "Step",
         "dtype": "int64",
         "stats": {
          "unique_count": 20,
          "nan_count": 0,
          "min": "1",
          "max": "20",
          "histogram": [
           {
            "bin_start": 1,
            "bin_end": 2.9,
            "count": 2
           },
           {
            "bin_start": 2.9,
            "bin_end": 4.8,
            "count": 2
           },
           {
            "bin_start": 4.8,
            "bin_end": 6.699999999999999,
            "count": 2
           },
           {
            "bin_start": 6.699999999999999,
            "bin_end": 8.6,
            "count": 2
           },
           {
            "bin_start": 8.6,
            "bin_end": 10.5,
            "count": 2
           },
           {
            "bin_start": 10.5,
            "bin_end": 12.399999999999999,
            "count": 2
           },
           {
            "bin_start": 12.399999999999999,
            "bin_end": 14.299999999999999,
            "count": 2
           },
           {
            "bin_start": 14.299999999999999,
            "bin_end": 16.2,
            "count": 2
           },
           {
            "bin_start": 16.2,
            "bin_end": 18.099999999999998,
            "count": 2
           },
           {
            "bin_start": 18.099999999999998,
            "bin_end": 20,
            "count": 2
           }
          ]
         }
        },
        {
         "name": "Viewport Fill Rate",
         "dtype": "float64",
         "stats": {
          "unique_count": 20,
          "nan_count": 0,
          "min": "0.14361979166666666",
          "max": "67.83559027777778",
          "histogram": [
           {
            "bin_start": 0.14361979166666666,
            "bin_end": 6.912816840277778,
            "count": 6
           },
           {
            "bin_start": 6.912816840277778,
            "bin_end": 13.682013888888891,
            "count": 3
           },
           {
            "bin_start": 13.682013888888891,
            "bin_end": 20.4512109375,
            "count": 2
           },
           {
            "bin_start": 20.4512109375,
            "bin_end": 27.220407986111113,
            "count": 2
           },
           {
            "bin_start": 27.220407986111113,
            "bin_end": 33.989605034722224,
            "count": 1
           },
           {
            "bin_start": 33.989605034722224,
            "bin_end": 40.758802083333336,
            "count": 1
           },
           {
            "bin_start": 40.758802083333336,
            "bin_end": 47.52799913194445,
            "count": 2
           },
           {
            "bin_start": 47.52799913194445,
            "bin_end": 54.29719618055556,
            "count": 1
           },
           {
            "bin_start": 54.29719618055556,
            "bin_end": 61.06639322916667,
            "count": 1
           },
           {
            "bin_start": 61.06639322916667,
            "bin_end": 67.83559027777778,
            "count": 1
           }
          ]
         }
        },
        {
         "name": "BinCSG Time",
         "dtype": "int64",
         "stats": {
          "unique_count": 20,
          "nan_count": 0,
          "min": "754",
          "max": "170217",
          "histogram": [
           {
            "bin_start": 754,
            "bin_end": 17700.3,
            "count": 6
           },
           {
            "bin_start": 17700.3,
            "bin_end": 34646.6,
            "count": 3
           },
           {
            "bin_start": 34646.6,
            "bin_end": 51592.899999999994,
            "count": 2
           },
           {
            "bin_start": 51592.899999999994,
            "bin_end": 68539.2,
            "count": 1
           },
           {
            "bin_start": 68539.2,
            "bin_end": 85485.5,
            "count": 1
           },
           {
            "bin_start": 85485.5,
            "bin_end": 102431.79999999999,
            "count": 1
           },
           {
            "bin_start": 102431.79999999999,
            "bin_end": 119378.09999999999,
            "count": 1
           },
           {
            "bin_start": 119378.09999999999,
            "bin_end": 136324.4,
            "count": 1
           },
           {
            "bin_start": 136324.4,
            "bin_end": 153270.69999999998,
            "count": 2
           },
           {
            "bin_start": 153270.69999999998,
            "bin_end": 170217,
            "count": 2
           }
          ]
         }
        },
        {
         "name": "OptiCSG Time",
         "dtype": "int64",
         "stats": {
          "unique_count": 20,
          "nan_count": 0,
          "min": "478",
          "max": "25743",
          "histogram": [
           {
            "bin_start": 478,
            "bin_end": 3004.5,
            "count": 6
           },
           {
            "bin_start": 3004.5,
            "bin_end": 5531,
            "count": 2
           },
           {
            "bin_start": 5531,
            "bin_end": 8057.5,
            "count": 3
           },
           {
            "bin_start": 8057.5,
            "bin_end": 10584,
            "count": 0
           },
           {
            "bin_start": 10584,
            "bin_end": 13110.5,
            "count": 2
           },
           {
            "bin_start": 13110.5,
            "bin_end": 15637,
            "count": 1
           },
           {
            "bin_start": 15637,
            "bin_end": 18163.5,
            "count": 2
           },
           {
            "bin_start": 18163.5,
            "bin_end": 20690,
            "count": 1
           },
           {
            "bin_start": 20690,
            "bin_end": 23216.5,
            "count": 1
           },
           {
            "bin_start": 23216.5,
            "bin_end": 25743,
            "count": 2
           }
          ]
         }
        },
        {
         "name": "NaiCSG Time",
         "dtype": "int64",
         "stats": {
          "unique_count": 20,
          "nan_count": 0,
          "min": "140108",
          "max": "163340",
          "histogram": [
           {
            "bin_start": 140108,
            "bin_end": 142431.2,
            "count": 1
           },
           {
            "bin_start": 142431.2,
            "bin_end": 144754.4,
            "count": 1
           },
           {
            "bin_start": 144754.4,
            "bin_end": 147077.6,
            "count": 1
           },
           {
            "bin_start": 147077.6,
            "bin_end": 149400.8,
            "count": 1
           },
           {
            "bin_start": 149400.8,
            "bin_end": 151724,
            "count": 1
           },
           {
            "bin_start": 151724,
            "bin_end": 154047.2,
            "count": 1
           },
           {
            "bin_start": 154047.2,
            "bin_end": 156370.4,
            "count": 1
           },
           {
            "bin_start": 156370.4,
            "bin_end": 158693.6,
            "count": 1
           },
           {
            "bin_start": 158693.6,
            "bin_end": 161016.8,
            "count": 4
           },
           {
            "bin_start": 161016.8,
            "bin_end": 163340,
            "count": 8
           }
          ]
         }
        },
        {
         "name": "_deepnote_index_column",
         "dtype": "int64"
        }
       ],
       "rows_top": [
        {
         "Step": 1,
         "Viewport Fill Rate": 0.14361979166666666,
         "BinCSG Time": 754,
         "OptiCSG Time": 478,
         "NaiCSG Time": 140108,
         "_deepnote_index_column": 0
        },
        {
         "Step": 2,
         "Viewport Fill Rate": 0.5782118055555556,
         "BinCSG Time": 1746,
         "OptiCSG Time": 586,
         "NaiCSG Time": 143941,
         "_deepnote_index_column": 1
        },
        {
         "Step": 3,
         "Viewport Fill Rate": 1.3026475694444444,
         "BinCSG Time": 3258,
         "OptiCSG Time": 816,
         "NaiCSG Time": 146766,
         "_deepnote_index_column": 2
        },
        {
         "Step": 4,
         "Viewport Fill Rate": 2.322222222222222,
         "BinCSG Time": 5684,
         "OptiCSG Time": 1173,
         "NaiCSG Time": 149234,
         "_deepnote_index_column": 3
        },
        {
         "Step": 5,
         "Viewport Fill Rate": 3.642230902777778,
         "BinCSG Time": 9215,
         "OptiCSG Time": 1595,
         "NaiCSG Time": 151668,
         "_deepnote_index_column": 4
        },
        {
         "Step": 6,
         "Viewport Fill Rate": 5.270529513888889,
         "BinCSG Time": 13591,
         "OptiCSG Time": 2213,
         "NaiCSG Time": 154006,
         "_deepnote_index_column": 5
        },
        {
         "Step": 7,
         "Viewport Fill Rate": 7.211371527777779,
         "BinCSG Time": 18246,
         "OptiCSG Time": 3233,
         "NaiCSG Time": 155492,
         "_deepnote_index_column": 6
        },
        {
         "Step": 8,
         "Viewport Fill Rate": 9.470833333333333,
         "BinCSG Time": 24391,
         "OptiCSG Time": 5283,
         "NaiCSG Time": 157720,
         "_deepnote_index_column": 7
        },
        {
         "Step": 9,
         "Viewport Fill Rate": 12.062022569444444,
         "BinCSG Time": 31784,
         "OptiCSG Time": 5768,
         "NaiCSG Time": 160388,
         "_deepnote_index_column": 8
        },
        {
         "Step": 10,
         "Viewport Fill Rate": 14.992621527777777,
         "BinCSG Time": 40582,
         "OptiCSG Time": 6575,
         "NaiCSG Time": 161123,
         "_deepnote_index_column": 9
        },
        {
         "Step": 11,
         "Viewport Fill Rate": 18.286545138888886,
         "BinCSG Time": 50538,
         "OptiCSG Time": 7837,
         "NaiCSG Time": 161696,
         "_deepnote_index_column": 10
        },
        {
         "Step": 12,
         "Viewport Fill Rate": 21.956119791666666,
         "BinCSG Time": 62089,
         "OptiCSG Time": 10630,
         "NaiCSG Time": 161195,
         "_deepnote_index_column": 11
        },
        {
         "Step": 13,
         "Viewport Fill Rate": 26.013975694444447,
         "BinCSG Time": 75838,
         "OptiCSG Time": 11991,
         "NaiCSG Time": 160043,
         "_deepnote_index_column": 12
        },
        {
         "Step": 14,
         "Viewport Fill Rate": 30.491102430555557,
         "BinCSG Time": 90821,
         "OptiCSG Time": 13671,
         "NaiCSG Time": 160661,
         "_deepnote_index_column": 13
        },
        {
         "Step": 15,
         "Viewport Fill Rate": 35.39782986111111,
         "BinCSG Time": 108752,
         "OptiCSG Time": 16604,
         "NaiCSG Time": 160835,
         "_deepnote_index_column": 14
        },
        {
         "Step": 16,
         "Viewport Fill Rate": 40.78502604166667,
         "BinCSG Time": 119965,
         "OptiCSG Time": 17838,
         "NaiCSG Time": 161654,
         "_deepnote_index_column": 15
        },
        {
         "Step": 17,
         "Viewport Fill Rate": 46.66809895833333,
         "BinCSG Time": 136404,
         "OptiCSG Time": 20226,
         "NaiCSG Time": 162307,
         "_deepnote_index_column": 16
        },
        {
         "Step": 18,
         "Viewport Fill Rate": 53.12105034722222,
         "BinCSG Time": 150227,
         "OptiCSG Time": 22491,
         "NaiCSG Time": 162413,
         "_deepnote_index_column": 17
        },
        {
         "Step": 19,
         "Viewport Fill Rate": 60.1796875,
         "BinCSG Time": 161220,
         "OptiCSG Time": 24612,
         "NaiCSG Time": 163211,
         "_deepnote_index_column": 18
        },
        {
         "Step": 20,
         "Viewport Fill Rate": 67.83559027777778,
         "BinCSG Time": 170217,
         "OptiCSG Time": 25743,
         "NaiCSG Time": 163340,
         "_deepnote_index_column": 19
        }
       ],
       "rows_bottom": null
      },
      "text/plain": "    Step  Viewport Fill Rate  BinCSG Time  OptiCSG Time  NaiCSG Time\n0      1            0.143620          754           478       140108\n1      2            0.578212         1746           586       143941\n2      3            1.302648         3258           816       146766\n3      4            2.322222         5684          1173       149234\n4      5            3.642231         9215          1595       151668\n5      6            5.270530        13591          2213       154006\n6      7            7.211372        18246          3233       155492\n7      8            9.470833        24391          5283       157720\n8      9           12.062023        31784          5768       160388\n9     10           14.992622        40582          6575       161123\n10    11           18.286545        50538          7837       161696\n11    12           21.956120        62089         10630       161195\n12    13           26.013976        75838         11991       160043\n13    14           30.491102        90821         13671       160661\n14    15           35.397830       108752         16604       160835\n15    16           40.785026       119965         17838       161654\n16    17           46.668099       136404         20226       162307\n17    18           53.121050       150227         22491       162413\n18    19           60.179688       161220         24612       163211\n19    20           67.835590       170217         25743       163340",
      "text/html": "<div>\n<style scoped>\n    .dataframe tbody tr th:only-of-type {\n        vertical-align: middle;\n    }\n\n    .dataframe tbody tr th {\n        vertical-align: top;\n    }\n\n    .dataframe thead th {\n        text-align: right;\n    }\n</style>\n<table border=\"1\" class=\"dataframe\">\n  <thead>\n    <tr style=\"text-align: right;\">\n      <th></th>\n      <th>Step</th>\n      <th>Viewport Fill Rate</th>\n      <th>BinCSG Time</th>\n      <th>OptiCSG Time</th>\n      <th>NaiCSG Time</th>\n    </tr>\n  </thead>\n  <tbody>\n    <tr>\n      <th>0</th>\n      <td>1</td>\n      <td>0.143620</td>\n      <td>754</td>\n      <td>478</td>\n      <td>140108</td>\n    </tr>\n    <tr>\n      <th>1</th>\n      <td>2</td>\n      <td>0.578212</td>\n      <td>1746</td>\n      <td>586</td>\n      <td>143941</td>\n    </tr>\n    <tr>\n      <th>2</th>\n      <td>3</td>\n      <td>1.302648</td>\n      <td>3258</td>\n      <td>816</td>\n      <td>146766</td>\n    </tr>\n    <tr>\n      <th>3</th>\n      <td>4</td>\n      <td>2.322222</td>\n      <td>5684</td>\n      <td>1173</td>\n      <td>149234</td>\n    </tr>\n    <tr>\n      <th>4</th>\n      <td>5</td>\n      <td>3.642231</td>\n      <td>9215</td>\n      <td>1595</td>\n      <td>151668</td>\n    </tr>\n    <tr>\n      <th>5</th>\n      <td>6</td>\n      <td>5.270530</td>\n      <td>13591</td>\n      <td>2213</td>\n      <td>154006</td>\n    </tr>\n    <tr>\n      <th>6</th>\n      <td>7</td>\n      <td>7.211372</td>\n      <td>18246</td>\n      <td>3233</td>\n      <td>155492</td>\n    </tr>\n    <tr>\n      <th>7</th>\n      <td>8</td>\n      <td>9.470833</td>\n      <td>24391</td>\n      <td>5283</td>\n      <td>157720</td>\n    </tr>\n    <tr>\n      <th>8</th>\n      <td>9</td>\n      <td>12.062023</td>\n      <td>31784</td>\n      <td>5768</td>\n      <td>160388</td>\n    </tr>\n    <tr>\n      <th>9</th>\n      <td>10</td>\n      <td>14.992622</td>\n      <td>40582</td>\n      <td>6575</td>\n      <td>161123</td>\n    </tr>\n    <tr>\n      <th>10</th>\n      <td>11</td>\n      <td>18.286545</td>\n      <td>50538</td>\n      <td>7837</td>\n      <td>161696</td>\n    </tr>\n    <tr>\n      <th>11</th>\n      <td>12</td>\n      <td>21.956120</td>\n      <td>62089</td>\n      <td>10630</td>\n      <td>161195</td>\n    </tr>\n    <tr>\n      <th>12</th>\n      <td>13</td>\n      <td>26.013976</td>\n      <td>75838</td>\n      <td>11991</td>\n      <td>160043</td>\n    </tr>\n    <tr>\n      <th>13</th>\n      <td>14</td>\n      <td>30.491102</td>\n      <td>90821</td>\n      <td>13671</td>\n      <td>160661</td>\n    </tr>\n    <tr>\n      <th>14</th>\n      <td>15</td>\n      <td>35.397830</td>\n      <td>108752</td>\n      <td>16604</td>\n      <td>160835</td>\n    </tr>\n    <tr>\n      <th>15</th>\n      <td>16</td>\n      <td>40.785026</td>\n      <td>119965</td>\n      <td>17838</td>\n      <td>161654</td>\n    </tr>\n    <tr>\n      <th>16</th>\n      <td>17</td>\n      <td>46.668099</td>\n      <td>136404</td>\n      <td>20226</td>\n      <td>162307</td>\n    </tr>\n    <tr>\n      <th>17</th>\n      <td>18</td>\n      <td>53.121050</td>\n      <td>150227</td>\n      <td>22491</td>\n      <td>162413</td>\n    </tr>\n    <tr>\n      <th>18</th>\n      <td>19</td>\n      <td>60.179688</td>\n      <td>161220</td>\n      <td>24612</td>\n      <td>163211</td>\n    </tr>\n    <tr>\n      <th>19</th>\n      <td>20</td>\n      <td>67.835590</td>\n      <td>170217</td>\n      <td>25743</td>\n      <td>163340</td>\n    </tr>\n  </tbody>\n</table>\n</div>"
     },
     "metadata": {}
    }
   ]
  },
  {
   "cell_type": "markdown",
   "source": "<a style='text-decoration:none;line-height:16px;display:flex;color:#5B5B62;padding:10px;justify-content:end;' href='https://deepnote.com?utm_source=created-in-deepnote-cell&projectId=4d2adc30-53a1-4bf1-8670-5f0dd5b807d5' target=\"_blank\">\n<img alt='Created in deepnote.com' style='display:inline;max-height:16px;margin:0px;margin-right:7.5px;' src='data:image/svg+xml;base64,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' > </img>\nCreated in <span style='font-weight:600;margin-left:4px;'>Deepnote</span></a>",
   "metadata": {
    "tags": [],
    "created_in_deepnote_cell": true,
    "deepnote_cell_type": "markdown"
   }
  }
 ],
 "nbformat": 4,
 "nbformat_minor": 2,
 "metadata": {
  "orig_nbformat": 2,
  "deepnote_notebook_id": "93fadb60-3fb8-43ac-aeec-cb2992a6d78b",
  "deepnote": {
   "is_reactive": false
  },
  "deepnote_execution_queue": []
 }
}